{
  "nbformat": 4,
  "nbformat_minor": 0,
  "metadata": {
    "colab": {
      "name": "ASCII_Canvas.ipynb",
      "provenance": [],
      "collapsed_sections": [
        "JyyTNVE_Y6ib",
        "b_L92QvYL5JB",
        "WkvxONO86pX0",
        "sl4mcFcJOzou",
        "IOW5SR55O7GD"
      ],
      "toc_visible": true,
      "authorship_tag": "ABX9TyOYAmpLXNrdQJnjhAgSDcNN",
      "include_colab_link": true
    },
    "kernelspec": {
      "name": "python3",
      "display_name": "Python 3"
    }
  },
  "cells": [
    {
      "cell_type": "markdown",
      "metadata": {
        "id": "view-in-github",
        "colab_type": "text"
      },
      "source": [
        "<a href=\"https://colab.research.google.com/github/wizlearner/vanna/blob/master/ASCII_Canvas.ipynb\" target=\"_parent\"><img src=\"https://colab.research.google.com/assets/colab-badge.svg\" alt=\"Open In Colab\"/></a>"
      ]
    },
    {
      "cell_type": "code",
      "metadata": {
        "id": "Qw44pmEEJ8aZ",
        "colab_type": "code",
        "colab": {}
      },
      "source": [
        ""
      ],
      "execution_count": 0,
      "outputs": []
    },
    {
      "cell_type": "markdown",
      "metadata": {
        "id": "Kd5umHCe30KM",
        "colab_type": "text"
      },
      "source": [
        "## Problem Statement"
      ]
    },
    {
      "cell_type": "markdown",
      "metadata": {
        "id": "KjHj-GCJKFCF",
        "colab_type": "text"
      },
      "source": [
        "*** The Problem ***\n",
        "\n",
        "__Description__\n",
        "\n",
        "You're given the task of writing a simple console version of a drawing program.\n",
        "At this time, the functionality of the program is quite limited but this might change in the future.\n",
        "In a nutshell, the program should work as follows:\n",
        " 1. Create a new canvas\n",
        " 2. Create\n",
        " 3. Quit\n",
        "Command \t\tDescription\n",
        "C w h           Should create a new canvas of width w and height h.\n",
        "L x1 y1 x2 y2   Should create a new line from (x1,y1) to (x2,y2). Currently only\n",
        "                horizontal or vertical lines are supported. Horizontal and vertical lines\n",
        "                will be drawn using the 'x' character.\n",
        "R x1 y1 x2 y2   Should create a new rectangle, whose upper left corner is (x1,y1) and\n",
        "                lower right corner is (x2,y2). Horizontal and vertical lines will be drawn\n",
        "                using the 'x' character.\n",
        "B x y c         Should fill the entire area connected to (x,y) with \"colour\" c. The\n",
        "                behavior of this is the same as that of the \"bucket fill\" tool in paint\n",
        "                programs.\n",
        "Q               Should quit the program.\n",
        "\n",
        "__Sample I/O__\n",
        "\n",
        "Below is a sample run of the program. User input is prefixed with enter command:\n",
        "\n"
      ]
    },
    {
      "cell_type": "markdown",
      "metadata": {
        "id": "fFtrtlP6KMpU",
        "colab_type": "text"
      },
      "source": [
        "![alt text](https://drive.google.com/open?id=1f95UvF_ZkzZ_xvvzeE7wRxdrf9pC6_i6) Output\n"
      ]
    },
    {
      "cell_type": "markdown",
      "metadata": {
        "id": "4-y94PlrLNiE",
        "colab_type": "text"
      },
      "source": [
        ""
      ]
    },
    {
      "cell_type": "markdown",
      "metadata": {
        "id": "w-shDBwU4Wsc",
        "colab_type": "text"
      },
      "source": [
        "## Solution\n",
        "\n",
        "##*italicized text* Pseudo Code\n",
        "\n",
        "(i) Create Canvas class: Handle drawing different primitives like pixel, line, rectangle and do a bucket fill. \n",
        "\n",
        "(ii) Implement reading commands from console and apply them on a canvas.\n",
        "\n",
        "(iii) Then print out the canvas on each command.\n",
        "\n",
        "## Input validation (Don't let the user input invalid values.) \n",
        "\n",
        "(i) If your canvas starts at 1, 0 and below should be invalid. \n",
        "\n",
        "(ii) And Bucket fill should notify the user in case they fill directly on a line (or outside the canvas).\n",
        "\n",
        "(iii) Also check if too many or too few arguments were supplied.\n",
        "\n",
        "Command Line Parser | Validation Support\n",
        "    ##### HARD Validation Type\n",
        "          # No Input on CLS Error:Command NotFound\n",
        "          ## cmdLength !=[3,5,1] Error:Incomplete Command\n",
        "          ### cmdType !=[C,L,R,B,Q] Error:Invalid I/O\n",
        "    ##### SOFT Validation Type\n",
        "          # C w h [w,h]!=Int Err:Coordinates/Require Num  \n",
        "          ## L x y a b CHECK y=b Error: y=b \n",
        "          ### R x y a b CHECK x!=a and y!=b \n",
        "\n",
        "(iv) Trick to draw the \n",
        "\n",
        "(v) Start drawing on the canvas by issuing various commands\n",
        "\n",
        "(vi) Can the codebased evolve with new requirements\n",
        "\n",
        "(vii) Testing Cases Class has to be added\n",
        "\n",
        "(viii) Package in an API/Docker Image Distributable\n",
        "\n",
        "\n",
        "\n"
      ]
    },
    {
      "cell_type": "code",
      "metadata": {
        "id": "jP0YaUFi4aiB",
        "colab_type": "code",
        "colab": {
          "base_uri": "https://localhost:8080/",
          "height": 1000
        },
        "outputId": "2218b705-2a7b-4a64-d8b8-1f37b292d392"
      },
      "source": [
        "import re\n",
        "import numpy as np\n",
        "\n",
        "# Set an initial condition.\n",
        "game_active = True\n",
        "\n",
        "#define helper functions\n",
        "def drawCanvasCMD(cmdType):\n",
        "        print('Inside drawCanvas' +cmdType)\n",
        "        if cmdType =='C': \n",
        "          return 'drawCanvas'\n",
        "        else:\n",
        "          return 'invalid'  \n",
        "\n",
        "def fillBucketCMD(cmdType):\n",
        "        print('Inside fillBucket' + cmdType)\n",
        "        print(cmdType)\n",
        "        if cmdType =='B':\n",
        "          return 'fillBucket'\n",
        "        else:\n",
        "          return 'Invalid Command' \n",
        "\n",
        "def drawLineOrRectangleCMD(cmdType):\n",
        "        print('Inside drawLineOrRectangleOrfillBucket' + cmdType)\n",
        "        print(cmdType)\n",
        "        if cmdType =='L':\n",
        "          return 'drawLine'\n",
        "        elif cmdType =='R':\n",
        "          return 'drawRectangle'\n",
        "        else:\n",
        "          return 'Invalid Command' \n",
        "\n",
        "def noCommandOrQuittingCMD(cmdType):\n",
        "        print('Inside noCommandOrQuitting' +cmdType)\n",
        "        if cmdType =='Q':\n",
        "          return False\n",
        "        elif cmdType == ' ':\n",
        "          return 'No Command'\n",
        "        else:\n",
        "          return 'Invalid Command' \n",
        "\n",
        "def noInputCMD(cmdType):\n",
        "        print('Inside noInput' +cmdType)\n",
        "        if cmdType == '':\n",
        "          return 'Nothing entered'\n",
        "        else:\n",
        "          return 'Invalid Command'\n",
        "\n",
        "def inCompleteCMD(cmdType):\n",
        "        print('Inside inComplete' +cmdType)\n",
        "        return 'No Such Command'\n",
        "\n",
        "\n",
        "def commandValidation(i,cmdType):\n",
        "        switcher={\n",
        "                0:noInputCMD,\n",
        "                1:noCommandOrQuittingCMD,\n",
        "                2:inCompleteCMD,\n",
        "                3:drawCanvasCMD,\n",
        "                4:fillBucketCMD,\n",
        "                5:drawLineOrRectangleCMD,\n",
        "                6:lambda:'anything'\n",
        "                }\n",
        "        func=switcher.get(i,lambda :'Invalid')\n",
        "        return func(cmdType)\n",
        "\n",
        "def drawLine(Canvas,x1,y1,x2,y2, maskDigit):\n",
        "    ## Write Validation of Canvas.shape and x1,x2,x3,x4 being within bounds\n",
        "    if (y1 == y2): \n",
        "        ##Return a new 1D array of given shape and type, filled with ones.\n",
        "        ## Using command  np.ones((x2-x1+1,), dtype=int) \n",
        "        ##Using '1' to draw line i.e x2-x1+1 and hence updating entries for columns on a given row\n",
        "        Canvas[y1, x1:x2+1] = np.ones((x2-x1+1,), dtype=int)*maskDigit ## e.g. Represents [1,1,1,1] if x2-x1+1 = 4\n",
        "    elif(x1 == x2): \n",
        "        ##Return a new 1D array of given shape and type, filled with ones.\n",
        "        ## Using command  np.ones((y2-y1+1,), dtype=int) \n",
        "        ##Using '1' to draw line i.e y2-y1+1 and hence updating entries for rows on a given column\n",
        "        Canvas[y1:y2+1, x1] = np.ones((y2-y1+1,), dtype=int)*maskDigit  ## e.g. Represents [1,1,1,1] if y2-y1+1 = 4\n",
        "    else:\n",
        "        print('Cant draw a diagonal(out of scope)')\n",
        "    return Canvas\n",
        "\n",
        "def drawRect(Canvas,x1,y1,x2,y2,maskDigit):\n",
        "    drawLine(Canvas,x1,y1,x1,y2,maskDigit) \n",
        "    drawLine(Canvas,x2,y1,x2,y2,maskDigit)\n",
        "    drawLine(Canvas,x1,y1,x2,y1,maskDigit)\n",
        "    drawLine(Canvas,x1,y2,x2,y2,maskDigit)\n",
        "    return Canvas\n",
        "\n",
        "def drawHorizontalPadding(Canvas,x1,y1,x2,y2,maskDigit):\n",
        "    #Horizontal Padding with '-'\n",
        "    drawLine(Canvas,0,0,y2-1,0,maskDigit)\n",
        "    drawLine(Canvas,0,x2-1,y2-1,x2-1,maskDigit)\n",
        "    return Canvas\n",
        "    \n",
        "def drawVerticalPadding(Canvas,x1,y1,x2,y2,maskDigit):\n",
        "    #Vertical Padding with '|'\n",
        "    drawLine(Canvas,0,1,0,x2-2,maskDigit) \n",
        "    drawLine(Canvas,y2-1,1,y2-1,x2-2,maskDigit)\n",
        "    return Canvas    \n",
        "\n",
        "def replace_with_dict(ar, dic):\n",
        "    # Extract out keys and values\n",
        "    k = np.array(list(dic.keys()))\n",
        "    v = np.array(list(dic.values()))\n",
        "\n",
        "    # Get argsort indices\n",
        "    sidx = k.argsort()\n",
        "\n",
        "    # Drop the magic bomb with searchsorted to get the corresponding\n",
        "    # places for a in keys (using sorter since a is not necessarily sorted).\n",
        "    # Then trace it back to original order with indexing into sidx\n",
        "    # Finally index into values for desired output.\n",
        "    return v[sidx[np.searchsorted(k,ar,sorter=sidx)]]\n",
        "\n",
        "def fillBucket(Canvas, x, y, targetDigit, maskDigit):\n",
        "    # Use the Canvas 2D array and check if the oldDigit at x, y needs to be replacesd\n",
        "    # The recursive algorithm. Starting at x and y, changes any adjacent\n",
        "    # digits that match targetDigit to newDigit.\n",
        "    canvasWidth = len(Canvas)\n",
        "    canvasHeight = len(Canvas[0])\n",
        "    \n",
        "    if targetDigit == None:\n",
        "        targetDigit = Canvas[x][y]\n",
        "\n",
        "    # Base case. If the current x, y digit is not the targetDigit,\n",
        "    # then do nothing.\n",
        "    if Canvas[x][y] != targetDigit:\n",
        "        return \n",
        "    \n",
        "    # Change the digit at Canvas[x][y] to newDigit \n",
        "    Canvas[x][y] = maskDigit\n",
        "\n",
        "    # Recursive calls. Make a recursive call as long as we are not on the\n",
        "    # boundary (which would cause an Index Error.)\n",
        "    if x > 0: # left\n",
        "        fillBucket(Canvas, x - 1, y, targetDigit, maskDigit)\n",
        "    if y > 0: # up\n",
        "        fillBucket(Canvas, x, y - 1, targetDigit, maskDigit) \n",
        "    if x < canvasWidth-1: # right\n",
        "        fillBucket(Canvas, x + 1, y, targetDigit, maskDigit)\n",
        "    if y < canvasHeight-1: # down\n",
        "        fillBucket(Canvas, x, y + 1, targetDigit, maskDigit)\n",
        "    return Canvas\n",
        "\n",
        "def publish(Canvas):\n",
        "    transdict = {'8': '-', '9': '|', '1': 'x','0':' ','5':'o'} #Translation Dictionary\n",
        "    chars_ascii = replace_with_dict(Canvas.astype(str),transdict)\n",
        "    strings_f = chars_ascii.view('U' + str(chars_ascii.shape[1])).flatten()  \n",
        "    return print( \"\\n\".join(strings_f))\n",
        "\n",
        "\n",
        "\n",
        "# Set up the while loop.\n",
        "while game_active:\n",
        "    # Run the game.\n",
        "    # At some point, the game ends and game_active will be set to False.\n",
        "    # When that happens, the loop will stop executing.\n",
        "\n",
        "    # Get some input from the user.\n",
        "    command = input('enter command: ')\n",
        "    # This is the command input taken the user\n",
        "    commandList = (re.split(r'\\s',command)) # Separate string by spaces i.e '\\s' expression\n",
        "    print(commandList) \n",
        "    print(len(commandList))\n",
        "    #Empty string Validation needs to be handled as command=\"\" edge case is giving length = 1\n",
        "    cmdType = commandList[0]\n",
        "    game_active = commandValidation(len(commandList),cmdType)\n",
        "    \n",
        "    ## START OF MAIN PROGRAM\n",
        "    if game_active == 'drawCanvas':\n",
        "        # Create an Empty 2D Array\n",
        "          row = int(commandList[1])+2\n",
        "          col = int(commandList[2])+2\n",
        "          Canvas1 = np.zeros((row,col), dtype=int).reshape(row,col)\n",
        "\n",
        "          ##drawPadding: i.e '----' and '|' on borders. This is a special case of drawRect with edge cases\n",
        "          ##If user demands 10x16 canvas then 12x18 has be designed to accomodate borders padding\n",
        "          Canvas1 = drawHorizontalPadding(Canvas1,0,0,row,col,maskDigit=8)\n",
        "          Canvas1 = drawVerticalPadding(Canvas1,0,0,row,col,maskDigit=9)\n",
        "          publish(Canvas1)\n",
        "    elif game_active == 'drawLine':\n",
        "          #L 1 3 4 3 [Line Movement on a given Row] OR #L 2 1 2 4 [Line Movement on a given Column]\n",
        "          ## e.g. L 1 3 4 3 #(x1,x2) = (1,4) & (y1,y2)= (3,3) [On Row 3 draw a line covering 4-1+1 = 4places] = WalkType = AlongRow\n",
        "          x1,y1 = int(commandList[1]), int(commandList[2])\n",
        "          x2,y2 = int(commandList[3]), int(commandList[4])\n",
        "          Canvas1 = drawLine(Canvas1,x1,y1,x2,y2,maskDigit=1) #Using maskDigit=1 means mask by 1 in 2D array\n",
        "          publish(Canvas1)\n",
        "    elif game_active == 'drawRectangle':\n",
        "          x1,y1 = int(commandList[1]), int(commandList[2])\n",
        "          x2,y2 = int(commandList[3]), int(commandList[4])\n",
        "          #R 1 5 6 7[Draw a Rectangle between (1,5) and (6,7)]\n",
        "          ##Essentially it means draw 4 lines i.e [L 1 5 1 7] [L 6 5 6 7] [L 1 5 6 5] [L 1 7 6 7]\n",
        "          Canvas1 = drawRect(Canvas1,x1,y1,x2,y2,maskDigit=1)\n",
        "          publish(Canvas1)\n",
        "    elif game_active == 'fillBucket':\n",
        "          x,y = int(commandList[1]), int(commandList[2])\n",
        "          print('TIME TO PAINT THE BUCKET')\n",
        "          Canvas1 = fillBucket(Canvas1, x, y, 0, maskDigit=5)\n",
        "          publish(Canvas1) \n",
        "    else:\n",
        "         print('YOUR INPUT IS INVALID TRY AGAIN OR PRESS Q TO EXIT')     \n",
        "\n",
        "# Do anything else you want done after the loop runs.\n",
        "print(\"\\nOh no, you decided to QUIT call coins collected = 0! Game Over.\")"
      ],
      "execution_count": 66,
      "outputs": [
        {
          "output_type": "stream",
          "text": [
            "enter command: C 20 40\n",
            "['C', '20', '40']\n",
            "3\n",
            "Inside drawCanvasC\n",
            "------------------------------------------\n",
            "|                                        |\n",
            "|                                        |\n",
            "|                                        |\n",
            "|                                        |\n",
            "|                                        |\n",
            "|                                        |\n",
            "|                                        |\n",
            "|                                        |\n",
            "|                                        |\n",
            "|                                        |\n",
            "|                                        |\n",
            "|                                        |\n",
            "|                                        |\n",
            "|                                        |\n",
            "|                                        |\n",
            "|                                        |\n",
            "|                                        |\n",
            "|                                        |\n",
            "|                                        |\n",
            "|                                        |\n",
            "------------------------------------------\n",
            "enter command: R 5 5 20 20\n",
            "['R', '5', '5', '20', '20']\n",
            "5\n",
            "Inside drawLineOrRectangleOrfillBucketR\n",
            "R\n",
            "------------------------------------------\n",
            "|                                        |\n",
            "|                                        |\n",
            "|                                        |\n",
            "|                                        |\n",
            "|    xxxxxxxxxxxxxxxx                    |\n",
            "|    x              x                    |\n",
            "|    x              x                    |\n",
            "|    x              x                    |\n",
            "|    x              x                    |\n",
            "|    x              x                    |\n",
            "|    x              x                    |\n",
            "|    x              x                    |\n",
            "|    x              x                    |\n",
            "|    x              x                    |\n",
            "|    x              x                    |\n",
            "|    x              x                    |\n",
            "|    x              x                    |\n",
            "|    x              x                    |\n",
            "|    x              x                    |\n",
            "|    xxxxxxxxxxxxxxxx                    |\n",
            "------------------------------------------\n",
            "enter command: B 10 10 o\n",
            "['B', '10', '10', 'o']\n",
            "4\n",
            "Inside fillBucketB\n",
            "B\n",
            "TIME TO PAINT THE BUCKET\n",
            "------------------------------------------\n",
            "|                                        |\n",
            "|                                        |\n",
            "|                                        |\n",
            "|                                        |\n",
            "|    xxxxxxxxxxxxxxxx                    |\n",
            "|    xoooooooooooooox                    |\n",
            "|    xoooooooooooooox                    |\n",
            "|    xoooooooooooooox                    |\n",
            "|    xoooooooooooooox                    |\n",
            "|    xoooooooooooooox                    |\n",
            "|    xoooooooooooooox                    |\n",
            "|    xoooooooooooooox                    |\n",
            "|    xoooooooooooooox                    |\n",
            "|    xoooooooooooooox                    |\n",
            "|    xoooooooooooooox                    |\n",
            "|    xoooooooooooooox                    |\n",
            "|    xoooooooooooooox                    |\n",
            "|    xoooooooooooooox                    |\n",
            "|    xoooooooooooooox                    |\n",
            "|    xxxxxxxxxxxxxxxx                    |\n",
            "------------------------------------------\n",
            "enter command: Q\n",
            "['Q']\n",
            "1\n",
            "Inside noCommandOrQuittingQ\n",
            "YOUR INPUT IS INVALID TRY AGAIN OR PRESS Q TO EXIT\n",
            "\n",
            "Oh no, you decided to QUIT call coins collected = 0! Game Over.\n"
          ],
          "name": "stdout"
        }
      ]
    },
    {
      "cell_type": "markdown",
      "metadata": {
        "id": "JyyTNVE_Y6ib",
        "colab_type": "text"
      },
      "source": [
        "## FUNNNNN.... :Text to ASCII Art"
      ]
    },
    {
      "cell_type": "code",
      "metadata": {
        "id": "kBpbPm-MTZO5",
        "colab_type": "code",
        "colab": {}
      },
      "source": [
        "# !pip install pyfiglet\n",
        "import pyfiglet"
      ],
      "execution_count": 0,
      "outputs": []
    },
    {
      "cell_type": "code",
      "metadata": {
        "id": "t5Yr0NqZMVe2",
        "colab_type": "code",
        "outputId": "9b12808b-7321-4f09-c271-791d47187f5d",
        "colab": {
          "base_uri": "https://localhost:8080/",
          "height": 136
        }
      },
      "source": [
        "ascii_banner = pyfiglet.figlet_format(\"VANNA!!\")\n",
        "print(ascii_banner) \n"
      ],
      "execution_count": 0,
      "outputs": [
        {
          "output_type": "stream",
          "text": [
            "__     ___    _   _ _   _    _    _ _ \n",
            "\\ \\   / / \\  | \\ | | \\ | |  / \\  | | |\n",
            " \\ \\ / / _ \\ |  \\| |  \\| | / _ \\ | | |\n",
            "  \\ V / ___ \\| |\\  | |\\  |/ ___ \\|_|_|\n",
            "   \\_/_/   \\_\\_| \\_|_| \\_/_/   \\_(_|_)\n",
            "                                      \n",
            "\n"
          ],
          "name": "stdout"
        }
      ]
    },
    {
      "cell_type": "markdown",
      "metadata": {
        "id": "b_L92QvYL5JB",
        "colab_type": "text"
      },
      "source": [
        "## FUNNNN....Turtle - Turtle graphics for Tk \n",
        "https://docs.python.org/2/library/turtle.html"
      ]
    },
    {
      "cell_type": "code",
      "metadata": {
        "id": "tUvhXdK3TRIR",
        "colab_type": "code",
        "colab": {}
      },
      "source": [
        "## Turtle for Google Colab notebooks Installation for Google Colab\n",
        "# !pip3 install ColabTurtle\n",
        "from ColabTurtle.Turtle import *"
      ],
      "execution_count": 0,
      "outputs": []
    },
    {
      "cell_type": "code",
      "metadata": {
        "id": "WvgJwtW5YnQ2",
        "colab_type": "code",
        "colab": {}
      },
      "source": [
        "# Make a Square   \n",
        "initializeTurtle(initial_speed=2)\n",
        "bgcolor('white')\n",
        "color('green')\n",
        "\n",
        "width (30)\n",
        "forward(100)\n",
        "right(90)\n",
        "forward(100)\n",
        "right(90)\n",
        "forward(100)\n",
        "right(90)\n",
        "forward(100)\n",
        "right(90)\n",
        "\n",
        "width (15)\n",
        "setx (20)\n",
        "sety(40)\n",
        "goto(200,100)\n",
        "\n",
        "right(90)\n",
        "forward(50)\n",
        "left(90)\n",
        "forward(50)\n",
        "hideturtle()\n",
        "showturtle()\n",
        "\n"
      ],
      "execution_count": 0,
      "outputs": []
    },
    {
      "cell_type": "code",
      "metadata": {
        "id": "KWvZkPX5TSyC",
        "colab_type": "code",
        "colab": {}
      },
      "source": [
        "# Draw a Complex Shape \n",
        "initializeTurtle(initial_speed=10)\n",
        "color('orange')\n",
        "bgcolor('white')\n",
        "width(1)\n",
        "for i in range(36):\n",
        "    forward(200)\n",
        "    left(170)"
      ],
      "execution_count": 0,
      "outputs": []
    },
    {
      "cell_type": "code",
      "metadata": {
        "id": "1Hm87WzJG-ze",
        "colab_type": "code",
        "colab": {}
      },
      "source": [
        ""
      ],
      "execution_count": 0,
      "outputs": []
    },
    {
      "cell_type": "code",
      "metadata": {
        "id": "_CxiLKA5UNcT",
        "colab_type": "code",
        "colab": {}
      },
      "source": [
        "# Draw a Tree\n",
        "\n",
        "initializeTurtle(initial_speed=10)\n",
        "color('white')\n",
        "bgcolor('black')\n",
        "\n",
        "min_length=20\n",
        "\n",
        "def draw_branch(l, w):\n",
        "  left(15)\n",
        "  draw_stick(l, w)\n",
        "  right(30)\n",
        "  draw_stick(l, w)\n",
        "  left(15)\n",
        "  \n",
        "def draw_stick(l, w):\n",
        "  width(w)\n",
        "  forward(l)\n",
        "  if min_length < l:\n",
        "    draw_branch(math.ceil(l*0.8), math.ceil(w*0.6))\n",
        "  backward(l)\n",
        "\n",
        "penup()\n",
        "sety(470)\n",
        "pendown()\n",
        "draw_branch(100, 10)"
      ],
      "execution_count": 0,
      "outputs": []
    },
    {
      "cell_type": "code",
      "metadata": {
        "id": "G8wuSGZ3XlvU",
        "colab_type": "code",
        "colab": {}
      },
      "source": [
        "# User selects which shape to Draw [Triangle/Square]\n",
        "initializeTurtle(initial_speed=10)\n",
        "def draw(running, entered):\n",
        "  initializeTurtle(initial_speed=10)\n",
        "  while running:\n",
        "    if entered == 'triangle':\n",
        "      for i in range(3):\n",
        "        forward(100)\n",
        "        right(120)  \n",
        "      running = False\n",
        "    elif entered == 'square':\n",
        "      for i in range(4):\n",
        "        forward(100)\n",
        "        right(90)\n",
        "      running = False\n",
        "    elif entered == 'exit':\n",
        "      running = False\n",
        "      print('exiting...')\n",
        "\n",
        "    else:\n",
        "      print('not a command')\n",
        "  \n",
        "  \n",
        "  print('bye!')\n",
        "  \n",
        "print('enter triangle, square, or exit:') #supported inputs = {triangle, square, exit}\n",
        "draw(True, input()) "
      ],
      "execution_count": 0,
      "outputs": []
    },
    {
      "cell_type": "code",
      "metadata": {
        "id": "OMOnfNdK64EA",
        "colab_type": "code",
        "colab": {}
      },
      "source": [
        "initializeTurtle(initial_speed=10)\n",
        "x1, y1, x2, y2 = 10, 20, 30, 40\n",
        "color('white')\n",
        "bgcolor('black')\n"
      ],
      "execution_count": 0,
      "outputs": []
    },
    {
      "cell_type": "markdown",
      "metadata": {
        "id": "tm1oI7DxeGCs",
        "colab_type": "text"
      },
      "source": [
        "# ROUGH WORK CLI Based Drawing Canvas"
      ]
    },
    {
      "cell_type": "markdown",
      "metadata": {
        "id": "6darfz3Y6Opl",
        "colab_type": "text"
      },
      "source": [
        "## Type1: Command Prompt Parser"
      ]
    },
    {
      "cell_type": "code",
      "metadata": {
        "id": "WYQSVEOXhpcR",
        "colab_type": "code",
        "colab": {
          "base_uri": "https://localhost:8080/",
          "height": 119
        },
        "outputId": "d420f9a2-3bc6-449c-f56e-ed5b53c96200"
      },
      "source": [
        "import re\n",
        "xx = \"L 4 5 6 8\"\n",
        "yy = input()\n",
        "#r1 = re.findall(r\"\"\"[Cc]\\s+(\\d+)\\s+(\\d+)\"\"\",xx)\n",
        "#print(r1)\n",
        "\n",
        "\n",
        "commandList = (re.split(r'\\s',xx)) # Separate string by spaces i.e '\\s' expression\n",
        "print(commandList) \n",
        "length = len(commandList)\n",
        "print(length)\n",
        "#Empty string Validation needs to be handled as xx=\"\" edge case is giving length = 1\n",
        "\n",
        "def drawCanvas(cmdType):\n",
        "        print('Inside drawCanvas' +cmdType)\n",
        "        if cmdType =='C':\n",
        "          return 'drawCanvas'\n",
        "        else:\n",
        "          return 'Invalid'  \n",
        "\n",
        "def drawLineOrRectangleOrfillBucket(cmdType):\n",
        "        print('Inside drawLineOrRectangleOrfillBucket' + cmdType)\n",
        "        print(cmdType)\n",
        "        if cmdType =='L':\n",
        "          return 'drawLine'\n",
        "        elif cmdType =='R':\n",
        "          return 'drawRectangle'\n",
        "        elif cmdType =='B':\n",
        "          return 'fillBucket'  \n",
        "        else:\n",
        "          return 'Invalid Command' \n",
        "\n",
        "def noCommandOrQuitting(cmdType):\n",
        "        print('Inside noCommandOrQuitting' +cmdType)\n",
        "        if cmdType =='Q':\n",
        "          return 'quitting'\n",
        "        elif cmdType == ' ':\n",
        "          return 'No Command'\n",
        "        else:\n",
        "          return 'Invalid Command' \n",
        "\n",
        "def noInput(cmdType):\n",
        "        print('Inside noInput' +cmdType)\n",
        "        if cmdType == '':\n",
        "          return 'Nothing entered'\n",
        "        else:\n",
        "          return 'Invalid Command'\n",
        "\n",
        "def inComplete(cmdType):\n",
        "        print('Inside inComplete' +cmdType)\n",
        "        return 'No Such Command'\n",
        "\n",
        "\n",
        "def commandValidation(i,cmdType):\n",
        "        switcher={\n",
        "                0:noInput,\n",
        "                1:noCommandOrQuitting,\n",
        "                2:inComplete,\n",
        "                3:drawCanvas,\n",
        "                4:inComplete,\n",
        "                5:drawLineOrRectangleOrfillBucket,\n",
        "                6:lambda:'anything'\n",
        "                }\n",
        "        func=switcher.get(i,lambda :'Invalid')\n",
        "        return func(cmdType)\n",
        "\n",
        "commandValidation(len(commandList),commandList[0])"
      ],
      "execution_count": 135,
      "outputs": [
        {
          "output_type": "stream",
          "text": [
            "C 4 5 6 7\n",
            "['L', '4', '5', '6', '8']\n",
            "5\n",
            "Inside drawLineOrRectangleOrfillBucketL\n",
            "L\n"
          ],
          "name": "stdout"
        },
        {
          "output_type": "execute_result",
          "data": {
            "text/plain": [
              "'drawLine'"
            ]
          },
          "metadata": {
            "tags": []
          },
          "execution_count": 135
        }
      ]
    },
    {
      "cell_type": "markdown",
      "metadata": {
        "id": "VtNSySs96bzB",
        "colab_type": "text"
      },
      "source": [
        "## Type2: Command Prompt Parser "
      ]
    },
    {
      "cell_type": "code",
      "metadata": {
        "id": "yT8XJDfXkRMF",
        "colab_type": "code",
        "colab": {
          "base_uri": "https://localhost:8080/",
          "height": 34
        },
        "outputId": "3d64e867-f04a-4a55-b410-e342de19ebd9"
      },
      "source": [
        "\n",
        "method =['Nothing,Canvas,Line,Rectangle,FillBucket,Quit','Inavlid']\n",
        "\n",
        "class Switcher(object):\n",
        "          def commandLength(self,i):\n",
        "                   method_name='draw'+str(i)\n",
        "                   method=getattr(self,method_name,lambda :'Invalid')\n",
        "                   return method()\n",
        "          def draw0(self):\n",
        "                   return 'Nothing'\n",
        "          def draw1(self):\n",
        "                   return 'Incomplete Input'\n",
        "          def draw2(self):\n",
        "                   return 'Incomplete Input'\n",
        "          def draw3(self):\n",
        "                   return 'draw empty Canvas'\n",
        "          def draw4(self):\n",
        "                   return 'Incomplete Input'\n",
        "          def draw5(self): \n",
        "                   return 'draw Line/Rectangle/FillBucket'\n",
        "          def draw6(self): \n",
        "                   return 'Undefined command of greater than size 6'\n",
        "\n",
        "s= Switcher()\n",
        "s.commandLength(len(commandList))                 "
      ],
      "execution_count": 137,
      "outputs": [
        {
          "output_type": "execute_result",
          "data": {
            "text/plain": [
              "'draw Line/Rectangle/FillBucket'"
            ]
          },
          "metadata": {
            "tags": []
          },
          "execution_count": 137
        }
      ]
    },
    {
      "cell_type": "markdown",
      "metadata": {
        "id": "WkvxONO86pX0",
        "colab_type": "text"
      },
      "source": [
        "## Pattern Matching using RegEx\n"
      ]
    },
    {
      "cell_type": "code",
      "metadata": {
        "id": "0aBA3cqFhx-L",
        "colab_type": "code",
        "colab": {
          "base_uri": "https://localhost:8080/",
          "height": 102
        },
        "outputId": "965af383-9025-4896-8eaa-d149ab083255"
      },
      "source": [
        "import re\n",
        "\n",
        "list = [\"guru99 get\", \"guru99 give\", \"guru Selenium\"]\n",
        "for element in list:\n",
        "    z = re.match(\"(g\\w+)\\W(g\\w+)\", element)\n",
        "if z:\n",
        "    print((z.groups()))\n",
        "    \n",
        "patterns = ['software testing', 'guru99']\n",
        "text = 'software testing is fun?'\n",
        "for pattern in patterns:\n",
        "    print('Looking for \"%s\" in \"%s\" ->' % (pattern, text), end=' ')\n",
        "    if re.search(pattern, text):\n",
        "        print('found a match!')\n",
        "else:\n",
        "    print('no match')\n",
        "abc = 'guru99@google.com, careerguru99@hotmail.com, users@yahoomail.com'\n",
        "emails = re.findall(r'[\\w\\.-]+@[\\w\\.-]+', abc)\n",
        "for email in emails:\n",
        "    print(email)"
      ],
      "execution_count": 95,
      "outputs": [
        {
          "output_type": "stream",
          "text": [
            "Looking for \"software testing\" in \"software testing is fun?\" -> found a match!\n",
            "Looking for \"guru99\" in \"software testing is fun?\" -> no match\n",
            "guru99@google.com\n",
            "careerguru99@hotmail.com\n",
            "users@yahoomail.com\n"
          ],
          "name": "stdout"
        }
      ]
    },
    {
      "cell_type": "markdown",
      "metadata": {
        "id": "sl4mcFcJOzou",
        "colab_type": "text"
      },
      "source": [
        "## Character to Pixel using Numpy"
      ]
    },
    {
      "cell_type": "code",
      "metadata": {
        "id": "uP5JZHm3jHs5",
        "colab_type": "code",
        "colab": {
          "base_uri": "https://localhost:8080/",
          "height": 0
        },
        "outputId": "ecf15177-76e7-4bf2-fa34-3e6538b0d88c"
      },
      "source": [
        "\n",
        "from PIL import Image\n",
        "from PIL import ImageFont\n",
        "from PIL import ImageDraw\n",
        "import numpy as np\n",
        "\n",
        "text = \"SEXY\"\n",
        "path = '/usr/share/fonts/truetype/liberation/LiberationSerif-Bold.ttf'\n",
        "font = ImageFont.truetype(path, 12)\n",
        "\n",
        "size = font.getsize(text)\n",
        "img = Image.new(\"1\",size,\"black\")\n",
        "draw = ImageDraw.Draw(img)\n",
        "print(draw)\n",
        "draw.text((0, 0), text, \"white\", font)\n",
        "print(img)\n",
        "pixels = np.array(img, dtype=np.uint8)\n",
        "'''numerical data arranged in an array-like structure in Python can \n",
        "be converted to arrays through the use of the array() function. \n",
        "The most obvious examples are lists and tuples'''\n",
        "print(pixels)\n",
        "chars = np.array([' ','#'], dtype=\"U1\")[pixels]\n",
        "print(chars)\n",
        "'''VIEW: If you update elements of original array the view(snapshot also\n",
        "    gets automatically updated'''\n",
        "\n",
        "strings = chars.view('U' + str(chars.shape[1])).flatten()\n",
        "\n",
        "\n",
        "''' https://docs.scipy.org/doc/numpy/reference/generated/numpy.ndarray.flatten.html\n",
        "Flatten the View i.e A copy of the input array, flattened to one dimension\n",
        "'''\n",
        "\n",
        "print( \"\\n\".join(strings))"
      ],
      "execution_count": 42,
      "outputs": [
        {
          "output_type": "stream",
          "text": [
            "<PIL.ImageDraw.ImageDraw object at 0x7fa40bf6f7b8>\n",
            "<PIL.Image.Image image mode=1 size=33x11 at 0x7FA40BF6F358>\n",
            "[[0 0 0 0 0 0 0 0 0 0 0 0 0 0 0 0 0 0 0 0 0 0 0 0 0 0 0 0 0 0 0 0 0]\n",
            " [0 0 0 0 0 0 0 0 0 0 0 0 0 0 0 0 0 0 0 0 0 0 0 0 0 0 0 0 0 0 0 0 0]\n",
            " [0 0 1 1 1 1 1 0 1 1 1 1 1 1 0 1 1 1 1 0 1 1 1 1 1 1 1 0 1 1 1 0 0]\n",
            " [0 1 1 0 0 0 1 0 0 1 1 0 0 1 0 0 1 1 0 0 0 1 0 0 1 1 0 0 0 1 0 0 0]\n",
            " [0 1 1 0 0 0 0 0 0 1 1 0 0 0 0 0 0 1 1 0 1 0 0 0 0 1 1 0 1 0 0 0 0]\n",
            " [0 1 1 1 0 0 0 0 0 1 1 0 1 0 0 0 0 1 1 1 0 0 0 0 0 1 1 0 1 0 0 0 0]\n",
            " [0 0 1 1 1 1 0 0 0 1 1 1 1 0 0 0 0 0 1 1 0 0 0 0 0 0 1 1 0 0 0 0 0]\n",
            " [0 0 0 0 1 1 1 0 0 1 1 0 1 0 0 0 0 0 1 1 1 0 0 0 0 0 1 1 0 0 0 0 0]\n",
            " [0 0 0 0 0 1 1 0 0 1 1 0 0 0 0 0 0 1 0 1 1 0 0 0 0 0 1 1 0 0 0 0 0]\n",
            " [0 1 0 0 0 1 1 0 0 1 1 0 0 1 0 0 1 0 0 0 1 1 0 0 0 0 1 1 0 0 0 0 0]\n",
            " [0 1 1 1 1 1 0 0 1 1 1 1 1 1 0 1 1 1 0 1 1 1 1 0 0 1 1 1 1 0 0 0 0]]\n",
            "[[' ' ' ' ' ' ' ' ' ' ' ' ' ' ' ' ' ' ' ' ' ' ' ' ' ' ' ' ' ' ' ' ' ' ' '\n",
            "  ' ' ' ' ' ' ' ' ' ' ' ' ' ' ' ' ' ' ' ' ' ' ' ' ' ' ' ' ' ']\n",
            " [' ' ' ' ' ' ' ' ' ' ' ' ' ' ' ' ' ' ' ' ' ' ' ' ' ' ' ' ' ' ' ' ' ' ' '\n",
            "  ' ' ' ' ' ' ' ' ' ' ' ' ' ' ' ' ' ' ' ' ' ' ' ' ' ' ' ' ' ']\n",
            " [' ' ' ' '#' '#' '#' '#' '#' ' ' '#' '#' '#' '#' '#' '#' ' ' '#' '#' '#'\n",
            "  '#' ' ' '#' '#' '#' '#' '#' '#' '#' ' ' '#' '#' '#' ' ' ' ']\n",
            " [' ' '#' '#' ' ' ' ' ' ' '#' ' ' ' ' '#' '#' ' ' ' ' '#' ' ' ' ' '#' '#'\n",
            "  ' ' ' ' ' ' '#' ' ' ' ' '#' '#' ' ' ' ' ' ' '#' ' ' ' ' ' ']\n",
            " [' ' '#' '#' ' ' ' ' ' ' ' ' ' ' ' ' '#' '#' ' ' ' ' ' ' ' ' ' ' ' ' '#'\n",
            "  '#' ' ' '#' ' ' ' ' ' ' ' ' '#' '#' ' ' '#' ' ' ' ' ' ' ' ']\n",
            " [' ' '#' '#' '#' ' ' ' ' ' ' ' ' ' ' '#' '#' ' ' '#' ' ' ' ' ' ' ' ' '#'\n",
            "  '#' '#' ' ' ' ' ' ' ' ' ' ' '#' '#' ' ' '#' ' ' ' ' ' ' ' ']\n",
            " [' ' ' ' '#' '#' '#' '#' ' ' ' ' ' ' '#' '#' '#' '#' ' ' ' ' ' ' ' ' ' '\n",
            "  '#' '#' ' ' ' ' ' ' ' ' ' ' ' ' '#' '#' ' ' ' ' ' ' ' ' ' ']\n",
            " [' ' ' ' ' ' ' ' '#' '#' '#' ' ' ' ' '#' '#' ' ' '#' ' ' ' ' ' ' ' ' ' '\n",
            "  '#' '#' '#' ' ' ' ' ' ' ' ' ' ' '#' '#' ' ' ' ' ' ' ' ' ' ']\n",
            " [' ' ' ' ' ' ' ' ' ' '#' '#' ' ' ' ' '#' '#' ' ' ' ' ' ' ' ' ' ' ' ' '#'\n",
            "  ' ' '#' '#' ' ' ' ' ' ' ' ' ' ' '#' '#' ' ' ' ' ' ' ' ' ' ']\n",
            " [' ' '#' ' ' ' ' ' ' '#' '#' ' ' ' ' '#' '#' ' ' ' ' '#' ' ' ' ' '#' ' '\n",
            "  ' ' ' ' '#' '#' ' ' ' ' ' ' ' ' '#' '#' ' ' ' ' ' ' ' ' ' ']\n",
            " [' ' '#' '#' '#' '#' '#' ' ' ' ' '#' '#' '#' '#' '#' '#' ' ' '#' '#' '#'\n",
            "  ' ' '#' '#' '#' '#' ' ' ' ' '#' '#' '#' '#' ' ' ' ' ' ' ' ']]\n",
            "                                 \n",
            "                                 \n",
            "  ##### ###### #### ####### ###  \n",
            " ##   #  ##  #  ##   #  ##   #   \n",
            " ##      ##      ## #    ## #    \n",
            " ###     ## #    ###     ## #    \n",
            "  ####   ####     ##      ##     \n",
            "    ###  ## #     ###     ##     \n",
            "     ##  ##      # ##     ##     \n",
            " #   ##  ##  #  #   ##    ##     \n",
            " #####  ###### ### ####  ####    \n"
          ],
          "name": "stdout"
        }
      ]
    },
    {
      "cell_type": "markdown",
      "metadata": {
        "id": "IOW5SR55O7GD",
        "colab_type": "text"
      },
      "source": [
        "## Character to Pixel A-Z Letters\n"
      ]
    },
    {
      "cell_type": "code",
      "metadata": {
        "id": "SxKGCsxTInug",
        "colab_type": "code",
        "colab": {
          "base_uri": "https://localhost:8080/",
          "height": 1000
        },
        "outputId": "c26ce1c7-58a8-4cc8-da79-5f7c27c3b69c"
      },
      "source": [
        "from __future__ import print_function\n",
        "import string\n",
        "from PIL import Image\n",
        "from PIL import ImageFont\n",
        "from PIL import ImageDraw\n",
        "import numpy as np\n",
        "\n",
        "def char_to_pixels(text, path='arialbd.ttf', fontsize=14):\n",
        "    \"\"\"\n",
        "    Based on https://stackoverflow.com/a/27753869/190597 (jsheperd)\n",
        "    \"\"\"\n",
        "    font = ImageFont.truetype(path, fontsize) #load the font\n",
        "    w, h = font.getsize(text)  #calc the size of text in pixels\n",
        "    h *= 2 \n",
        "    image = Image.new('L', (w, h), 1)  #create a b/w image\n",
        "    draw = ImageDraw.Draw(image)\n",
        "    draw.text((0, 0), text, font=font) #render the text to the bitmap\n",
        "    arr = np.asarray(image)\n",
        "    arr = np.where(arr, 0, 1)\n",
        "    arr = arr[(arr != 0).any(axis=1)]\n",
        "    return arr\n",
        "\n",
        "def display(arr):\n",
        "    result = np.where(arr, '#', ' ')\n",
        "    print('\\n'.join([''.join(row) for row in result]))\n",
        "\n",
        "for c in string.ascii_uppercase:\n",
        "    arr = char_to_pixels(\n",
        "        c, \n",
        "        path='/usr/share/fonts/truetype/liberation/LiberationSerif-Bold.ttf', \n",
        "        fontsize=9)\n",
        "    print(arr.shape)\n",
        "    display(arr)\n",
        "    print()"
      ],
      "execution_count": 4,
      "outputs": [
        {
          "output_type": "stream",
          "text": [
            "(7, 7)\n",
            "  ##   \n",
            "  ##   \n",
            "   ##  \n",
            " #  #  \n",
            " ####  \n",
            "    ## \n",
            "##  ## \n",
            "\n",
            "(7, 6)\n",
            "##### \n",
            " #  # \n",
            " #  # \n",
            " #### \n",
            " #  ##\n",
            " #  ##\n",
            "##### \n",
            "\n",
            "(7, 7)\n",
            "  #### \n",
            " ##    \n",
            " #     \n",
            "##     \n",
            " #     \n",
            " ##    \n",
            "  #### \n",
            "\n",
            "(7, 7)\n",
            "#####  \n",
            " #  ## \n",
            " #  ## \n",
            " #   # \n",
            " #   # \n",
            " #  ## \n",
            "#####  \n",
            "\n",
            "(7, 6)\n",
            "##### \n",
            " #    \n",
            " #    \n",
            " ###  \n",
            " #    \n",
            " #    \n",
            "##### \n",
            "\n",
            "(7, 6)\n",
            "##### \n",
            " #    \n",
            " #    \n",
            " ###  \n",
            " #    \n",
            " #    \n",
            "###   \n",
            "\n",
            "(7, 7)\n",
            "  #### \n",
            " ##  # \n",
            " #     \n",
            "##     \n",
            " #  ###\n",
            " ##  # \n",
            "  #### \n",
            "\n",
            "(7, 7)\n",
            "### ###\n",
            " #   # \n",
            " #   # \n",
            " ##### \n",
            " #   # \n",
            " #   # \n",
            "### ###\n",
            "\n",
            "(7, 4)\n",
            "### \n",
            " #  \n",
            " #  \n",
            " #  \n",
            " #  \n",
            " #  \n",
            "### \n",
            "\n",
            "(7, 5)\n",
            "  ## \n",
            "  ## \n",
            "  ## \n",
            "  ## \n",
            "  ## \n",
            "  #  \n",
            "###  \n",
            "\n",
            "(7, 7)\n",
            "###  # \n",
            " #  #  \n",
            " # #   \n",
            " ###   \n",
            " # ##  \n",
            " #  ## \n",
            "###  ##\n",
            "\n",
            "(7, 6)\n",
            "###   \n",
            " #    \n",
            " #    \n",
            " #    \n",
            " #    \n",
            " #   #\n",
            "##### \n",
            "\n",
            "(7, 9)\n",
            "###   ## \n",
            " ##  ##  \n",
            "  #   #  \n",
            "  ##  #  \n",
            "   ## #  \n",
            "   #  #  \n",
            "## # ### \n",
            "\n",
            "(7, 7)\n",
            "### ## \n",
            " ##  # \n",
            " ### # \n",
            "  #### \n",
            "   ### \n",
            "    ## \n",
            "##   # \n",
            "\n",
            "(7, 7)\n",
            "  ###  \n",
            " #   # \n",
            " #   # \n",
            "##   ##\n",
            " #   # \n",
            " #   # \n",
            "  ###  \n",
            "\n",
            "(7, 6)\n",
            "##### \n",
            " #  # \n",
            " #  # \n",
            " #### \n",
            " #    \n",
            " #    \n",
            "###   \n",
            "\n",
            "(9, 7)\n",
            "  ###  \n",
            " #   # \n",
            " #   # \n",
            "##   ##\n",
            " #   # \n",
            " #   # \n",
            "  ###  \n",
            "    ## \n",
            "    ## \n",
            "\n",
            "(7, 7)\n",
            "#####  \n",
            " #  #  \n",
            " #  #  \n",
            " ####  \n",
            " # ##  \n",
            " #  ## \n",
            "### ## \n",
            "\n",
            "(7, 5)\n",
            " ### \n",
            " #   \n",
            " ##  \n",
            " ### \n",
            "   ##\n",
            "   ##\n",
            " ### \n",
            "\n",
            "(7, 6)\n",
            "######\n",
            "  ##  \n",
            "  ##  \n",
            "  ##  \n",
            "  ##  \n",
            "  ##  \n",
            " #### \n",
            "\n",
            "(7, 7)\n",
            "### ## \n",
            " #   # \n",
            " #   # \n",
            " #   # \n",
            " #   # \n",
            " ##    \n",
            "  ###  \n",
            "\n",
            "(7, 7)\n",
            "###  # \n",
            " #   # \n",
            " ##    \n",
            "  # #  \n",
            "  #    \n",
            "  ##   \n",
            "   #   \n",
            "\n",
            "(7, 9)\n",
            "###    ##\n",
            " #       \n",
            " ## ## # \n",
            " ## ## # \n",
            "  ## ##  \n",
            "  ##  #  \n",
            "  #   #  \n",
            "\n",
            "(7, 7)\n",
            "### ## \n",
            " ## #  \n",
            "  ##   \n",
            "   #   \n",
            "  ###  \n",
            " #  #  \n",
            "##  ## \n",
            "\n",
            "(7, 7)\n",
            "### ## \n",
            " ##    \n",
            "  # #  \n",
            "  ##   \n",
            "   #   \n",
            "   #   \n",
            "  ###  \n",
            "\n",
            "(7, 6)\n",
            " #### \n",
            "   ## \n",
            "   #  \n",
            "  ##  \n",
            " ##   \n",
            " #    \n",
            "##### \n",
            "\n"
          ],
          "name": "stdout"
        }
      ]
    },
    {
      "cell_type": "code",
      "metadata": {
        "id": "L91uvI_6KBd9",
        "colab_type": "code",
        "colab": {
          "base_uri": "https://localhost:8080/",
          "height": 136
        },
        "outputId": "db457141-0315-4016-a425-1536751739b5"
      },
      "source": [
        "import numpy as np\n",
        "X = np.array([[135,30],[35,40],[75,40]])\n",
        "print(X)\n",
        "print('Prin------')\n",
        "Y= X[0,0:2]\n",
        "print(Y)\n",
        "print('------')\n",
        "Z = X[0:2,0]\n",
        "print(Z)"
      ],
      "execution_count": 20,
      "outputs": [
        {
          "output_type": "stream",
          "text": [
            "[[135  30]\n",
            " [ 35  40]\n",
            " [ 75  40]]\n",
            "Prin------\n",
            "[135  30]\n",
            "------\n",
            "[135  35]\n"
          ],
          "name": "stdout"
        }
      ]
    },
    {
      "cell_type": "code",
      "metadata": {
        "id": "1wEl6T5-Re5L",
        "colab_type": "code",
        "colab": {}
      },
      "source": [
        ""
      ],
      "execution_count": 0,
      "outputs": []
    },
    {
      "cell_type": "markdown",
      "metadata": {
        "id": "7YcFcYsXTtxb",
        "colab_type": "text"
      },
      "source": [
        "##Printing Characters ['-', '|', '@']"
      ]
    },
    {
      "cell_type": "code",
      "metadata": {
        "id": "E1nEYJayTTzZ",
        "colab_type": "code",
        "colab": {
          "base_uri": "https://localhost:8080/",
          "height": 306
        },
        "outputId": "dacb7c46-3708-4db7-c33d-375897776eaa"
      },
      "source": [
        "loop = [1,2,3,4,5,6,7]\n",
        "\n",
        "print('-'*10)\n",
        "print('|'*5)\n",
        "print('@'*3)\n",
        "\n",
        "for i in loop:\n",
        "    print('-') \n",
        "\n",
        "\n",
        "for i in loop:\n",
        "    print('|') "
      ],
      "execution_count": 29,
      "outputs": [
        {
          "output_type": "stream",
          "text": [
            "----------\n",
            "|||||\n",
            "@@@\n",
            "@\n",
            "@\n",
            "@\n",
            "@\n",
            "@\n",
            "@\n",
            "@\n",
            "|\n",
            "|\n",
            "|\n",
            "|\n",
            "|\n",
            "|\n",
            "|\n"
          ],
          "name": "stdout"
        }
      ]
    },
    {
      "cell_type": "code",
      "metadata": {
        "id": "EScmyNtdVX2r",
        "colab_type": "code",
        "colab": {
          "base_uri": "https://localhost:8080/",
          "height": 357
        },
        "outputId": "22c7cdc5-9a04-4bd5-ec98-f5708b4b5c77"
      },
      "source": [
        "\n",
        "canvas_w = [1,2,3]\n",
        "canvas_h = [1,2,3,4,5]\n",
        "''' Determining the Position in 2-D matrix e.g. 3,5 '''\n",
        "\n",
        "for x in canvas_h: \n",
        "    print('@')\n",
        "    for y in canvas_w:\n",
        "      print('@'*y)\n",
        "\n",
        "\n"
      ],
      "execution_count": 33,
      "outputs": [
        {
          "output_type": "stream",
          "text": [
            "@\n",
            "@\n",
            "@@\n",
            "@@@\n",
            "@\n",
            "@\n",
            "@@\n",
            "@@@\n",
            "@\n",
            "@\n",
            "@@\n",
            "@@@\n",
            "@\n",
            "@\n",
            "@@\n",
            "@@@\n",
            "@\n",
            "@\n",
            "@@\n",
            "@@@\n"
          ],
          "name": "stdout"
        }
      ]
    },
    {
      "cell_type": "code",
      "metadata": {
        "id": "2oDH3DyiTXR6",
        "colab_type": "code",
        "colab": {
          "base_uri": "https://localhost:8080/",
          "height": 34
        },
        "outputId": "a1091a70-4774-4fe9-df77-e15468aafe82"
      },
      "source": [
        "np.array([1, 2, 3], dtype='f')"
      ],
      "execution_count": 35,
      "outputs": [
        {
          "output_type": "execute_result",
          "data": {
            "text/plain": [
              "array([1., 2., 3.], dtype=float32)"
            ]
          },
          "metadata": {
            "tags": []
          },
          "execution_count": 35
        }
      ]
    },
    {
      "cell_type": "markdown",
      "metadata": {
        "id": "fecw4S_g1JnV",
        "colab_type": "text"
      },
      "source": [
        "## 2D Numpy Array to Desired Output"
      ]
    },
    {
      "cell_type": "code",
      "metadata": {
        "id": "KYHo7Uwod7vO",
        "colab_type": "code",
        "colab": {
          "base_uri": "https://localhost:8080/",
          "height": 357
        },
        "outputId": "80874d80-8856-47b5-a51c-05f63d355e28"
      },
      "source": [
        "import numpy as np\n",
        "## pixels_01 = np.array([[0,1,0,1,1,1,0],[0,0,0,1,1,0,1],[0,0,0,1,1,0,1],[0,0,0,1,1,0,1]])\n",
        "\n",
        "\n",
        "canvas_w=3\n",
        "canvas_h=4\n",
        "\n",
        "\n",
        "## Generating an array of random integers, declaring & populating 2D array\n",
        "pixels_01 = np.random.randint(0,2, size=(canvas_w+2,canvas_h+2))\n",
        "## After adding canvas_w+2,canvas_h+2 we are able to accomdate a border of canvas\n",
        "\n",
        "## Filling border pads with horizontal '-' and vertical ='|' as directed\n",
        "\n",
        "print(pixels_01)\n",
        "print('-------Break-----')\n",
        "chars_ascii = np.array([' ','#'], dtype=\"U1\")[pixels_01]\n",
        "print(chars_ascii)\n",
        "strings_f = chars_ascii.view('U' + str(chars_ascii.shape[1])).flatten()\n",
        "print('-------Break-----')\n",
        "print( \"\\n\".join(strings_f))\n",
        "\n",
        "print('-------Break-----')\n",
        "print('-------Manually Refilling the Bucket-----')\n",
        "## Rerun After Manually Refilling the Full Bucket\n",
        "\n",
        "##pixels_01 = np.array([[1,1,1,1,1,1,1],[1,1,1,1,1,1,1],[1,1,1,1,1,1,1],[1,1,1,1,1,1,1]])\n",
        "pixels_01 = np.random.randint(1,2, size=(4,8))\n",
        "chars_ascii = np.array([' ','#'], dtype=\"U1\")[pixels_01]\n",
        "strings_f = chars_ascii.view('U' + str(chars_ascii.shape[1])).flatten()\n",
        "print( \"\\n\".join(strings_f))\n",
        "\n"
      ],
      "execution_count": 80,
      "outputs": [
        {
          "output_type": "stream",
          "text": [
            "[[1 0 1 1 1 1 0 1]\n",
            " [0 0 0 0 1 1 0 1]\n",
            " [1 1 1 1 1 1 1 0]\n",
            " [1 1 0 0 1 0 1 1]]\n",
            "-------Break-----\n",
            "[['#' ' ' '#' '#' '#' '#' ' ' '#']\n",
            " [' ' ' ' ' ' ' ' '#' '#' ' ' '#']\n",
            " ['#' '#' '#' '#' '#' '#' '#' ' ']\n",
            " ['#' '#' ' ' ' ' '#' ' ' '#' '#']]\n",
            "-------Break-----\n",
            "# #### #\n",
            "    ## #\n",
            "####### \n",
            "##  # ##\n",
            "-------Break-----\n",
            "-------Manually Refilling the Bucket-----\n",
            "########\n",
            "########\n",
            "########\n",
            "########\n"
          ],
          "name": "stdout"
        }
      ]
    },
    {
      "cell_type": "markdown",
      "metadata": {
        "id": "OyNCFCyj1dCT",
        "colab_type": "text"
      },
      "source": [
        "## Reshape a new 1D array into 2D r x c array"
      ]
    },
    {
      "cell_type": "code",
      "metadata": {
        "id": "T49mmwNT0MzM",
        "colab_type": "code",
        "colab": {
          "base_uri": "https://localhost:8080/",
          "height": 51
        },
        "outputId": "fd9e5408-ef23-49e7-d2ad-2ad367b0dcb0"
      },
      "source": [
        "# reshape a shape-(24,) array into a shape-(2,3,4) array\n",
        "np.arange(2*3*4)"
      ],
      "execution_count": 84,
      "outputs": [
        {
          "output_type": "execute_result",
          "data": {
            "text/plain": [
              "array([ 0,  1,  2,  3,  4,  5,  6,  7,  8,  9, 10, 11, 12, 13, 14, 15, 16,\n",
              "       17, 18, 19, 20, 21, 22, 23])"
            ]
          },
          "metadata": {
            "tags": []
          },
          "execution_count": 84
        }
      ]
    },
    {
      "cell_type": "code",
      "metadata": {
        "id": "WNXTrfmV8VVV",
        "colab_type": "code",
        "colab": {
          "base_uri": "https://localhost:8080/",
          "height": 119
        },
        "outputId": "9986bff2-1032-4eec-932c-9cbfe6454f64"
      },
      "source": [
        "np.arange(2*3*4).reshape(6,4)"
      ],
      "execution_count": 90,
      "outputs": [
        {
          "output_type": "execute_result",
          "data": {
            "text/plain": [
              "array([[ 0,  1,  2,  3],\n",
              "       [ 4,  5,  6,  7],\n",
              "       [ 8,  9, 10, 11],\n",
              "       [12, 13, 14, 15],\n",
              "       [16, 17, 18, 19],\n",
              "       [20, 21, 22, 23]])"
            ]
          },
          "metadata": {
            "tags": []
          },
          "execution_count": 90
        }
      ]
    },
    {
      "cell_type": "code",
      "metadata": {
        "id": "6lzGDRxk9Eq2",
        "colab_type": "code",
        "colab": {
          "base_uri": "https://localhost:8080/",
          "height": 51
        },
        "outputId": "51b9c908-4d75-45e8-f6d8-c07875ee6f71"
      },
      "source": [
        "##Canvas requested 3x4--->after Padding--->becomes 5x6\n",
        "np.arange(5*6)"
      ],
      "execution_count": 93,
      "outputs": [
        {
          "output_type": "execute_result",
          "data": {
            "text/plain": [
              "array([ 0,  1,  2,  3,  4,  5,  6,  7,  8,  9, 10, 11, 12, 13, 14, 15, 16,\n",
              "       17, 18, 19, 20, 21, 22, 23, 24, 25, 26, 27, 28, 29])"
            ]
          },
          "metadata": {
            "tags": []
          },
          "execution_count": 93
        }
      ]
    },
    {
      "cell_type": "markdown",
      "metadata": {
        "id": "oTsULPWQ15U8",
        "colab_type": "text"
      },
      "source": [
        "## Manual Trial Run of Drawing a Line"
      ]
    },
    {
      "cell_type": "code",
      "metadata": {
        "id": "sSdWsxlmEjNM",
        "colab_type": "code",
        "colab": {
          "base_uri": "https://localhost:8080/",
          "height": 459
        },
        "outputId": "169fa6bf-6927-441b-f0eb-ad6c05efa0b1"
      },
      "source": [
        "#L 1 3 4 3 [Line Movement on a given Row]\n",
        "a = np.arange(8*9).reshape(8,9)\n",
        "\n",
        "COLi = 1\n",
        "COLj = 4\n",
        "ROW = 3\n",
        "#MoveForward: Replace '0s' with '1'\n",
        "\n",
        "\n",
        "##Return a new array of given shape and type, filled with ones.\n",
        "array_ones = np.ones((COLj-COLi+1,), dtype=int) ## e.g. Represents [1,1,1,1] if COLj-COLi+1 = 4\n",
        "##Using '1' to represent forward traversal and hence updating entries\n",
        "a[ROW, COLi:COLj+1] = array_ones  \n",
        "print(a)\n",
        "\n",
        "print('---BREAK---')\n",
        "\n",
        "b = np.arange(8*9).reshape(8,9) ## Canvas 6x7\n",
        "#L 2 1 2 4 [Line Movement on a given Column]\n",
        "ROWi = 1\n",
        "ROWj = 4\n",
        "COL = 2\n",
        "#MoveForward: Replace '0s' with '1'\n",
        "b[ROWi:ROWj+1, COL ] =  np.ones((ROWj,), dtype=int) ## [1,1,1]\n",
        "b\n",
        "print(b)\n",
        "\n",
        "\n",
        "print('---CHECKING Transpose of a 2D matrix to leverage same code---')\n",
        "c = np.transpose(a)\n",
        "\n",
        "##Return a new array of given shape and type, filled with ones.\n",
        "array_ones_c = np.ones((COLj-COLi+1,), dtype=int) ## e.g. Represents [1,1,1,1] if COLj-COLi+1 = 4\n",
        "##Using '1' to represent forward traversal and hence updating entries\n",
        "c[ROW, COLi:COLj+1] = array_ones_c  \n",
        "print(np.transpose(c))\n",
        "\n",
        "#We have proven transposing works for Horizontal/Vertical Function. Hence we leverage a standard function "
      ],
      "execution_count": 10,
      "outputs": [
        {
          "output_type": "stream",
          "text": [
            "[[ 0  1  2  3  4  5  6  7  8]\n",
            " [ 9 10 11 12 13 14 15 16 17]\n",
            " [18 19 20 21 22 23 24 25 26]\n",
            " [27  1  1  1  1 32 33 34 35]\n",
            " [36 37 38 39 40 41 42 43 44]\n",
            " [45 46 47 48 49 50 51 52 53]\n",
            " [54 55 56 57 58 59 60 61 62]\n",
            " [63 64 65 66 67 68 69 70 71]]\n",
            "---BREAK---\n",
            "[[ 0  1  2  3  4  5  6  7  8]\n",
            " [ 9 10  1 12 13 14 15 16 17]\n",
            " [18 19  1 21 22 23 24 25 26]\n",
            " [27 28  1 30 31 32 33 34 35]\n",
            " [36 37  1 39 40 41 42 43 44]\n",
            " [45 46 47 48 49 50 51 52 53]\n",
            " [54 55 56 57 58 59 60 61 62]\n",
            " [63 64 65 66 67 68 69 70 71]]\n",
            "---CHECKING Transpose of a 2D matrix to leverage same code---\n",
            "[[ 0  1  2  3  4  5  6  7  8]\n",
            " [ 9 10 11  1 13 14 15 16 17]\n",
            " [18 19 20  1 22 23 24 25 26]\n",
            " [27  1  1  1  1 32 33 34 35]\n",
            " [36 37 38  1 40 41 42 43 44]\n",
            " [45 46 47 48 49 50 51 52 53]\n",
            " [54 55 56 57 58 59 60 61 62]\n",
            " [63 64 65 66 67 68 69 70 71]]\n"
          ],
          "name": "stdout"
        }
      ]
    },
    {
      "cell_type": "markdown",
      "metadata": {
        "id": "Lu78rFnL2M5C",
        "colab_type": "text"
      },
      "source": [
        "##Polished Function Calls [Line, Rectangle, Publishing]"
      ]
    },
    {
      "cell_type": "code",
      "metadata": {
        "id": "Z5HcxKuaNmIN",
        "colab_type": "code",
        "colab": {
          "base_uri": "https://localhost:8080/",
          "height": 453
        },
        "outputId": "9d242243-dc69-46c3-a841-cb86d5ea5fca"
      },
      "source": [
        "\n",
        "import numpy as np\n",
        "\n",
        "def drawLine(Canvas,x1,y1,x2,y2,maskDigit):\n",
        "    ## Write Validation of Canvas.shape and x1,x2,x3,x4 being within bounds\n",
        "    if (y1 == y2): \n",
        "        ##Return a new 1D array of given shape and type, filled with ones.\n",
        "        ## Using command  np.ones((x2-x1+1,), dtype=int) \n",
        "        ##Using '1' to draw line i.e x2-x1+1 and hence updating entries for columns on a given row\n",
        "        Canvas[y1, x1:x2+1] = np.ones((x2-x1+1,), dtype=int)*maskDigit ## e.g. Represents [1,1,1,1] if x2-x1+1 = 4\n",
        "    elif(x1 == x2): \n",
        "        ##Return a new 1D array of given shape and type, filled with ones.\n",
        "        ## Using command  np.ones((y2-y1+1,), dtype=int) \n",
        "        ##Using '1' to draw line i.e y2-y1+1 and hence updating entries for rows on a given column\n",
        "        Canvas[y1:y2+1, x1] = np.ones((y2-y1+1,), dtype=int)*maskDigit  ## e.g. Represents [1,1,1,1] if y2-y1+1 = 4\n",
        "    else:\n",
        "        print('Cant draw a diagonal(out of scope)')\n",
        "    return Canvas\n",
        "\n",
        "\n",
        "def drawRect(Canvas,x1,y1,x2,y2,maskDigit):\n",
        "    drawLine(Canvas,x1,y1,x1,y2,maskDigit) \n",
        "    drawLine(Canvas,x2,y1,x2,y2,maskDigit)\n",
        "    drawLine(Canvas,x1,y1,x2,y1,maskDigit)\n",
        "    drawLine(Canvas,x1,y2,x2,y2,maskDigit)\n",
        "    return Canvas\n",
        "\n",
        "def drawHorizontalPadding(Canvas,x1,y1,x2,y2,maskDigit):\n",
        "    #Horizontal Padding with '-'\n",
        "    drawLine(Canvas,0,0,y2-1,0,maskDigit)\n",
        "    drawLine(Canvas,0,x2-1,y2-1,x2-1,maskDigit)\n",
        "    return Canvas\n",
        "    \n",
        "def drawVerticalPadding(Canvas,x1,y1,x2,y2,maskDigit):\n",
        "    #Vertical Padding with '|'\n",
        "    drawLine(Canvas,0,1,0,x2-2,maskDigit) \n",
        "    drawLine(Canvas,y2-1,1,y2-1,x2-2,maskDigit)\n",
        "    return Canvas    \n",
        "\n",
        "def replace_with_dict(ar, dic):\n",
        "    # Extract out keys and values\n",
        "    k = np.array(list(dic.keys()))\n",
        "    v = np.array(list(dic.values()))\n",
        "\n",
        "    # Get argsort indices\n",
        "    sidx = k.argsort()\n",
        "\n",
        "    # Drop the magic bomb with searchsorted to get the corresponding\n",
        "    # places for a in keys (using sorter since a is not necessarily sorted).\n",
        "    # Then trace it back to original order with indexing into sidx\n",
        "    # Finally index into values for desired output.\n",
        "    return v[sidx[np.searchsorted(k,ar,sorter=sidx)]]\n",
        "\n",
        "def publish(Canvas):\n",
        "    transdict = {'8': '-', '9': '|', '1': 'x','0':'.','5':'o'} #Translation Dictionary\n",
        "    chars_ascii = replace_with_dict(Canvas.astype(str),transdict)\n",
        "    strings_f = chars_ascii.view('U' + str(chars_ascii.shape[1])).flatten()  \n",
        "    return print( \"\\n\".join(strings_f))\n",
        "\n",
        "def fillBucket(Canvas, x, y, targetDigit, newDigit):\n",
        "    # Use the Canvas 2D array and check if the oldDigit at x, y needs to be replacesd\n",
        "    # The recursive algorithm. Starting at x and y, changes any adjacent\n",
        "    # digits that match targetDigit to newDigit.\n",
        "    canvasWidth = len(Canvas)\n",
        "    canvasHeight = len(Canvas[0])\n",
        "    \n",
        "    if targetDigit == None:\n",
        "        targetDigit = Canvas[x][y]\n",
        "\n",
        "    # Base case. If the current x, y digit is not the targetDigit,\n",
        "    # then do nothing.\n",
        "    if Canvas[x][y] != targetDigit:\n",
        "        return \n",
        "    \n",
        "    # Change the digit at Canvas[x][y] to newDigit \n",
        "    Canvas[x][y] = newDigit\n",
        "\n",
        "    # Recursive calls. Make a recursive call as long as we are not on the\n",
        "    # boundary (which would cause an Index Error.)\n",
        "    if x > 0: # left\n",
        "        fillBucket(Canvas, x - 1, y, targetDigit, newDigit)\n",
        "    if y > 0: # up\n",
        "        fillBucket(Canvas, x, y - 1, targetDigit, newDigit) \n",
        "    if x < canvasWidth-1: # right\n",
        "        fillBucket(Canvas, x + 1, y, targetDigit, newDigit)\n",
        "    if y < canvasHeight-1: # down\n",
        "        fillBucket(Canvas, x, y + 1, targetDigit, newDigit)\n",
        "    return Canvas\n",
        "\n",
        "\n",
        "## START OF MAIN PROGRAM\n",
        "\n",
        "# Create an Empty 2D Array\n",
        "Canvas1 = np.zeros((12,18), dtype=int).reshape(12,18)\n",
        "\n",
        "print(Canvas1)\n",
        "print('---BREAK0---')\n",
        "##drawPadding: i.e '----' and '|' on borders. This is a special case of drawRect with edge cases\n",
        "##If user demands 10x16 canvas then 12x18 has be designed to accomodate borders padding\n",
        "Canvas1 = drawHorizontalPadding(Canvas1,0,0,12,18,maskDigit=8)\n",
        "print(Canvas1)\n",
        "print('---BREAK1---')\n",
        "\n",
        "Canvas1 = drawVerticalPadding(Canvas1,0,0,12,18,maskDigit=9)\n",
        "print(Canvas1)\n",
        "print('---BREAK2---')\n",
        "#L 1 3 4 3 [Line Movement on a given Row]\n",
        "#(x1,x2) = (1,4) & (y1,y2)= (3,3) [On Row 3 draw a line covering 4-1+1 = 4places] = WalkType = AlongRow\n",
        "Canvas1 = drawLine(Canvas1,1,3,4,3,scalar=1)\n",
        "#L 2 1 2 4 [Line Movement on a given Column]\n",
        "#(y1,y2) = (1,4) & (x1,x2)= (2,2)[On COL 2 draw a line covering 4-1+1 = 4places] = WalkType = AlongCol\n",
        "print(Canvas1)\n",
        "print('---BREAK3---')\n",
        "Canvas1 = drawLine(Canvas1,2,1,2,4,maskDigit=1)\n",
        "#R 1 5 6 7[Draw a Rectangle between (1,5) and (6,7)]\n",
        "##Essentially it means draw 4 lines i.e [L 1 5 1 7] [L 6 5 6 7] [L 1 5 6 5] [L 1 7 6 7]\n",
        "print(Canvas1)\n",
        "print('---BREAK4---')\n",
        "Canvas1 = drawRect(Canvas1,1,5,6,7,maskDigit=1)\n",
        "print(Canvas1)\n",
        "print('---BREAK5---')\n",
        "\n",
        "publish(Canvas1)\n",
        "print('---1st PUBLISH---')\n",
        "\n",
        "Canvas1 = drawRect(Canvas1,6,6,8,8,maskDigit=1)\n",
        "print(Canvas1)\n",
        "print('---2nd PUBLISH---')\n",
        "\n",
        "publish(Canvas1)\n",
        "\n",
        "\n",
        "#User Gives Input\n",
        "x,y = 2,5 ## [Point of Click, taken from user as input]\n",
        "#Set the Point of Click for 'o' masked by Digit '5' \n",
        "\n",
        "## Now fill the Bucket from here with Digit 5\n",
        "print('---PUBLISH AFTER Fill Bucket--')\n",
        "publish(fillBucket(Canvas1, x, y, 0, 5))\n",
        "\n",
        "\n",
        "\n"
      ],
      "execution_count": 61,
      "outputs": [
        {
          "output_type": "stream",
          "text": [
            "[[0 0 0 0 0 0 0 0 0 0 0 0 0 0 0 0 0 0]\n",
            " [0 0 0 0 0 0 0 0 0 0 0 0 0 0 0 0 0 0]\n",
            " [0 0 0 0 0 0 0 0 0 0 0 0 0 0 0 0 0 0]\n",
            " [0 0 0 0 0 0 0 0 0 0 0 0 0 0 0 0 0 0]\n",
            " [0 0 0 0 0 0 0 0 0 0 0 0 0 0 0 0 0 0]\n",
            " [0 0 0 0 0 0 0 0 0 0 0 0 0 0 0 0 0 0]\n",
            " [0 0 0 0 0 0 0 0 0 0 0 0 0 0 0 0 0 0]\n",
            " [0 0 0 0 0 0 0 0 0 0 0 0 0 0 0 0 0 0]\n",
            " [0 0 0 0 0 0 0 0 0 0 0 0 0 0 0 0 0 0]\n",
            " [0 0 0 0 0 0 0 0 0 0 0 0 0 0 0 0 0 0]\n",
            " [0 0 0 0 0 0 0 0 0 0 0 0 0 0 0 0 0 0]\n",
            " [0 0 0 0 0 0 0 0 0 0 0 0 0 0 0 0 0 0]]\n",
            "---BREAK0---\n"
          ],
          "name": "stdout"
        },
        {
          "output_type": "error",
          "ename": "TypeError",
          "evalue": "ignored",
          "traceback": [
            "\u001b[0;31m---------------------------------------------------------------------------\u001b[0m",
            "\u001b[0;31mTypeError\u001b[0m                                 Traceback (most recent call last)",
            "\u001b[0;32m<ipython-input-61-aaea0848f975>\u001b[0m in \u001b[0;36m<module>\u001b[0;34m()\u001b[0m\n\u001b[1;32m     98\u001b[0m \u001b[0;31m##drawPadding: i.e '----' and '|' on borders. This is a special case of drawRect with edge cases\u001b[0m\u001b[0;34m\u001b[0m\u001b[0;34m\u001b[0m\u001b[0;34m\u001b[0m\u001b[0m\n\u001b[1;32m     99\u001b[0m \u001b[0;31m##If user demands 10x16 canvas then 12x18 has be designed to accomodate borders padding\u001b[0m\u001b[0;34m\u001b[0m\u001b[0;34m\u001b[0m\u001b[0;34m\u001b[0m\u001b[0m\n\u001b[0;32m--> 100\u001b[0;31m \u001b[0mCanvas1\u001b[0m \u001b[0;34m=\u001b[0m \u001b[0mdrawHorizontalPadding\u001b[0m\u001b[0;34m(\u001b[0m\u001b[0mCanvas1\u001b[0m\u001b[0;34m,\u001b[0m\u001b[0;36m0\u001b[0m\u001b[0;34m,\u001b[0m\u001b[0;36m0\u001b[0m\u001b[0;34m,\u001b[0m\u001b[0;36m12\u001b[0m\u001b[0;34m,\u001b[0m\u001b[0;36m18\u001b[0m\u001b[0;34m,\u001b[0m\u001b[0mscalar\u001b[0m\u001b[0;34m=\u001b[0m\u001b[0;36m8\u001b[0m\u001b[0;34m)\u001b[0m\u001b[0;34m\u001b[0m\u001b[0;34m\u001b[0m\u001b[0m\n\u001b[0m\u001b[1;32m    101\u001b[0m \u001b[0mprint\u001b[0m\u001b[0;34m(\u001b[0m\u001b[0mCanvas1\u001b[0m\u001b[0;34m)\u001b[0m\u001b[0;34m\u001b[0m\u001b[0;34m\u001b[0m\u001b[0m\n\u001b[1;32m    102\u001b[0m \u001b[0mprint\u001b[0m\u001b[0;34m(\u001b[0m\u001b[0;34m'---BREAK1---'\u001b[0m\u001b[0;34m)\u001b[0m\u001b[0;34m\u001b[0m\u001b[0;34m\u001b[0m\u001b[0m\n",
            "\u001b[0;31mTypeError\u001b[0m: drawHorizontalPadding() got an unexpected keyword argument 'scalar'"
          ]
        }
      ]
    },
    {
      "cell_type": "markdown",
      "metadata": {
        "id": "Cf4r3Y9NcNrq",
        "colab_type": "text"
      },
      "source": [
        "## Fill Bucket Challenge"
      ]
    },
    {
      "cell_type": "markdown",
      "metadata": {
        "id": "UxaoY03bB9bs",
        "colab_type": "text"
      },
      "source": [
        "\n",
        "\n",
        "###Use the Covid Game Example Analogy\n",
        "https://inventwithpython.com/blog/2011/08/11/recursion-explained-with-the-flood-fill-algorithm-and-zombies-and-cats/\n"
      ]
    },
    {
      "cell_type": "code",
      "metadata": {
        "id": "0i85ftbEcSay",
        "colab_type": "code",
        "colab": {}
      },
      "source": [
        "import numpy as np\n",
        "\n",
        "a = np.zeros((5, 5), dtype=int)\n",
        "a[1:4, 1:4] = 1\n",
        "a[2,2] = 0\n",
        "a\n",
        "\"\"\"array([[0, 0, 0, 0, 0],\n",
        "       [0, 1, 1, 1, 0],\n",
        "       [0, 1, 0, 1, 0],\n",
        "       [0, 1, 1, 1, 0],\n",
        "       [0, 0, 0, 0, 0]])\"\"\"\n",
        "\n",
        "ndimage.binary_fill_holes(a).astype(int)\n",
        "\"\"\"array([[0, 0, 0, 0, 0],\n",
        "       [0, 1, 1, 1, 0],\n",
        "       [0, 1, 1, 1, 0],\n",
        "       [0, 1, 1, 1, 0],\n",
        "       [0, 0, 0, 0, 0]])\"\"\"\n",
        "# Too big structuring element\n",
        "ndimage.binary_fill_holes(a, structure=np.ones((5,5))).astype(int)\n",
        "\"\"\"array([[0, 0, 0, 0, 0],\n",
        "       [0, 1, 1, 1, 0],\n",
        "       [0, 1, 0, 1, 0],\n",
        "       [0, 1, 1, 1, 0],\n",
        "       [0, 0, 0, 0, 0]])\"\"\""
      ],
      "execution_count": 0,
      "outputs": []
    },
    {
      "cell_type": "code",
      "metadata": {
        "id": "x7zfN_dGfXZa",
        "colab_type": "code",
        "colab": {}
      },
      "source": [
        ""
      ],
      "execution_count": 0,
      "outputs": []
    }
  ]
}
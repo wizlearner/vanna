{
  "nbformat": 4,
  "nbformat_minor": 0,
  "metadata": {
    "colab": {
      "name": "ASCII_Canvas.ipynb",
      "provenance": [],
      "collapsed_sections": [
        "_Qv1hLLVJmeM",
        "P0Dw8ISwKEE_",
        "k-LYVCxdMuyv",
        "Ri411PxsMqIh",
        "D0vHGsOtM07p",
        "Koop35hFNEMB",
        "Ku5vkOglNnAu",
        "YuOnRIwFnbpM",
        "rjzTwA3jnFwQ"
      ],
      "toc_visible": true,
      "authorship_tag": "ABX9TyMkBLy9GfjEHU9Mf9gfoIld",
      "include_colab_link": true
    },
    "kernelspec": {
      "name": "python3",
      "display_name": "Python 3"
    }
  },
  "cells": [
    {
      "cell_type": "markdown",
      "metadata": {
        "id": "view-in-github",
        "colab_type": "text"
      },
      "source": [
        "<a href=\"https://colab.research.google.com/github/wizlearner/vanna/blob/master/ASCII_Canvas.ipynb\" target=\"_parent\"><img src=\"https://colab.research.google.com/assets/colab-badge.svg\" alt=\"Open In Colab\"/></a>"
      ]
    },
    {
      "cell_type": "markdown",
      "metadata": {
        "id": "Kd5umHCe30KM",
        "colab_type": "text"
      },
      "source": [
        "## Problem Statement"
      ]
    },
    {
      "cell_type": "markdown",
      "metadata": {
        "id": "KjHj-GCJKFCF",
        "colab_type": "text"
      },
      "source": [
        "*** The Problem ***\n",
        "\n",
        "__Description__\n",
        "\n",
        "You're given the task of writing a simple console version of a drawing program.\n",
        "At this time, the functionality of the program is quite limited but this might change in the future.\n",
        "In a nutshell, the program should work as follows:\n",
        " 1. Create a new canvas\n",
        " 2. Create\n",
        " 3. Quit\n",
        "Command \t\tDescription\n",
        "C w h           Should create a new canvas of width w and height h.\n",
        "L x1 y1 x2 y2   Should create a new line from (x1,y1) to (x2,y2). Currently only\n",
        "                horizontal or vertical lines are supported. Horizontal and vertical lines\n",
        "                will be drawn using the 'x' character.\n",
        "R x1 y1 x2 y2   Should create a new rectangle, whose upper left corner is (x1,y1) and\n",
        "                lower right corner is (x2,y2). Horizontal and vertical lines will be drawn\n",
        "                using the 'x' character.\n",
        "B x y c         Should fill the entire area connected to (x,y) with \"colour\" c. The\n",
        "                behavior of this is the same as that of the \"bucket fill\" tool in paint\n",
        "                programs.\n",
        "Q               Should quit the program.\n",
        "\n",
        "__Sample I/O__\n",
        "\n",
        "Below is a sample run of the program. User input is prefixed with enter command:\n",
        "\n"
      ]
    },
    {
      "cell_type": "markdown",
      "metadata": {
        "id": "fFtrtlP6KMpU",
        "colab_type": "text"
      },
      "source": [
        "![alt text](https://drive.google.com/open?id=1f95UvF_ZkzZ_xvvzeE7wRxdrf9pC6_i6) Output\n"
      ]
    },
    {
      "cell_type": "markdown",
      "metadata": {
        "id": "4-y94PlrLNiE",
        "colab_type": "text"
      },
      "source": [
        ""
      ]
    },
    {
      "cell_type": "markdown",
      "metadata": {
        "id": "w-shDBwU4Wsc",
        "colab_type": "text"
      },
      "source": [
        "## Design Considerations\n",
        "\n",
        "##*italicized text* Pseudo Code\n",
        "\n",
        "(i) Create Canvas class: Handle drawing different primitives like pixel, line, rectangle and do a bucket fill. \n",
        "\n",
        "(ii) Implement reading commands from console and apply them on a canvas.\n",
        "\n",
        "(iii) Then print out the canvas on each command.\n",
        "\n",
        "## Input validation (Don't let the user input invalid values.) \n",
        "\n",
        "(i) If your canvas starts at 1, 0 and below should be invalid. \n",
        "\n",
        "(ii) And Bucket fill should notify the user in case they fill directly on a line (or outside the canvas).\n",
        "\n",
        "(iii) Also check if too many or too few arguments were supplied.\n",
        "\n",
        "Command Line Parser | Validation Support\n",
        "    ##### HARD Validation Type\n",
        "          # No Input on CLS Error:Command NotFound\n",
        "          ## cmdLength !=[3,4,5,1] Error:Incomplete Command\n",
        "          ### cmdType !=[C,L,R,B,Q] Error:Invalid I/O\n",
        "    ##### SOFT Validation Type\n",
        "          # C w h [w,h]!=Int Err:Coordinates/Require Num  \n",
        "          ## L x y a b CHECK y=b Error: y=b \n",
        "          ### R x y a b CHECK x!=a and y!=b \n",
        "\n",
        "(iv) Trick to draw the \n",
        "\n",
        "(v) Start drawing on the canvas by issuing various commands\n",
        "\n",
        "(vi) Can the codebased evolve with new requirements\n",
        "\n",
        "(vii) Testing Cases Class has to be added\n",
        "\n",
        "(viii) Package in an API/Docker Image Distributable\n",
        "\n",
        "\n",
        "\n"
      ]
    },
    {
      "cell_type": "markdown",
      "metadata": {
        "id": "bJeHQUKlMESs",
        "colab_type": "text"
      },
      "source": [
        "# Product Release\n"
      ]
    },
    {
      "cell_type": "markdown",
      "metadata": {
        "id": "bD-I_MihMotZ",
        "colab_type": "text"
      },
      "source": [
        "## Quick Run"
      ]
    },
    {
      "cell_type": "code",
      "metadata": {
        "id": "GjWgSVEpM2YO",
        "colab_type": "code",
        "colab": {}
      },
      "source": [
        "from google.colab import drive\n",
        "drive.mount('/content/gdrive')\n",
        "##!ls /content/gdrive/My\\ Drive/vanna/*.py\n",
        "##!cat '/content/gdrive/My Drive/vanna/helper.py'\n",
        "\n",
        "import sys\n",
        "sys.path.append('/content/gdrive/My Drive/vanna')\n",
        "\n",
        "!pip install pyfiglet\n",
        "import pyfiglet\n",
        "ascii_banner = pyfiglet.figlet_format(\"VANNA....!!\")\n",
        "print(ascii_banner)\n",
        "\n",
        "\n",
        "import re\n",
        "import numpy as np\n",
        "\n",
        "import draw\n",
        "import validate\n",
        "import helper\n",
        "\n",
        "##------------Main Program------------\n",
        "# Run count of the game.\n",
        "#First run set default Values | Avoid in successive runs once Canvas is constructed\n",
        "run,game_active = 0, True\n",
        "transdict = {'8': '-', '9' : '|', '1' : 'x','0' : ' ','5' : 'o','7' : '+'} #Translation Dictionary\n",
        "color_tracker,targetDigit = {},0 \n",
        "\n",
        "# Set up the while loop.\n",
        "# At some point, the game ends and game_active will be set to False.\n",
        "# When that happens, the loop will stop executing.\n",
        "\n",
        "while game_active:\n",
        "\n",
        "    # Get some input from the user.\n",
        "    command = input('enter command: ')\n",
        "    # This is the command input taken the user\n",
        "    commandList = (re.split(r'\\s',command)) # Separate string by spaces i.e '\\s' expression\n",
        "    print(commandList) \n",
        "    print(len(commandList))\n",
        "    #Empty string Validation needs to be handled as command=\"\" edge case is giving length = 1\n",
        "    cmdType = commandList[0]\n",
        "    game_active = validate.commandValidation(len(commandList),cmdType)\n",
        "    print('You typed a Valid Command')\n",
        "    \n",
        "    ## START OF MAIN PROGRAM\n",
        "    if game_active == 'drawCanvas' and run == 0:\n",
        "          Canvas1 = draw.drawEmptyCanvas(int(commandList[1]),int(commandList[2]))\n",
        "          helper.publish(Canvas1, transdict)\n",
        "          run = run + 1\n",
        "    elif game_active == 'drawLine': \n",
        "          #L 1 3 4 3 [Line Movement on a given Row] OR #L 2 1 2 4 [Line Movement on a given Column]\n",
        "          ## e.g. L 1 3 4 3 #(x1,x2) = (1,4) & (y1,y2)= (3,3) [On Row 3 draw a line covering 4-1+1 = 4places] = WalkType = AlongRow\n",
        "          x1,y1 = int(commandList[1]), int(commandList[2])\n",
        "          x2,y2 = int(commandList[3]), int(commandList[4])\n",
        "          \n",
        "          if run == 0:\n",
        "              print ('Forgot to Draw the Canvas: DRAWING DEFAULT 20 x 20 Canvas')\n",
        "              Canvas1 = draw.drawEmptyCanvas(20,20)\n",
        "              helper.publish(Canvas1, transdict)\n",
        "              print('Since You Forgot we Assumed C 20 20 and created Default Canvas')\n",
        "              \n",
        "              Canvas1 = draw.drawLine(Canvas1,x1,y1,x2,y2,maskDigit=1) \n",
        "              helper.publish(Canvas1, transdict)\n",
        "              \n",
        "              run = run + 1\n",
        "          \n",
        "          else:  \n",
        "              #Using maskDigit=1 means mask by 1 in 2D array  \n",
        "              Canvas1 = draw.drawLine(Canvas1,x1,y1,x2,y2,maskDigit=1) \n",
        "              helper.publish(Canvas1, transdict)\n",
        "              run = run + 1\n",
        "    \n",
        "    elif game_active == 'drawRectangle':\n",
        "          #R 1 5 6 7[Draw a Rectangle between (1,5) and (6,7)]\n",
        "          ##Essentially it means draw 4 lines i.e [L 1 5 1 7] [L 6 5 6 7] [L 1 5 6 5] [L 1 7 6 7]\n",
        "          x1,y1 = int(commandList[1]), int(commandList[2])\n",
        "          x2,y2 = int(commandList[3]), int(commandList[4])\n",
        "          \n",
        "          if run == 0:\n",
        "             print ('Forgot to Draw the Canvas: DRAWING DEFAULT 20 x 20 Canvas')\n",
        "             Canvas1 = draw.drawEmptyCanvas(20,20)\n",
        "             helper.publish(Canvas1, transdict)\n",
        "             print('Since You Forgot we Assumed C 20 20 and created Default Canvas')\n",
        "             \n",
        "             Canvas1 = draw.drawRect(Canvas1,x1,y1,x2,y2,maskDigit=1)\n",
        "             helper.publish(Canvas1, transdict)\n",
        "\n",
        "             run = run + 1\n",
        "          else:\n",
        "              #Using maskDigit=1 means mask by 1 in 2D array  \n",
        "              Canvas1 = draw.drawRect(Canvas1,x1,y1,x2,y2,maskDigit=1)\n",
        "              helper.publish(Canvas1, transdict)\n",
        "              run = run + 1\n",
        "    \n",
        "    elif game_active == 'fillBucket':\n",
        "          x,y,color = int(commandList[1]), int(commandList[2]), commandList[3]\n",
        "          print('TIME TO PAINT THE BUCKET with color '+ color)\n",
        "          maskDigit = 100 - run\n",
        "    \n",
        "          color_tracker.update({str(maskDigit):color})\n",
        "          print(color_tracker) \n",
        "\n",
        "          targetDigit = Canvas1[x,y]\n",
        "          Canvas1 = draw.fillBucket(Canvas1, x, y, targetDigit, maskDigit)\n",
        "          transdict = helper.updateColor(transdict,color,maskDigit)\n",
        "          helper.publish(Canvas1, transdict)\n",
        "          run = run + 1\n",
        "    else:\n",
        "          print('YOUR INPUT IS INVALID TRY AGAIN OR PRESS Q TO EXIT')\n",
        "          run = run + 1     \n",
        "\n",
        "# Do anything else you want done after the loop runs.\n",
        "print(\"\\nOh no, you decided to QUIT call coins collected = 0! Game Over.\")"
      ],
      "execution_count": 0,
      "outputs": []
    },
    {
      "cell_type": "markdown",
      "metadata": {
        "id": "pFEg0R3nWTwm",
        "colab_type": "text"
      },
      "source": [
        "##Unit Tests"
      ]
    },
    {
      "cell_type": "code",
      "metadata": {
        "id": "HMku64sOWV31",
        "colab_type": "code",
        "colab": {
          "base_uri": "https://localhost:8080/",
          "height": 68
        },
        "outputId": "72dd9e48-7c8f-49ba-9004-8aa6a660219e"
      },
      "source": [
        "import unittest\n",
        "\n",
        "class Expect(unittest.TestCase):\n",
        "\n",
        "\tdef length_of_list_to_be_equal(self,length,inputs):\n",
        "\t\tself.assertEqual(len(inputs), length)\n",
        "\n",
        "\tdef values_to_be_equal(self,a,b):\n",
        "\t\tself.assertEqual(a, b)\n",
        "\n",
        "expect = Expect()\n",
        "\n",
        "print(\"\\nUnit Tests\\n\")\n",
        "\n",
        "\n",
        "def testDrawLine():\n",
        "\tprint(color.BOLD+\"> Should Draw a Line\"+color.END)\n",
        "\tmockLine = drawLine(1,2,6,2) # Mock\n",
        "\texpect.values_to_be_equal(mockLine,[(1, 2), (2, 2), (3, 2), (4, 2), (5, 2), (6, 2)])\n",
        "\n",
        "  "
      ],
      "execution_count": 7,
      "outputs": [
        {
          "output_type": "stream",
          "text": [
            "\n",
            "Unit Tests\n",
            "\n"
          ],
          "name": "stdout"
        }
      ]
    },
    {
      "cell_type": "markdown",
      "metadata": {
        "id": "N6v97tWorurT",
        "colab_type": "text"
      },
      "source": [
        "## Single CodeBase"
      ]
    },
    {
      "cell_type": "code",
      "metadata": {
        "id": "jP0YaUFi4aiB",
        "colab_type": "code",
        "outputId": "5c348455-91b6-47e9-b814-7c1056ab9006",
        "colab": {
          "base_uri": "https://localhost:8080/",
          "height": 153
        }
      },
      "source": [
        "import re\n",
        "import numpy as np\n",
        "\n",
        "# Set an initial condition.\n",
        "game_active = True\n",
        "\n",
        "#define helper functions\n",
        "def drawCanvasCMD(cmdType):\n",
        "        print('Inside drawCanvas' +cmdType)\n",
        "        if cmdType =='C': \n",
        "          return 'drawCanvas'\n",
        "        else:\n",
        "          return 'invalid'  \n",
        "\n",
        "def fillBucketCMD(cmdType):\n",
        "        print('Inside fillBucket' + cmdType)\n",
        "        print(cmdType)\n",
        "        if cmdType =='B':\n",
        "          return 'fillBucket'\n",
        "        else:\n",
        "          return 'Invalid Command' \n",
        "\n",
        "def drawLineOrRectangleCMD(cmdType):\n",
        "        print('Inside drawLineOrRectangleOrfillBucket' + cmdType)\n",
        "        print(cmdType)\n",
        "        if cmdType =='L':\n",
        "          return 'drawLine'\n",
        "        elif cmdType =='R':\n",
        "          return 'drawRectangle'\n",
        "        else:\n",
        "          return 'invalidCMD'  \n",
        "\n",
        "def noCommandOrQuittingCMD(cmdType):\n",
        "        print('Inside noCommandOrQuitting' +cmdType)\n",
        "        if cmdType =='Q':\n",
        "          return 'qCMD'\n",
        "        elif cmdType == ' ':\n",
        "          return 'noCMD'\n",
        "        else:\n",
        "          return 'invalidCMD' \n",
        "\n",
        "def noInputCMD(cmdType):\n",
        "        print('Inside noInput' +cmdType)\n",
        "        if cmdType == '':\n",
        "          return 'Nothing entered'\n",
        "        else:\n",
        "          return 'invalidCMD' \n",
        "\n",
        "def inCompleteCMD(cmdType):\n",
        "        print('Inside inComplete' +cmdType)\n",
        "        return 'No Such Command'\n",
        "\n",
        "\n",
        "def commandValidation(i,cmdType):\n",
        "        switcher={\n",
        "                0:noInputCMD,\n",
        "                1:noCommandOrQuittingCMD,\n",
        "                2:inCompleteCMD,\n",
        "                3:drawCanvasCMD,\n",
        "                4:fillBucketCMD,\n",
        "                5:drawLineOrRectangleCMD,\n",
        "                6:lambda:'anything'\n",
        "                }\n",
        "        func=switcher.get(i,lambda :'Invalid')      \n",
        "        return func(cmdType)\n",
        "\n",
        "def basicHygiene(Canvas,x1,y1,x2,y2):  \n",
        "        \n",
        "         #Boundaries of walking to avoid out of bound errors\n",
        "        canvasWidth = len(Canvas)\n",
        "        #canvasHeight = len(Canvas[0])\n",
        "        Canvas.shape\n",
        "        #print('canvasWidth,canvasHeight=' + str(canvasWidth) + ',' + str(canvasHeight))\n",
        "        \n",
        "        #Extra basic Hygiene for a seamless experience\n",
        "        #Check Canvas is initialized with C x y command if not use default settings 20 x 20\n",
        "        #Incase the User forgets to create a Canvas, the system Auto Generates is at 20x20 size \n",
        "        if (len(Canvas) == 0):\n",
        "            print('Warning: You forgot to create a Canvas BUT we are kind enough to create DEFAULT 20 x 20')\n",
        "            Canvas = drawCanvas(20,20) #Run Constructor\n",
        "        return Canvas \n",
        "\n",
        "\n",
        "def drawLine(Canvas,x1,y1,x2,y2, maskDigit):\n",
        "    Canvas = basicHygiene(Canvas,x1,y1,x2,y2)\n",
        "    ## Write Validation of Canvas.shape and x1,x2,x3,x4 being within bounds\n",
        "    #Check basic Geometry Principles to draw a Line atleast y1 = y2 [Horizontal Line]\n",
        "    if (y1 == y2): \n",
        "        ##Return a new 1D array of given shape and type, filled with ones.\n",
        "        ## Using command  np.ones((x2-x1+1,), dtype=int) \n",
        "        ##Using '1' to draw line i.e x2-x1+1 and hence updating entries for columns on a given row\n",
        "        Canvas[y1, x1:x2+1] = np.ones((x2-x1+1,), dtype=int)*maskDigit ## e.g. Represents [1,1,1,1] if x2-x1+1 = 4\n",
        "    \n",
        "    #Check basic Geometry Principles to draw a Line atleast x1=x2 [Vertical Line]\n",
        "    elif(x1 == x2): \n",
        "        ##Return a new 1D array of given shape and type, filled with ones.\n",
        "        ## Using command  np.ones((y2-y1+1,), dtype=int) \n",
        "        ##Using '1' to draw line i.e y2-y1+1 and hence updating entries for rows on a given column\n",
        "        Canvas[y1:y2+1, x1] = np.ones((y2-y1+1,), dtype=int)*maskDigit  ## e.g. Represents [1,1,1,1] if y2-y1+1 = 4\n",
        "    \n",
        "    #Checking for slope 1 or -1 then diagonal is possible in the give 2-D array geometry\n",
        "    elif((y2-y1)/(x2-x1)== 1 or (y2-y1)/(x2-x1)== -1): \n",
        "         Canvas = drawDiagonal(Canvas,x1,y1,x2,y2,maskDigit=7) \n",
        "    #Since the input command met basic validation criteria, a rectangle has been requested with L command by mistake\n",
        "    else:\n",
        "        print('Drawing a Rectangle with this command is criminal you asked for a line: L but BONUS')\n",
        "        print ('I will auto update the Command by substituting L with R keeping same cooridnates')\n",
        "        print('Command Updation with AutoCorrection to R')\n",
        "        Canvas = drawRect(Canvas,x1,y1,x2,y2,maskDigit=1)\n",
        "    return Canvas\n",
        "\n",
        "##Making Diagonal Line Function\n",
        "\n",
        "def drawDiagonal(Canvas,x1,y1,x2,y2,maskDigit):\n",
        "    print('---Inside drawDiagonal--')\n",
        "    print(x1,y1,x2,y2)\n",
        "    \n",
        "    Canvas = basicHygiene(Canvas,x1,y1,x2,y2)\n",
        "\n",
        "\n",
        "    if y2-y1 == 0 or x2-x1 == 0 or x1*x2 == 0 or y1*y2 == 0:   #implies either denominator or numerator is 0\n",
        "      print('---Inside mn == 0 or md == 0---')\n",
        "      return\n",
        "\n",
        "    print(Canvas)\n",
        "\n",
        "    #Change the digit at Canvas[x][y] to maskDigit \n",
        "    Canvas[x1][y1] = maskDigit\n",
        "    print(Canvas)\n",
        "    \n",
        "    if x2-x1 < 0 and (y2-y1)>0:   #leftup or rightdown i.e Quadrant(-,+)\n",
        "        print('hi1')\n",
        "        drawDiagonal(Canvas,x1-1,y1+1,x2,y2, maskDigit) \n",
        "    if x2-x1 < 0 and (y2-y1)<0:   #rightup or leftdown i.e Quadrant(-,-)\n",
        "        print('hi2')\n",
        "        drawDiagonal(Canvas,x1+1,y1-1,x2,y2, maskDigit)\n",
        "    \n",
        "    if x2-x1 > 0 and (y2-y1)>0:   #rightup or leftdown i.e Quadrant(+,+)\n",
        "        print('hi3')\n",
        "        drawDiagonal(Canvas,x1+1,y1+1,x2,y2, maskDigit) \n",
        "    if x2-x1 > 0 and (y2-y1)<0:   #leftup or rightdown i.e Quadrant(+,-)\n",
        "        print('hi4')\n",
        "        drawDiagonal(Canvas,x1-1,y1-1,x2,y2, maskDigit)         \n",
        "    return Canvas\n",
        "\n",
        "def drawRect(Canvas,x1,y1,x2,y2,maskDigit):\n",
        "    \n",
        "    Canvas = basicHygiene(Canvas,x1,y1,x2,y2)\n",
        "    \n",
        "    drawLine(Canvas,x1,y1,x1,y2,maskDigit) \n",
        "    drawLine(Canvas,x2,y1,x2,y2,maskDigit)\n",
        "    drawLine(Canvas,x1,y1,x2,y1,maskDigit)\n",
        "    drawLine(Canvas,x1,y2,x2,y2,maskDigit)\n",
        "    return Canvas\n",
        "\n",
        "def drawHorizontalPadding(Canvas,x1,y1,x2,y2,maskDigit):\n",
        "    #Horizontal Padding with '-'\n",
        "    drawLine(Canvas,0,0,y2-1,0,maskDigit)\n",
        "    drawLine(Canvas,0,x2-1,y2-1,x2-1,maskDigit)\n",
        "    return Canvas\n",
        "    \n",
        "def drawVerticalPadding(Canvas,x1,y1,x2,y2,maskDigit):\n",
        "    #Vertical Padding with '|'\n",
        "    drawLine(Canvas,0,1,0,x2-2,maskDigit) \n",
        "    drawLine(Canvas,y2-1,1,y2-1,x2-2,maskDigit)\n",
        "    return Canvas    \n",
        "\n",
        "def replace_with_dict(ar, dic):\n",
        "    # Extract out keys and values\n",
        "    k = np.array(list(dic.keys()))\n",
        "    v = np.array(list(dic.values()))\n",
        "\n",
        "    # Get argsort indices\n",
        "    sidx = k.argsort()\n",
        "\n",
        "    # Drop the magic bomb with searchsorted to get the corresponding\n",
        "    # places for a in keys (using sorter since a is not necessarily sorted).\n",
        "    # Then trace it back to original order with indexing into sidx\n",
        "    # Finally index into values for desired output.\n",
        "    return v[sidx[np.searchsorted(k,ar,sorter=sidx)]]\n",
        "\n",
        "def fillBucket(Canvas, x, y, targetDigit, maskDigit):\n",
        "    # Use the Canvas 2D array and check if the oldDigit at x, y needs to be replacesd\n",
        "    # The recursive algorithm. Starting at x and y, changes any adjacent\n",
        "    # digits that match targetDigit and then replace by maskDigit.\n",
        "    canvasWidth = len(Canvas)\n",
        "    canvasHeight = len(Canvas[0])\n",
        "    \n",
        "    if targetDigit == None:\n",
        "        targetDigit = Canvas[x][y]\n",
        "\n",
        "    # Base case. If the current x, y digit is not the targetDigit,\n",
        "    # then do nothing.\n",
        "    if Canvas[x][y] != targetDigit:\n",
        "        return Canvas\n",
        "    \n",
        "    # Change the digit at Canvas[x][y] to newDigit \n",
        "    Canvas[x][y] = maskDigit\n",
        "\n",
        "    # Recursive calls. Make a recursive call as long as we are not on the\n",
        "    # boundary (which would cause an Index Error.)\n",
        "    if x > 0: # left\n",
        "        fillBucket(Canvas, x - 1, y, targetDigit, maskDigit)\n",
        "    if y > 0: # up\n",
        "        fillBucket(Canvas, x, y - 1, targetDigit, maskDigit) \n",
        "    if x < canvasWidth-1: # right\n",
        "        fillBucket(Canvas, x + 1, y, targetDigit, maskDigit)\n",
        "    if y < canvasHeight-1: # down\n",
        "        fillBucket(Canvas, x, y + 1, targetDigit, maskDigit)\n",
        "    return Canvas\n",
        "\n",
        "def publish(Canvas, transdict):\n",
        "    chars_ascii = replace_with_dict(Canvas.astype(str),transdict)\n",
        "    strings_f = chars_ascii.view('U' + str(chars_ascii.shape[1])).flatten()  \n",
        "    return print( \"\\n\".join(strings_f))\n",
        "\n",
        "def updateColor(transdict,color, maskDigit):\n",
        "    ##search for key:7 replace default colour 'o' with new color\n",
        "    print(transdict)\n",
        "    transdict.update({str(maskDigit):color})\n",
        "    print(transdict)\n",
        "    return transdict\n",
        "\n",
        "def drawEmptyCanvas(canvas_w,canvas_h):\n",
        "    row = canvas_w + 2\n",
        "    col = canvas_h + 2\n",
        "    ##Canvas = np.empty([rol,col],dtype=int)\n",
        "    Canvas = np.zeros((row,col),dtype=int).reshape(row,col)\n",
        "    ##drawPadding: i.e '----' and '|' on borders. This is a special case of drawRect with edge cases\n",
        "    ##If user demands 10x16 canvas then 12x18 has be designed to accomodate borders padding\n",
        "    Canvas = drawHorizontalPadding(Canvas,0,0,row,col,maskDigit=8)\n",
        "    Canvas = drawVerticalPadding(Canvas,0,0,row,col,maskDigit=9)\n",
        "    return Canvas\n",
        "\n",
        "\n",
        "##------------Main Program------------\n",
        "# Run count of the game.\n",
        "#First run set default Values | Avoid in successive runs once Canvas is constructed\n",
        "run,game_active = 0, True\n",
        "transdict = {'8': '-', '9' : '|', '1' : 'x','0' : ' ','5' : 'o','7' : '+'} #Translation Dictionary\n",
        "color_tracker,targetDigit = {},0 \n",
        "\n",
        "# Set up the while loop.\n",
        "# At some point, the game ends and game_active will be set to False.\n",
        "# When that happens, the loop will stop executing.\n",
        "while game_active:\n",
        "\n",
        "    # Get some input from the user.\n",
        "    command = input('enter command: ')\n",
        "    # This is the command input taken the user\n",
        "    commandList = (re.split(r'\\s',command)) # Separate string by spaces i.e '\\s' expression\n",
        "    print(commandList) \n",
        "    print(len(commandList))\n",
        "    #Empty string Validation needs to be handled as command=\"\" edge case is giving length = 1\n",
        "    cmdType = commandList[0]\n",
        "    game_active = commandValidation(len(commandList),cmdType)\n",
        "    print('You typed a Valid Command')\n",
        "    \n",
        "    ## START OF MAIN PROGRAM\n",
        "    if game_active == 'drawCanvas' and run == 0:\n",
        "          Canvas1 = drawEmptyCanvas(int(commandList[1]),int(commandList[2]))\n",
        "          publish(Canvas1, transdict)\n",
        "          run = run + 1\n",
        "    elif game_active == 'drawLine': \n",
        "          #L 1 3 4 3 [Line Movement on a given Row] OR #L 2 1 2 4 [Line Movement on a given Column]\n",
        "          ## e.g. L 1 3 4 3 #(x1,x2) = (1,4) & (y1,y2)= (3,3) [On Row 3 draw a line covering 4-1+1 = 4places] = WalkType = AlongRow\n",
        "          x1,y1 = int(commandList[1]), int(commandList[2])\n",
        "          x2,y2 = int(commandList[3]), int(commandList[4])\n",
        "          \n",
        "          if run == 0:\n",
        "              print ('Forgot to Draw the Canvas: DRAWING DEFAULT 20 x 20 Canvas')\n",
        "              Canvas1 = drawEmptyCanvas(20,20)\n",
        "              publish(Canvas1, transdict)\n",
        "              print('Since You Forgot we Assumed C 20 20 and created Default Canvas')\n",
        "              \n",
        "              Canvas1 = drawLine(Canvas1,x1,y1,x2,y2,maskDigit=1) \n",
        "              publish(Canvas1, transdict)\n",
        "              \n",
        "              run = run + 1\n",
        "          \n",
        "          else:  \n",
        "              #Using maskDigit=1 means mask by 1 in 2D array  \n",
        "              Canvas1 = drawLine(Canvas1,x1,y1,x2,y2,maskDigit=1) \n",
        "              publish(Canvas1, transdict)\n",
        "              run = run + 1\n",
        "    \n",
        "    elif game_active == 'drawRectangle':\n",
        "          #R 1 5 6 7[Draw a Rectangle between (1,5) and (6,7)]\n",
        "          ##Essentially it means draw 4 lines i.e [L 1 5 1 7] [L 6 5 6 7] [L 1 5 6 5] [L 1 7 6 7]\n",
        "          x1,y1 = int(commandList[1]), int(commandList[2])\n",
        "          x2,y2 = int(commandList[3]), int(commandList[4])\n",
        "          \n",
        "          if run == 0:\n",
        "             print ('Forgot to Draw the Canvas: DRAWING DEFAULT 20 x 20 Canvas')\n",
        "             Canvas1 = drawEmptyCanvas(20,20)\n",
        "             publish(Canvas1, transdict)\n",
        "             print('Since You Forgot we Assumed C 20 20 and created Default Canvas')\n",
        "             \n",
        "             Canvas1 = drawRect(Canvas1,x1,y1,x2,y2,maskDigit=1)\n",
        "             publish(Canvas1, transdict)\n",
        "\n",
        "             run = run + 1\n",
        "          else:\n",
        "              #Using maskDigit=1 means mask by 1 in 2D array  \n",
        "              Canvas1 = drawRect(Canvas1,x1,y1,x2,y2,maskDigit=1)\n",
        "              publish(Canvas1, transdict)\n",
        "              run = run + 1\n",
        "    elif game_active == 'fillBucket':\n",
        "          x,y,color = int(commandList[1]), int(commandList[2]), commandList[3]\n",
        "          print('TIME TO PAINT THE BUCKET with color '+ color)\n",
        "          maskDigit = 100 - run\n",
        "    \n",
        "          color_tracker.update({str(maskDigit):color})\n",
        "          print(color_tracker) \n",
        "\n",
        "          targetDigit = Canvas1[x,y]\n",
        "          Canvas1 = fillBucket(Canvas1, x, y, targetDigit, maskDigit)\n",
        "          transdict = updateColor(transdict,color,maskDigit)\n",
        "          publish(Canvas1, transdict)\n",
        "          run = run + 1\n",
        "    elif game_active == 'qCMD' : \n",
        "         print('Preparing to Quit the Game')\n",
        "         game_active = False \n",
        "    else:\n",
        "          print('YOUR INPUT IS INVALID TRY AGAIN OR PRESS Q TO EXIT')\n",
        "          run = run + 1     \n",
        "\n",
        "# Do anything else you want done after the loop runs.\n",
        "print(\"\\nOh no, you decided to QUIT call coins collected = 0! Game Over.\")"
      ],
      "execution_count": 1,
      "outputs": [
        {
          "output_type": "stream",
          "text": [
            "enter command: Q\n",
            "['Q']\n",
            "1\n",
            "Inside noCommandOrQuittingQ\n",
            "You typed a Valid Command\n",
            "Preparing to Quit the Game\n",
            "\n",
            "Oh no, you decided to QUIT call coins collected = 0! Game Over.\n"
          ],
          "name": "stdout"
        }
      ]
    },
    {
      "cell_type": "markdown",
      "metadata": {
        "id": "_7jc3uLQRavh",
        "colab_type": "text"
      },
      "source": [
        "## UnitTests"
      ]
    },
    {
      "cell_type": "code",
      "metadata": {
        "id": "hhw9cxmdRVBg",
        "colab_type": "code",
        "colab": {
          "base_uri": "https://localhost:8080/",
          "height": 153
        },
        "outputId": "262c7cf4-bbc6-4c5a-9141-ef36b18c2b7f"
      },
      "source": [
        "import unittest\t\n",
        "import numpy as np\n",
        "\n",
        "class TestDrawings(unittest.TestCase):\n",
        "      def __init__(self):\n",
        "        self.w, self.h= 6,6\n",
        "        \n",
        "        # Empty Array\n",
        "        self.arrZ = np.zeros((self.w,self.h), dtype=int).reshape(self.w,self.h)\n",
        "        \n",
        "        # Hypoethical: Output HORIZONTAL Drawing \n",
        "        self.arrH = np.zeros((self.w,self.h), dtype=int).reshape(self.w,self.h)\n",
        "        self.arrH[1,1:5] = [1,1,1,1]\n",
        "        ##print(self.arrH)\n",
        "\n",
        "        # Hypoethical: Output VERTICAL Drawing \n",
        "        self.arrV= np.zeros((self.w,self.h), dtype=int).reshape(self.w,self.h)\n",
        "        self.arrV[1:5,1] = [1,1,1,1]\n",
        "        ##print(self.arrV)\n",
        "\n",
        "        #Hyptothetical: Diagonal Drawing\n",
        "        self.arrD= np.zeros((self.w,self.h), dtype=int).reshape(self.w,self.h)\n",
        "        self.arrD[1,1] = 1\n",
        "        self.arrD[2,2] = 1\n",
        "        self.arrD[3,3] = 1\n",
        "        self.arrD[4,4] = 1\n",
        "        ##print(self.arrD)\n",
        "\n",
        "        #Hyptothetical: Rectangle Drawing\n",
        "        self.arrR= np.zeros((self.w,self.h), dtype=int).reshape(self.w,self.h)\n",
        "        self.arrR[1,1:5] = [1,1,1,1]\n",
        "        self.arrR[1:5,1] = [1,1,1,1]\n",
        "        self.arrR[1:5,4] = [1,1,1,1]\n",
        "        self.arrR[4,1:5] = [1,1,1,1]\n",
        "        ##print(self.arrR)\n",
        "      \n",
        "      def test_drawLine(self,x1,y1,x2,y2,maskDigit=1):\n",
        "        try:\n",
        "           if(y1==y2):\n",
        "              print('DrawLine-Horizontal Test')\n",
        "              np.testing.assert_array_equal(drawLine(self.arrZ,x1,y1,x2,y2,maskDigit=1), self.arrH)\n",
        "              res = True\n",
        "           elif(x1==x2):\n",
        "              print('DrawLine-Vertical Test')\n",
        "              np.testing.assert_array_equal(drawLine(self.arrZ,x1,y1,x2,y2,maskDigit=1), self.arrV)\n",
        "              res = True\n",
        "           else:\n",
        "              print('Not arrH or arrV')  \n",
        "           res = True\n",
        "        except AssertionError as err:\n",
        "            print ('\\n-----Failed Test: DrawLine-Horizontal/Vertical----')\n",
        "            res = False\n",
        "            print(err)\n",
        "        return res\n",
        "        \n",
        "\n",
        "      def test_drawDiagonal(self,x1,y1,x2,y2,maskDigit=7):\n",
        "          try:\n",
        "              if(x1==x2 and y1==y2):\n",
        "                  print('DrawLine-Diagonal Test')\n",
        "                  np.testing.assert_array_equal(drawDiagonal(self.arrZ,x1,y1,x2,y2,maskDigit), self.arrD)\n",
        "                  res = True\n",
        "              else:\n",
        "                  print('Not Diagonal Inputs')  \n",
        "                  res = True\n",
        "          except AssertionError as err:\n",
        "              print ('\\n-----Failed Test: DrawLine-Diagonal----')\n",
        "              res = False\n",
        "              print(err)\n",
        "          return res\n",
        "        \n",
        "      def test_drawRect(self,x1,y1,x2,y2,maskDigit=7):\n",
        "          try:\n",
        "              if(x1!=x2 and y1!=y2):\n",
        "                print('DrawRectangle Test')\n",
        "                np.testing.assert_array_equal(drawRect(self.arrZ,x1,y1,x2,y2,maskDigit), self.arrR)\n",
        "                res = True\n",
        "              else:\n",
        "                print('Not Rectangle Inputs')  \n",
        "                res = True\n",
        "          except AssertionError as err:\n",
        "            print ('\\n-----Failed Test: DrawRectangle----')\n",
        "            res = False\n",
        "            print(err)\n",
        "          return res\n",
        "        \n",
        "\n",
        "test1 = TestDrawings() \n",
        "print('DrawLine-Horizontal test passed ? = '+ str(test1.test_drawLine(1,1,4,1,maskDigit=1))) \n",
        "test2 = TestDrawings() \n",
        "print('DrawLine-Vertical test passed ? = '+ str(test2.test_drawLine(1,1,1,4,maskDigit=1)))\n",
        "test3 = TestDrawings() \n",
        "print('DrawLine-Diagonal test passed ? = '+ str(test3.test_drawDiagonal(1,1,4,4,maskDigit=7)))\n",
        "test4 = TestDrawings() \n",
        "print('DrawRectangle test passed ? = '+ str(test4.test_drawRect(1,1,4,4,maskDigit=1)) )\n",
        "\n"
      ],
      "execution_count": 13,
      "outputs": [
        {
          "output_type": "stream",
          "text": [
            "DrawLine-Horizontal Test\n",
            "DrawLine-Horizontal test passed ? = True\n",
            "DrawLine-Vertical Test\n",
            "DrawLine-Vertical test passed ? = True\n",
            "Not Diagonal Inputs\n",
            "DrawLine-Diagonal test passed ? = True\n",
            "DrawRectangle Test\n",
            "DrawRectangle test passed ? = True\n"
          ],
          "name": "stdout"
        }
      ]
    },
    {
      "cell_type": "markdown",
      "metadata": {
        "id": "sLj1CKcp2hOQ",
        "colab_type": "text"
      },
      "source": [
        "#Phase0: Fun Examples"
      ]
    },
    {
      "cell_type": "markdown",
      "metadata": {
        "id": "_Qv1hLLVJmeM",
        "colab_type": "text"
      },
      "source": [
        "## Ex1: SEXY Char to Pixel: Numpy"
      ]
    },
    {
      "cell_type": "code",
      "metadata": {
        "id": "Pw9OUqBGKs7Q",
        "colab_type": "code",
        "outputId": "b200a925-fcc9-4f90-fe93-85b1595d7ddc",
        "colab": {
          "base_uri": "https://localhost:8080/",
          "height": 799
        }
      },
      "source": [
        "from PIL import Image\n",
        "from PIL import ImageFont\n",
        "from PIL import ImageDraw\n",
        "import numpy as np\n",
        "\n",
        "text = \"SEXY\"\n",
        "path = '/usr/share/fonts/truetype/liberation/LiberationSerif-Bold.ttf'\n",
        "font = ImageFont.truetype(path, 12)\n",
        "\n",
        "size = font.getsize(text)\n",
        "img = Image.new(\"1\",size,\"black\")\n",
        "draw = ImageDraw.Draw(img)\n",
        "print(draw)\n",
        "draw.text((0, 0), text, \"white\", font)\n",
        "print(img)\n",
        "pixels = np.array(img, dtype=np.uint8)\n",
        "'''numerical data arranged in an array-like structure in Python can \n",
        "be converted to arrays through the use of the array() function. \n",
        "The most obvious examples are lists and tuples'''\n",
        "print(pixels)\n",
        "chars = np.array([' ','#'], dtype=\"U1\")[pixels]\n",
        "print(chars)\n",
        "'''VIEW: If you update elements of original array the view(snapshot also\n",
        "    gets automatically updated'''\n",
        "\n",
        "strings = chars.view('U' + str(chars.shape[1])).flatten()\n",
        "\n",
        "\n",
        "''' https://docs.scipy.org/doc/numpy/reference/generated/numpy.ndarray.flatten.html\n",
        "Flatten the View i.e A copy of the input array, flattened to one dimension\n",
        "'''\n",
        "\n",
        "print( \"\\n\".join(strings))"
      ],
      "execution_count": 0,
      "outputs": [
        {
          "output_type": "stream",
          "text": [
            "<PIL.ImageDraw.ImageDraw object at 0x7f2902d5f5f8>\n",
            "<PIL.Image.Image image mode=1 size=33x11 at 0x7F2901DBE320>\n",
            "[[0 0 0 0 0 0 0 0 0 0 0 0 0 0 0 0 0 0 0 0 0 0 0 0 0 0 0 0 0 0 0 0 0]\n",
            " [0 0 0 0 0 0 0 0 0 0 0 0 0 0 0 0 0 0 0 0 0 0 0 0 0 0 0 0 0 0 0 0 0]\n",
            " [0 0 1 1 1 1 1 0 1 1 1 1 1 1 0 1 1 1 1 0 1 1 1 1 1 1 1 0 1 1 1 0 0]\n",
            " [0 1 1 0 0 0 1 0 0 1 1 0 0 1 0 0 1 1 0 0 0 1 0 0 1 1 0 0 0 1 0 0 0]\n",
            " [0 1 1 0 0 0 0 0 0 1 1 0 0 0 0 0 0 1 1 0 1 0 0 0 0 1 1 0 1 0 0 0 0]\n",
            " [0 1 1 1 0 0 0 0 0 1 1 0 1 0 0 0 0 1 1 1 0 0 0 0 0 1 1 0 1 0 0 0 0]\n",
            " [0 0 1 1 1 1 0 0 0 1 1 1 1 0 0 0 0 0 1 1 0 0 0 0 0 0 1 1 0 0 0 0 0]\n",
            " [0 0 0 0 1 1 1 0 0 1 1 0 1 0 0 0 0 0 1 1 1 0 0 0 0 0 1 1 0 0 0 0 0]\n",
            " [0 0 0 0 0 1 1 0 0 1 1 0 0 0 0 0 0 1 0 1 1 0 0 0 0 0 1 1 0 0 0 0 0]\n",
            " [0 1 0 0 0 1 1 0 0 1 1 0 0 1 0 0 1 0 0 0 1 1 0 0 0 0 1 1 0 0 0 0 0]\n",
            " [0 1 1 1 1 1 0 0 1 1 1 1 1 1 0 1 1 1 0 1 1 1 1 0 0 1 1 1 1 0 0 0 0]]\n",
            "[[' ' ' ' ' ' ' ' ' ' ' ' ' ' ' ' ' ' ' ' ' ' ' ' ' ' ' ' ' ' ' ' ' ' ' '\n",
            "  ' ' ' ' ' ' ' ' ' ' ' ' ' ' ' ' ' ' ' ' ' ' ' ' ' ' ' ' ' ']\n",
            " [' ' ' ' ' ' ' ' ' ' ' ' ' ' ' ' ' ' ' ' ' ' ' ' ' ' ' ' ' ' ' ' ' ' ' '\n",
            "  ' ' ' ' ' ' ' ' ' ' ' ' ' ' ' ' ' ' ' ' ' ' ' ' ' ' ' ' ' ']\n",
            " [' ' ' ' '#' '#' '#' '#' '#' ' ' '#' '#' '#' '#' '#' '#' ' ' '#' '#' '#'\n",
            "  '#' ' ' '#' '#' '#' '#' '#' '#' '#' ' ' '#' '#' '#' ' ' ' ']\n",
            " [' ' '#' '#' ' ' ' ' ' ' '#' ' ' ' ' '#' '#' ' ' ' ' '#' ' ' ' ' '#' '#'\n",
            "  ' ' ' ' ' ' '#' ' ' ' ' '#' '#' ' ' ' ' ' ' '#' ' ' ' ' ' ']\n",
            " [' ' '#' '#' ' ' ' ' ' ' ' ' ' ' ' ' '#' '#' ' ' ' ' ' ' ' ' ' ' ' ' '#'\n",
            "  '#' ' ' '#' ' ' ' ' ' ' ' ' '#' '#' ' ' '#' ' ' ' ' ' ' ' ']\n",
            " [' ' '#' '#' '#' ' ' ' ' ' ' ' ' ' ' '#' '#' ' ' '#' ' ' ' ' ' ' ' ' '#'\n",
            "  '#' '#' ' ' ' ' ' ' ' ' ' ' '#' '#' ' ' '#' ' ' ' ' ' ' ' ']\n",
            " [' ' ' ' '#' '#' '#' '#' ' ' ' ' ' ' '#' '#' '#' '#' ' ' ' ' ' ' ' ' ' '\n",
            "  '#' '#' ' ' ' ' ' ' ' ' ' ' ' ' '#' '#' ' ' ' ' ' ' ' ' ' ']\n",
            " [' ' ' ' ' ' ' ' '#' '#' '#' ' ' ' ' '#' '#' ' ' '#' ' ' ' ' ' ' ' ' ' '\n",
            "  '#' '#' '#' ' ' ' ' ' ' ' ' ' ' '#' '#' ' ' ' ' ' ' ' ' ' ']\n",
            " [' ' ' ' ' ' ' ' ' ' '#' '#' ' ' ' ' '#' '#' ' ' ' ' ' ' ' ' ' ' ' ' '#'\n",
            "  ' ' '#' '#' ' ' ' ' ' ' ' ' ' ' '#' '#' ' ' ' ' ' ' ' ' ' ']\n",
            " [' ' '#' ' ' ' ' ' ' '#' '#' ' ' ' ' '#' '#' ' ' ' ' '#' ' ' ' ' '#' ' '\n",
            "  ' ' ' ' '#' '#' ' ' ' ' ' ' ' ' '#' '#' ' ' ' ' ' ' ' ' ' ']\n",
            " [' ' '#' '#' '#' '#' '#' ' ' ' ' '#' '#' '#' '#' '#' '#' ' ' '#' '#' '#'\n",
            "  ' ' '#' '#' '#' '#' ' ' ' ' '#' '#' '#' '#' ' ' ' ' ' ' ' ']]\n",
            "                                 \n",
            "                                 \n",
            "  ##### ###### #### ####### ###  \n",
            " ##   #  ##  #  ##   #  ##   #   \n",
            " ##      ##      ## #    ## #    \n",
            " ###     ## #    ###     ## #    \n",
            "  ####   ####     ##      ##     \n",
            "    ###  ## #     ###     ##     \n",
            "     ##  ##      # ##     ##     \n",
            " #   ##  ##  #  #   ##    ##     \n",
            " #####  ###### ### ####  ####    \n"
          ],
          "name": "stdout"
        }
      ]
    },
    {
      "cell_type": "markdown",
      "metadata": {
        "id": "P0Dw8ISwKEE_",
        "colab_type": "text"
      },
      "source": [
        "## Ex2: A-Z Char to Pixel: Numpy\n"
      ]
    },
    {
      "cell_type": "code",
      "metadata": {
        "id": "P4ndLz4VKFAW",
        "colab_type": "code",
        "colab": {}
      },
      "source": [
        "from __future__ import print_function\n",
        "import string\n",
        "from PIL import Image\n",
        "from PIL import ImageFont\n",
        "from PIL import ImageDraw\n",
        "import numpy as np\n",
        "\n",
        "def char_to_pixels(text, path='arialbd.ttf', fontsize=14):\n",
        "    \"\"\"\n",
        "    Based on https://stackoverflow.com/a/27753869/190597 (jsheperd)\n",
        "    \"\"\"\n",
        "    font = ImageFont.truetype(path, fontsize) #load the font\n",
        "    w, h = font.getsize(text)  #calc the size of text in pixels\n",
        "    h *= 2 \n",
        "    image = Image.new('L', (w, h), 1)  #create a b/w image\n",
        "    draw = ImageDraw.Draw(image)\n",
        "    draw.text((0, 0), text, font=font) #render the text to the bitmap\n",
        "    arr = np.asarray(image)\n",
        "    arr = np.where(arr, 0, 1)\n",
        "    arr = arr[(arr != 0).any(axis=1)]\n",
        "    return arr\n",
        "\n",
        "def display(arr):\n",
        "    result = np.where(arr, '#', ' ')\n",
        "    print('\\n'.join([''.join(row) for row in result]))\n",
        "\n",
        "for c in string.ascii_uppercase:\n",
        "    arr = char_to_pixels(\n",
        "        c, \n",
        "        path='/usr/share/fonts/truetype/liberation/LiberationSerif-Bold.ttf', \n",
        "        fontsize=9)\n",
        "    print(arr.shape)\n",
        "    display(arr)\n",
        "    print()"
      ],
      "execution_count": 0,
      "outputs": []
    },
    {
      "cell_type": "markdown",
      "metadata": {
        "id": "2ss8SfEAKb5-",
        "colab_type": "text"
      },
      "source": [
        "##Ex3: Printing Boundaries ['-', '|', '@']\n",
        "Will also have to increases the size of Canvas by order of two both for the width and the height\n"
      ]
    },
    {
      "cell_type": "code",
      "metadata": {
        "id": "Gf6dYjNLKn7S",
        "colab_type": "code",
        "outputId": "35c9a582-0d4f-4365-f057-c3781aa0b384",
        "colab": {
          "base_uri": "https://localhost:8080/",
          "height": 510
        }
      },
      "source": [
        "loop = [1,2,3,]\n",
        "\n",
        "print('-'*10)\n",
        "print('|'*5)\n",
        "print('@'*3)\n",
        "\n",
        "for i in loop:\n",
        "    print('-') \n",
        "\n",
        "for i in loop:\n",
        "    print('|') \n",
        "\n",
        "canvas_w = [1,2,3]\n",
        "canvas_h = [1,2,3,4,5]\n",
        "''' Determining the Position in 2-D matrix e.g. 3,5 '''\n",
        "\n",
        "for x in canvas_h: \n",
        "    print('@')\n",
        "    for y in canvas_w:\n",
        "      print('@'*y)"
      ],
      "execution_count": 0,
      "outputs": [
        {
          "output_type": "stream",
          "text": [
            "----------\n",
            "|||||\n",
            "@@@\n",
            "-\n",
            "-\n",
            "-\n",
            "|\n",
            "|\n",
            "|\n",
            "@\n",
            "@\n",
            "@@\n",
            "@@@\n",
            "@\n",
            "@\n",
            "@@\n",
            "@@@\n",
            "@\n",
            "@\n",
            "@@\n",
            "@@@\n",
            "@\n",
            "@\n",
            "@@\n",
            "@@@\n",
            "@\n",
            "@\n",
            "@@\n",
            "@@@\n"
          ],
          "name": "stdout"
        }
      ]
    },
    {
      "cell_type": "markdown",
      "metadata": {
        "id": "MMzxeqsBLCq-",
        "colab_type": "text"
      },
      "source": [
        "##Ex4: Slicing 2D Array Example"
      ]
    },
    {
      "cell_type": "code",
      "metadata": {
        "id": "jKwlWntELBg8",
        "colab_type": "code",
        "colab": {}
      },
      "source": [
        "import numpy as np\n",
        "X = np.array([[135,30],[35,40],[75,40]])\n",
        "print(X)\n",
        "print('Prin------')\n",
        "Y= X[0,0:2]\n",
        "print(Y)\n",
        "print('------')\n",
        "Z = X[0:2,0]\n",
        "print(Z)"
      ],
      "execution_count": 0,
      "outputs": []
    },
    {
      "cell_type": "markdown",
      "metadata": {
        "id": "4PYwI0-4LUDx",
        "colab_type": "text"
      },
      "source": [
        "##Ex5: Pattern Matching using RegEx"
      ]
    },
    {
      "cell_type": "code",
      "metadata": {
        "id": "FgjTT38jJwX5",
        "colab_type": "code",
        "outputId": "547231a2-e156-4b7c-deab-13449c5a0416",
        "colab": {
          "base_uri": "https://localhost:8080/",
          "height": 102
        }
      },
      "source": [
        "import re\n",
        "\n",
        "list = [\"guru99 get\", \"guru99 give\", \"guru Selenium\"]\n",
        "for element in list:\n",
        "    z = re.match(\"(g\\w+)\\W(g\\w+)\", element)\n",
        "if z:\n",
        "    print((z.groups()))\n",
        "    \n",
        "patterns = ['software testing', 'guru99']\n",
        "text = 'software testing is fun?'\n",
        "for pattern in patterns:\n",
        "    print('Looking for \"%s\" in \"%s\" ->' % (pattern, text), end=' ')\n",
        "    if re.search(pattern, text):\n",
        "        print('found a match!')\n",
        "else:\n",
        "    print('no match')\n",
        "abc = 'guru99@google.com, careerguru99@hotmail.com, users@yahoomail.com'\n",
        "emails = re.findall(r'[\\w\\.-]+@[\\w\\.-]+', abc)\n",
        "for email in emails:\n",
        "    print(email)"
      ],
      "execution_count": 0,
      "outputs": [
        {
          "output_type": "stream",
          "text": [
            "Looking for \"software testing\" in \"software testing is fun?\" -> found a match!\n",
            "Looking for \"guru99\" in \"software testing is fun?\" -> no match\n",
            "guru99@google.com\n",
            "careerguru99@hotmail.com\n",
            "users@yahoomail.com\n"
          ],
          "name": "stdout"
        }
      ]
    },
    {
      "cell_type": "markdown",
      "metadata": {
        "id": "v69sof84LqKo",
        "colab_type": "text"
      },
      "source": [
        "Ex5:## FUNNNNN.... :Text to ASCII Art"
      ]
    },
    {
      "cell_type": "code",
      "metadata": {
        "id": "v-hegqGzLqtL",
        "colab_type": "code",
        "outputId": "404f3f95-7f16-4fff-fead-1c691421a946",
        "colab": {
          "base_uri": "https://localhost:8080/",
          "height": 153
        }
      },
      "source": [
        "!pip install pyfiglet\n",
        "import pyfiglet\n",
        "ascii_banner = pyfiglet.figlet_format(\"FUNNNNN....!!\")\n",
        "print(ascii_banner)"
      ],
      "execution_count": 0,
      "outputs": [
        {
          "output_type": "stream",
          "text": [
            "Requirement already satisfied: pyfiglet in /usr/local/lib/python3.6/dist-packages (0.8.post1)\n",
            " _____ _   _ _   _ _   _ _   _ _   _ _   _         _ _ \n",
            "|  ___| | | | \\ | | \\ | | \\ | | \\ | | \\ | |       | | |\n",
            "| |_  | | | |  \\| |  \\| |  \\| |  \\| |  \\| |       | | |\n",
            "|  _| | |_| | |\\  | |\\  | |\\  | |\\  | |\\  |_ _ _ _|_|_|\n",
            "|_|    \\___/|_| \\_|_| \\_|_| \\_|_| \\_|_| \\_(_|_|_|_|_|_)\n",
            "                                                       \n",
            "\n"
          ],
          "name": "stdout"
        }
      ]
    },
    {
      "cell_type": "markdown",
      "metadata": {
        "id": "7O64nfZqLz1B",
        "colab_type": "text"
      },
      "source": [
        "##Ex6: FUNNNN...Turtle graphics for Tk \n",
        "https://docs.python.org/2/library/turtle.html"
      ]
    },
    {
      "cell_type": "markdown",
      "metadata": {
        "id": "k-LYVCxdMuyv",
        "colab_type": "text"
      },
      "source": [
        "### Turtle 1st Ride"
      ]
    },
    {
      "cell_type": "code",
      "metadata": {
        "id": "bXHfef3KMJzs",
        "colab_type": "code",
        "outputId": "f53b03e8-dfbb-4aa6-e021-57d9106c243a",
        "colab": {
          "base_uri": "https://localhost:8080/",
          "height": 711
        }
      },
      "source": [
        "## Turtle for Google Colab notebooks Installation for Google Colab\n",
        "!pip3 install ColabTurtle\n",
        "from ColabTurtle.Turtle import *\n",
        "\n",
        "# Make a Square   \n",
        "initializeTurtle(initial_speed=2)\n",
        "bgcolor('white')\n",
        "color('green')\n",
        "\n",
        "width (30)\n",
        "forward(100)\n",
        "right(90)\n",
        "forward(100)\n",
        "right(90)\n",
        "forward(100)\n",
        "right(90)\n",
        "forward(100)\n",
        "right(90)\n",
        "\n",
        "width (15)\n",
        "setx (20)\n",
        "sety(40)\n",
        "goto(200,100)\n",
        "\n",
        "right(90)\n",
        "forward(50)\n",
        "left(90)\n",
        "forward(50)\n",
        "hideturtle()\n",
        "showturtle()"
      ],
      "execution_count": 0,
      "outputs": [
        {
          "output_type": "stream",
          "text": [
            "ERROR! Session/line number was not unique in database. History logging moved to new session 59\n",
            "Collecting ColabTurtle\n",
            "  Downloading https://files.pythonhosted.org/packages/49/01/6da7091c2c6c917cce99c000b89acb6aa27b66ef6eafc0c0ccf59b98694f/ColabTurtle-2.0.0.tar.gz\n",
            "Building wheels for collected packages: ColabTurtle\n",
            "  Building wheel for ColabTurtle (setup.py) ... \u001b[?25l\u001b[?25hdone\n",
            "  Created wheel for ColabTurtle: filename=ColabTurtle-2.0.0-cp36-none-any.whl size=4033 sha256=28a3289965cce969b3923f24ef0a0f42cfd01248261d69b7df8b2c44704b1f98\n",
            "  Stored in directory: /root/.cache/pip/wheels/a8/29/ec/ad346f0042ae467cc74f4378916348faf975b07890651dcae7\n",
            "Successfully built ColabTurtle\n",
            "Installing collected packages: ColabTurtle\n",
            "Successfully installed ColabTurtle-2.0.0\n"
          ],
          "name": "stdout"
        },
        {
          "output_type": "display_data",
          "data": {
            "text/html": [
              "\n",
              "      <svg width=\"800\" height=\"500\">\n",
              "        <rect width=\"100%\" height=\"100%\" fill=\"white\"/>\n",
              "        <line x1=\"400\" y1=\"250\" x2=\"400.0\" y2=\"150.0\" stroke-linecap=\"round\" style=\"stroke:green;stroke-width:30\"/><line x1=\"400.0\" y1=\"150.0\" x2=\"500.0\" y2=\"150.0\" stroke-linecap=\"round\" style=\"stroke:green;stroke-width:30\"/><line x1=\"500.0\" y1=\"150.0\" x2=\"500.0\" y2=\"250.0\" stroke-linecap=\"round\" style=\"stroke:green;stroke-width:30\"/><line x1=\"500.0\" y1=\"250.0\" x2=\"400.0\" y2=\"250.0\" stroke-linecap=\"round\" style=\"stroke:green;stroke-width:30\"/><line x1=\"400.0\" y1=\"250.0\" x2=\"20\" y2=\"250.0\" stroke-linecap=\"round\" style=\"stroke:green;stroke-width:15\"/><line x1=\"20\" y1=\"250.0\" x2=\"20\" y2=\"40\" stroke-linecap=\"round\" style=\"stroke:green;stroke-width:15\"/><line x1=\"20\" y1=\"40\" x2=\"200\" y2=\"100\" stroke-linecap=\"round\" style=\"stroke:green;stroke-width:15\"/><line x1=\"200\" y1=\"100\" x2=\"250.0\" y2=\"100.0\" stroke-linecap=\"round\" style=\"stroke:green;stroke-width:15\"/><line x1=\"250.0\" y1=\"100.0\" x2=\"250.0\" y2=\"50.0\" stroke-linecap=\"round\" style=\"stroke:green;stroke-width:15\"/>\n",
              "        \n",
              "      <g visibility=visible transform=\"rotate(180,250.0,50.0) translate(250.0, 50.0)\">\n",
              "        <circle stroke=\"green\" stroke-width=\"3\" fill=\"transparent\" r=\"12\" cx=\"0\" cy=\"0\"/>\n",
              "        <polygon points=\"0,19 3,16 -3,16\" style=\"fill:green;stroke:green;stroke-width:2\"/>\n",
              "      </g>\n",
              "    \n",
              "      </svg>\n",
              "    "
            ],
            "text/plain": [
              "<IPython.core.display.HTML object>"
            ]
          },
          "metadata": {
            "tags": []
          }
        }
      ]
    },
    {
      "cell_type": "markdown",
      "metadata": {
        "id": "Ri411PxsMqIh",
        "colab_type": "text"
      },
      "source": [
        "### Turtle complex shape"
      ]
    },
    {
      "cell_type": "code",
      "metadata": {
        "id": "titSG7BWMr_8",
        "colab_type": "code",
        "outputId": "8737d70c-d8f7-4522-d1f8-991cb6bbb741",
        "colab": {
          "base_uri": "https://localhost:8080/",
          "height": 521
        }
      },
      "source": [
        "## Turtle for Google Colab notebooks Installation for Google Colab\n",
        "!pip3 install ColabTurtle\n",
        "from ColabTurtle.Turtle import *\n",
        "\n",
        "# Draw a Complex Shape \n",
        "initializeTurtle(initial_speed=10)\n",
        "color('orange')\n",
        "bgcolor('white')\n",
        "width(1)\n",
        "for i in range(36):\n",
        "    forward(200)\n",
        "    left(170)"
      ],
      "execution_count": 0,
      "outputs": [
        {
          "output_type": "display_data",
          "data": {
            "text/html": [
              "\n",
              "      <svg width=\"800\" height=\"500\">\n",
              "        <rect width=\"100%\" height=\"100%\" fill=\"white\"/>\n",
              "        <line x1=\"400\" y1=\"250\" x2=\"399.99999999999994\" y2=\"50.0\" stroke-linecap=\"round\" style=\"stroke:orange;stroke-width:1\"/><line x1=\"399.99999999999994\" y1=\"50.0\" x2=\"365.2703644666139\" y2=\"246.9615506024416\" stroke-linecap=\"round\" style=\"stroke:orange;stroke-width:1\"/><line x1=\"365.2703644666139\" y1=\"246.9615506024416\" x2=\"433.6743931317477\" y2=\"59.023026445259944\" stroke-linecap=\"round\" style=\"stroke:orange;stroke-width:1\"/><line x1=\"433.6743931317477\" y1=\"59.023026445259944\" x2=\"333.67439313174776\" y2=\"232.2281072021477\" stroke-linecap=\"round\" style=\"stroke:orange;stroke-width:1\"/><line x1=\"333.67439313174776\" y1=\"232.2281072021477\" x2=\"462.2319150690556\" y2=\"79.01921857835208\" stroke-linecap=\"round\" style=\"stroke:orange;stroke-width:1\"/><line x1=\"462.2319150690556\" y1=\"79.01921857835208\" x2=\"309.02302644526003\" y2=\"207.57674051565996\" stroke-linecap=\"round\" style=\"stroke:orange;stroke-width:1\"/><line x1=\"309.02302644526003\" y1=\"207.57674051565996\" x2=\"482.2281072021477\" y2=\"107.57674051565988\" stroke-linecap=\"round\" style=\"stroke:orange;stroke-width:1\"/><line x1=\"482.2281072021477\" y1=\"107.57674051565988\" x2=\"294.2895830449661\" y2=\"175.98076918079366\" stroke-linecap=\"round\" style=\"stroke:orange;stroke-width:1\"/><line x1=\"294.2895830449661\" y1=\"175.98076918079366\" x2=\"491.2511336474077\" y2=\"141.25113364740758\" stroke-linecap=\"round\" style=\"stroke:orange;stroke-width:1\"/><line x1=\"491.2511336474077\" y1=\"141.25113364740758\" x2=\"291.2511336474077\" y2=\"141.2511336474076\" stroke-linecap=\"round\" style=\"stroke:orange;stroke-width:1\"/><line x1=\"291.2511336474077\" y1=\"141.2511336474076\" x2=\"488.2126842498493\" y2=\"175.9807691807937\" stroke-linecap=\"round\" style=\"stroke:orange;stroke-width:1\"/><line x1=\"488.2126842498493\" y1=\"175.9807691807937\" x2=\"300.2741600926676\" y2=\"107.57674051565995\" stroke-linecap=\"round\" style=\"stroke:orange;stroke-width:1\"/><line x1=\"300.2741600926676\" y1=\"107.57674051565995\" x2=\"473.47924084955537\" y2=\"207.57674051565994\" stroke-linecap=\"round\" style=\"stroke:orange;stroke-width:1\"/><line x1=\"473.47924084955537\" y1=\"207.57674051565994\" x2=\"320.2703522257598\" y2=\"79.01921857835208\" stroke-linecap=\"round\" style=\"stroke:orange;stroke-width:1\"/><line x1=\"320.2703522257598\" y1=\"79.01921857835208\" x2=\"448.8278741630677\" y2=\"232.2281072021477\" stroke-linecap=\"round\" style=\"stroke:orange;stroke-width:1\"/><line x1=\"448.8278741630677\" y1=\"232.2281072021477\" x2=\"348.8278741630676\" y2=\"59.02302644526003\" stroke-linecap=\"round\" style=\"stroke:orange;stroke-width:1\"/><line x1=\"348.8278741630676\" y1=\"59.02302644526003\" x2=\"417.2319028282013\" y2=\"246.9615506024417\" stroke-linecap=\"round\" style=\"stroke:orange;stroke-width:1\"/><line x1=\"417.2319028282013\" y1=\"246.9615506024417\" x2=\"382.5022672948153\" y2=\"50.000000000000085\" stroke-linecap=\"round\" style=\"stroke:orange;stroke-width:1\"/><line x1=\"382.5022672948153\" y1=\"50.000000000000085\" x2=\"382.5022672948153\" y2=\"250.00000000000009\" stroke-linecap=\"round\" style=\"stroke:orange;stroke-width:1\"/><line x1=\"382.5022672948153\" y1=\"250.00000000000009\" x2=\"417.23190282820127\" y2=\"53.03844939755845\" stroke-linecap=\"round\" style=\"stroke:orange;stroke-width:1\"/><line x1=\"417.23190282820127\" y1=\"53.03844939755845\" x2=\"348.8278741630675\" y2=\"240.97697355474014\" stroke-linecap=\"round\" style=\"stroke:orange;stroke-width:1\"/><line x1=\"348.8278741630675\" y1=\"240.97697355474014\" x2=\"448.8278741630676\" y2=\"67.77189279785242\" stroke-linecap=\"round\" style=\"stroke:orange;stroke-width:1\"/><line x1=\"448.8278741630676\" y1=\"67.77189279785242\" x2=\"320.27035222575967\" y2=\"220.98078142164803\" stroke-linecap=\"round\" style=\"stroke:orange;stroke-width:1\"/><line x1=\"320.27035222575967\" y1=\"220.98078142164803\" x2=\"473.47924084955525\" y2=\"92.42325948434012\" stroke-linecap=\"round\" style=\"stroke:orange;stroke-width:1\"/><line x1=\"473.47924084955525\" y1=\"92.42325948434012\" x2=\"300.2741600926675\" y2=\"192.42325948434012\" stroke-linecap=\"round\" style=\"stroke:orange;stroke-width:1\"/><line x1=\"300.2741600926675\" y1=\"192.42325948434012\" x2=\"488.2126842498492\" y2=\"124.0192308192064\" stroke-linecap=\"round\" style=\"stroke:orange;stroke-width:1\"/><line x1=\"488.2126842498492\" y1=\"124.0192308192064\" x2=\"291.2511336474076\" y2=\"158.74886635259244\" stroke-linecap=\"round\" style=\"stroke:orange;stroke-width:1\"/><line x1=\"291.2511336474076\" y1=\"158.74886635259244\" x2=\"491.2511336474076\" y2=\"158.74886635259244\" stroke-linecap=\"round\" style=\"stroke:orange;stroke-width:1\"/><line x1=\"491.2511336474076\" y1=\"158.74886635259244\" x2=\"294.289583044966\" y2=\"124.01923081920634\" stroke-linecap=\"round\" style=\"stroke:orange;stroke-width:1\"/><line x1=\"294.289583044966\" y1=\"124.01923081920634\" x2=\"482.22810720214767\" y2=\"192.42325948434006\" stroke-linecap=\"round\" style=\"stroke:orange;stroke-width:1\"/><line x1=\"482.22810720214767\" y1=\"192.42325948434006\" x2=\"309.0230264452599\" y2=\"92.42325948434004\" stroke-linecap=\"round\" style=\"stroke:orange;stroke-width:1\"/><line x1=\"309.0230264452599\" y1=\"92.42325948434004\" x2=\"462.2319150690555\" y2=\"220.9807814216479\" stroke-linecap=\"round\" style=\"stroke:orange;stroke-width:1\"/><line x1=\"462.2319150690555\" y1=\"220.9807814216479\" x2=\"333.6743931317476\" y2=\"67.7718927978523\" stroke-linecap=\"round\" style=\"stroke:orange;stroke-width:1\"/><line x1=\"333.6743931317476\" y1=\"67.7718927978523\" x2=\"433.6743931317476\" y2=\"240.97697355474003\" stroke-linecap=\"round\" style=\"stroke:orange;stroke-width:1\"/><line x1=\"433.6743931317476\" y1=\"240.97697355474003\" x2=\"365.2703644666139\" y2=\"53.03844939755834\" stroke-linecap=\"round\" style=\"stroke:orange;stroke-width:1\"/><line x1=\"365.2703644666139\" y1=\"53.03844939755834\" x2=\"400.0\" y2=\"249.99999999999994\" stroke-linecap=\"round\" style=\"stroke:orange;stroke-width:1\"/>\n",
              "        \n",
              "      <g visibility=visible transform=\"rotate(180,400.0,249.99999999999994) translate(400.0, 249.99999999999994)\">\n",
              "        <circle stroke=\"orange\" stroke-width=\"3\" fill=\"transparent\" r=\"12\" cx=\"0\" cy=\"0\"/>\n",
              "        <polygon points=\"0,19 3,16 -3,16\" style=\"fill:orange;stroke:orange;stroke-width:2\"/>\n",
              "      </g>\n",
              "    \n",
              "      </svg>\n",
              "    "
            ],
            "text/plain": [
              "<IPython.core.display.HTML object>"
            ]
          },
          "metadata": {
            "tags": []
          }
        }
      ]
    },
    {
      "cell_type": "markdown",
      "metadata": {
        "id": "D0vHGsOtM07p",
        "colab_type": "text"
      },
      "source": [
        "###Turtle: Draw a Tree"
      ]
    },
    {
      "cell_type": "code",
      "metadata": {
        "id": "mkiL09oEM6-P",
        "colab_type": "code",
        "outputId": "c77bbc9a-f707-48f1-a534-c6f4dd0bbd29",
        "colab": {
          "base_uri": "https://localhost:8080/",
          "height": 845
        }
      },
      "source": [
        "## Turtle for Google Colab notebooks Installation for Google Colab\n",
        "!pip3 install ColabTurtle\n",
        "from ColabTurtle.Turtle import *\n",
        "\n",
        "# Draw a Tree\n",
        "\n",
        "initializeTurtle(initial_speed=10)\n",
        "color('white')\n",
        "bgcolor('black')\n",
        "\n",
        "min_length=20\n",
        "\n",
        "def draw_branch(l, w):\n",
        "  left(15)\n",
        "  draw_stick(l, w)\n",
        "  right(30)\n",
        "  draw_stick(l, w)\n",
        "  left(15)\n",
        "  \n",
        "def draw_stick(l, w):\n",
        "  width(w)\n",
        "  forward(l)\n",
        "  if min_length < l:\n",
        "    draw_branch(math.ceil(l*0.8), math.ceil(w*0.6))\n",
        "  backward(l)\n",
        "\n",
        "penup()\n",
        "sety(470)\n",
        "pendown()\n",
        "draw_branch(100, 10)"
      ],
      "execution_count": 0,
      "outputs": [
        {
          "output_type": "display_data",
          "data": {
            "text/html": [
              "\n",
              "      <svg width=\"800\" height=\"500\">\n",
              "        <rect width=\"100%\" height=\"100%\" fill=\"black\"/>\n",
              "        <line x1=\"400\" y1=\"470\" x2=\"374.11809548974793\" y2=\"373.4074173710932\" stroke-linecap=\"round\" style=\"stroke:white;stroke-width:10\"/><line x1=\"374.11809548974793\" y1=\"373.4074173710932\" x2=\"334.1180954897479\" y2=\"304.1253850683381\" stroke-linecap=\"round\" style=\"stroke:white;stroke-width:6\"/><line x1=\"334.1180954897479\" y1=\"304.1253850683381\" x2=\"288.8632614938088\" y2=\"258.87055107239905\" stroke-linecap=\"round\" style=\"stroke:white;stroke-width:4\"/><line x1=\"288.8632614938088\" y1=\"258.87055107239905\" x2=\"243.82994049701801\" y2=\"232.87055107239905\" stroke-linecap=\"round\" style=\"stroke:white;stroke-width:3\"/><line x1=\"243.82994049701801\" y1=\"232.87055107239905\" x2=\"203.26105579287713\" y2=\"222.00015117809318\" stroke-linecap=\"round\" style=\"stroke:white;stroke-width:2\"/><line x1=\"203.26105579287713\" y1=\"222.00015117809318\" x2=\"169.26105579287713\" y2=\"222.00015117809318\" stroke-linecap=\"round\" style=\"stroke:white;stroke-width:2\"/><line x1=\"169.26105579287713\" y1=\"222.00015117809318\" x2=\"142.21513265678323\" y2=\"229.24708444096376\" stroke-linecap=\"round\" style=\"stroke:white;stroke-width:2\"/><line x1=\"142.21513265678323\" y1=\"229.24708444096376\" x2=\"122.29654836974113\" y2=\"240.74708444096376\" stroke-linecap=\"round\" style=\"stroke:white;stroke-width:2\"/><line x1=\"122.29654836974113\" y1=\"240.74708444096376\" x2=\"108.86151952719673\" y2=\"254.18211328350816\" stroke-linecap=\"round\" style=\"stroke:white;stroke-width:2\"/><line x1=\"108.86151952719673\" y1=\"254.18211328350816\" x2=\"122.29654836974113\" y2=\"240.74708444096376\" stroke-linecap=\"round\" style=\"stroke:white;stroke-width:2\"/><line x1=\"122.29654836974113\" y1=\"240.74708444096376\" x2=\"103.94395767024884\" y2=\"245.66464629791167\" stroke-linecap=\"round\" style=\"stroke:white;stroke-width:2\"/><line x1=\"103.94395767024884\" y1=\"245.66464629791167\" x2=\"122.29654836974113\" y2=\"240.74708444096376\" stroke-linecap=\"round\" style=\"stroke:white;stroke-width:2\"/><line x1=\"122.29654836974113\" y1=\"240.74708444096376\" x2=\"142.21513265678323\" y2=\"229.24708444096376\" stroke-linecap=\"round\" style=\"stroke:white;stroke-width:2\"/><line x1=\"142.21513265678323\" y1=\"229.24708444096376\" x2=\"119.21513265678323\" y2=\"229.24708444096376\" stroke-linecap=\"round\" style=\"stroke:white;stroke-width:2\"/><line x1=\"119.21513265678323\" y1=\"229.24708444096376\" x2=\"100.86254195729093\" y2=\"234.16464629791167\" stroke-linecap=\"round\" style=\"stroke:white;stroke-width:2\"/><line x1=\"100.86254195729093\" y1=\"234.16464629791167\" x2=\"119.21513265678323\" y2=\"229.24708444096376\" stroke-linecap=\"round\" style=\"stroke:white;stroke-width:2\"/><line x1=\"119.21513265678323\" y1=\"229.24708444096376\" x2=\"100.86254195729093\" y2=\"224.32952258401588\" stroke-linecap=\"round\" style=\"stroke:white;stroke-width:2\"/><line x1=\"100.86254195729093\" y1=\"224.32952258401588\" x2=\"119.21513265678323\" y2=\"229.24708444096376\" stroke-linecap=\"round\" style=\"stroke:white;stroke-width:2\"/><line x1=\"119.21513265678323\" y1=\"229.24708444096376\" x2=\"142.21513265678323\" y2=\"229.24708444096376\" stroke-linecap=\"round\" style=\"stroke:white;stroke-width:2\"/><line x1=\"142.21513265678323\" y1=\"229.24708444096376\" x2=\"169.26105579287713\" y2=\"222.00015117809318\" stroke-linecap=\"round\" style=\"stroke:white;stroke-width:2\"/><line x1=\"169.26105579287713\" y1=\"222.00015117809318\" x2=\"142.21513265678323\" y2=\"214.7532179152226\" stroke-linecap=\"round\" style=\"stroke:white;stroke-width:2\"/><line x1=\"142.21513265678323\" y1=\"214.7532179152226\" x2=\"119.21513265678323\" y2=\"214.7532179152226\" stroke-linecap=\"round\" style=\"stroke:white;stroke-width:2\"/><line x1=\"119.21513265678323\" y1=\"214.7532179152226\" x2=\"100.86254195729093\" y2=\"219.6707797721705\" stroke-linecap=\"round\" style=\"stroke:white;stroke-width:2\"/><line x1=\"100.86254195729093\" y1=\"219.6707797721705\" x2=\"119.21513265678323\" y2=\"214.7532179152226\" stroke-linecap=\"round\" style=\"stroke:white;stroke-width:2\"/><line x1=\"119.21513265678323\" y1=\"214.7532179152226\" x2=\"100.86254195729093\" y2=\"209.8356560582747\" stroke-linecap=\"round\" style=\"stroke:white;stroke-width:2\"/><line x1=\"100.86254195729093\" y1=\"209.8356560582747\" x2=\"119.21513265678323\" y2=\"214.7532179152226\" stroke-linecap=\"round\" style=\"stroke:white;stroke-width:2\"/><line x1=\"119.21513265678323\" y1=\"214.7532179152226\" x2=\"142.21513265678323\" y2=\"214.7532179152226\" stroke-linecap=\"round\" style=\"stroke:white;stroke-width:2\"/><line x1=\"142.21513265678323\" y1=\"214.7532179152226\" x2=\"122.29654836974115\" y2=\"203.2532179152226\" stroke-linecap=\"round\" style=\"stroke:white;stroke-width:2\"/><line x1=\"122.29654836974115\" y1=\"203.2532179152226\" x2=\"103.94395767024885\" y2=\"198.3356560582747\" stroke-linecap=\"round\" style=\"stroke:white;stroke-width:2\"/><line x1=\"103.94395767024885\" y1=\"198.3356560582747\" x2=\"122.29654836974115\" y2=\"203.2532179152226\" stroke-linecap=\"round\" style=\"stroke:white;stroke-width:2\"/><line x1=\"122.29654836974115\" y1=\"203.2532179152226\" x2=\"108.86151952719673\" y2=\"189.8181890726782\" stroke-linecap=\"round\" style=\"stroke:white;stroke-width:2\"/><line x1=\"108.86151952719673\" y1=\"189.8181890726782\" x2=\"122.29654836974115\" y2=\"203.2532179152226\" stroke-linecap=\"round\" style=\"stroke:white;stroke-width:2\"/><line x1=\"122.29654836974115\" y1=\"203.2532179152226\" x2=\"142.21513265678323\" y2=\"214.7532179152226\" stroke-linecap=\"round\" style=\"stroke:white;stroke-width:2\"/><line x1=\"142.21513265678323\" y1=\"214.7532179152226\" x2=\"169.26105579287713\" y2=\"222.00015117809318\" stroke-linecap=\"round\" style=\"stroke:white;stroke-width:2\"/><line x1=\"169.26105579287713\" y1=\"222.00015117809318\" x2=\"203.26105579287713\" y2=\"222.00015117809318\" stroke-linecap=\"round\" style=\"stroke:white;stroke-width:2\"/><line x1=\"203.26105579287713\" y1=\"222.00015117809318\" x2=\"173.8161920642062\" y2=\"205.00015117809318\" stroke-linecap=\"round\" style=\"stroke:white;stroke-width:2\"/><line x1=\"173.8161920642062\" y1=\"205.00015117809318\" x2=\"146.7702689281123\" y2=\"197.7532179152226\" stroke-linecap=\"round\" style=\"stroke:white;stroke-width:2\"/><line x1=\"146.7702689281123\" y1=\"197.7532179152226\" x2=\"123.7702689281123\" y2=\"197.7532179152226\" stroke-linecap=\"round\" style=\"stroke:white;stroke-width:2\"/><line x1=\"123.7702689281123\" y1=\"197.7532179152226\" x2=\"105.41767822862\" y2=\"202.6707797721705\" stroke-linecap=\"round\" style=\"stroke:white;stroke-width:2\"/><line x1=\"105.41767822862\" y1=\"202.6707797721705\" x2=\"123.7702689281123\" y2=\"197.7532179152226\" stroke-linecap=\"round\" style=\"stroke:white;stroke-width:2\"/><line x1=\"123.7702689281123\" y1=\"197.7532179152226\" x2=\"105.41767822862\" y2=\"192.8356560582747\" stroke-linecap=\"round\" style=\"stroke:white;stroke-width:2\"/><line x1=\"105.41767822862\" y1=\"192.8356560582747\" x2=\"123.7702689281123\" y2=\"197.7532179152226\" stroke-linecap=\"round\" style=\"stroke:white;stroke-width:2\"/><line x1=\"123.7702689281123\" y1=\"197.7532179152226\" x2=\"146.7702689281123\" y2=\"197.7532179152226\" stroke-linecap=\"round\" style=\"stroke:white;stroke-width:2\"/><line x1=\"146.7702689281123\" y1=\"197.7532179152226\" x2=\"126.85168464107022\" y2=\"186.2532179152226\" stroke-linecap=\"round\" style=\"stroke:white;stroke-width:2\"/><line x1=\"126.85168464107022\" y1=\"186.2532179152226\" x2=\"108.49909394157793\" y2=\"181.3356560582747\" stroke-linecap=\"round\" style=\"stroke:white;stroke-width:2\"/><line x1=\"108.49909394157793\" y1=\"181.3356560582747\" x2=\"126.85168464107022\" y2=\"186.2532179152226\" stroke-linecap=\"round\" style=\"stroke:white;stroke-width:2\"/><line x1=\"126.85168464107022\" y1=\"186.2532179152226\" x2=\"113.41665579852581\" y2=\"172.8181890726782\" stroke-linecap=\"round\" style=\"stroke:white;stroke-width:2\"/><line x1=\"113.41665579852581\" y1=\"172.8181890726782\" x2=\"126.85168464107022\" y2=\"186.2532179152226\" stroke-linecap=\"round\" style=\"stroke:white;stroke-width:2\"/><line x1=\"126.85168464107022\" y1=\"186.2532179152226\" x2=\"146.7702689281123\" y2=\"197.7532179152226\" stroke-linecap=\"round\" style=\"stroke:white;stroke-width:2\"/><line x1=\"146.7702689281123\" y1=\"197.7532179152226\" x2=\"173.8161920642062\" y2=\"205.00015117809318\" stroke-linecap=\"round\" style=\"stroke:white;stroke-width:2\"/><line x1=\"173.8161920642062\" y1=\"205.00015117809318\" x2=\"154.01720219098286\" y2=\"185.20116130486986\" stroke-linecap=\"round\" style=\"stroke:white;stroke-width:2\"/><line x1=\"154.01720219098286\" y1=\"185.20116130486986\" x2=\"134.09861790394078\" y2=\"173.70116130486986\" stroke-linecap=\"round\" style=\"stroke:white;stroke-width:2\"/><line x1=\"134.09861790394078\" y1=\"173.70116130486986\" x2=\"115.74602720444848\" y2=\"168.78359944792197\" stroke-linecap=\"round\" style=\"stroke:white;stroke-width:2\"/><line x1=\"115.74602720444848\" y1=\"168.78359944792197\" x2=\"134.09861790394078\" y2=\"173.70116130486986\" stroke-linecap=\"round\" style=\"stroke:white;stroke-width:2\"/><line x1=\"134.09861790394078\" y1=\"173.70116130486986\" x2=\"120.66358906139637\" y2=\"160.26613246232546\" stroke-linecap=\"round\" style=\"stroke:white;stroke-width:2\"/><line x1=\"120.66358906139637\" y1=\"160.26613246232546\" x2=\"134.09861790394078\" y2=\"173.70116130486986\" stroke-linecap=\"round\" style=\"stroke:white;stroke-width:2\"/><line x1=\"134.09861790394078\" y1=\"173.70116130486986\" x2=\"154.01720219098286\" y2=\"185.20116130486986\" stroke-linecap=\"round\" style=\"stroke:white;stroke-width:2\"/><line x1=\"154.01720219098286\" y1=\"185.20116130486986\" x2=\"142.51720219098286\" y2=\"165.28257701782778\" stroke-linecap=\"round\" style=\"stroke:white;stroke-width:2\"/><line x1=\"142.51720219098286\" y1=\"165.28257701782778\" x2=\"129.08217334843846\" y2=\"151.84754817528338\" stroke-linecap=\"round\" style=\"stroke:white;stroke-width:2\"/><line x1=\"129.08217334843846\" y1=\"151.84754817528338\" x2=\"142.51720219098286\" y2=\"165.28257701782778\" stroke-linecap=\"round\" style=\"stroke:white;stroke-width:2\"/><line x1=\"142.51720219098286\" y1=\"165.28257701782778\" x2=\"137.59964033403497\" y2=\"146.92998631833547\" stroke-linecap=\"round\" style=\"stroke:white;stroke-width:2\"/><line x1=\"137.59964033403497\" y1=\"146.92998631833547\" x2=\"142.51720219098286\" y2=\"165.28257701782775\" stroke-linecap=\"round\" style=\"stroke:white;stroke-width:2\"/><line x1=\"142.51720219098286\" y1=\"165.28257701782775\" x2=\"154.01720219098286\" y2=\"185.20116130486983\" stroke-linecap=\"round\" style=\"stroke:white;stroke-width:2\"/><line x1=\"154.01720219098286\" y1=\"185.20116130486983\" x2=\"173.81619206420618\" y2=\"205.00015117809315\" stroke-linecap=\"round\" style=\"stroke:white;stroke-width:2\"/><line x1=\"173.81619206420618\" y1=\"205.00015117809315\" x2=\"203.2610557928771\" y2=\"222.00015117809315\" stroke-linecap=\"round\" style=\"stroke:white;stroke-width:2\"/><line x1=\"203.2610557928771\" y1=\"222.00015117809315\" x2=\"243.82994049701796\" y2=\"232.87055107239902\" stroke-linecap=\"round\" style=\"stroke:white;stroke-width:2\"/><line x1=\"243.82994049701796\" y1=\"232.87055107239902\" x2=\"214.13145568718295\" y2=\"203.17206626256404\" stroke-linecap=\"round\" style=\"stroke:white;stroke-width:2\"/><line x1=\"214.13145568718295\" y1=\"203.17206626256404\" x2=\"184.68659195851203\" y2=\"186.17206626256404\" stroke-linecap=\"round\" style=\"stroke:white;stroke-width:2\"/><line x1=\"184.68659195851203\" y1=\"186.17206626256404\" x2=\"157.64066882241812\" y2=\"178.92513299969346\" stroke-linecap=\"round\" style=\"stroke:white;stroke-width:2\"/><line x1=\"157.64066882241812\" y1=\"178.92513299969346\" x2=\"134.64066882241812\" y2=\"178.92513299969346\" stroke-linecap=\"round\" style=\"stroke:white;stroke-width:2\"/><line x1=\"134.64066882241812\" y1=\"178.92513299969346\" x2=\"116.28807812292582\" y2=\"183.84269485664137\" stroke-linecap=\"round\" style=\"stroke:white;stroke-width:2\"/><line x1=\"116.28807812292582\" y1=\"183.84269485664137\" x2=\"134.64066882241812\" y2=\"178.92513299969346\" stroke-linecap=\"round\" style=\"stroke:white;stroke-width:2\"/><line x1=\"134.64066882241812\" y1=\"178.92513299969346\" x2=\"116.28807812292582\" y2=\"174.00757114274558\" stroke-linecap=\"round\" style=\"stroke:white;stroke-width:2\"/><line x1=\"116.28807812292582\" y1=\"174.00757114274558\" x2=\"134.64066882241812\" y2=\"178.92513299969346\" stroke-linecap=\"round\" style=\"stroke:white;stroke-width:2\"/><line x1=\"134.64066882241812\" y1=\"178.92513299969346\" x2=\"157.64066882241812\" y2=\"178.92513299969346\" stroke-linecap=\"round\" style=\"stroke:white;stroke-width:2\"/><line x1=\"157.64066882241812\" y1=\"178.92513299969346\" x2=\"137.72208453537604\" y2=\"167.42513299969346\" stroke-linecap=\"round\" style=\"stroke:white;stroke-width:2\"/><line x1=\"137.72208453537604\" y1=\"167.42513299969346\" x2=\"119.36949383588374\" y2=\"162.50757114274558\" stroke-linecap=\"round\" style=\"stroke:white;stroke-width:2\"/><line x1=\"119.36949383588374\" y1=\"162.50757114274558\" x2=\"137.72208453537604\" y2=\"167.42513299969346\" stroke-linecap=\"round\" style=\"stroke:white;stroke-width:2\"/><line x1=\"137.72208453537604\" y1=\"167.42513299969346\" x2=\"124.28705569283163\" y2=\"153.99010415714906\" stroke-linecap=\"round\" style=\"stroke:white;stroke-width:2\"/><line x1=\"124.28705569283163\" y1=\"153.99010415714906\" x2=\"137.72208453537604\" y2=\"167.42513299969346\" stroke-linecap=\"round\" style=\"stroke:white;stroke-width:2\"/><line x1=\"137.72208453537604\" y1=\"167.42513299969346\" x2=\"157.64066882241812\" y2=\"178.92513299969346\" stroke-linecap=\"round\" style=\"stroke:white;stroke-width:2\"/><line x1=\"157.64066882241812\" y1=\"178.92513299969346\" x2=\"184.68659195851203\" y2=\"186.17206626256404\" stroke-linecap=\"round\" style=\"stroke:white;stroke-width:2\"/><line x1=\"184.68659195851203\" y1=\"186.17206626256404\" x2=\"164.88760208528868\" y2=\"166.37307638934072\" stroke-linecap=\"round\" style=\"stroke:white;stroke-width:2\"/><line x1=\"164.88760208528868\" y1=\"166.37307638934072\" x2=\"144.9690177982466\" y2=\"154.87307638934072\" stroke-linecap=\"round\" style=\"stroke:white;stroke-width:2\"/><line x1=\"144.9690177982466\" y1=\"154.87307638934072\" x2=\"126.6164270987543\" y2=\"149.95551453239284\" stroke-linecap=\"round\" style=\"stroke:white;stroke-width:2\"/><line x1=\"126.6164270987543\" y1=\"149.95551453239284\" x2=\"144.9690177982466\" y2=\"154.87307638934072\" stroke-linecap=\"round\" style=\"stroke:white;stroke-width:2\"/><line x1=\"144.9690177982466\" y1=\"154.87307638934072\" x2=\"131.5339889557022\" y2=\"141.43804754679633\" stroke-linecap=\"round\" style=\"stroke:white;stroke-width:2\"/><line x1=\"131.5339889557022\" y1=\"141.43804754679633\" x2=\"144.9690177982466\" y2=\"154.87307638934072\" stroke-linecap=\"round\" style=\"stroke:white;stroke-width:2\"/><line x1=\"144.9690177982466\" y1=\"154.87307638934072\" x2=\"164.88760208528868\" y2=\"166.37307638934072\" stroke-linecap=\"round\" style=\"stroke:white;stroke-width:2\"/><line x1=\"164.88760208528868\" y1=\"166.37307638934072\" x2=\"153.38760208528868\" y2=\"146.45449210229864\" stroke-linecap=\"round\" style=\"stroke:white;stroke-width:2\"/><line x1=\"153.38760208528868\" y1=\"146.45449210229864\" x2=\"139.95257324274428\" y2=\"133.01946325975425\" stroke-linecap=\"round\" style=\"stroke:white;stroke-width:2\"/><line x1=\"139.95257324274428\" y1=\"133.01946325975425\" x2=\"153.38760208528868\" y2=\"146.45449210229864\" stroke-linecap=\"round\" style=\"stroke:white;stroke-width:2\"/><line x1=\"153.38760208528868\" y1=\"146.45449210229864\" x2=\"148.4700402283408\" y2=\"128.10190140280633\" stroke-linecap=\"round\" style=\"stroke:white;stroke-width:2\"/><line x1=\"148.4700402283408\" y1=\"128.10190140280633\" x2=\"153.38760208528868\" y2=\"146.45449210229862\" stroke-linecap=\"round\" style=\"stroke:white;stroke-width:2\"/><line x1=\"153.38760208528868\" y1=\"146.45449210229862\" x2=\"164.88760208528868\" y2=\"166.3730763893407\" stroke-linecap=\"round\" style=\"stroke:white;stroke-width:2\"/><line x1=\"164.88760208528868\" y1=\"166.3730763893407\" x2=\"184.686591958512\" y2=\"186.17206626256402\" stroke-linecap=\"round\" style=\"stroke:white;stroke-width:2\"/><line x1=\"184.686591958512\" y1=\"186.17206626256402\" x2=\"214.13145568718292\" y2=\"203.17206626256402\" stroke-linecap=\"round\" style=\"stroke:white;stroke-width:2\"/><line x1=\"214.13145568718292\" y1=\"203.17206626256402\" x2=\"197.1314556871829\" y2=\"173.72720253389312\" stroke-linecap=\"round\" style=\"stroke:white;stroke-width:2\"/><line x1=\"197.1314556871829\" y1=\"173.72720253389312\" x2=\"177.33246581395957\" y2=\"153.9282126606698\" stroke-linecap=\"round\" style=\"stroke:white;stroke-width:2\"/><line x1=\"177.33246581395957\" y1=\"153.9282126606698\" x2=\"157.4138815269175\" y2=\"142.4282126606698\" stroke-linecap=\"round\" style=\"stroke:white;stroke-width:2\"/><line x1=\"157.4138815269175\" y1=\"142.4282126606698\" x2=\"139.06129082742518\" y2=\"137.51065080372192\" stroke-linecap=\"round\" style=\"stroke:white;stroke-width:2\"/><line x1=\"139.06129082742518\" y1=\"137.51065080372192\" x2=\"157.41388152691746\" y2=\"142.4282126606698\" stroke-linecap=\"round\" style=\"stroke:white;stroke-width:2\"/><line x1=\"157.41388152691746\" y1=\"142.4282126606698\" x2=\"143.97885268437307\" y2=\"128.9931838181254\" stroke-linecap=\"round\" style=\"stroke:white;stroke-width:2\"/><line x1=\"143.97885268437307\" y1=\"128.9931838181254\" x2=\"157.41388152691746\" y2=\"142.4282126606698\" stroke-linecap=\"round\" style=\"stroke:white;stroke-width:2\"/><line x1=\"157.41388152691746\" y1=\"142.4282126606698\" x2=\"177.33246581395954\" y2=\"153.9282126606698\" stroke-linecap=\"round\" style=\"stroke:white;stroke-width:2\"/><line x1=\"177.33246581395954\" y1=\"153.9282126606698\" x2=\"165.83246581395954\" y2=\"134.00962837362772\" stroke-linecap=\"round\" style=\"stroke:white;stroke-width:2\"/><line x1=\"165.83246581395954\" y1=\"134.00962837362772\" x2=\"152.39743697141515\" y2=\"120.57459953108332\" stroke-linecap=\"round\" style=\"stroke:white;stroke-width:2\"/><line x1=\"152.39743697141515\" y1=\"120.57459953108332\" x2=\"165.83246581395954\" y2=\"134.00962837362772\" stroke-linecap=\"round\" style=\"stroke:white;stroke-width:2\"/><line x1=\"165.83246581395954\" y1=\"134.00962837362772\" x2=\"160.91490395701166\" y2=\"115.65703767413542\" stroke-linecap=\"round\" style=\"stroke:white;stroke-width:2\"/><line x1=\"160.91490395701166\" y1=\"115.65703767413542\" x2=\"165.83246581395954\" y2=\"134.00962837362772\" stroke-linecap=\"round\" style=\"stroke:white;stroke-width:2\"/><line x1=\"165.83246581395954\" y1=\"134.00962837362772\" x2=\"177.33246581395954\" y2=\"153.9282126606698\" stroke-linecap=\"round\" style=\"stroke:white;stroke-width:2\"/><line x1=\"177.33246581395954\" y1=\"153.9282126606698\" x2=\"197.1314556871829\" y2=\"173.72720253389312\" stroke-linecap=\"round\" style=\"stroke:white;stroke-width:2\"/><line x1=\"197.1314556871829\" y1=\"173.72720253389312\" x2=\"189.8845224243123\" y2=\"146.68127939779922\" stroke-linecap=\"round\" style=\"stroke:white;stroke-width:2\"/><line x1=\"189.8845224243123\" y1=\"146.68127939779922\" x2=\"178.3845224243123\" y2=\"126.76269511075714\" stroke-linecap=\"round\" style=\"stroke:white;stroke-width:2\"/><line x1=\"178.3845224243123\" y1=\"126.76269511075714\" x2=\"164.9494935817679\" y2=\"113.32766626821274\" stroke-linecap=\"round\" style=\"stroke:white;stroke-width:2\"/><line x1=\"164.9494935817679\" y1=\"113.32766626821274\" x2=\"178.3845224243123\" y2=\"126.76269511075714\" stroke-linecap=\"round\" style=\"stroke:white;stroke-width:2\"/><line x1=\"178.3845224243123\" y1=\"126.76269511075714\" x2=\"173.46696056736442\" y2=\"108.41010441126484\" stroke-linecap=\"round\" style=\"stroke:white;stroke-width:2\"/><line x1=\"173.46696056736442\" y1=\"108.41010441126484\" x2=\"178.3845224243123\" y2=\"126.76269511075714\" stroke-linecap=\"round\" style=\"stroke:white;stroke-width:2\"/><line x1=\"178.3845224243123\" y1=\"126.76269511075714\" x2=\"189.8845224243123\" y2=\"146.68127939779922\" stroke-linecap=\"round\" style=\"stroke:white;stroke-width:2\"/><line x1=\"189.8845224243123\" y1=\"146.68127939779922\" x2=\"189.8845224243123\" y2=\"123.68127939779922\" stroke-linecap=\"round\" style=\"stroke:white;stroke-width:2\"/><line x1=\"189.8845224243123\" y1=\"123.68127939779922\" x2=\"184.96696056736442\" y2=\"105.32868869830692\" stroke-linecap=\"round\" style=\"stroke:white;stroke-width:2\"/><line x1=\"184.96696056736442\" y1=\"105.32868869830692\" x2=\"189.8845224243123\" y2=\"123.68127939779922\" stroke-linecap=\"round\" style=\"stroke:white;stroke-width:2\"/><line x1=\"189.8845224243123\" y1=\"123.68127939779922\" x2=\"194.8020842812602\" y2=\"105.32868869830692\" stroke-linecap=\"round\" style=\"stroke:white;stroke-width:2\"/><line x1=\"194.8020842812602\" y1=\"105.32868869830692\" x2=\"189.8845224243123\" y2=\"123.68127939779922\" stroke-linecap=\"round\" style=\"stroke:white;stroke-width:2\"/><line x1=\"189.8845224243123\" y1=\"123.68127939779922\" x2=\"189.8845224243123\" y2=\"146.68127939779922\" stroke-linecap=\"round\" style=\"stroke:white;stroke-width:2\"/><line x1=\"189.8845224243123\" y1=\"146.68127939779922\" x2=\"197.1314556871829\" y2=\"173.72720253389312\" stroke-linecap=\"round\" style=\"stroke:white;stroke-width:2\"/><line x1=\"197.1314556871829\" y1=\"173.72720253389312\" x2=\"214.1314556871829\" y2=\"203.17206626256402\" stroke-linecap=\"round\" style=\"stroke:white;stroke-width:2\"/><line x1=\"214.1314556871829\" y1=\"203.17206626256402\" x2=\"243.8299404970179\" y2=\"232.870551072399\" stroke-linecap=\"round\" style=\"stroke:white;stroke-width:2\"/><line x1=\"243.8299404970179\" y1=\"232.870551072399\" x2=\"288.8632614938087\" y2=\"258.870551072399\" stroke-linecap=\"round\" style=\"stroke:white;stroke-width:2\"/><line x1=\"288.8632614938087\" y1=\"258.870551072399\" x2=\"262.8632614938087\" y2=\"213.8372300756082\" stroke-linecap=\"round\" style=\"stroke:white;stroke-width:3\"/><line x1=\"262.8632614938087\" y1=\"213.8372300756082\" x2=\"233.16477668397368\" y2=\"184.1387452657732\" stroke-linecap=\"round\" style=\"stroke:white;stroke-width:2\"/><line x1=\"233.16477668397368\" y1=\"184.1387452657732\" x2=\"203.71991295530276\" y2=\"167.1387452657732\" stroke-linecap=\"round\" style=\"stroke:white;stroke-width:2\"/><line x1=\"203.71991295530276\" y1=\"167.1387452657732\" x2=\"176.67398981920886\" y2=\"159.8918120029026\" stroke-linecap=\"round\" style=\"stroke:white;stroke-width:2\"/><line x1=\"176.67398981920886\" y1=\"159.8918120029026\" x2=\"153.67398981920886\" y2=\"159.8918120029026\" stroke-linecap=\"round\" style=\"stroke:white;stroke-width:2\"/><line x1=\"153.67398981920886\" y1=\"159.8918120029026\" x2=\"135.32139911971655\" y2=\"164.80937385985052\" stroke-linecap=\"round\" style=\"stroke:white;stroke-width:2\"/><line x1=\"135.32139911971655\" y1=\"164.80937385985052\" x2=\"153.67398981920883\" y2=\"159.8918120029026\" stroke-linecap=\"round\" style=\"stroke:white;stroke-width:2\"/><line x1=\"153.67398981920883\" y1=\"159.8918120029026\" x2=\"135.32139911971655\" y2=\"154.97425014595473\" stroke-linecap=\"round\" style=\"stroke:white;stroke-width:2\"/><line x1=\"135.32139911971655\" y1=\"154.97425014595473\" x2=\"153.67398981920883\" y2=\"159.8918120029026\" stroke-linecap=\"round\" style=\"stroke:white;stroke-width:2\"/><line x1=\"153.67398981920883\" y1=\"159.8918120029026\" x2=\"176.67398981920883\" y2=\"159.8918120029026\" stroke-linecap=\"round\" style=\"stroke:white;stroke-width:2\"/><line x1=\"176.67398981920883\" y1=\"159.8918120029026\" x2=\"156.75540553216675\" y2=\"148.3918120029026\" stroke-linecap=\"round\" style=\"stroke:white;stroke-width:2\"/><line x1=\"156.75540553216675\" y1=\"148.3918120029026\" x2=\"138.40281483267444\" y2=\"143.47425014595473\" stroke-linecap=\"round\" style=\"stroke:white;stroke-width:2\"/><line x1=\"138.40281483267444\" y1=\"143.47425014595473\" x2=\"156.75540553216672\" y2=\"148.3918120029026\" stroke-linecap=\"round\" style=\"stroke:white;stroke-width:2\"/><line x1=\"156.75540553216672\" y1=\"148.3918120029026\" x2=\"143.32037668962232\" y2=\"134.9567831603582\" stroke-linecap=\"round\" style=\"stroke:white;stroke-width:2\"/><line x1=\"143.32037668962232\" y1=\"134.9567831603582\" x2=\"156.75540553216672\" y2=\"148.3918120029026\" stroke-linecap=\"round\" style=\"stroke:white;stroke-width:2\"/><line x1=\"156.75540553216672\" y1=\"148.3918120029026\" x2=\"176.6739898192088\" y2=\"159.8918120029026\" stroke-linecap=\"round\" style=\"stroke:white;stroke-width:2\"/><line x1=\"176.6739898192088\" y1=\"159.8918120029026\" x2=\"203.7199129553027\" y2=\"167.1387452657732\" stroke-linecap=\"round\" style=\"stroke:white;stroke-width:2\"/><line x1=\"203.7199129553027\" y1=\"167.1387452657732\" x2=\"183.92092308207936\" y2=\"147.33975539254988\" stroke-linecap=\"round\" style=\"stroke:white;stroke-width:2\"/><line x1=\"183.92092308207936\" y1=\"147.33975539254988\" x2=\"164.00233879503728\" y2=\"135.83975539254988\" stroke-linecap=\"round\" style=\"stroke:white;stroke-width:2\"/><line x1=\"164.00233879503728\" y1=\"135.83975539254988\" x2=\"145.64974809554496\" y2=\"130.922193535602\" stroke-linecap=\"round\" style=\"stroke:white;stroke-width:2\"/><line x1=\"145.64974809554496\" y1=\"130.922193535602\" x2=\"164.00233879503725\" y2=\"135.83975539254988\" stroke-linecap=\"round\" style=\"stroke:white;stroke-width:2\"/><line x1=\"164.00233879503725\" y1=\"135.83975539254988\" x2=\"150.56730995249285\" y2=\"122.40472655000548\" stroke-linecap=\"round\" style=\"stroke:white;stroke-width:2\"/><line x1=\"150.56730995249285\" y1=\"122.40472655000548\" x2=\"164.00233879503725\" y2=\"135.83975539254988\" stroke-linecap=\"round\" style=\"stroke:white;stroke-width:2\"/><line x1=\"164.00233879503725\" y1=\"135.83975539254988\" x2=\"183.92092308207933\" y2=\"147.33975539254988\" stroke-linecap=\"round\" style=\"stroke:white;stroke-width:2\"/><line x1=\"183.92092308207933\" y1=\"147.33975539254988\" x2=\"172.42092308207933\" y2=\"127.4211711055078\" stroke-linecap=\"round\" style=\"stroke:white;stroke-width:2\"/><line x1=\"172.42092308207933\" y1=\"127.4211711055078\" x2=\"158.98589423953493\" y2=\"113.9861422629634\" stroke-linecap=\"round\" style=\"stroke:white;stroke-width:2\"/><line x1=\"158.98589423953493\" y1=\"113.9861422629634\" x2=\"172.42092308207933\" y2=\"127.4211711055078\" stroke-linecap=\"round\" style=\"stroke:white;stroke-width:2\"/><line x1=\"172.42092308207933\" y1=\"127.4211711055078\" x2=\"167.50336122513144\" y2=\"109.0685804060155\" stroke-linecap=\"round\" style=\"stroke:white;stroke-width:2\"/><line x1=\"167.50336122513144\" y1=\"109.0685804060155\" x2=\"172.42092308207933\" y2=\"127.4211711055078\" stroke-linecap=\"round\" style=\"stroke:white;stroke-width:2\"/><line x1=\"172.42092308207933\" y1=\"127.4211711055078\" x2=\"183.92092308207933\" y2=\"147.33975539254988\" stroke-linecap=\"round\" style=\"stroke:white;stroke-width:2\"/><line x1=\"183.92092308207933\" y1=\"147.33975539254988\" x2=\"203.71991295530268\" y2=\"167.1387452657732\" stroke-linecap=\"round\" style=\"stroke:white;stroke-width:2\"/><line x1=\"203.71991295530268\" y1=\"167.1387452657732\" x2=\"233.1647766839736\" y2=\"184.1387452657732\" stroke-linecap=\"round\" style=\"stroke:white;stroke-width:2\"/><line x1=\"233.1647766839736\" y1=\"184.1387452657732\" x2=\"216.16477668397357\" y2=\"154.6938815371023\" stroke-linecap=\"round\" style=\"stroke:white;stroke-width:2\"/><line x1=\"216.16477668397357\" y1=\"154.6938815371023\" x2=\"196.36578681075025\" y2=\"134.89489166387898\" stroke-linecap=\"round\" style=\"stroke:white;stroke-width:2\"/><line x1=\"196.36578681075025\" y1=\"134.89489166387898\" x2=\"176.44720252370817\" y2=\"123.39489166387898\" stroke-linecap=\"round\" style=\"stroke:white;stroke-width:2\"/><line x1=\"176.44720252370817\" y1=\"123.39489166387898\" x2=\"158.09461182421586\" y2=\"118.47732980693108\" stroke-linecap=\"round\" style=\"stroke:white;stroke-width:2\"/><line x1=\"158.09461182421586\" y1=\"118.47732980693108\" x2=\"176.44720252370814\" y2=\"123.39489166387898\" stroke-linecap=\"round\" style=\"stroke:white;stroke-width:2\"/><line x1=\"176.44720252370814\" y1=\"123.39489166387898\" x2=\"163.01217368116374\" y2=\"109.95986282133458\" stroke-linecap=\"round\" style=\"stroke:white;stroke-width:2\"/><line x1=\"163.01217368116374\" y1=\"109.95986282133458\" x2=\"176.44720252370814\" y2=\"123.39489166387898\" stroke-linecap=\"round\" style=\"stroke:white;stroke-width:2\"/><line x1=\"176.44720252370814\" y1=\"123.39489166387898\" x2=\"196.36578681075022\" y2=\"134.89489166387898\" stroke-linecap=\"round\" style=\"stroke:white;stroke-width:2\"/><line x1=\"196.36578681075022\" y1=\"134.89489166387898\" x2=\"184.86578681075022\" y2=\"114.9763073768369\" stroke-linecap=\"round\" style=\"stroke:white;stroke-width:2\"/><line x1=\"184.86578681075022\" y1=\"114.9763073768369\" x2=\"171.43075796820582\" y2=\"101.5412785342925\" stroke-linecap=\"round\" style=\"stroke:white;stroke-width:2\"/><line x1=\"171.43075796820582\" y1=\"101.5412785342925\" x2=\"184.86578681075022\" y2=\"114.9763073768369\" stroke-linecap=\"round\" style=\"stroke:white;stroke-width:2\"/><line x1=\"184.86578681075022\" y1=\"114.9763073768369\" x2=\"179.94822495380234\" y2=\"96.6237166773446\" stroke-linecap=\"round\" style=\"stroke:white;stroke-width:2\"/><line x1=\"179.94822495380234\" y1=\"96.6237166773446\" x2=\"184.86578681075022\" y2=\"114.9763073768369\" stroke-linecap=\"round\" style=\"stroke:white;stroke-width:2\"/><line x1=\"184.86578681075022\" y1=\"114.9763073768369\" x2=\"196.36578681075022\" y2=\"134.89489166387898\" stroke-linecap=\"round\" style=\"stroke:white;stroke-width:2\"/><line x1=\"196.36578681075022\" y1=\"134.89489166387898\" x2=\"216.16477668397357\" y2=\"154.6938815371023\" stroke-linecap=\"round\" style=\"stroke:white;stroke-width:2\"/><line x1=\"216.16477668397357\" y1=\"154.6938815371023\" x2=\"208.917843421103\" y2=\"127.6479584010084\" stroke-linecap=\"round\" style=\"stroke:white;stroke-width:2\"/><line x1=\"208.917843421103\" y1=\"127.6479584010084\" x2=\"197.417843421103\" y2=\"107.72937411396632\" stroke-linecap=\"round\" style=\"stroke:white;stroke-width:2\"/><line x1=\"197.417843421103\" y1=\"107.72937411396632\" x2=\"183.9828145785586\" y2=\"94.29434527142192\" stroke-linecap=\"round\" style=\"stroke:white;stroke-width:2\"/><line x1=\"183.9828145785586\" y1=\"94.29434527142192\" x2=\"197.417843421103\" y2=\"107.72937411396632\" stroke-linecap=\"round\" style=\"stroke:white;stroke-width:2\"/><line x1=\"197.417843421103\" y1=\"107.72937411396632\" x2=\"192.5002815641551\" y2=\"89.37678341447402\" stroke-linecap=\"round\" style=\"stroke:white;stroke-width:2\"/><line x1=\"192.5002815641551\" y1=\"89.37678341447402\" x2=\"197.417843421103\" y2=\"107.72937411396632\" stroke-linecap=\"round\" style=\"stroke:white;stroke-width:2\"/><line x1=\"197.417843421103\" y1=\"107.72937411396632\" x2=\"208.917843421103\" y2=\"127.6479584010084\" stroke-linecap=\"round\" style=\"stroke:white;stroke-width:2\"/><line x1=\"208.917843421103\" y1=\"127.6479584010084\" x2=\"208.917843421103\" y2=\"104.6479584010084\" stroke-linecap=\"round\" style=\"stroke:white;stroke-width:2\"/><line x1=\"208.917843421103\" y1=\"104.6479584010084\" x2=\"204.0002815641551\" y2=\"86.2953677015161\" stroke-linecap=\"round\" style=\"stroke:white;stroke-width:2\"/><line x1=\"204.0002815641551\" y1=\"86.2953677015161\" x2=\"208.917843421103\" y2=\"104.6479584010084\" stroke-linecap=\"round\" style=\"stroke:white;stroke-width:2\"/><line x1=\"208.917843421103\" y1=\"104.6479584010084\" x2=\"213.83540527805087\" y2=\"86.2953677015161\" stroke-linecap=\"round\" style=\"stroke:white;stroke-width:2\"/><line x1=\"213.83540527805087\" y1=\"86.2953677015161\" x2=\"208.917843421103\" y2=\"104.6479584010084\" stroke-linecap=\"round\" style=\"stroke:white;stroke-width:2\"/><line x1=\"208.917843421103\" y1=\"104.6479584010084\" x2=\"208.917843421103\" y2=\"127.6479584010084\" stroke-linecap=\"round\" style=\"stroke:white;stroke-width:2\"/><line x1=\"208.917843421103\" y1=\"127.6479584010084\" x2=\"216.16477668397357\" y2=\"154.6938815371023\" stroke-linecap=\"round\" style=\"stroke:white;stroke-width:2\"/><line x1=\"216.16477668397357\" y1=\"154.6938815371023\" x2=\"233.16477668397357\" y2=\"184.1387452657732\" stroke-linecap=\"round\" style=\"stroke:white;stroke-width:2\"/><line x1=\"233.16477668397357\" y1=\"184.1387452657732\" x2=\"262.8632614938086\" y2=\"213.8372300756082\" stroke-linecap=\"round\" style=\"stroke:white;stroke-width:2\"/><line x1=\"262.8632614938086\" y1=\"213.8372300756082\" x2=\"251.9928615995027\" y2=\"173.26834537146732\" stroke-linecap=\"round\" style=\"stroke:white;stroke-width:2\"/><line x1=\"251.9928615995027\" y1=\"173.26834537146732\" x2=\"234.9928615995027\" y2=\"143.82348164279642\" stroke-linecap=\"round\" style=\"stroke:white;stroke-width:2\"/><line x1=\"234.9928615995027\" y1=\"143.82348164279642\" x2=\"215.19387172627938\" y2=\"124.0244917695731\" stroke-linecap=\"round\" style=\"stroke:white;stroke-width:2\"/><line x1=\"215.19387172627938\" y1=\"124.0244917695731\" x2=\"195.2752874392373\" y2=\"112.5244917695731\" stroke-linecap=\"round\" style=\"stroke:white;stroke-width:2\"/><line x1=\"195.2752874392373\" y1=\"112.5244917695731\" x2=\"176.922696739745\" y2=\"107.6069299126252\" stroke-linecap=\"round\" style=\"stroke:white;stroke-width:2\"/><line x1=\"176.922696739745\" y1=\"107.6069299126252\" x2=\"195.27528743923727\" y2=\"112.5244917695731\" stroke-linecap=\"round\" style=\"stroke:white;stroke-width:2\"/><line x1=\"195.27528743923727\" y1=\"112.5244917695731\" x2=\"181.84025859669288\" y2=\"99.0894629270287\" stroke-linecap=\"round\" style=\"stroke:white;stroke-width:2\"/><line x1=\"181.84025859669288\" y1=\"99.0894629270287\" x2=\"195.27528743923727\" y2=\"112.5244917695731\" stroke-linecap=\"round\" style=\"stroke:white;stroke-width:2\"/><line x1=\"195.27528743923727\" y1=\"112.5244917695731\" x2=\"215.19387172627935\" y2=\"124.0244917695731\" stroke-linecap=\"round\" style=\"stroke:white;stroke-width:2\"/><line x1=\"215.19387172627935\" y1=\"124.0244917695731\" x2=\"203.69387172627935\" y2=\"104.10590748253102\" stroke-linecap=\"round\" style=\"stroke:white;stroke-width:2\"/><line x1=\"203.69387172627935\" y1=\"104.10590748253102\" x2=\"190.25884288373496\" y2=\"90.67087863998663\" stroke-linecap=\"round\" style=\"stroke:white;stroke-width:2\"/><line x1=\"190.25884288373496\" y1=\"90.67087863998663\" x2=\"203.69387172627935\" y2=\"104.10590748253102\" stroke-linecap=\"round\" style=\"stroke:white;stroke-width:2\"/><line x1=\"203.69387172627935\" y1=\"104.10590748253102\" x2=\"198.77630986933147\" y2=\"85.75331678303873\" stroke-linecap=\"round\" style=\"stroke:white;stroke-width:2\"/><line x1=\"198.77630986933147\" y1=\"85.75331678303873\" x2=\"203.69387172627935\" y2=\"104.10590748253102\" stroke-linecap=\"round\" style=\"stroke:white;stroke-width:2\"/><line x1=\"203.69387172627935\" y1=\"104.10590748253102\" x2=\"215.19387172627935\" y2=\"124.0244917695731\" stroke-linecap=\"round\" style=\"stroke:white;stroke-width:2\"/><line x1=\"215.19387172627935\" y1=\"124.0244917695731\" x2=\"234.9928615995027\" y2=\"143.82348164279642\" stroke-linecap=\"round\" style=\"stroke:white;stroke-width:2\"/><line x1=\"234.9928615995027\" y1=\"143.82348164279642\" x2=\"227.74592833663212\" y2=\"116.77755850670252\" stroke-linecap=\"round\" style=\"stroke:white;stroke-width:2\"/><line x1=\"227.74592833663212\" y1=\"116.77755850670252\" x2=\"216.24592833663212\" y2=\"96.85897421966044\" stroke-linecap=\"round\" style=\"stroke:white;stroke-width:2\"/><line x1=\"216.24592833663212\" y1=\"96.85897421966044\" x2=\"202.81089949408772\" y2=\"83.42394537711604\" stroke-linecap=\"round\" style=\"stroke:white;stroke-width:2\"/><line x1=\"202.81089949408772\" y1=\"83.42394537711604\" x2=\"216.24592833663212\" y2=\"96.85897421966044\" stroke-linecap=\"round\" style=\"stroke:white;stroke-width:2\"/><line x1=\"216.24592833663212\" y1=\"96.85897421966044\" x2=\"211.32836647968423\" y2=\"78.50638352016814\" stroke-linecap=\"round\" style=\"stroke:white;stroke-width:2\"/><line x1=\"211.32836647968423\" y1=\"78.50638352016814\" x2=\"216.24592833663212\" y2=\"96.85897421966044\" stroke-linecap=\"round\" style=\"stroke:white;stroke-width:2\"/><line x1=\"216.24592833663212\" y1=\"96.85897421966044\" x2=\"227.74592833663212\" y2=\"116.77755850670252\" stroke-linecap=\"round\" style=\"stroke:white;stroke-width:2\"/><line x1=\"227.74592833663212\" y1=\"116.77755850670252\" x2=\"227.74592833663212\" y2=\"93.77755850670252\" stroke-linecap=\"round\" style=\"stroke:white;stroke-width:2\"/><line x1=\"227.74592833663212\" y1=\"93.77755850670252\" x2=\"222.82836647968423\" y2=\"75.42496780721022\" stroke-linecap=\"round\" style=\"stroke:white;stroke-width:2\"/><line x1=\"222.82836647968423\" y1=\"75.42496780721022\" x2=\"227.74592833663212\" y2=\"93.77755850670252\" stroke-linecap=\"round\" style=\"stroke:white;stroke-width:2\"/><line x1=\"227.74592833663212\" y1=\"93.77755850670252\" x2=\"232.66349019358\" y2=\"75.42496780721022\" stroke-linecap=\"round\" style=\"stroke:white;stroke-width:2\"/><line x1=\"232.66349019358\" y1=\"75.42496780721022\" x2=\"227.74592833663212\" y2=\"93.77755850670252\" stroke-linecap=\"round\" style=\"stroke:white;stroke-width:2\"/><line x1=\"227.74592833663212\" y1=\"93.77755850670252\" x2=\"227.74592833663212\" y2=\"116.77755850670252\" stroke-linecap=\"round\" style=\"stroke:white;stroke-width:2\"/><line x1=\"227.74592833663212\" y1=\"116.77755850670252\" x2=\"234.9928615995027\" y2=\"143.82348164279642\" stroke-linecap=\"round\" style=\"stroke:white;stroke-width:2\"/><line x1=\"234.9928615995027\" y1=\"143.82348164279642\" x2=\"251.9928615995027\" y2=\"173.26834537146732\" stroke-linecap=\"round\" style=\"stroke:white;stroke-width:2\"/><line x1=\"251.9928615995027\" y1=\"173.26834537146732\" x2=\"251.9928615995027\" y2=\"139.26834537146732\" stroke-linecap=\"round\" style=\"stroke:white;stroke-width:2\"/><line x1=\"251.9928615995027\" y1=\"139.26834537146732\" x2=\"244.74592833663212\" y2=\"112.22242223537341\" stroke-linecap=\"round\" style=\"stroke:white;stroke-width:2\"/><line x1=\"244.74592833663212\" y1=\"112.22242223537341\" x2=\"233.24592833663212\" y2=\"92.30383794833133\" stroke-linecap=\"round\" style=\"stroke:white;stroke-width:2\"/><line x1=\"233.24592833663212\" y1=\"92.30383794833133\" x2=\"219.81089949408772\" y2=\"78.86880910578694\" stroke-linecap=\"round\" style=\"stroke:white;stroke-width:2\"/><line x1=\"219.81089949408772\" y1=\"78.86880910578694\" x2=\"233.24592833663212\" y2=\"92.30383794833133\" stroke-linecap=\"round\" style=\"stroke:white;stroke-width:2\"/><line x1=\"233.24592833663212\" y1=\"92.30383794833133\" x2=\"228.32836647968423\" y2=\"73.95124724883904\" stroke-linecap=\"round\" style=\"stroke:white;stroke-width:2\"/><line x1=\"228.32836647968423\" y1=\"73.95124724883904\" x2=\"233.24592833663212\" y2=\"92.30383794833133\" stroke-linecap=\"round\" style=\"stroke:white;stroke-width:2\"/><line x1=\"233.24592833663212\" y1=\"92.30383794833133\" x2=\"244.74592833663212\" y2=\"112.22242223537341\" stroke-linecap=\"round\" style=\"stroke:white;stroke-width:2\"/><line x1=\"244.74592833663212\" y1=\"112.22242223537341\" x2=\"244.74592833663212\" y2=\"89.22242223537341\" stroke-linecap=\"round\" style=\"stroke:white;stroke-width:2\"/><line x1=\"244.74592833663212\" y1=\"89.22242223537341\" x2=\"239.82836647968423\" y2=\"70.86983153588112\" stroke-linecap=\"round\" style=\"stroke:white;stroke-width:2\"/><line x1=\"239.82836647968423\" y1=\"70.86983153588112\" x2=\"244.74592833663212\" y2=\"89.22242223537341\" stroke-linecap=\"round\" style=\"stroke:white;stroke-width:2\"/><line x1=\"244.74592833663212\" y1=\"89.22242223537341\" x2=\"249.66349019358\" y2=\"70.86983153588112\" stroke-linecap=\"round\" style=\"stroke:white;stroke-width:2\"/><line x1=\"249.66349019358\" y1=\"70.86983153588112\" x2=\"244.74592833663212\" y2=\"89.22242223537341\" stroke-linecap=\"round\" style=\"stroke:white;stroke-width:2\"/><line x1=\"244.74592833663212\" y1=\"89.22242223537341\" x2=\"244.74592833663212\" y2=\"112.22242223537341\" stroke-linecap=\"round\" style=\"stroke:white;stroke-width:2\"/><line x1=\"244.74592833663212\" y1=\"112.22242223537341\" x2=\"251.9928615995027\" y2=\"139.26834537146732\" stroke-linecap=\"round\" style=\"stroke:white;stroke-width:2\"/><line x1=\"251.9928615995027\" y1=\"139.26834537146732\" x2=\"259.2397948623733\" y2=\"112.2224222353734\" stroke-linecap=\"round\" style=\"stroke:white;stroke-width:2\"/><line x1=\"259.2397948623733\" y1=\"112.2224222353734\" x2=\"259.2397948623733\" y2=\"89.2224222353734\" stroke-linecap=\"round\" style=\"stroke:white;stroke-width:2\"/><line x1=\"259.2397948623733\" y1=\"89.2224222353734\" x2=\"254.3222330054254\" y2=\"70.8698315358811\" stroke-linecap=\"round\" style=\"stroke:white;stroke-width:2\"/><line x1=\"254.3222330054254\" y1=\"70.8698315358811\" x2=\"259.2397948623733\" y2=\"89.2224222353734\" stroke-linecap=\"round\" style=\"stroke:white;stroke-width:2\"/><line x1=\"259.2397948623733\" y1=\"89.2224222353734\" x2=\"264.15735671932117\" y2=\"70.8698315358811\" stroke-linecap=\"round\" style=\"stroke:white;stroke-width:2\"/><line x1=\"264.15735671932117\" y1=\"70.8698315358811\" x2=\"259.2397948623733\" y2=\"89.2224222353734\" stroke-linecap=\"round\" style=\"stroke:white;stroke-width:2\"/><line x1=\"259.2397948623733\" y1=\"89.2224222353734\" x2=\"259.2397948623733\" y2=\"112.2224222353734\" stroke-linecap=\"round\" style=\"stroke:white;stroke-width:2\"/><line x1=\"259.2397948623733\" y1=\"112.2224222353734\" x2=\"270.7397948623733\" y2=\"92.3038379483313\" stroke-linecap=\"round\" style=\"stroke:white;stroke-width:2\"/><line x1=\"270.7397948623733\" y1=\"92.3038379483313\" x2=\"275.65735671932117\" y2=\"73.95124724883901\" stroke-linecap=\"round\" style=\"stroke:white;stroke-width:2\"/><line x1=\"275.65735671932117\" y1=\"73.95124724883901\" x2=\"270.7397948623733\" y2=\"92.3038379483313\" stroke-linecap=\"round\" style=\"stroke:white;stroke-width:2\"/><line x1=\"270.7397948623733\" y1=\"92.3038379483313\" x2=\"284.1748237049177\" y2=\"78.8688091057869\" stroke-linecap=\"round\" style=\"stroke:white;stroke-width:2\"/><line x1=\"284.1748237049177\" y1=\"78.8688091057869\" x2=\"270.7397948623733\" y2=\"92.3038379483313\" stroke-linecap=\"round\" style=\"stroke:white;stroke-width:2\"/><line x1=\"270.7397948623733\" y1=\"92.3038379483313\" x2=\"259.2397948623733\" y2=\"112.22242223537339\" stroke-linecap=\"round\" style=\"stroke:white;stroke-width:2\"/><line x1=\"259.2397948623733\" y1=\"112.22242223537339\" x2=\"251.99286159950273\" y2=\"139.2683453714673\" stroke-linecap=\"round\" style=\"stroke:white;stroke-width:2\"/><line x1=\"251.99286159950273\" y1=\"139.2683453714673\" x2=\"251.99286159950273\" y2=\"173.2683453714673\" stroke-linecap=\"round\" style=\"stroke:white;stroke-width:2\"/><line x1=\"251.99286159950273\" y1=\"173.2683453714673\" x2=\"262.8632614938086\" y2=\"213.83723007560815\" stroke-linecap=\"round\" style=\"stroke:white;stroke-width:2\"/><line x1=\"262.8632614938086\" y1=\"213.83723007560815\" x2=\"288.8632614938086\" y2=\"258.87055107239894\" stroke-linecap=\"round\" style=\"stroke:white;stroke-width:2\"/><line x1=\"288.8632614938086\" y1=\"258.87055107239894\" x2=\"334.11809548974765\" y2=\"304.125385068338\" stroke-linecap=\"round\" style=\"stroke:white;stroke-width:2\"/><line x1=\"334.11809548974765\" y1=\"304.125385068338\" x2=\"317.5536766031863\" y2=\"242.30613218583764\" stroke-linecap=\"round\" style=\"stroke:white;stroke-width:4\"/><line x1=\"317.5536766031863\" y1=\"242.30613218583764\" x2=\"291.5536766031863\" y2=\"197.27281118904685\" stroke-linecap=\"round\" style=\"stroke:white;stroke-width:3\"/><line x1=\"291.5536766031863\" y1=\"197.27281118904685\" x2=\"261.8551917933513\" y2=\"167.57432637921187\" stroke-linecap=\"round\" style=\"stroke:white;stroke-width:2\"/><line x1=\"261.8551917933513\" y1=\"167.57432637921187\" x2=\"232.41032806468039\" y2=\"150.57432637921187\" stroke-linecap=\"round\" style=\"stroke:white;stroke-width:2\"/><line x1=\"232.41032806468039\" y1=\"150.57432637921187\" x2=\"205.36440492858648\" y2=\"143.32739311634128\" stroke-linecap=\"round\" style=\"stroke:white;stroke-width:2\"/><line x1=\"205.36440492858648\" y1=\"143.32739311634128\" x2=\"182.36440492858648\" y2=\"143.32739311634128\" stroke-linecap=\"round\" style=\"stroke:white;stroke-width:2\"/><line x1=\"182.36440492858648\" y1=\"143.32739311634128\" x2=\"164.01181422909417\" y2=\"148.2449549732892\" stroke-linecap=\"round\" style=\"stroke:white;stroke-width:2\"/><line x1=\"164.01181422909417\" y1=\"148.2449549732892\" x2=\"182.36440492858645\" y2=\"143.32739311634128\" stroke-linecap=\"round\" style=\"stroke:white;stroke-width:2\"/><line x1=\"182.36440492858645\" y1=\"143.32739311634128\" x2=\"164.01181422909417\" y2=\"138.4098312593934\" stroke-linecap=\"round\" style=\"stroke:white;stroke-width:2\"/><line x1=\"164.01181422909417\" y1=\"138.4098312593934\" x2=\"182.36440492858645\" y2=\"143.32739311634128\" stroke-linecap=\"round\" style=\"stroke:white;stroke-width:2\"/><line x1=\"182.36440492858645\" y1=\"143.32739311634128\" x2=\"205.36440492858645\" y2=\"143.32739311634128\" stroke-linecap=\"round\" style=\"stroke:white;stroke-width:2\"/><line x1=\"205.36440492858645\" y1=\"143.32739311634128\" x2=\"185.44582064154437\" y2=\"131.82739311634128\" stroke-linecap=\"round\" style=\"stroke:white;stroke-width:2\"/><line x1=\"185.44582064154437\" y1=\"131.82739311634128\" x2=\"167.09322994205206\" y2=\"126.90983125939339\" stroke-linecap=\"round\" style=\"stroke:white;stroke-width:2\"/><line x1=\"167.09322994205206\" y1=\"126.90983125939339\" x2=\"185.44582064154434\" y2=\"131.82739311634128\" stroke-linecap=\"round\" style=\"stroke:white;stroke-width:2\"/><line x1=\"185.44582064154434\" y1=\"131.82739311634128\" x2=\"172.01079179899995\" y2=\"118.39236427379689\" stroke-linecap=\"round\" style=\"stroke:white;stroke-width:2\"/><line x1=\"172.01079179899995\" y1=\"118.39236427379689\" x2=\"185.44582064154434\" y2=\"131.82739311634128\" stroke-linecap=\"round\" style=\"stroke:white;stroke-width:2\"/><line x1=\"185.44582064154434\" y1=\"131.82739311634128\" x2=\"205.36440492858642\" y2=\"143.32739311634128\" stroke-linecap=\"round\" style=\"stroke:white;stroke-width:2\"/><line x1=\"205.36440492858642\" y1=\"143.32739311634128\" x2=\"232.41032806468033\" y2=\"150.57432637921187\" stroke-linecap=\"round\" style=\"stroke:white;stroke-width:2\"/><line x1=\"232.41032806468033\" y1=\"150.57432637921187\" x2=\"212.61133819145698\" y2=\"130.77533650598855\" stroke-linecap=\"round\" style=\"stroke:white;stroke-width:2\"/><line x1=\"212.61133819145698\" y1=\"130.77533650598855\" x2=\"192.6927539044149\" y2=\"119.27533650598855\" stroke-linecap=\"round\" style=\"stroke:white;stroke-width:2\"/><line x1=\"192.6927539044149\" y1=\"119.27533650598855\" x2=\"174.3401632049226\" y2=\"114.35777464904065\" stroke-linecap=\"round\" style=\"stroke:white;stroke-width:2\"/><line x1=\"174.3401632049226\" y1=\"114.35777464904065\" x2=\"192.69275390441487\" y2=\"119.27533650598855\" stroke-linecap=\"round\" style=\"stroke:white;stroke-width:2\"/><line x1=\"192.69275390441487\" y1=\"119.27533650598855\" x2=\"179.25772506187047\" y2=\"105.84030766344415\" stroke-linecap=\"round\" style=\"stroke:white;stroke-width:2\"/><line x1=\"179.25772506187047\" y1=\"105.84030766344415\" x2=\"192.69275390441487\" y2=\"119.27533650598855\" stroke-linecap=\"round\" style=\"stroke:white;stroke-width:2\"/><line x1=\"192.69275390441487\" y1=\"119.27533650598855\" x2=\"212.61133819145695\" y2=\"130.77533650598855\" stroke-linecap=\"round\" style=\"stroke:white;stroke-width:2\"/><line x1=\"212.61133819145695\" y1=\"130.77533650598855\" x2=\"201.11133819145695\" y2=\"110.85675221894647\" stroke-linecap=\"round\" style=\"stroke:white;stroke-width:2\"/><line x1=\"201.11133819145695\" y1=\"110.85675221894647\" x2=\"187.67630934891255\" y2=\"97.42172337640207\" stroke-linecap=\"round\" style=\"stroke:white;stroke-width:2\"/><line x1=\"187.67630934891255\" y1=\"97.42172337640207\" x2=\"201.11133819145695\" y2=\"110.85675221894647\" stroke-linecap=\"round\" style=\"stroke:white;stroke-width:2\"/><line x1=\"201.11133819145695\" y1=\"110.85675221894647\" x2=\"196.19377633450907\" y2=\"92.50416151945417\" stroke-linecap=\"round\" style=\"stroke:white;stroke-width:2\"/><line x1=\"196.19377633450907\" y1=\"92.50416151945417\" x2=\"201.11133819145695\" y2=\"110.85675221894647\" stroke-linecap=\"round\" style=\"stroke:white;stroke-width:2\"/><line x1=\"201.11133819145695\" y1=\"110.85675221894647\" x2=\"212.61133819145695\" y2=\"130.77533650598855\" stroke-linecap=\"round\" style=\"stroke:white;stroke-width:2\"/><line x1=\"212.61133819145695\" y1=\"130.77533650598855\" x2=\"232.4103280646803\" y2=\"150.57432637921187\" stroke-linecap=\"round\" style=\"stroke:white;stroke-width:2\"/><line x1=\"232.4103280646803\" y1=\"150.57432637921187\" x2=\"261.8551917933512\" y2=\"167.57432637921187\" stroke-linecap=\"round\" style=\"stroke:white;stroke-width:2\"/><line x1=\"261.8551917933512\" y1=\"167.57432637921187\" x2=\"244.8551917933512\" y2=\"138.12946265054097\" stroke-linecap=\"round\" style=\"stroke:white;stroke-width:2\"/><line x1=\"244.8551917933512\" y1=\"138.12946265054097\" x2=\"225.05620192012788\" y2=\"118.33047277731765\" stroke-linecap=\"round\" style=\"stroke:white;stroke-width:2\"/><line x1=\"225.05620192012788\" y1=\"118.33047277731765\" x2=\"205.1376176330858\" y2=\"106.83047277731765\" stroke-linecap=\"round\" style=\"stroke:white;stroke-width:2\"/><line x1=\"205.1376176330858\" y1=\"106.83047277731765\" x2=\"186.78502693359349\" y2=\"101.91291092036975\" stroke-linecap=\"round\" style=\"stroke:white;stroke-width:2\"/><line x1=\"186.78502693359349\" y1=\"101.91291092036975\" x2=\"205.13761763308577\" y2=\"106.83047277731765\" stroke-linecap=\"round\" style=\"stroke:white;stroke-width:2\"/><line x1=\"205.13761763308577\" y1=\"106.83047277731765\" x2=\"191.70258879054137\" y2=\"93.39544393477325\" stroke-linecap=\"round\" style=\"stroke:white;stroke-width:2\"/><line x1=\"191.70258879054137\" y1=\"93.39544393477325\" x2=\"205.13761763308577\" y2=\"106.83047277731765\" stroke-linecap=\"round\" style=\"stroke:white;stroke-width:2\"/><line x1=\"205.13761763308577\" y1=\"106.83047277731765\" x2=\"225.05620192012785\" y2=\"118.33047277731765\" stroke-linecap=\"round\" style=\"stroke:white;stroke-width:2\"/><line x1=\"225.05620192012785\" y1=\"118.33047277731765\" x2=\"213.55620192012785\" y2=\"98.41188849027557\" stroke-linecap=\"round\" style=\"stroke:white;stroke-width:2\"/><line x1=\"213.55620192012785\" y1=\"98.41188849027557\" x2=\"200.12117307758345\" y2=\"84.97685964773117\" stroke-linecap=\"round\" style=\"stroke:white;stroke-width:2\"/><line x1=\"200.12117307758345\" y1=\"84.97685964773117\" x2=\"213.55620192012785\" y2=\"98.41188849027557\" stroke-linecap=\"round\" style=\"stroke:white;stroke-width:2\"/><line x1=\"213.55620192012785\" y1=\"98.41188849027557\" x2=\"208.63864006317996\" y2=\"80.05929779078328\" stroke-linecap=\"round\" style=\"stroke:white;stroke-width:2\"/><line x1=\"208.63864006317996\" y1=\"80.05929779078328\" x2=\"213.55620192012785\" y2=\"98.41188849027557\" stroke-linecap=\"round\" style=\"stroke:white;stroke-width:2\"/><line x1=\"213.55620192012785\" y1=\"98.41188849027557\" x2=\"225.05620192012785\" y2=\"118.33047277731765\" stroke-linecap=\"round\" style=\"stroke:white;stroke-width:2\"/><line x1=\"225.05620192012785\" y1=\"118.33047277731765\" x2=\"244.8551917933512\" y2=\"138.12946265054097\" stroke-linecap=\"round\" style=\"stroke:white;stroke-width:2\"/><line x1=\"244.8551917933512\" y1=\"138.12946265054097\" x2=\"237.6082585304806\" y2=\"111.08353951444707\" stroke-linecap=\"round\" style=\"stroke:white;stroke-width:2\"/><line x1=\"237.6082585304806\" y1=\"111.08353951444707\" x2=\"226.1082585304806\" y2=\"91.16495522740499\" stroke-linecap=\"round\" style=\"stroke:white;stroke-width:2\"/><line x1=\"226.1082585304806\" y1=\"91.16495522740499\" x2=\"212.6732296879362\" y2=\"77.72992638486059\" stroke-linecap=\"round\" style=\"stroke:white;stroke-width:2\"/><line x1=\"212.6732296879362\" y1=\"77.72992638486059\" x2=\"226.1082585304806\" y2=\"91.16495522740499\" stroke-linecap=\"round\" style=\"stroke:white;stroke-width:2\"/><line x1=\"226.1082585304806\" y1=\"91.16495522740499\" x2=\"221.19069667353273\" y2=\"72.81236452791269\" stroke-linecap=\"round\" style=\"stroke:white;stroke-width:2\"/><line x1=\"221.19069667353273\" y1=\"72.81236452791269\" x2=\"226.1082585304806\" y2=\"91.16495522740499\" stroke-linecap=\"round\" style=\"stroke:white;stroke-width:2\"/><line x1=\"226.1082585304806\" y1=\"91.16495522740499\" x2=\"237.6082585304806\" y2=\"111.08353951444707\" stroke-linecap=\"round\" style=\"stroke:white;stroke-width:2\"/><line x1=\"237.6082585304806\" y1=\"111.08353951444707\" x2=\"237.6082585304806\" y2=\"88.08353951444707\" stroke-linecap=\"round\" style=\"stroke:white;stroke-width:2\"/><line x1=\"237.6082585304806\" y1=\"88.08353951444707\" x2=\"232.69069667353273\" y2=\"69.73094881495477\" stroke-linecap=\"round\" style=\"stroke:white;stroke-width:2\"/><line x1=\"232.69069667353273\" y1=\"69.73094881495477\" x2=\"237.6082585304806\" y2=\"88.08353951444707\" stroke-linecap=\"round\" style=\"stroke:white;stroke-width:2\"/><line x1=\"237.6082585304806\" y1=\"88.08353951444707\" x2=\"242.5258203874285\" y2=\"69.73094881495477\" stroke-linecap=\"round\" style=\"stroke:white;stroke-width:2\"/><line x1=\"242.5258203874285\" y1=\"69.73094881495477\" x2=\"237.6082585304806\" y2=\"88.08353951444707\" stroke-linecap=\"round\" style=\"stroke:white;stroke-width:2\"/><line x1=\"237.6082585304806\" y1=\"88.08353951444707\" x2=\"237.6082585304806\" y2=\"111.08353951444707\" stroke-linecap=\"round\" style=\"stroke:white;stroke-width:2\"/><line x1=\"237.6082585304806\" y1=\"111.08353951444707\" x2=\"244.8551917933512\" y2=\"138.12946265054097\" stroke-linecap=\"round\" style=\"stroke:white;stroke-width:2\"/><line x1=\"244.8551917933512\" y1=\"138.12946265054097\" x2=\"261.8551917933512\" y2=\"167.57432637921187\" stroke-linecap=\"round\" style=\"stroke:white;stroke-width:2\"/><line x1=\"261.8551917933512\" y1=\"167.57432637921187\" x2=\"291.5536766031862\" y2=\"197.27281118904688\" stroke-linecap=\"round\" style=\"stroke:white;stroke-width:2\"/><line x1=\"291.5536766031862\" y1=\"197.27281118904688\" x2=\"280.6832767088803\" y2=\"156.703926484906\" stroke-linecap=\"round\" style=\"stroke:white;stroke-width:2\"/><line x1=\"280.6832767088803\" y1=\"156.703926484906\" x2=\"263.6832767088803\" y2=\"127.2590627562351\" stroke-linecap=\"round\" style=\"stroke:white;stroke-width:2\"/><line x1=\"263.6832767088803\" y1=\"127.2590627562351\" x2=\"243.884286835657\" y2=\"107.46007288301178\" stroke-linecap=\"round\" style=\"stroke:white;stroke-width:2\"/><line x1=\"243.884286835657\" y1=\"107.46007288301178\" x2=\"223.96570254861493\" y2=\"95.96007288301178\" stroke-linecap=\"round\" style=\"stroke:white;stroke-width:2\"/><line x1=\"223.96570254861493\" y1=\"95.96007288301178\" x2=\"205.61311184912262\" y2=\"91.04251102606388\" stroke-linecap=\"round\" style=\"stroke:white;stroke-width:2\"/><line x1=\"205.61311184912262\" y1=\"91.04251102606388\" x2=\"223.9657025486149\" y2=\"95.96007288301178\" stroke-linecap=\"round\" style=\"stroke:white;stroke-width:2\"/><line x1=\"223.9657025486149\" y1=\"95.96007288301178\" x2=\"210.5306737060705\" y2=\"82.52504404046738\" stroke-linecap=\"round\" style=\"stroke:white;stroke-width:2\"/><line x1=\"210.5306737060705\" y1=\"82.52504404046738\" x2=\"223.9657025486149\" y2=\"95.96007288301178\" stroke-linecap=\"round\" style=\"stroke:white;stroke-width:2\"/><line x1=\"223.9657025486149\" y1=\"95.96007288301178\" x2=\"243.88428683565698\" y2=\"107.46007288301178\" stroke-linecap=\"round\" style=\"stroke:white;stroke-width:2\"/><line x1=\"243.88428683565698\" y1=\"107.46007288301178\" x2=\"232.38428683565698\" y2=\"87.5414885959697\" stroke-linecap=\"round\" style=\"stroke:white;stroke-width:2\"/><line x1=\"232.38428683565698\" y1=\"87.5414885959697\" x2=\"218.94925799311258\" y2=\"74.1064597534253\" stroke-linecap=\"round\" style=\"stroke:white;stroke-width:2\"/><line x1=\"218.94925799311258\" y1=\"74.1064597534253\" x2=\"232.38428683565698\" y2=\"87.5414885959697\" stroke-linecap=\"round\" style=\"stroke:white;stroke-width:2\"/><line x1=\"232.38428683565698\" y1=\"87.5414885959697\" x2=\"227.4667249787091\" y2=\"69.1888978964774\" stroke-linecap=\"round\" style=\"stroke:white;stroke-width:2\"/><line x1=\"227.4667249787091\" y1=\"69.1888978964774\" x2=\"232.38428683565698\" y2=\"87.5414885959697\" stroke-linecap=\"round\" style=\"stroke:white;stroke-width:2\"/><line x1=\"232.38428683565698\" y1=\"87.5414885959697\" x2=\"243.88428683565698\" y2=\"107.46007288301178\" stroke-linecap=\"round\" style=\"stroke:white;stroke-width:2\"/><line x1=\"243.88428683565698\" y1=\"107.46007288301178\" x2=\"263.6832767088803\" y2=\"127.2590627562351\" stroke-linecap=\"round\" style=\"stroke:white;stroke-width:2\"/><line x1=\"263.6832767088803\" y1=\"127.2590627562351\" x2=\"256.43634344600974\" y2=\"100.21313962014119\" stroke-linecap=\"round\" style=\"stroke:white;stroke-width:2\"/><line x1=\"256.43634344600974\" y1=\"100.21313962014119\" x2=\"244.93634344600974\" y2=\"80.29455533309911\" stroke-linecap=\"round\" style=\"stroke:white;stroke-width:2\"/><line x1=\"244.93634344600974\" y1=\"80.29455533309911\" x2=\"231.50131460346535\" y2=\"66.85952649055471\" stroke-linecap=\"round\" style=\"stroke:white;stroke-width:2\"/><line x1=\"231.50131460346535\" y1=\"66.85952649055471\" x2=\"244.93634344600974\" y2=\"80.29455533309911\" stroke-linecap=\"round\" style=\"stroke:white;stroke-width:2\"/><line x1=\"244.93634344600974\" y1=\"80.29455533309911\" x2=\"240.01878158906186\" y2=\"61.941964633606815\" stroke-linecap=\"round\" style=\"stroke:white;stroke-width:2\"/><line x1=\"240.01878158906186\" y1=\"61.941964633606815\" x2=\"244.93634344600974\" y2=\"80.29455533309911\" stroke-linecap=\"round\" style=\"stroke:white;stroke-width:2\"/><line x1=\"244.93634344600974\" y1=\"80.29455533309911\" x2=\"256.43634344600974\" y2=\"100.21313962014119\" stroke-linecap=\"round\" style=\"stroke:white;stroke-width:2\"/><line x1=\"256.43634344600974\" y1=\"100.21313962014119\" x2=\"256.43634344600974\" y2=\"77.21313962014119\" stroke-linecap=\"round\" style=\"stroke:white;stroke-width:2\"/><line x1=\"256.43634344600974\" y1=\"77.21313962014119\" x2=\"251.51878158906186\" y2=\"58.860548920648895\" stroke-linecap=\"round\" style=\"stroke:white;stroke-width:2\"/><line x1=\"251.51878158906186\" y1=\"58.860548920648895\" x2=\"256.43634344600974\" y2=\"77.21313962014119\" stroke-linecap=\"round\" style=\"stroke:white;stroke-width:2\"/><line x1=\"256.43634344600974\" y1=\"77.21313962014119\" x2=\"261.3539053029576\" y2=\"58.860548920648895\" stroke-linecap=\"round\" style=\"stroke:white;stroke-width:2\"/><line x1=\"261.3539053029576\" y1=\"58.860548920648895\" x2=\"256.43634344600974\" y2=\"77.21313962014119\" stroke-linecap=\"round\" style=\"stroke:white;stroke-width:2\"/><line x1=\"256.43634344600974\" y1=\"77.21313962014119\" x2=\"256.43634344600974\" y2=\"100.21313962014119\" stroke-linecap=\"round\" style=\"stroke:white;stroke-width:2\"/><line x1=\"256.43634344600974\" y1=\"100.21313962014119\" x2=\"263.6832767088803\" y2=\"127.2590627562351\" stroke-linecap=\"round\" style=\"stroke:white;stroke-width:2\"/><line x1=\"263.6832767088803\" y1=\"127.2590627562351\" x2=\"280.6832767088803\" y2=\"156.703926484906\" stroke-linecap=\"round\" style=\"stroke:white;stroke-width:2\"/><line x1=\"280.6832767088803\" y1=\"156.703926484906\" x2=\"280.6832767088803\" y2=\"122.70392648490599\" stroke-linecap=\"round\" style=\"stroke:white;stroke-width:2\"/><line x1=\"280.6832767088803\" y1=\"122.70392648490599\" x2=\"273.43634344600974\" y2=\"95.65800334881209\" stroke-linecap=\"round\" style=\"stroke:white;stroke-width:2\"/><line x1=\"273.43634344600974\" y1=\"95.65800334881209\" x2=\"261.93634344600974\" y2=\"75.73941906177001\" stroke-linecap=\"round\" style=\"stroke:white;stroke-width:2\"/><line x1=\"261.93634344600974\" y1=\"75.73941906177001\" x2=\"248.50131460346535\" y2=\"62.30439021922561\" stroke-linecap=\"round\" style=\"stroke:white;stroke-width:2\"/><line x1=\"248.50131460346535\" y1=\"62.30439021922561\" x2=\"261.93634344600974\" y2=\"75.73941906177001\" stroke-linecap=\"round\" style=\"stroke:white;stroke-width:2\"/><line x1=\"261.93634344600974\" y1=\"75.73941906177001\" x2=\"257.01878158906186\" y2=\"57.38682836227771\" stroke-linecap=\"round\" style=\"stroke:white;stroke-width:2\"/><line x1=\"257.01878158906186\" y1=\"57.38682836227771\" x2=\"261.93634344600974\" y2=\"75.73941906177001\" stroke-linecap=\"round\" style=\"stroke:white;stroke-width:2\"/><line x1=\"261.93634344600974\" y1=\"75.73941906177001\" x2=\"273.43634344600974\" y2=\"95.65800334881209\" stroke-linecap=\"round\" style=\"stroke:white;stroke-width:2\"/><line x1=\"273.43634344600974\" y1=\"95.65800334881209\" x2=\"273.43634344600974\" y2=\"72.65800334881209\" stroke-linecap=\"round\" style=\"stroke:white;stroke-width:2\"/><line x1=\"273.43634344600974\" y1=\"72.65800334881209\" x2=\"268.51878158906186\" y2=\"54.30541264931979\" stroke-linecap=\"round\" style=\"stroke:white;stroke-width:2\"/><line x1=\"268.51878158906186\" y1=\"54.30541264931979\" x2=\"273.43634344600974\" y2=\"72.65800334881209\" stroke-linecap=\"round\" style=\"stroke:white;stroke-width:2\"/><line x1=\"273.43634344600974\" y1=\"72.65800334881209\" x2=\"278.3539053029576\" y2=\"54.30541264931979\" stroke-linecap=\"round\" style=\"stroke:white;stroke-width:2\"/><line x1=\"278.3539053029576\" y1=\"54.30541264931979\" x2=\"273.43634344600974\" y2=\"72.65800334881209\" stroke-linecap=\"round\" style=\"stroke:white;stroke-width:2\"/><line x1=\"273.43634344600974\" y1=\"72.65800334881209\" x2=\"273.43634344600974\" y2=\"95.65800334881209\" stroke-linecap=\"round\" style=\"stroke:white;stroke-width:2\"/><line x1=\"273.43634344600974\" y1=\"95.65800334881209\" x2=\"280.6832767088803\" y2=\"122.70392648490599\" stroke-linecap=\"round\" style=\"stroke:white;stroke-width:2\"/><line x1=\"280.6832767088803\" y1=\"122.70392648490599\" x2=\"287.9302099717509\" y2=\"95.65800334881207\" stroke-linecap=\"round\" style=\"stroke:white;stroke-width:2\"/><line x1=\"287.9302099717509\" y1=\"95.65800334881207\" x2=\"287.9302099717509\" y2=\"72.65800334881207\" stroke-linecap=\"round\" style=\"stroke:white;stroke-width:2\"/><line x1=\"287.9302099717509\" y1=\"72.65800334881207\" x2=\"283.012648114803\" y2=\"54.30541264931978\" stroke-linecap=\"round\" style=\"stroke:white;stroke-width:2\"/><line x1=\"283.012648114803\" y1=\"54.30541264931978\" x2=\"287.9302099717509\" y2=\"72.65800334881207\" stroke-linecap=\"round\" style=\"stroke:white;stroke-width:2\"/><line x1=\"287.9302099717509\" y1=\"72.65800334881207\" x2=\"292.8477718286988\" y2=\"54.30541264931978\" stroke-linecap=\"round\" style=\"stroke:white;stroke-width:2\"/><line x1=\"292.8477718286988\" y1=\"54.30541264931978\" x2=\"287.9302099717509\" y2=\"72.65800334881207\" stroke-linecap=\"round\" style=\"stroke:white;stroke-width:2\"/><line x1=\"287.9302099717509\" y1=\"72.65800334881207\" x2=\"287.9302099717509\" y2=\"95.65800334881207\" stroke-linecap=\"round\" style=\"stroke:white;stroke-width:2\"/><line x1=\"287.9302099717509\" y1=\"95.65800334881207\" x2=\"299.4302099717509\" y2=\"75.73941906176998\" stroke-linecap=\"round\" style=\"stroke:white;stroke-width:2\"/><line x1=\"299.4302099717509\" y1=\"75.73941906176998\" x2=\"304.3477718286988\" y2=\"57.38682836227768\" stroke-linecap=\"round\" style=\"stroke:white;stroke-width:2\"/><line x1=\"304.3477718286988\" y1=\"57.38682836227768\" x2=\"299.4302099717509\" y2=\"75.73941906176998\" stroke-linecap=\"round\" style=\"stroke:white;stroke-width:2\"/><line x1=\"299.4302099717509\" y1=\"75.73941906176998\" x2=\"312.8652388142953\" y2=\"62.304390219225574\" stroke-linecap=\"round\" style=\"stroke:white;stroke-width:2\"/><line x1=\"312.8652388142953\" y1=\"62.304390219225574\" x2=\"299.4302099717509\" y2=\"75.73941906176998\" stroke-linecap=\"round\" style=\"stroke:white;stroke-width:2\"/><line x1=\"299.4302099717509\" y1=\"75.73941906176998\" x2=\"287.9302099717509\" y2=\"95.65800334881206\" stroke-linecap=\"round\" style=\"stroke:white;stroke-width:2\"/><line x1=\"287.9302099717509\" y1=\"95.65800334881206\" x2=\"280.6832767088803\" y2=\"122.70392648490598\" stroke-linecap=\"round\" style=\"stroke:white;stroke-width:2\"/><line x1=\"280.6832767088803\" y1=\"122.70392648490598\" x2=\"280.6832767088803\" y2=\"156.703926484906\" stroke-linecap=\"round\" style=\"stroke:white;stroke-width:2\"/><line x1=\"280.6832767088803\" y1=\"156.703926484906\" x2=\"291.5536766031862\" y2=\"197.27281118904688\" stroke-linecap=\"round\" style=\"stroke:white;stroke-width:2\"/><line x1=\"291.5536766031862\" y1=\"197.27281118904688\" x2=\"317.5536766031862\" y2=\"242.30613218583767\" stroke-linecap=\"round\" style=\"stroke:white;stroke-width:2\"/><line x1=\"317.5536766031862\" y1=\"242.30613218583767\" x2=\"317.5536766031862\" y2=\"190.30613218583767\" stroke-linecap=\"round\" style=\"stroke:white;stroke-width:3\"/><line x1=\"317.5536766031862\" y1=\"190.30613218583767\" x2=\"306.6832767088803\" y2=\"149.73724748169678\" stroke-linecap=\"round\" style=\"stroke:white;stroke-width:2\"/><line x1=\"306.6832767088803\" y1=\"149.73724748169678\" x2=\"289.6832767088803\" y2=\"120.29238375302589\" stroke-linecap=\"round\" style=\"stroke:white;stroke-width:2\"/><line x1=\"289.6832767088803\" y1=\"120.29238375302589\" x2=\"269.884286835657\" y2=\"100.49339387980257\" stroke-linecap=\"round\" style=\"stroke:white;stroke-width:2\"/><line x1=\"269.884286835657\" y1=\"100.49339387980257\" x2=\"249.96570254861493\" y2=\"88.99339387980257\" stroke-linecap=\"round\" style=\"stroke:white;stroke-width:2\"/><line x1=\"249.96570254861493\" y1=\"88.99339387980257\" x2=\"231.61311184912262\" y2=\"84.07583202285467\" stroke-linecap=\"round\" style=\"stroke:white;stroke-width:2\"/><line x1=\"231.61311184912262\" y1=\"84.07583202285467\" x2=\"249.9657025486149\" y2=\"88.99339387980257\" stroke-linecap=\"round\" style=\"stroke:white;stroke-width:2\"/><line x1=\"249.9657025486149\" y1=\"88.99339387980257\" x2=\"236.5306737060705\" y2=\"75.55836503725817\" stroke-linecap=\"round\" style=\"stroke:white;stroke-width:2\"/><line x1=\"236.5306737060705\" y1=\"75.55836503725817\" x2=\"249.9657025486149\" y2=\"88.99339387980257\" stroke-linecap=\"round\" style=\"stroke:white;stroke-width:2\"/><line x1=\"249.9657025486149\" y1=\"88.99339387980257\" x2=\"269.884286835657\" y2=\"100.49339387980257\" stroke-linecap=\"round\" style=\"stroke:white;stroke-width:2\"/><line x1=\"269.884286835657\" y1=\"100.49339387980257\" x2=\"258.384286835657\" y2=\"80.57480959276049\" stroke-linecap=\"round\" style=\"stroke:white;stroke-width:2\"/><line x1=\"258.384286835657\" y1=\"80.57480959276049\" x2=\"244.9492579931126\" y2=\"67.13978075021609\" stroke-linecap=\"round\" style=\"stroke:white;stroke-width:2\"/><line x1=\"244.9492579931126\" y1=\"67.13978075021609\" x2=\"258.384286835657\" y2=\"80.57480959276049\" stroke-linecap=\"round\" style=\"stroke:white;stroke-width:2\"/><line x1=\"258.384286835657\" y1=\"80.57480959276049\" x2=\"253.46672497870912\" y2=\"62.22221889326819\" stroke-linecap=\"round\" style=\"stroke:white;stroke-width:2\"/><line x1=\"253.46672497870912\" y1=\"62.22221889326819\" x2=\"258.384286835657\" y2=\"80.57480959276049\" stroke-linecap=\"round\" style=\"stroke:white;stroke-width:2\"/><line x1=\"258.384286835657\" y1=\"80.57480959276049\" x2=\"269.884286835657\" y2=\"100.49339387980257\" stroke-linecap=\"round\" style=\"stroke:white;stroke-width:2\"/><line x1=\"269.884286835657\" y1=\"100.49339387980257\" x2=\"289.6832767088803\" y2=\"120.29238375302589\" stroke-linecap=\"round\" style=\"stroke:white;stroke-width:2\"/><line x1=\"289.6832767088803\" y1=\"120.29238375302589\" x2=\"282.43634344600974\" y2=\"93.24646061693198\" stroke-linecap=\"round\" style=\"stroke:white;stroke-width:2\"/><line x1=\"282.43634344600974\" y1=\"93.24646061693198\" x2=\"270.93634344600974\" y2=\"73.3278763298899\" stroke-linecap=\"round\" style=\"stroke:white;stroke-width:2\"/><line x1=\"270.93634344600974\" y1=\"73.3278763298899\" x2=\"257.50131460346535\" y2=\"59.892847487345506\" stroke-linecap=\"round\" style=\"stroke:white;stroke-width:2\"/><line x1=\"257.50131460346535\" y1=\"59.892847487345506\" x2=\"270.93634344600974\" y2=\"73.3278763298899\" stroke-linecap=\"round\" style=\"stroke:white;stroke-width:2\"/><line x1=\"270.93634344600974\" y1=\"73.3278763298899\" x2=\"266.01878158906186\" y2=\"54.97528563039761\" stroke-linecap=\"round\" style=\"stroke:white;stroke-width:2\"/><line x1=\"266.01878158906186\" y1=\"54.97528563039761\" x2=\"270.93634344600974\" y2=\"73.3278763298899\" stroke-linecap=\"round\" style=\"stroke:white;stroke-width:2\"/><line x1=\"270.93634344600974\" y1=\"73.3278763298899\" x2=\"282.43634344600974\" y2=\"93.24646061693198\" stroke-linecap=\"round\" style=\"stroke:white;stroke-width:2\"/><line x1=\"282.43634344600974\" y1=\"93.24646061693198\" x2=\"282.43634344600974\" y2=\"70.24646061693198\" stroke-linecap=\"round\" style=\"stroke:white;stroke-width:2\"/><line x1=\"282.43634344600974\" y1=\"70.24646061693198\" x2=\"277.51878158906186\" y2=\"51.89386991743969\" stroke-linecap=\"round\" style=\"stroke:white;stroke-width:2\"/><line x1=\"277.51878158906186\" y1=\"51.89386991743969\" x2=\"282.43634344600974\" y2=\"70.24646061693198\" stroke-linecap=\"round\" style=\"stroke:white;stroke-width:2\"/><line x1=\"282.43634344600974\" y1=\"70.24646061693198\" x2=\"287.3539053029576\" y2=\"51.89386991743969\" stroke-linecap=\"round\" style=\"stroke:white;stroke-width:2\"/><line x1=\"287.3539053029576\" y1=\"51.89386991743969\" x2=\"282.43634344600974\" y2=\"70.24646061693198\" stroke-linecap=\"round\" style=\"stroke:white;stroke-width:2\"/><line x1=\"282.43634344600974\" y1=\"70.24646061693198\" x2=\"282.43634344600974\" y2=\"93.24646061693198\" stroke-linecap=\"round\" style=\"stroke:white;stroke-width:2\"/><line x1=\"282.43634344600974\" y1=\"93.24646061693198\" x2=\"289.6832767088803\" y2=\"120.29238375302589\" stroke-linecap=\"round\" style=\"stroke:white;stroke-width:2\"/><line x1=\"289.6832767088803\" y1=\"120.29238375302589\" x2=\"306.6832767088803\" y2=\"149.73724748169678\" stroke-linecap=\"round\" style=\"stroke:white;stroke-width:2\"/><line x1=\"306.6832767088803\" y1=\"149.73724748169678\" x2=\"306.6832767088803\" y2=\"115.73724748169678\" stroke-linecap=\"round\" style=\"stroke:white;stroke-width:2\"/><line x1=\"306.6832767088803\" y1=\"115.73724748169678\" x2=\"299.43634344600974\" y2=\"88.69132434560288\" stroke-linecap=\"round\" style=\"stroke:white;stroke-width:2\"/><line x1=\"299.43634344600974\" y1=\"88.69132434560288\" x2=\"287.93634344600974\" y2=\"68.7727400585608\" stroke-linecap=\"round\" style=\"stroke:white;stroke-width:2\"/><line x1=\"287.93634344600974\" y1=\"68.7727400585608\" x2=\"274.50131460346535\" y2=\"55.3377112160164\" stroke-linecap=\"round\" style=\"stroke:white;stroke-width:2\"/><line x1=\"274.50131460346535\" y1=\"55.3377112160164\" x2=\"287.93634344600974\" y2=\"68.7727400585608\" stroke-linecap=\"round\" style=\"stroke:white;stroke-width:2\"/><line x1=\"287.93634344600974\" y1=\"68.7727400585608\" x2=\"283.01878158906186\" y2=\"50.4201493590685\" stroke-linecap=\"round\" style=\"stroke:white;stroke-width:2\"/><line x1=\"283.01878158906186\" y1=\"50.4201493590685\" x2=\"287.93634344600974\" y2=\"68.7727400585608\" stroke-linecap=\"round\" style=\"stroke:white;stroke-width:2\"/><line x1=\"287.93634344600974\" y1=\"68.7727400585608\" x2=\"299.43634344600974\" y2=\"88.69132434560288\" stroke-linecap=\"round\" style=\"stroke:white;stroke-width:2\"/><line x1=\"299.43634344600974\" y1=\"88.69132434560288\" x2=\"299.43634344600974\" y2=\"65.69132434560288\" stroke-linecap=\"round\" style=\"stroke:white;stroke-width:2\"/><line x1=\"299.43634344600974\" y1=\"65.69132434560288\" x2=\"294.51878158906186\" y2=\"47.33873364611058\" stroke-linecap=\"round\" style=\"stroke:white;stroke-width:2\"/><line x1=\"294.51878158906186\" y1=\"47.33873364611058\" x2=\"299.43634344600974\" y2=\"65.69132434560288\" stroke-linecap=\"round\" style=\"stroke:white;stroke-width:2\"/><line x1=\"299.43634344600974\" y1=\"65.69132434560288\" x2=\"304.3539053029576\" y2=\"47.33873364611058\" stroke-linecap=\"round\" style=\"stroke:white;stroke-width:2\"/><line x1=\"304.3539053029576\" y1=\"47.33873364611058\" x2=\"299.43634344600974\" y2=\"65.69132434560288\" stroke-linecap=\"round\" style=\"stroke:white;stroke-width:2\"/><line x1=\"299.43634344600974\" y1=\"65.69132434560288\" x2=\"299.43634344600974\" y2=\"88.69132434560288\" stroke-linecap=\"round\" style=\"stroke:white;stroke-width:2\"/><line x1=\"299.43634344600974\" y1=\"88.69132434560288\" x2=\"306.6832767088803\" y2=\"115.73724748169678\" stroke-linecap=\"round\" style=\"stroke:white;stroke-width:2\"/><line x1=\"306.6832767088803\" y1=\"115.73724748169678\" x2=\"313.9302099717509\" y2=\"88.69132434560287\" stroke-linecap=\"round\" style=\"stroke:white;stroke-width:2\"/><line x1=\"313.9302099717509\" y1=\"88.69132434560287\" x2=\"313.9302099717509\" y2=\"65.69132434560287\" stroke-linecap=\"round\" style=\"stroke:white;stroke-width:2\"/><line x1=\"313.9302099717509\" y1=\"65.69132434560287\" x2=\"309.012648114803\" y2=\"47.33873364611057\" stroke-linecap=\"round\" style=\"stroke:white;stroke-width:2\"/><line x1=\"309.012648114803\" y1=\"47.33873364611057\" x2=\"313.9302099717509\" y2=\"65.69132434560287\" stroke-linecap=\"round\" style=\"stroke:white;stroke-width:2\"/><line x1=\"313.9302099717509\" y1=\"65.69132434560287\" x2=\"318.8477718286988\" y2=\"47.33873364611057\" stroke-linecap=\"round\" style=\"stroke:white;stroke-width:2\"/><line x1=\"318.8477718286988\" y1=\"47.33873364611057\" x2=\"313.9302099717509\" y2=\"65.69132434560287\" stroke-linecap=\"round\" style=\"stroke:white;stroke-width:2\"/><line x1=\"313.9302099717509\" y1=\"65.69132434560287\" x2=\"313.9302099717509\" y2=\"88.69132434560287\" stroke-linecap=\"round\" style=\"stroke:white;stroke-width:2\"/><line x1=\"313.9302099717509\" y1=\"88.69132434560287\" x2=\"325.4302099717509\" y2=\"68.77274005856077\" stroke-linecap=\"round\" style=\"stroke:white;stroke-width:2\"/><line x1=\"325.4302099717509\" y1=\"68.77274005856077\" x2=\"330.3477718286988\" y2=\"50.420149359068475\" stroke-linecap=\"round\" style=\"stroke:white;stroke-width:2\"/><line x1=\"330.3477718286988\" y1=\"50.420149359068475\" x2=\"325.4302099717509\" y2=\"68.77274005856077\" stroke-linecap=\"round\" style=\"stroke:white;stroke-width:2\"/><line x1=\"325.4302099717509\" y1=\"68.77274005856077\" x2=\"338.8652388142953\" y2=\"55.337711216016366\" stroke-linecap=\"round\" style=\"stroke:white;stroke-width:2\"/><line x1=\"338.8652388142953\" y1=\"55.337711216016366\" x2=\"325.4302099717509\" y2=\"68.77274005856077\" stroke-linecap=\"round\" style=\"stroke:white;stroke-width:2\"/><line x1=\"325.4302099717509\" y1=\"68.77274005856077\" x2=\"313.9302099717509\" y2=\"88.69132434560285\" stroke-linecap=\"round\" style=\"stroke:white;stroke-width:2\"/><line x1=\"313.9302099717509\" y1=\"88.69132434560285\" x2=\"306.6832767088803\" y2=\"115.73724748169677\" stroke-linecap=\"round\" style=\"stroke:white;stroke-width:2\"/><line x1=\"306.6832767088803\" y1=\"115.73724748169677\" x2=\"306.6832767088803\" y2=\"149.73724748169678\" stroke-linecap=\"round\" style=\"stroke:white;stroke-width:2\"/><line x1=\"306.6832767088803\" y1=\"149.73724748169678\" x2=\"317.5536766031862\" y2=\"190.30613218583767\" stroke-linecap=\"round\" style=\"stroke:white;stroke-width:2\"/><line x1=\"317.5536766031862\" y1=\"190.30613218583767\" x2=\"328.4240764974921\" y2=\"149.73724748169678\" stroke-linecap=\"round\" style=\"stroke:white;stroke-width:2\"/><line x1=\"328.4240764974921\" y1=\"149.73724748169678\" x2=\"328.4240764974921\" y2=\"115.73724748169678\" stroke-linecap=\"round\" style=\"stroke:white;stroke-width:2\"/><line x1=\"328.4240764974921\" y1=\"115.73724748169678\" x2=\"321.1771432346215\" y2=\"88.69132434560288\" stroke-linecap=\"round\" style=\"stroke:white;stroke-width:2\"/><line x1=\"321.1771432346215\" y1=\"88.69132434560288\" x2=\"309.6771432346215\" y2=\"68.7727400585608\" stroke-linecap=\"round\" style=\"stroke:white;stroke-width:2\"/><line x1=\"309.6771432346215\" y1=\"68.7727400585608\" x2=\"296.2421143920771\" y2=\"55.3377112160164\" stroke-linecap=\"round\" style=\"stroke:white;stroke-width:2\"/><line x1=\"296.2421143920771\" y1=\"55.3377112160164\" x2=\"309.6771432346215\" y2=\"68.7727400585608\" stroke-linecap=\"round\" style=\"stroke:white;stroke-width:2\"/><line x1=\"309.6771432346215\" y1=\"68.7727400585608\" x2=\"304.7595813776736\" y2=\"50.4201493590685\" stroke-linecap=\"round\" style=\"stroke:white;stroke-width:2\"/><line x1=\"304.7595813776736\" y1=\"50.4201493590685\" x2=\"309.6771432346215\" y2=\"68.7727400585608\" stroke-linecap=\"round\" style=\"stroke:white;stroke-width:2\"/><line x1=\"309.6771432346215\" y1=\"68.7727400585608\" x2=\"321.1771432346215\" y2=\"88.69132434560288\" stroke-linecap=\"round\" style=\"stroke:white;stroke-width:2\"/><line x1=\"321.1771432346215\" y1=\"88.69132434560288\" x2=\"321.1771432346215\" y2=\"65.69132434560288\" stroke-linecap=\"round\" style=\"stroke:white;stroke-width:2\"/><line x1=\"321.1771432346215\" y1=\"65.69132434560288\" x2=\"316.2595813776736\" y2=\"47.33873364611058\" stroke-linecap=\"round\" style=\"stroke:white;stroke-width:2\"/><line x1=\"316.2595813776736\" y1=\"47.33873364611058\" x2=\"321.1771432346215\" y2=\"65.69132434560288\" stroke-linecap=\"round\" style=\"stroke:white;stroke-width:2\"/><line x1=\"321.1771432346215\" y1=\"65.69132434560288\" x2=\"326.0947050915694\" y2=\"47.33873364611058\" stroke-linecap=\"round\" style=\"stroke:white;stroke-width:2\"/><line x1=\"326.0947050915694\" y1=\"47.33873364611058\" x2=\"321.1771432346215\" y2=\"65.69132434560288\" stroke-linecap=\"round\" style=\"stroke:white;stroke-width:2\"/><line x1=\"321.1771432346215\" y1=\"65.69132434560288\" x2=\"321.1771432346215\" y2=\"88.69132434560288\" stroke-linecap=\"round\" style=\"stroke:white;stroke-width:2\"/><line x1=\"321.1771432346215\" y1=\"88.69132434560288\" x2=\"328.4240764974921\" y2=\"115.73724748169678\" stroke-linecap=\"round\" style=\"stroke:white;stroke-width:2\"/><line x1=\"328.4240764974921\" y1=\"115.73724748169678\" x2=\"335.67100976036267\" y2=\"88.69132434560287\" stroke-linecap=\"round\" style=\"stroke:white;stroke-width:2\"/><line x1=\"335.67100976036267\" y1=\"88.69132434560287\" x2=\"335.67100976036267\" y2=\"65.69132434560287\" stroke-linecap=\"round\" style=\"stroke:white;stroke-width:2\"/><line x1=\"335.67100976036267\" y1=\"65.69132434560287\" x2=\"330.7534479034148\" y2=\"47.33873364611057\" stroke-linecap=\"round\" style=\"stroke:white;stroke-width:2\"/><line x1=\"330.7534479034148\" y1=\"47.33873364611057\" x2=\"335.67100976036267\" y2=\"65.69132434560287\" stroke-linecap=\"round\" style=\"stroke:white;stroke-width:2\"/><line x1=\"335.67100976036267\" y1=\"65.69132434560287\" x2=\"340.58857161731055\" y2=\"47.33873364611057\" stroke-linecap=\"round\" style=\"stroke:white;stroke-width:2\"/><line x1=\"340.58857161731055\" y1=\"47.33873364611057\" x2=\"335.67100976036267\" y2=\"65.69132434560287\" stroke-linecap=\"round\" style=\"stroke:white;stroke-width:2\"/><line x1=\"335.67100976036267\" y1=\"65.69132434560287\" x2=\"335.67100976036267\" y2=\"88.69132434560287\" stroke-linecap=\"round\" style=\"stroke:white;stroke-width:2\"/><line x1=\"335.67100976036267\" y1=\"88.69132434560287\" x2=\"347.17100976036267\" y2=\"68.77274005856077\" stroke-linecap=\"round\" style=\"stroke:white;stroke-width:2\"/><line x1=\"347.17100976036267\" y1=\"68.77274005856077\" x2=\"352.08857161731055\" y2=\"50.420149359068475\" stroke-linecap=\"round\" style=\"stroke:white;stroke-width:2\"/><line x1=\"352.08857161731055\" y1=\"50.420149359068475\" x2=\"347.17100976036267\" y2=\"68.77274005856077\" stroke-linecap=\"round\" style=\"stroke:white;stroke-width:2\"/><line x1=\"347.17100976036267\" y1=\"68.77274005856077\" x2=\"360.60603860290706\" y2=\"55.337711216016366\" stroke-linecap=\"round\" style=\"stroke:white;stroke-width:2\"/><line x1=\"360.60603860290706\" y1=\"55.337711216016366\" x2=\"347.17100976036267\" y2=\"68.77274005856077\" stroke-linecap=\"round\" style=\"stroke:white;stroke-width:2\"/><line x1=\"347.17100976036267\" y1=\"68.77274005856077\" x2=\"335.67100976036267\" y2=\"88.69132434560285\" stroke-linecap=\"round\" style=\"stroke:white;stroke-width:2\"/><line x1=\"335.67100976036267\" y1=\"88.69132434560285\" x2=\"328.4240764974921\" y2=\"115.73724748169677\" stroke-linecap=\"round\" style=\"stroke:white;stroke-width:2\"/><line x1=\"328.4240764974921\" y1=\"115.73724748169677\" x2=\"328.4240764974921\" y2=\"149.73724748169678\" stroke-linecap=\"round\" style=\"stroke:white;stroke-width:2\"/><line x1=\"328.4240764974921\" y1=\"149.73724748169678\" x2=\"345.4240764974921\" y2=\"120.29238375302587\" stroke-linecap=\"round\" style=\"stroke:white;stroke-width:2\"/><line x1=\"345.4240764974921\" y1=\"120.29238375302587\" x2=\"352.67100976036267\" y2=\"93.24646061693196\" stroke-linecap=\"round\" style=\"stroke:white;stroke-width:2\"/><line x1=\"352.67100976036267\" y1=\"93.24646061693196\" x2=\"352.67100976036267\" y2=\"70.24646061693196\" stroke-linecap=\"round\" style=\"stroke:white;stroke-width:2\"/><line x1=\"352.67100976036267\" y1=\"70.24646061693196\" x2=\"347.7534479034148\" y2=\"51.89386991743966\" stroke-linecap=\"round\" style=\"stroke:white;stroke-width:2\"/><line x1=\"347.7534479034148\" y1=\"51.89386991743966\" x2=\"352.67100976036267\" y2=\"70.24646061693196\" stroke-linecap=\"round\" style=\"stroke:white;stroke-width:2\"/><line x1=\"352.67100976036267\" y1=\"70.24646061693196\" x2=\"357.58857161731055\" y2=\"51.89386991743966\" stroke-linecap=\"round\" style=\"stroke:white;stroke-width:2\"/><line x1=\"357.58857161731055\" y1=\"51.89386991743966\" x2=\"352.67100976036267\" y2=\"70.24646061693196\" stroke-linecap=\"round\" style=\"stroke:white;stroke-width:2\"/><line x1=\"352.67100976036267\" y1=\"70.24646061693196\" x2=\"352.67100976036267\" y2=\"93.24646061693196\" stroke-linecap=\"round\" style=\"stroke:white;stroke-width:2\"/><line x1=\"352.67100976036267\" y1=\"93.24646061693196\" x2=\"364.17100976036267\" y2=\"73.32787632988988\" stroke-linecap=\"round\" style=\"stroke:white;stroke-width:2\"/><line x1=\"364.17100976036267\" y1=\"73.32787632988988\" x2=\"369.08857161731055\" y2=\"54.97528563039758\" stroke-linecap=\"round\" style=\"stroke:white;stroke-width:2\"/><line x1=\"369.08857161731055\" y1=\"54.97528563039758\" x2=\"364.17100976036267\" y2=\"73.32787632988988\" stroke-linecap=\"round\" style=\"stroke:white;stroke-width:2\"/><line x1=\"364.17100976036267\" y1=\"73.32787632988988\" x2=\"377.60603860290706\" y2=\"59.89284748734547\" stroke-linecap=\"round\" style=\"stroke:white;stroke-width:2\"/><line x1=\"377.60603860290706\" y1=\"59.89284748734547\" x2=\"364.17100976036267\" y2=\"73.32787632988988\" stroke-linecap=\"round\" style=\"stroke:white;stroke-width:2\"/><line x1=\"364.17100976036267\" y1=\"73.32787632988988\" x2=\"352.67100976036267\" y2=\"93.24646061693196\" stroke-linecap=\"round\" style=\"stroke:white;stroke-width:2\"/><line x1=\"352.67100976036267\" y1=\"93.24646061693196\" x2=\"345.4240764974921\" y2=\"120.29238375302587\" stroke-linecap=\"round\" style=\"stroke:white;stroke-width:2\"/><line x1=\"345.4240764974921\" y1=\"120.29238375302587\" x2=\"365.2230663707154\" y2=\"100.49339387980254\" stroke-linecap=\"round\" style=\"stroke:white;stroke-width:2\"/><line x1=\"365.2230663707154\" y1=\"100.49339387980254\" x2=\"376.7230663707154\" y2=\"80.57480959276046\" stroke-linecap=\"round\" style=\"stroke:white;stroke-width:2\"/><line x1=\"376.7230663707154\" y1=\"80.57480959276046\" x2=\"381.6406282276633\" y2=\"62.22221889326816\" stroke-linecap=\"round\" style=\"stroke:white;stroke-width:2\"/><line x1=\"381.6406282276633\" y1=\"62.22221889326816\" x2=\"376.7230663707154\" y2=\"80.57480959276046\" stroke-linecap=\"round\" style=\"stroke:white;stroke-width:2\"/><line x1=\"376.7230663707154\" y1=\"80.57480959276046\" x2=\"390.1580952132598\" y2=\"67.13978075021605\" stroke-linecap=\"round\" style=\"stroke:white;stroke-width:2\"/><line x1=\"390.1580952132598\" y1=\"67.13978075021605\" x2=\"376.7230663707154\" y2=\"80.57480959276046\" stroke-linecap=\"round\" style=\"stroke:white;stroke-width:2\"/><line x1=\"376.7230663707154\" y1=\"80.57480959276046\" x2=\"365.2230663707154\" y2=\"100.49339387980254\" stroke-linecap=\"round\" style=\"stroke:white;stroke-width:2\"/><line x1=\"365.2230663707154\" y1=\"100.49339387980254\" x2=\"385.1416506577575\" y2=\"88.99339387980253\" stroke-linecap=\"round\" style=\"stroke:white;stroke-width:2\"/><line x1=\"385.1416506577575\" y1=\"88.99339387980253\" x2=\"398.5766795003019\" y2=\"75.55836503725811\" stroke-linecap=\"round\" style=\"stroke:white;stroke-width:2\"/><line x1=\"398.5766795003019\" y1=\"75.55836503725811\" x2=\"385.1416506577575\" y2=\"88.99339387980253\" stroke-linecap=\"round\" style=\"stroke:white;stroke-width:2\"/><line x1=\"385.1416506577575\" y1=\"88.99339387980253\" x2=\"403.4942413572498\" y2=\"84.07583202285463\" stroke-linecap=\"round\" style=\"stroke:white;stroke-width:2\"/><line x1=\"403.4942413572498\" y1=\"84.07583202285463\" x2=\"385.1416506577575\" y2=\"88.99339387980253\" stroke-linecap=\"round\" style=\"stroke:white;stroke-width:2\"/><line x1=\"385.1416506577575\" y1=\"88.99339387980253\" x2=\"365.2230663707154\" y2=\"100.49339387980254\" stroke-linecap=\"round\" style=\"stroke:white;stroke-width:2\"/><line x1=\"365.2230663707154\" y1=\"100.49339387980254\" x2=\"345.4240764974921\" y2=\"120.29238375302587\" stroke-linecap=\"round\" style=\"stroke:white;stroke-width:2\"/><line x1=\"345.4240764974921\" y1=\"120.29238375302587\" x2=\"328.4240764974921\" y2=\"149.73724748169678\" stroke-linecap=\"round\" style=\"stroke:white;stroke-width:2\"/><line x1=\"328.4240764974921\" y1=\"149.73724748169678\" x2=\"317.5536766031862\" y2=\"190.30613218583767\" stroke-linecap=\"round\" style=\"stroke:white;stroke-width:2\"/><line x1=\"317.5536766031862\" y1=\"190.30613218583767\" x2=\"317.5536766031862\" y2=\"242.30613218583767\" stroke-linecap=\"round\" style=\"stroke:white;stroke-width:2\"/><line x1=\"317.5536766031862\" y1=\"242.30613218583767\" x2=\"334.11809548974753\" y2=\"304.12538506833806\" stroke-linecap=\"round\" style=\"stroke:white;stroke-width:2\"/><line x1=\"334.11809548974753\" y1=\"304.12538506833806\" x2=\"374.1180954897476\" y2=\"373.4074173710931\" stroke-linecap=\"round\" style=\"stroke:white;stroke-width:2\"/><line x1=\"374.1180954897476\" y1=\"373.4074173710931\" x2=\"374.1180954897476\" y2=\"293.4074173710931\" stroke-linecap=\"round\" style=\"stroke:white;stroke-width:6\"/><line x1=\"374.1180954897476\" y1=\"293.4074173710931\" x2=\"357.55367660318626\" y2=\"231.58816448859275\" stroke-linecap=\"round\" style=\"stroke:white;stroke-width:4\"/><line x1=\"357.55367660318626\" y1=\"231.58816448859275\" x2=\"331.55367660318626\" y2=\"186.55484349180196\" stroke-linecap=\"round\" style=\"stroke:white;stroke-width:3\"/><line x1=\"331.55367660318626\" y1=\"186.55484349180196\" x2=\"301.85519179335125\" y2=\"156.85635868196698\" stroke-linecap=\"round\" style=\"stroke:white;stroke-width:2\"/><line x1=\"301.85519179335125\" y1=\"156.85635868196698\" x2=\"272.41032806468036\" y2=\"139.85635868196698\" stroke-linecap=\"round\" style=\"stroke:white;stroke-width:2\"/><line x1=\"272.41032806468036\" y1=\"139.85635868196698\" x2=\"245.36440492858645\" y2=\"132.6094254190964\" stroke-linecap=\"round\" style=\"stroke:white;stroke-width:2\"/><line x1=\"245.36440492858645\" y1=\"132.6094254190964\" x2=\"222.36440492858645\" y2=\"132.6094254190964\" stroke-linecap=\"round\" style=\"stroke:white;stroke-width:2\"/><line x1=\"222.36440492858645\" y1=\"132.6094254190964\" x2=\"204.01181422909417\" y2=\"137.5269872760443\" stroke-linecap=\"round\" style=\"stroke:white;stroke-width:2\"/><line x1=\"204.01181422909417\" y1=\"137.5269872760443\" x2=\"222.36440492858645\" y2=\"132.6094254190964\" stroke-linecap=\"round\" style=\"stroke:white;stroke-width:2\"/><line x1=\"222.36440492858645\" y1=\"132.6094254190964\" x2=\"204.01181422909417\" y2=\"127.6918635621485\" stroke-linecap=\"round\" style=\"stroke:white;stroke-width:2\"/><line x1=\"204.01181422909417\" y1=\"127.6918635621485\" x2=\"222.36440492858645\" y2=\"132.6094254190964\" stroke-linecap=\"round\" style=\"stroke:white;stroke-width:2\"/><line x1=\"222.36440492858645\" y1=\"132.6094254190964\" x2=\"245.36440492858645\" y2=\"132.6094254190964\" stroke-linecap=\"round\" style=\"stroke:white;stroke-width:2\"/><line x1=\"245.36440492858645\" y1=\"132.6094254190964\" x2=\"225.44582064154437\" y2=\"121.1094254190964\" stroke-linecap=\"round\" style=\"stroke:white;stroke-width:2\"/><line x1=\"225.44582064154437\" y1=\"121.1094254190964\" x2=\"207.09322994205206\" y2=\"116.1918635621485\" stroke-linecap=\"round\" style=\"stroke:white;stroke-width:2\"/><line x1=\"207.09322994205206\" y1=\"116.1918635621485\" x2=\"225.44582064154434\" y2=\"121.1094254190964\" stroke-linecap=\"round\" style=\"stroke:white;stroke-width:2\"/><line x1=\"225.44582064154434\" y1=\"121.1094254190964\" x2=\"212.01079179899995\" y2=\"107.674396576552\" stroke-linecap=\"round\" style=\"stroke:white;stroke-width:2\"/><line x1=\"212.01079179899995\" y1=\"107.674396576552\" x2=\"225.44582064154434\" y2=\"121.1094254190964\" stroke-linecap=\"round\" style=\"stroke:white;stroke-width:2\"/><line x1=\"225.44582064154434\" y1=\"121.1094254190964\" x2=\"245.36440492858642\" y2=\"132.6094254190964\" stroke-linecap=\"round\" style=\"stroke:white;stroke-width:2\"/><line x1=\"245.36440492858642\" y1=\"132.6094254190964\" x2=\"272.41032806468036\" y2=\"139.85635868196698\" stroke-linecap=\"round\" style=\"stroke:white;stroke-width:2\"/><line x1=\"272.41032806468036\" y1=\"139.85635868196698\" x2=\"252.61133819145704\" y2=\"120.05736880874366\" stroke-linecap=\"round\" style=\"stroke:white;stroke-width:2\"/><line x1=\"252.61133819145704\" y1=\"120.05736880874366\" x2=\"232.69275390441496\" y2=\"108.55736880874366\" stroke-linecap=\"round\" style=\"stroke:white;stroke-width:2\"/><line x1=\"232.69275390441496\" y1=\"108.55736880874366\" x2=\"214.34016320492265\" y2=\"103.63980695179576\" stroke-linecap=\"round\" style=\"stroke:white;stroke-width:2\"/><line x1=\"214.34016320492265\" y1=\"103.63980695179576\" x2=\"232.69275390441493\" y2=\"108.55736880874366\" stroke-linecap=\"round\" style=\"stroke:white;stroke-width:2\"/><line x1=\"232.69275390441493\" y1=\"108.55736880874366\" x2=\"219.25772506187053\" y2=\"95.12233996619926\" stroke-linecap=\"round\" style=\"stroke:white;stroke-width:2\"/><line x1=\"219.25772506187053\" y1=\"95.12233996619926\" x2=\"232.69275390441493\" y2=\"108.55736880874366\" stroke-linecap=\"round\" style=\"stroke:white;stroke-width:2\"/><line x1=\"232.69275390441493\" y1=\"108.55736880874366\" x2=\"252.611338191457\" y2=\"120.05736880874366\" stroke-linecap=\"round\" style=\"stroke:white;stroke-width:2\"/><line x1=\"252.611338191457\" y1=\"120.05736880874366\" x2=\"241.111338191457\" y2=\"100.13878452170158\" stroke-linecap=\"round\" style=\"stroke:white;stroke-width:2\"/><line x1=\"241.111338191457\" y1=\"100.13878452170158\" x2=\"227.6763093489126\" y2=\"86.70375567915718\" stroke-linecap=\"round\" style=\"stroke:white;stroke-width:2\"/><line x1=\"227.6763093489126\" y1=\"86.70375567915718\" x2=\"241.111338191457\" y2=\"100.13878452170158\" stroke-linecap=\"round\" style=\"stroke:white;stroke-width:2\"/><line x1=\"241.111338191457\" y1=\"100.13878452170158\" x2=\"236.19377633450912\" y2=\"81.78619382220928\" stroke-linecap=\"round\" style=\"stroke:white;stroke-width:2\"/><line x1=\"236.19377633450912\" y1=\"81.78619382220928\" x2=\"241.111338191457\" y2=\"100.13878452170158\" stroke-linecap=\"round\" style=\"stroke:white;stroke-width:2\"/><line x1=\"241.111338191457\" y1=\"100.13878452170158\" x2=\"252.611338191457\" y2=\"120.05736880874366\" stroke-linecap=\"round\" style=\"stroke:white;stroke-width:2\"/><line x1=\"252.611338191457\" y1=\"120.05736880874366\" x2=\"272.41032806468036\" y2=\"139.85635868196698\" stroke-linecap=\"round\" style=\"stroke:white;stroke-width:2\"/><line x1=\"272.41032806468036\" y1=\"139.85635868196698\" x2=\"301.85519179335125\" y2=\"156.85635868196698\" stroke-linecap=\"round\" style=\"stroke:white;stroke-width:2\"/><line x1=\"301.85519179335125\" y1=\"156.85635868196698\" x2=\"284.85519179335125\" y2=\"127.41149495329608\" stroke-linecap=\"round\" style=\"stroke:white;stroke-width:2\"/><line x1=\"284.85519179335125\" y1=\"127.41149495329608\" x2=\"265.05620192012793\" y2=\"107.61250508007276\" stroke-linecap=\"round\" style=\"stroke:white;stroke-width:2\"/><line x1=\"265.05620192012793\" y1=\"107.61250508007276\" x2=\"245.13761763308585\" y2=\"96.11250508007276\" stroke-linecap=\"round\" style=\"stroke:white;stroke-width:2\"/><line x1=\"245.13761763308585\" y1=\"96.11250508007276\" x2=\"226.78502693359354\" y2=\"91.19494322312487\" stroke-linecap=\"round\" style=\"stroke:white;stroke-width:2\"/><line x1=\"226.78502693359354\" y1=\"91.19494322312487\" x2=\"245.13761763308582\" y2=\"96.11250508007276\" stroke-linecap=\"round\" style=\"stroke:white;stroke-width:2\"/><line x1=\"245.13761763308582\" y1=\"96.11250508007276\" x2=\"231.70258879054143\" y2=\"82.67747623752837\" stroke-linecap=\"round\" style=\"stroke:white;stroke-width:2\"/><line x1=\"231.70258879054143\" y1=\"82.67747623752837\" x2=\"245.13761763308582\" y2=\"96.11250508007276\" stroke-linecap=\"round\" style=\"stroke:white;stroke-width:2\"/><line x1=\"245.13761763308582\" y1=\"96.11250508007276\" x2=\"265.05620192012793\" y2=\"107.61250508007276\" stroke-linecap=\"round\" style=\"stroke:white;stroke-width:2\"/><line x1=\"265.05620192012793\" y1=\"107.61250508007276\" x2=\"253.55620192012793\" y2=\"87.69392079303068\" stroke-linecap=\"round\" style=\"stroke:white;stroke-width:2\"/><line x1=\"253.55620192012793\" y1=\"87.69392079303068\" x2=\"240.12117307758353\" y2=\"74.25889195048629\" stroke-linecap=\"round\" style=\"stroke:white;stroke-width:2\"/><line x1=\"240.12117307758353\" y1=\"74.25889195048629\" x2=\"253.55620192012793\" y2=\"87.69392079303068\" stroke-linecap=\"round\" style=\"stroke:white;stroke-width:2\"/><line x1=\"253.55620192012793\" y1=\"87.69392079303068\" x2=\"248.63864006318005\" y2=\"69.34133009353839\" stroke-linecap=\"round\" style=\"stroke:white;stroke-width:2\"/><line x1=\"248.63864006318005\" y1=\"69.34133009353839\" x2=\"253.55620192012793\" y2=\"87.69392079303068\" stroke-linecap=\"round\" style=\"stroke:white;stroke-width:2\"/><line x1=\"253.55620192012793\" y1=\"87.69392079303068\" x2=\"265.05620192012793\" y2=\"107.61250508007276\" stroke-linecap=\"round\" style=\"stroke:white;stroke-width:2\"/><line x1=\"265.05620192012793\" y1=\"107.61250508007276\" x2=\"284.85519179335125\" y2=\"127.41149495329608\" stroke-linecap=\"round\" style=\"stroke:white;stroke-width:2\"/><line x1=\"284.85519179335125\" y1=\"127.41149495329608\" x2=\"277.60825853048067\" y2=\"100.36557181720218\" stroke-linecap=\"round\" style=\"stroke:white;stroke-width:2\"/><line x1=\"277.60825853048067\" y1=\"100.36557181720218\" x2=\"266.10825853048067\" y2=\"80.4469875301601\" stroke-linecap=\"round\" style=\"stroke:white;stroke-width:2\"/><line x1=\"266.10825853048067\" y1=\"80.4469875301601\" x2=\"252.67322968793627\" y2=\"67.0119586876157\" stroke-linecap=\"round\" style=\"stroke:white;stroke-width:2\"/><line x1=\"252.67322968793627\" y1=\"67.0119586876157\" x2=\"266.10825853048067\" y2=\"80.4469875301601\" stroke-linecap=\"round\" style=\"stroke:white;stroke-width:2\"/><line x1=\"266.10825853048067\" y1=\"80.4469875301601\" x2=\"261.1906966735328\" y2=\"62.094396830667804\" stroke-linecap=\"round\" style=\"stroke:white;stroke-width:2\"/><line x1=\"261.1906966735328\" y1=\"62.094396830667804\" x2=\"266.10825853048067\" y2=\"80.4469875301601\" stroke-linecap=\"round\" style=\"stroke:white;stroke-width:2\"/><line x1=\"266.10825853048067\" y1=\"80.4469875301601\" x2=\"277.60825853048067\" y2=\"100.36557181720218\" stroke-linecap=\"round\" style=\"stroke:white;stroke-width:2\"/><line x1=\"277.60825853048067\" y1=\"100.36557181720218\" x2=\"277.60825853048067\" y2=\"77.36557181720218\" stroke-linecap=\"round\" style=\"stroke:white;stroke-width:2\"/><line x1=\"277.60825853048067\" y1=\"77.36557181720218\" x2=\"272.6906966735328\" y2=\"59.012981117709884\" stroke-linecap=\"round\" style=\"stroke:white;stroke-width:2\"/><line x1=\"272.6906966735328\" y1=\"59.012981117709884\" x2=\"277.60825853048067\" y2=\"77.36557181720218\" stroke-linecap=\"round\" style=\"stroke:white;stroke-width:2\"/><line x1=\"277.60825853048067\" y1=\"77.36557181720218\" x2=\"282.52582038742855\" y2=\"59.012981117709884\" stroke-linecap=\"round\" style=\"stroke:white;stroke-width:2\"/><line x1=\"282.52582038742855\" y1=\"59.012981117709884\" x2=\"277.60825853048067\" y2=\"77.36557181720218\" stroke-linecap=\"round\" style=\"stroke:white;stroke-width:2\"/><line x1=\"277.60825853048067\" y1=\"77.36557181720218\" x2=\"277.60825853048067\" y2=\"100.36557181720218\" stroke-linecap=\"round\" style=\"stroke:white;stroke-width:2\"/><line x1=\"277.60825853048067\" y1=\"100.36557181720218\" x2=\"284.85519179335125\" y2=\"127.41149495329608\" stroke-linecap=\"round\" style=\"stroke:white;stroke-width:2\"/><line x1=\"284.85519179335125\" y1=\"127.41149495329608\" x2=\"301.85519179335125\" y2=\"156.85635868196698\" stroke-linecap=\"round\" style=\"stroke:white;stroke-width:2\"/><line x1=\"301.85519179335125\" y1=\"156.85635868196698\" x2=\"331.55367660318626\" y2=\"186.554843491802\" stroke-linecap=\"round\" style=\"stroke:white;stroke-width:2\"/><line x1=\"331.55367660318626\" y1=\"186.554843491802\" x2=\"320.6832767088804\" y2=\"145.9859587876611\" stroke-linecap=\"round\" style=\"stroke:white;stroke-width:2\"/><line x1=\"320.6832767088804\" y1=\"145.9859587876611\" x2=\"303.6832767088804\" y2=\"116.54109505899021\" stroke-linecap=\"round\" style=\"stroke:white;stroke-width:2\"/><line x1=\"303.6832767088804\" y1=\"116.54109505899021\" x2=\"283.88428683565706\" y2=\"96.74210518576689\" stroke-linecap=\"round\" style=\"stroke:white;stroke-width:2\"/><line x1=\"283.88428683565706\" y1=\"96.74210518576689\" x2=\"263.96570254861496\" y2=\"85.24210518576689\" stroke-linecap=\"round\" style=\"stroke:white;stroke-width:2\"/><line x1=\"263.96570254861496\" y1=\"85.24210518576689\" x2=\"245.61311184912267\" y2=\"80.32454332881899\" stroke-linecap=\"round\" style=\"stroke:white;stroke-width:2\"/><line x1=\"245.61311184912267\" y1=\"80.32454332881899\" x2=\"263.96570254861496\" y2=\"85.24210518576689\" stroke-linecap=\"round\" style=\"stroke:white;stroke-width:2\"/><line x1=\"263.96570254861496\" y1=\"85.24210518576689\" x2=\"250.53067370607056\" y2=\"71.80707634322249\" stroke-linecap=\"round\" style=\"stroke:white;stroke-width:2\"/><line x1=\"250.53067370607056\" y1=\"71.80707634322249\" x2=\"263.96570254861496\" y2=\"85.24210518576689\" stroke-linecap=\"round\" style=\"stroke:white;stroke-width:2\"/><line x1=\"263.96570254861496\" y1=\"85.24210518576689\" x2=\"283.88428683565706\" y2=\"96.74210518576689\" stroke-linecap=\"round\" style=\"stroke:white;stroke-width:2\"/><line x1=\"283.88428683565706\" y1=\"96.74210518576689\" x2=\"272.38428683565706\" y2=\"76.82352089872481\" stroke-linecap=\"round\" style=\"stroke:white;stroke-width:2\"/><line x1=\"272.38428683565706\" y1=\"76.82352089872481\" x2=\"258.94925799311267\" y2=\"63.38849205618041\" stroke-linecap=\"round\" style=\"stroke:white;stroke-width:2\"/><line x1=\"258.94925799311267\" y1=\"63.38849205618041\" x2=\"272.38428683565706\" y2=\"76.82352089872481\" stroke-linecap=\"round\" style=\"stroke:white;stroke-width:2\"/><line x1=\"272.38428683565706\" y1=\"76.82352089872481\" x2=\"267.4667249787092\" y2=\"58.47093019923251\" stroke-linecap=\"round\" style=\"stroke:white;stroke-width:2\"/><line x1=\"267.4667249787092\" y1=\"58.47093019923251\" x2=\"272.38428683565706\" y2=\"76.82352089872481\" stroke-linecap=\"round\" style=\"stroke:white;stroke-width:2\"/><line x1=\"272.38428683565706\" y1=\"76.82352089872481\" x2=\"283.88428683565706\" y2=\"96.74210518576689\" stroke-linecap=\"round\" style=\"stroke:white;stroke-width:2\"/><line x1=\"283.88428683565706\" y1=\"96.74210518576689\" x2=\"303.6832767088804\" y2=\"116.54109505899021\" stroke-linecap=\"round\" style=\"stroke:white;stroke-width:2\"/><line x1=\"303.6832767088804\" y1=\"116.54109505899021\" x2=\"296.4363434460098\" y2=\"89.4951719228963\" stroke-linecap=\"round\" style=\"stroke:white;stroke-width:2\"/><line x1=\"296.4363434460098\" y1=\"89.4951719228963\" x2=\"284.9363434460098\" y2=\"69.57658763585422\" stroke-linecap=\"round\" style=\"stroke:white;stroke-width:2\"/><line x1=\"284.9363434460098\" y1=\"69.57658763585422\" x2=\"271.5013146034654\" y2=\"56.14155879330983\" stroke-linecap=\"round\" style=\"stroke:white;stroke-width:2\"/><line x1=\"271.5013146034654\" y1=\"56.14155879330983\" x2=\"284.9363434460098\" y2=\"69.57658763585422\" stroke-linecap=\"round\" style=\"stroke:white;stroke-width:2\"/><line x1=\"284.9363434460098\" y1=\"69.57658763585422\" x2=\"280.0187815890619\" y2=\"51.22399693636193\" stroke-linecap=\"round\" style=\"stroke:white;stroke-width:2\"/><line x1=\"280.0187815890619\" y1=\"51.22399693636193\" x2=\"284.9363434460098\" y2=\"69.57658763585422\" stroke-linecap=\"round\" style=\"stroke:white;stroke-width:2\"/><line x1=\"284.9363434460098\" y1=\"69.57658763585422\" x2=\"296.4363434460098\" y2=\"89.4951719228963\" stroke-linecap=\"round\" style=\"stroke:white;stroke-width:2\"/><line x1=\"296.4363434460098\" y1=\"89.4951719228963\" x2=\"296.4363434460098\" y2=\"66.4951719228963\" stroke-linecap=\"round\" style=\"stroke:white;stroke-width:2\"/><line x1=\"296.4363434460098\" y1=\"66.4951719228963\" x2=\"291.5187815890619\" y2=\"48.14258122340401\" stroke-linecap=\"round\" style=\"stroke:white;stroke-width:2\"/><line x1=\"291.5187815890619\" y1=\"48.14258122340401\" x2=\"296.4363434460098\" y2=\"66.4951719228963\" stroke-linecap=\"round\" style=\"stroke:white;stroke-width:2\"/><line x1=\"296.4363434460098\" y1=\"66.4951719228963\" x2=\"301.3539053029577\" y2=\"48.14258122340401\" stroke-linecap=\"round\" style=\"stroke:white;stroke-width:2\"/><line x1=\"301.3539053029577\" y1=\"48.14258122340401\" x2=\"296.4363434460098\" y2=\"66.4951719228963\" stroke-linecap=\"round\" style=\"stroke:white;stroke-width:2\"/><line x1=\"296.4363434460098\" y1=\"66.4951719228963\" x2=\"296.4363434460098\" y2=\"89.4951719228963\" stroke-linecap=\"round\" style=\"stroke:white;stroke-width:2\"/><line x1=\"296.4363434460098\" y1=\"89.4951719228963\" x2=\"303.6832767088804\" y2=\"116.54109505899021\" stroke-linecap=\"round\" style=\"stroke:white;stroke-width:2\"/><line x1=\"303.6832767088804\" y1=\"116.54109505899021\" x2=\"320.6832767088804\" y2=\"145.9859587876611\" stroke-linecap=\"round\" style=\"stroke:white;stroke-width:2\"/><line x1=\"320.6832767088804\" y1=\"145.9859587876611\" x2=\"320.6832767088804\" y2=\"111.9859587876611\" stroke-linecap=\"round\" style=\"stroke:white;stroke-width:2\"/><line x1=\"320.6832767088804\" y1=\"111.9859587876611\" x2=\"313.4363434460098\" y2=\"84.9400356515672\" stroke-linecap=\"round\" style=\"stroke:white;stroke-width:2\"/><line x1=\"313.4363434460098\" y1=\"84.9400356515672\" x2=\"301.9363434460098\" y2=\"65.02145136452512\" stroke-linecap=\"round\" style=\"stroke:white;stroke-width:2\"/><line x1=\"301.9363434460098\" y1=\"65.02145136452512\" x2=\"288.5013146034654\" y2=\"51.58642252198072\" stroke-linecap=\"round\" style=\"stroke:white;stroke-width:2\"/><line x1=\"288.5013146034654\" y1=\"51.58642252198072\" x2=\"301.9363434460098\" y2=\"65.02145136452512\" stroke-linecap=\"round\" style=\"stroke:white;stroke-width:2\"/><line x1=\"301.9363434460098\" y1=\"65.02145136452512\" x2=\"297.0187815890619\" y2=\"46.668860665032824\" stroke-linecap=\"round\" style=\"stroke:white;stroke-width:2\"/><line x1=\"297.0187815890619\" y1=\"46.668860665032824\" x2=\"301.9363434460098\" y2=\"65.02145136452512\" stroke-linecap=\"round\" style=\"stroke:white;stroke-width:2\"/><line x1=\"301.9363434460098\" y1=\"65.02145136452512\" x2=\"313.4363434460098\" y2=\"84.9400356515672\" stroke-linecap=\"round\" style=\"stroke:white;stroke-width:2\"/><line x1=\"313.4363434460098\" y1=\"84.9400356515672\" x2=\"313.4363434460098\" y2=\"61.9400356515672\" stroke-linecap=\"round\" style=\"stroke:white;stroke-width:2\"/><line x1=\"313.4363434460098\" y1=\"61.9400356515672\" x2=\"308.5187815890619\" y2=\"43.587444952074904\" stroke-linecap=\"round\" style=\"stroke:white;stroke-width:2\"/><line x1=\"308.5187815890619\" y1=\"43.587444952074904\" x2=\"313.4363434460098\" y2=\"61.9400356515672\" stroke-linecap=\"round\" style=\"stroke:white;stroke-width:2\"/><line x1=\"313.4363434460098\" y1=\"61.9400356515672\" x2=\"318.3539053029577\" y2=\"43.587444952074904\" stroke-linecap=\"round\" style=\"stroke:white;stroke-width:2\"/><line x1=\"318.3539053029577\" y1=\"43.587444952074904\" x2=\"313.4363434460098\" y2=\"61.9400356515672\" stroke-linecap=\"round\" style=\"stroke:white;stroke-width:2\"/><line x1=\"313.4363434460098\" y1=\"61.9400356515672\" x2=\"313.4363434460098\" y2=\"84.9400356515672\" stroke-linecap=\"round\" style=\"stroke:white;stroke-width:2\"/><line x1=\"313.4363434460098\" y1=\"84.9400356515672\" x2=\"320.6832767088804\" y2=\"111.9859587876611\" stroke-linecap=\"round\" style=\"stroke:white;stroke-width:2\"/><line x1=\"320.6832767088804\" y1=\"111.9859587876611\" x2=\"327.93020997175097\" y2=\"84.94003565156719\" stroke-linecap=\"round\" style=\"stroke:white;stroke-width:2\"/><line x1=\"327.93020997175097\" y1=\"84.94003565156719\" x2=\"327.93020997175097\" y2=\"61.940035651567186\" stroke-linecap=\"round\" style=\"stroke:white;stroke-width:2\"/><line x1=\"327.93020997175097\" y1=\"61.940035651567186\" x2=\"323.0126481148031\" y2=\"43.58744495207489\" stroke-linecap=\"round\" style=\"stroke:white;stroke-width:2\"/><line x1=\"323.0126481148031\" y1=\"43.58744495207489\" x2=\"327.93020997175097\" y2=\"61.940035651567186\" stroke-linecap=\"round\" style=\"stroke:white;stroke-width:2\"/><line x1=\"327.93020997175097\" y1=\"61.940035651567186\" x2=\"332.84777182869885\" y2=\"43.58744495207489\" stroke-linecap=\"round\" style=\"stroke:white;stroke-width:2\"/><line x1=\"332.84777182869885\" y1=\"43.58744495207489\" x2=\"327.93020997175097\" y2=\"61.940035651567186\" stroke-linecap=\"round\" style=\"stroke:white;stroke-width:2\"/><line x1=\"327.93020997175097\" y1=\"61.940035651567186\" x2=\"327.93020997175097\" y2=\"84.94003565156719\" stroke-linecap=\"round\" style=\"stroke:white;stroke-width:2\"/><line x1=\"327.93020997175097\" y1=\"84.94003565156719\" x2=\"339.43020997175097\" y2=\"65.02145136452509\" stroke-linecap=\"round\" style=\"stroke:white;stroke-width:2\"/><line x1=\"339.43020997175097\" y1=\"65.02145136452509\" x2=\"344.34777182869885\" y2=\"46.668860665032796\" stroke-linecap=\"round\" style=\"stroke:white;stroke-width:2\"/><line x1=\"344.34777182869885\" y1=\"46.668860665032796\" x2=\"339.43020997175097\" y2=\"65.02145136452509\" stroke-linecap=\"round\" style=\"stroke:white;stroke-width:2\"/><line x1=\"339.43020997175097\" y1=\"65.02145136452509\" x2=\"352.86523881429537\" y2=\"51.58642252198069\" stroke-linecap=\"round\" style=\"stroke:white;stroke-width:2\"/><line x1=\"352.86523881429537\" y1=\"51.58642252198069\" x2=\"339.43020997175097\" y2=\"65.02145136452509\" stroke-linecap=\"round\" style=\"stroke:white;stroke-width:2\"/><line x1=\"339.43020997175097\" y1=\"65.02145136452509\" x2=\"327.93020997175097\" y2=\"84.94003565156717\" stroke-linecap=\"round\" style=\"stroke:white;stroke-width:2\"/><line x1=\"327.93020997175097\" y1=\"84.94003565156717\" x2=\"320.6832767088804\" y2=\"111.98595878766109\" stroke-linecap=\"round\" style=\"stroke:white;stroke-width:2\"/><line x1=\"320.6832767088804\" y1=\"111.98595878766109\" x2=\"320.6832767088804\" y2=\"145.9859587876611\" stroke-linecap=\"round\" style=\"stroke:white;stroke-width:2\"/><line x1=\"320.6832767088804\" y1=\"145.9859587876611\" x2=\"331.55367660318626\" y2=\"186.554843491802\" stroke-linecap=\"round\" style=\"stroke:white;stroke-width:2\"/><line x1=\"331.55367660318626\" y1=\"186.554843491802\" x2=\"357.55367660318626\" y2=\"231.58816448859278\" stroke-linecap=\"round\" style=\"stroke:white;stroke-width:2\"/><line x1=\"357.55367660318626\" y1=\"231.58816448859278\" x2=\"357.55367660318626\" y2=\"179.58816448859278\" stroke-linecap=\"round\" style=\"stroke:white;stroke-width:3\"/><line x1=\"357.55367660318626\" y1=\"179.58816448859278\" x2=\"346.6832767088804\" y2=\"139.0192797844519\" stroke-linecap=\"round\" style=\"stroke:white;stroke-width:2\"/><line x1=\"346.6832767088804\" y1=\"139.0192797844519\" x2=\"329.6832767088804\" y2=\"109.574416055781\" stroke-linecap=\"round\" style=\"stroke:white;stroke-width:2\"/><line x1=\"329.6832767088804\" y1=\"109.574416055781\" x2=\"309.88428683565706\" y2=\"89.77542618255768\" stroke-linecap=\"round\" style=\"stroke:white;stroke-width:2\"/><line x1=\"309.88428683565706\" y1=\"89.77542618255768\" x2=\"289.96570254861496\" y2=\"78.27542618255768\" stroke-linecap=\"round\" style=\"stroke:white;stroke-width:2\"/><line x1=\"289.96570254861496\" y1=\"78.27542618255768\" x2=\"271.6131118491227\" y2=\"73.35786432560978\" stroke-linecap=\"round\" style=\"stroke:white;stroke-width:2\"/><line x1=\"271.6131118491227\" y1=\"73.35786432560978\" x2=\"289.96570254861496\" y2=\"78.27542618255768\" stroke-linecap=\"round\" style=\"stroke:white;stroke-width:2\"/><line x1=\"289.96570254861496\" y1=\"78.27542618255768\" x2=\"276.53067370607056\" y2=\"64.84039734001328\" stroke-linecap=\"round\" style=\"stroke:white;stroke-width:2\"/><line x1=\"276.53067370607056\" y1=\"64.84039734001328\" x2=\"289.96570254861496\" y2=\"78.27542618255768\" stroke-linecap=\"round\" style=\"stroke:white;stroke-width:2\"/><line x1=\"289.96570254861496\" y1=\"78.27542618255768\" x2=\"309.88428683565706\" y2=\"89.77542618255768\" stroke-linecap=\"round\" style=\"stroke:white;stroke-width:2\"/><line x1=\"309.88428683565706\" y1=\"89.77542618255768\" x2=\"298.38428683565706\" y2=\"69.8568418955156\" stroke-linecap=\"round\" style=\"stroke:white;stroke-width:2\"/><line x1=\"298.38428683565706\" y1=\"69.8568418955156\" x2=\"284.94925799311267\" y2=\"56.4218130529712\" stroke-linecap=\"round\" style=\"stroke:white;stroke-width:2\"/><line x1=\"284.94925799311267\" y1=\"56.4218130529712\" x2=\"298.38428683565706\" y2=\"69.8568418955156\" stroke-linecap=\"round\" style=\"stroke:white;stroke-width:2\"/><line x1=\"298.38428683565706\" y1=\"69.8568418955156\" x2=\"293.4667249787092\" y2=\"51.504251196023304\" stroke-linecap=\"round\" style=\"stroke:white;stroke-width:2\"/><line x1=\"293.4667249787092\" y1=\"51.504251196023304\" x2=\"298.38428683565706\" y2=\"69.8568418955156\" stroke-linecap=\"round\" style=\"stroke:white;stroke-width:2\"/><line x1=\"298.38428683565706\" y1=\"69.8568418955156\" x2=\"309.88428683565706\" y2=\"89.77542618255768\" stroke-linecap=\"round\" style=\"stroke:white;stroke-width:2\"/><line x1=\"309.88428683565706\" y1=\"89.77542618255768\" x2=\"329.6832767088804\" y2=\"109.574416055781\" stroke-linecap=\"round\" style=\"stroke:white;stroke-width:2\"/><line x1=\"329.6832767088804\" y1=\"109.574416055781\" x2=\"322.4363434460098\" y2=\"82.5284929196871\" stroke-linecap=\"round\" style=\"stroke:white;stroke-width:2\"/><line x1=\"322.4363434460098\" y1=\"82.5284929196871\" x2=\"310.9363434460098\" y2=\"62.609908632645016\" stroke-linecap=\"round\" style=\"stroke:white;stroke-width:2\"/><line x1=\"310.9363434460098\" y1=\"62.609908632645016\" x2=\"297.5013146034654\" y2=\"49.17487979010062\" stroke-linecap=\"round\" style=\"stroke:white;stroke-width:2\"/><line x1=\"297.5013146034654\" y1=\"49.17487979010062\" x2=\"310.9363434460098\" y2=\"62.609908632645016\" stroke-linecap=\"round\" style=\"stroke:white;stroke-width:2\"/><line x1=\"310.9363434460098\" y1=\"62.609908632645016\" x2=\"306.0187815890619\" y2=\"44.25731793315272\" stroke-linecap=\"round\" style=\"stroke:white;stroke-width:2\"/><line x1=\"306.0187815890619\" y1=\"44.25731793315272\" x2=\"310.9363434460098\" y2=\"62.609908632645016\" stroke-linecap=\"round\" style=\"stroke:white;stroke-width:2\"/><line x1=\"310.9363434460098\" y1=\"62.609908632645016\" x2=\"322.4363434460098\" y2=\"82.5284929196871\" stroke-linecap=\"round\" style=\"stroke:white;stroke-width:2\"/><line x1=\"322.4363434460098\" y1=\"82.5284929196871\" x2=\"322.4363434460098\" y2=\"59.528492919687096\" stroke-linecap=\"round\" style=\"stroke:white;stroke-width:2\"/><line x1=\"322.4363434460098\" y1=\"59.528492919687096\" x2=\"317.5187815890619\" y2=\"41.1759022201948\" stroke-linecap=\"round\" style=\"stroke:white;stroke-width:2\"/><line x1=\"317.5187815890619\" y1=\"41.1759022201948\" x2=\"322.4363434460098\" y2=\"59.528492919687096\" stroke-linecap=\"round\" style=\"stroke:white;stroke-width:2\"/><line x1=\"322.4363434460098\" y1=\"59.528492919687096\" x2=\"327.3539053029577\" y2=\"41.1759022201948\" stroke-linecap=\"round\" style=\"stroke:white;stroke-width:2\"/><line x1=\"327.3539053029577\" y1=\"41.1759022201948\" x2=\"322.4363434460098\" y2=\"59.528492919687096\" stroke-linecap=\"round\" style=\"stroke:white;stroke-width:2\"/><line x1=\"322.4363434460098\" y1=\"59.528492919687096\" x2=\"322.4363434460098\" y2=\"82.5284929196871\" stroke-linecap=\"round\" style=\"stroke:white;stroke-width:2\"/><line x1=\"322.4363434460098\" y1=\"82.5284929196871\" x2=\"329.6832767088804\" y2=\"109.574416055781\" stroke-linecap=\"round\" style=\"stroke:white;stroke-width:2\"/><line x1=\"329.6832767088804\" y1=\"109.574416055781\" x2=\"346.6832767088804\" y2=\"139.0192797844519\" stroke-linecap=\"round\" style=\"stroke:white;stroke-width:2\"/><line x1=\"346.6832767088804\" y1=\"139.0192797844519\" x2=\"346.6832767088804\" y2=\"105.0192797844519\" stroke-linecap=\"round\" style=\"stroke:white;stroke-width:2\"/><line x1=\"346.6832767088804\" y1=\"105.0192797844519\" x2=\"339.4363434460098\" y2=\"77.97335664835799\" stroke-linecap=\"round\" style=\"stroke:white;stroke-width:2\"/><line x1=\"339.4363434460098\" y1=\"77.97335664835799\" x2=\"327.9363434460098\" y2=\"58.05477236131591\" stroke-linecap=\"round\" style=\"stroke:white;stroke-width:2\"/><line x1=\"327.9363434460098\" y1=\"58.05477236131591\" x2=\"314.5013146034654\" y2=\"44.619743518771514\" stroke-linecap=\"round\" style=\"stroke:white;stroke-width:2\"/><line x1=\"314.5013146034654\" y1=\"44.619743518771514\" x2=\"327.9363434460098\" y2=\"58.05477236131591\" stroke-linecap=\"round\" style=\"stroke:white;stroke-width:2\"/><line x1=\"327.9363434460098\" y1=\"58.05477236131591\" x2=\"323.0187815890619\" y2=\"39.702181661823616\" stroke-linecap=\"round\" style=\"stroke:white;stroke-width:2\"/><line x1=\"323.0187815890619\" y1=\"39.702181661823616\" x2=\"327.9363434460098\" y2=\"58.05477236131591\" stroke-linecap=\"round\" style=\"stroke:white;stroke-width:2\"/><line x1=\"327.9363434460098\" y1=\"58.05477236131591\" x2=\"339.4363434460098\" y2=\"77.97335664835799\" stroke-linecap=\"round\" style=\"stroke:white;stroke-width:2\"/><line x1=\"339.4363434460098\" y1=\"77.97335664835799\" x2=\"339.4363434460098\" y2=\"54.97335664835799\" stroke-linecap=\"round\" style=\"stroke:white;stroke-width:2\"/><line x1=\"339.4363434460098\" y1=\"54.97335664835799\" x2=\"334.5187815890619\" y2=\"36.620765948865696\" stroke-linecap=\"round\" style=\"stroke:white;stroke-width:2\"/><line x1=\"334.5187815890619\" y1=\"36.620765948865696\" x2=\"339.4363434460098\" y2=\"54.97335664835799\" stroke-linecap=\"round\" style=\"stroke:white;stroke-width:2\"/><line x1=\"339.4363434460098\" y1=\"54.97335664835799\" x2=\"344.3539053029577\" y2=\"36.620765948865696\" stroke-linecap=\"round\" style=\"stroke:white;stroke-width:2\"/><line x1=\"344.3539053029577\" y1=\"36.620765948865696\" x2=\"339.4363434460098\" y2=\"54.97335664835799\" stroke-linecap=\"round\" style=\"stroke:white;stroke-width:2\"/><line x1=\"339.4363434460098\" y1=\"54.97335664835799\" x2=\"339.4363434460098\" y2=\"77.97335664835799\" stroke-linecap=\"round\" style=\"stroke:white;stroke-width:2\"/><line x1=\"339.4363434460098\" y1=\"77.97335664835799\" x2=\"346.6832767088804\" y2=\"105.0192797844519\" stroke-linecap=\"round\" style=\"stroke:white;stroke-width:2\"/><line x1=\"346.6832767088804\" y1=\"105.0192797844519\" x2=\"353.93020997175097\" y2=\"77.97335664835798\" stroke-linecap=\"round\" style=\"stroke:white;stroke-width:2\"/><line x1=\"353.93020997175097\" y1=\"77.97335664835798\" x2=\"353.93020997175097\" y2=\"54.97335664835798\" stroke-linecap=\"round\" style=\"stroke:white;stroke-width:2\"/><line x1=\"353.93020997175097\" y1=\"54.97335664835798\" x2=\"349.0126481148031\" y2=\"36.62076594886568\" stroke-linecap=\"round\" style=\"stroke:white;stroke-width:2\"/><line x1=\"349.0126481148031\" y1=\"36.62076594886568\" x2=\"353.93020997175097\" y2=\"54.97335664835798\" stroke-linecap=\"round\" style=\"stroke:white;stroke-width:2\"/><line x1=\"353.93020997175097\" y1=\"54.97335664835798\" x2=\"358.84777182869885\" y2=\"36.62076594886568\" stroke-linecap=\"round\" style=\"stroke:white;stroke-width:2\"/><line x1=\"358.84777182869885\" y1=\"36.62076594886568\" x2=\"353.93020997175097\" y2=\"54.97335664835798\" stroke-linecap=\"round\" style=\"stroke:white;stroke-width:2\"/><line x1=\"353.93020997175097\" y1=\"54.97335664835798\" x2=\"353.93020997175097\" y2=\"77.97335664835798\" stroke-linecap=\"round\" style=\"stroke:white;stroke-width:2\"/><line x1=\"353.93020997175097\" y1=\"77.97335664835798\" x2=\"365.43020997175097\" y2=\"58.05477236131589\" stroke-linecap=\"round\" style=\"stroke:white;stroke-width:2\"/><line x1=\"365.43020997175097\" y1=\"58.05477236131589\" x2=\"370.34777182869885\" y2=\"39.70218166182359\" stroke-linecap=\"round\" style=\"stroke:white;stroke-width:2\"/><line x1=\"370.34777182869885\" y1=\"39.70218166182359\" x2=\"365.43020997175097\" y2=\"58.054772361315884\" stroke-linecap=\"round\" style=\"stroke:white;stroke-width:2\"/><line x1=\"365.43020997175097\" y1=\"58.054772361315884\" x2=\"378.86523881429537\" y2=\"44.61974351877148\" stroke-linecap=\"round\" style=\"stroke:white;stroke-width:2\"/><line x1=\"378.86523881429537\" y1=\"44.61974351877148\" x2=\"365.43020997175097\" y2=\"58.054772361315884\" stroke-linecap=\"round\" style=\"stroke:white;stroke-width:2\"/><line x1=\"365.43020997175097\" y1=\"58.054772361315884\" x2=\"353.93020997175097\" y2=\"77.97335664835796\" stroke-linecap=\"round\" style=\"stroke:white;stroke-width:2\"/><line x1=\"353.93020997175097\" y1=\"77.97335664835796\" x2=\"346.6832767088804\" y2=\"105.01927978445188\" stroke-linecap=\"round\" style=\"stroke:white;stroke-width:2\"/><line x1=\"346.6832767088804\" y1=\"105.01927978445188\" x2=\"346.6832767088804\" y2=\"139.0192797844519\" stroke-linecap=\"round\" style=\"stroke:white;stroke-width:2\"/><line x1=\"346.6832767088804\" y1=\"139.0192797844519\" x2=\"357.55367660318626\" y2=\"179.58816448859278\" stroke-linecap=\"round\" style=\"stroke:white;stroke-width:2\"/><line x1=\"357.55367660318626\" y1=\"179.58816448859278\" x2=\"368.42407649749214\" y2=\"139.0192797844519\" stroke-linecap=\"round\" style=\"stroke:white;stroke-width:2\"/><line x1=\"368.42407649749214\" y1=\"139.0192797844519\" x2=\"368.42407649749214\" y2=\"105.0192797844519\" stroke-linecap=\"round\" style=\"stroke:white;stroke-width:2\"/><line x1=\"368.42407649749214\" y1=\"105.0192797844519\" x2=\"361.17714323462155\" y2=\"77.97335664835799\" stroke-linecap=\"round\" style=\"stroke:white;stroke-width:2\"/><line x1=\"361.17714323462155\" y1=\"77.97335664835799\" x2=\"349.67714323462155\" y2=\"58.05477236131591\" stroke-linecap=\"round\" style=\"stroke:white;stroke-width:2\"/><line x1=\"349.67714323462155\" y1=\"58.05477236131591\" x2=\"336.24211439207716\" y2=\"44.619743518771514\" stroke-linecap=\"round\" style=\"stroke:white;stroke-width:2\"/><line x1=\"336.24211439207716\" y1=\"44.619743518771514\" x2=\"349.67714323462155\" y2=\"58.05477236131591\" stroke-linecap=\"round\" style=\"stroke:white;stroke-width:2\"/><line x1=\"349.67714323462155\" y1=\"58.05477236131591\" x2=\"344.75958137767367\" y2=\"39.702181661823616\" stroke-linecap=\"round\" style=\"stroke:white;stroke-width:2\"/><line x1=\"344.75958137767367\" y1=\"39.702181661823616\" x2=\"349.67714323462155\" y2=\"58.05477236131591\" stroke-linecap=\"round\" style=\"stroke:white;stroke-width:2\"/><line x1=\"349.67714323462155\" y1=\"58.05477236131591\" x2=\"361.17714323462155\" y2=\"77.97335664835799\" stroke-linecap=\"round\" style=\"stroke:white;stroke-width:2\"/><line x1=\"361.17714323462155\" y1=\"77.97335664835799\" x2=\"361.17714323462155\" y2=\"54.97335664835799\" stroke-linecap=\"round\" style=\"stroke:white;stroke-width:2\"/><line x1=\"361.17714323462155\" y1=\"54.97335664835799\" x2=\"356.25958137767367\" y2=\"36.620765948865696\" stroke-linecap=\"round\" style=\"stroke:white;stroke-width:2\"/><line x1=\"356.25958137767367\" y1=\"36.620765948865696\" x2=\"361.17714323462155\" y2=\"54.97335664835799\" stroke-linecap=\"round\" style=\"stroke:white;stroke-width:2\"/><line x1=\"361.17714323462155\" y1=\"54.97335664835799\" x2=\"366.09470509156944\" y2=\"36.620765948865696\" stroke-linecap=\"round\" style=\"stroke:white;stroke-width:2\"/><line x1=\"366.09470509156944\" y1=\"36.620765948865696\" x2=\"361.17714323462155\" y2=\"54.97335664835799\" stroke-linecap=\"round\" style=\"stroke:white;stroke-width:2\"/><line x1=\"361.17714323462155\" y1=\"54.97335664835799\" x2=\"361.17714323462155\" y2=\"77.97335664835799\" stroke-linecap=\"round\" style=\"stroke:white;stroke-width:2\"/><line x1=\"361.17714323462155\" y1=\"77.97335664835799\" x2=\"368.42407649749214\" y2=\"105.0192797844519\" stroke-linecap=\"round\" style=\"stroke:white;stroke-width:2\"/><line x1=\"368.42407649749214\" y1=\"105.0192797844519\" x2=\"375.6710097603627\" y2=\"77.97335664835798\" stroke-linecap=\"round\" style=\"stroke:white;stroke-width:2\"/><line x1=\"375.6710097603627\" y1=\"77.97335664835798\" x2=\"375.6710097603627\" y2=\"54.97335664835798\" stroke-linecap=\"round\" style=\"stroke:white;stroke-width:2\"/><line x1=\"375.6710097603627\" y1=\"54.97335664835798\" x2=\"370.75344790341484\" y2=\"36.62076594886568\" stroke-linecap=\"round\" style=\"stroke:white;stroke-width:2\"/><line x1=\"370.75344790341484\" y1=\"36.62076594886568\" x2=\"375.6710097603627\" y2=\"54.97335664835798\" stroke-linecap=\"round\" style=\"stroke:white;stroke-width:2\"/><line x1=\"375.6710097603627\" y1=\"54.97335664835798\" x2=\"380.5885716173106\" y2=\"36.62076594886568\" stroke-linecap=\"round\" style=\"stroke:white;stroke-width:2\"/><line x1=\"380.5885716173106\" y1=\"36.62076594886568\" x2=\"375.6710097603627\" y2=\"54.97335664835798\" stroke-linecap=\"round\" style=\"stroke:white;stroke-width:2\"/><line x1=\"375.6710097603627\" y1=\"54.97335664835798\" x2=\"375.6710097603627\" y2=\"77.97335664835798\" stroke-linecap=\"round\" style=\"stroke:white;stroke-width:2\"/><line x1=\"375.6710097603627\" y1=\"77.97335664835798\" x2=\"387.1710097603627\" y2=\"58.05477236131589\" stroke-linecap=\"round\" style=\"stroke:white;stroke-width:2\"/><line x1=\"387.1710097603627\" y1=\"58.05477236131589\" x2=\"392.0885716173106\" y2=\"39.70218166182359\" stroke-linecap=\"round\" style=\"stroke:white;stroke-width:2\"/><line x1=\"392.0885716173106\" y1=\"39.70218166182359\" x2=\"387.1710097603627\" y2=\"58.054772361315884\" stroke-linecap=\"round\" style=\"stroke:white;stroke-width:2\"/><line x1=\"387.1710097603627\" y1=\"58.054772361315884\" x2=\"400.6060386029071\" y2=\"44.61974351877148\" stroke-linecap=\"round\" style=\"stroke:white;stroke-width:2\"/><line x1=\"400.6060386029071\" y1=\"44.61974351877148\" x2=\"387.1710097603627\" y2=\"58.054772361315884\" stroke-linecap=\"round\" style=\"stroke:white;stroke-width:2\"/><line x1=\"387.1710097603627\" y1=\"58.054772361315884\" x2=\"375.6710097603627\" y2=\"77.97335664835796\" stroke-linecap=\"round\" style=\"stroke:white;stroke-width:2\"/><line x1=\"375.6710097603627\" y1=\"77.97335664835796\" x2=\"368.42407649749214\" y2=\"105.01927978445188\" stroke-linecap=\"round\" style=\"stroke:white;stroke-width:2\"/><line x1=\"368.42407649749214\" y1=\"105.01927978445188\" x2=\"368.42407649749214\" y2=\"139.0192797844519\" stroke-linecap=\"round\" style=\"stroke:white;stroke-width:2\"/><line x1=\"368.42407649749214\" y1=\"139.0192797844519\" x2=\"385.42407649749214\" y2=\"109.57441605578099\" stroke-linecap=\"round\" style=\"stroke:white;stroke-width:2\"/><line x1=\"385.42407649749214\" y1=\"109.57441605578099\" x2=\"392.6710097603627\" y2=\"82.52849291968707\" stroke-linecap=\"round\" style=\"stroke:white;stroke-width:2\"/><line x1=\"392.6710097603627\" y1=\"82.52849291968707\" x2=\"392.6710097603627\" y2=\"59.52849291968707\" stroke-linecap=\"round\" style=\"stroke:white;stroke-width:2\"/><line x1=\"392.6710097603627\" y1=\"59.52849291968707\" x2=\"387.75344790341484\" y2=\"41.17590222019477\" stroke-linecap=\"round\" style=\"stroke:white;stroke-width:2\"/><line x1=\"387.75344790341484\" y1=\"41.17590222019477\" x2=\"392.6710097603627\" y2=\"59.52849291968707\" stroke-linecap=\"round\" style=\"stroke:white;stroke-width:2\"/><line x1=\"392.6710097603627\" y1=\"59.52849291968707\" x2=\"397.5885716173106\" y2=\"41.17590222019477\" stroke-linecap=\"round\" style=\"stroke:white;stroke-width:2\"/><line x1=\"397.5885716173106\" y1=\"41.17590222019477\" x2=\"392.6710097603627\" y2=\"59.52849291968707\" stroke-linecap=\"round\" style=\"stroke:white;stroke-width:2\"/><line x1=\"392.6710097603627\" y1=\"59.52849291968707\" x2=\"392.6710097603627\" y2=\"82.52849291968707\" stroke-linecap=\"round\" style=\"stroke:white;stroke-width:2\"/><line x1=\"392.6710097603627\" y1=\"82.52849291968707\" x2=\"404.1710097603627\" y2=\"62.60990863264498\" stroke-linecap=\"round\" style=\"stroke:white;stroke-width:2\"/><line x1=\"404.1710097603627\" y1=\"62.60990863264498\" x2=\"409.0885716173106\" y2=\"44.25731793315268\" stroke-linecap=\"round\" style=\"stroke:white;stroke-width:2\"/><line x1=\"409.0885716173106\" y1=\"44.25731793315268\" x2=\"404.1710097603627\" y2=\"62.609908632644974\" stroke-linecap=\"round\" style=\"stroke:white;stroke-width:2\"/><line x1=\"404.1710097603627\" y1=\"62.609908632644974\" x2=\"417.6060386029071\" y2=\"49.17487979010057\" stroke-linecap=\"round\" style=\"stroke:white;stroke-width:2\"/><line x1=\"417.6060386029071\" y1=\"49.17487979010057\" x2=\"404.1710097603627\" y2=\"62.609908632644974\" stroke-linecap=\"round\" style=\"stroke:white;stroke-width:2\"/><line x1=\"404.1710097603627\" y1=\"62.609908632644974\" x2=\"392.6710097603627\" y2=\"82.52849291968707\" stroke-linecap=\"round\" style=\"stroke:white;stroke-width:2\"/><line x1=\"392.6710097603627\" y1=\"82.52849291968707\" x2=\"385.42407649749214\" y2=\"109.57441605578099\" stroke-linecap=\"round\" style=\"stroke:white;stroke-width:2\"/><line x1=\"385.42407649749214\" y1=\"109.57441605578099\" x2=\"405.22306637071546\" y2=\"89.77542618255765\" stroke-linecap=\"round\" style=\"stroke:white;stroke-width:2\"/><line x1=\"405.22306637071546\" y1=\"89.77542618255765\" x2=\"416.72306637071546\" y2=\"69.85684189551557\" stroke-linecap=\"round\" style=\"stroke:white;stroke-width:2\"/><line x1=\"416.72306637071546\" y1=\"69.85684189551557\" x2=\"421.64062822766334\" y2=\"51.504251196023276\" stroke-linecap=\"round\" style=\"stroke:white;stroke-width:2\"/><line x1=\"421.64062822766334\" y1=\"51.504251196023276\" x2=\"416.72306637071546\" y2=\"69.85684189551557\" stroke-linecap=\"round\" style=\"stroke:white;stroke-width:2\"/><line x1=\"416.72306637071546\" y1=\"69.85684189551557\" x2=\"430.15809521325986\" y2=\"56.42181305297117\" stroke-linecap=\"round\" style=\"stroke:white;stroke-width:2\"/><line x1=\"430.15809521325986\" y1=\"56.42181305297117\" x2=\"416.72306637071546\" y2=\"69.85684189551557\" stroke-linecap=\"round\" style=\"stroke:white;stroke-width:2\"/><line x1=\"416.72306637071546\" y1=\"69.85684189551557\" x2=\"405.22306637071546\" y2=\"89.77542618255765\" stroke-linecap=\"round\" style=\"stroke:white;stroke-width:2\"/><line x1=\"405.22306637071546\" y1=\"89.77542618255765\" x2=\"425.14165065775757\" y2=\"78.27542618255764\" stroke-linecap=\"round\" style=\"stroke:white;stroke-width:2\"/><line x1=\"425.14165065775757\" y1=\"78.27542618255764\" x2=\"438.57667950030196\" y2=\"64.84039734001323\" stroke-linecap=\"round\" style=\"stroke:white;stroke-width:2\"/><line x1=\"438.57667950030196\" y1=\"64.84039734001323\" x2=\"425.14165065775757\" y2=\"78.27542618255764\" stroke-linecap=\"round\" style=\"stroke:white;stroke-width:2\"/><line x1=\"425.14165065775757\" y1=\"78.27542618255764\" x2=\"443.49424135724985\" y2=\"73.35786432560974\" stroke-linecap=\"round\" style=\"stroke:white;stroke-width:2\"/><line x1=\"443.49424135724985\" y1=\"73.35786432560974\" x2=\"425.14165065775757\" y2=\"78.27542618255764\" stroke-linecap=\"round\" style=\"stroke:white;stroke-width:2\"/><line x1=\"425.14165065775757\" y1=\"78.27542618255764\" x2=\"405.22306637071546\" y2=\"89.77542618255765\" stroke-linecap=\"round\" style=\"stroke:white;stroke-width:2\"/><line x1=\"405.22306637071546\" y1=\"89.77542618255765\" x2=\"385.42407649749214\" y2=\"109.57441605578099\" stroke-linecap=\"round\" style=\"stroke:white;stroke-width:2\"/><line x1=\"385.42407649749214\" y1=\"109.57441605578099\" x2=\"368.42407649749214\" y2=\"139.0192797844519\" stroke-linecap=\"round\" style=\"stroke:white;stroke-width:2\"/><line x1=\"368.42407649749214\" y1=\"139.0192797844519\" x2=\"357.55367660318626\" y2=\"179.58816448859278\" stroke-linecap=\"round\" style=\"stroke:white;stroke-width:2\"/><line x1=\"357.55367660318626\" y1=\"179.58816448859278\" x2=\"357.55367660318626\" y2=\"231.58816448859278\" stroke-linecap=\"round\" style=\"stroke:white;stroke-width:2\"/><line x1=\"357.55367660318626\" y1=\"231.58816448859278\" x2=\"374.1180954897476\" y2=\"293.4074173710932\" stroke-linecap=\"round\" style=\"stroke:white;stroke-width:2\"/><line x1=\"374.1180954897476\" y1=\"293.4074173710932\" x2=\"390.68251437630886\" y2=\"231.58816448859278\" stroke-linecap=\"round\" style=\"stroke:white;stroke-width:4\"/><line x1=\"390.68251437630886\" y1=\"231.58816448859278\" x2=\"390.68251437630886\" y2=\"179.58816448859278\" stroke-linecap=\"round\" style=\"stroke:white;stroke-width:3\"/><line x1=\"390.68251437630886\" y1=\"179.58816448859278\" x2=\"379.812114482003\" y2=\"139.0192797844519\" stroke-linecap=\"round\" style=\"stroke:white;stroke-width:2\"/><line x1=\"379.812114482003\" y1=\"139.0192797844519\" x2=\"362.812114482003\" y2=\"109.574416055781\" stroke-linecap=\"round\" style=\"stroke:white;stroke-width:2\"/><line x1=\"362.812114482003\" y1=\"109.574416055781\" x2=\"343.01312460877966\" y2=\"89.77542618255768\" stroke-linecap=\"round\" style=\"stroke:white;stroke-width:2\"/><line x1=\"343.01312460877966\" y1=\"89.77542618255768\" x2=\"323.09454032173755\" y2=\"78.27542618255768\" stroke-linecap=\"round\" style=\"stroke:white;stroke-width:2\"/><line x1=\"323.09454032173755\" y1=\"78.27542618255768\" x2=\"304.7419496222453\" y2=\"73.35786432560978\" stroke-linecap=\"round\" style=\"stroke:white;stroke-width:2\"/><line x1=\"304.7419496222453\" y1=\"73.35786432560978\" x2=\"323.09454032173755\" y2=\"78.27542618255768\" stroke-linecap=\"round\" style=\"stroke:white;stroke-width:2\"/><line x1=\"323.09454032173755\" y1=\"78.27542618255768\" x2=\"309.65951147919316\" y2=\"64.84039734001328\" stroke-linecap=\"round\" style=\"stroke:white;stroke-width:2\"/><line x1=\"309.65951147919316\" y1=\"64.84039734001328\" x2=\"323.09454032173755\" y2=\"78.27542618255768\" stroke-linecap=\"round\" style=\"stroke:white;stroke-width:2\"/><line x1=\"323.09454032173755\" y1=\"78.27542618255768\" x2=\"343.01312460877966\" y2=\"89.77542618255768\" stroke-linecap=\"round\" style=\"stroke:white;stroke-width:2\"/><line x1=\"343.01312460877966\" y1=\"89.77542618255768\" x2=\"331.51312460877966\" y2=\"69.8568418955156\" stroke-linecap=\"round\" style=\"stroke:white;stroke-width:2\"/><line x1=\"331.51312460877966\" y1=\"69.8568418955156\" x2=\"318.07809576623526\" y2=\"56.4218130529712\" stroke-linecap=\"round\" style=\"stroke:white;stroke-width:2\"/><line x1=\"318.07809576623526\" y1=\"56.4218130529712\" x2=\"331.51312460877966\" y2=\"69.8568418955156\" stroke-linecap=\"round\" style=\"stroke:white;stroke-width:2\"/><line x1=\"331.51312460877966\" y1=\"69.8568418955156\" x2=\"326.5955627518318\" y2=\"51.504251196023304\" stroke-linecap=\"round\" style=\"stroke:white;stroke-width:2\"/><line x1=\"326.5955627518318\" y1=\"51.504251196023304\" x2=\"331.51312460877966\" y2=\"69.8568418955156\" stroke-linecap=\"round\" style=\"stroke:white;stroke-width:2\"/><line x1=\"331.51312460877966\" y1=\"69.8568418955156\" x2=\"343.01312460877966\" y2=\"89.77542618255768\" stroke-linecap=\"round\" style=\"stroke:white;stroke-width:2\"/><line x1=\"343.01312460877966\" y1=\"89.77542618255768\" x2=\"362.812114482003\" y2=\"109.574416055781\" stroke-linecap=\"round\" style=\"stroke:white;stroke-width:2\"/><line x1=\"362.812114482003\" y1=\"109.574416055781\" x2=\"355.5651812191324\" y2=\"82.5284929196871\" stroke-linecap=\"round\" style=\"stroke:white;stroke-width:2\"/><line x1=\"355.5651812191324\" y1=\"82.5284929196871\" x2=\"344.0651812191324\" y2=\"62.609908632645016\" stroke-linecap=\"round\" style=\"stroke:white;stroke-width:2\"/><line x1=\"344.0651812191324\" y1=\"62.609908632645016\" x2=\"330.630152376588\" y2=\"49.17487979010062\" stroke-linecap=\"round\" style=\"stroke:white;stroke-width:2\"/><line x1=\"330.630152376588\" y1=\"49.17487979010062\" x2=\"344.0651812191324\" y2=\"62.609908632645016\" stroke-linecap=\"round\" style=\"stroke:white;stroke-width:2\"/><line x1=\"344.0651812191324\" y1=\"62.609908632645016\" x2=\"339.1476193621845\" y2=\"44.25731793315272\" stroke-linecap=\"round\" style=\"stroke:white;stroke-width:2\"/><line x1=\"339.1476193621845\" y1=\"44.25731793315272\" x2=\"344.0651812191324\" y2=\"62.609908632645016\" stroke-linecap=\"round\" style=\"stroke:white;stroke-width:2\"/><line x1=\"344.0651812191324\" y1=\"62.609908632645016\" x2=\"355.5651812191324\" y2=\"82.5284929196871\" stroke-linecap=\"round\" style=\"stroke:white;stroke-width:2\"/><line x1=\"355.5651812191324\" y1=\"82.5284929196871\" x2=\"355.5651812191324\" y2=\"59.528492919687096\" stroke-linecap=\"round\" style=\"stroke:white;stroke-width:2\"/><line x1=\"355.5651812191324\" y1=\"59.528492919687096\" x2=\"350.6476193621845\" y2=\"41.1759022201948\" stroke-linecap=\"round\" style=\"stroke:white;stroke-width:2\"/><line x1=\"350.6476193621845\" y1=\"41.1759022201948\" x2=\"355.5651812191324\" y2=\"59.528492919687096\" stroke-linecap=\"round\" style=\"stroke:white;stroke-width:2\"/><line x1=\"355.5651812191324\" y1=\"59.528492919687096\" x2=\"360.4827430760803\" y2=\"41.1759022201948\" stroke-linecap=\"round\" style=\"stroke:white;stroke-width:2\"/><line x1=\"360.4827430760803\" y1=\"41.1759022201948\" x2=\"355.5651812191324\" y2=\"59.528492919687096\" stroke-linecap=\"round\" style=\"stroke:white;stroke-width:2\"/><line x1=\"355.5651812191324\" y1=\"59.528492919687096\" x2=\"355.5651812191324\" y2=\"82.5284929196871\" stroke-linecap=\"round\" style=\"stroke:white;stroke-width:2\"/><line x1=\"355.5651812191324\" y1=\"82.5284929196871\" x2=\"362.812114482003\" y2=\"109.574416055781\" stroke-linecap=\"round\" style=\"stroke:white;stroke-width:2\"/><line x1=\"362.812114482003\" y1=\"109.574416055781\" x2=\"379.812114482003\" y2=\"139.0192797844519\" stroke-linecap=\"round\" style=\"stroke:white;stroke-width:2\"/><line x1=\"379.812114482003\" y1=\"139.0192797844519\" x2=\"379.812114482003\" y2=\"105.0192797844519\" stroke-linecap=\"round\" style=\"stroke:white;stroke-width:2\"/><line x1=\"379.812114482003\" y1=\"105.0192797844519\" x2=\"372.5651812191324\" y2=\"77.97335664835799\" stroke-linecap=\"round\" style=\"stroke:white;stroke-width:2\"/><line x1=\"372.5651812191324\" y1=\"77.97335664835799\" x2=\"361.0651812191324\" y2=\"58.05477236131591\" stroke-linecap=\"round\" style=\"stroke:white;stroke-width:2\"/><line x1=\"361.0651812191324\" y1=\"58.05477236131591\" x2=\"347.630152376588\" y2=\"44.619743518771514\" stroke-linecap=\"round\" style=\"stroke:white;stroke-width:2\"/><line x1=\"347.630152376588\" y1=\"44.619743518771514\" x2=\"361.0651812191324\" y2=\"58.05477236131591\" stroke-linecap=\"round\" style=\"stroke:white;stroke-width:2\"/><line x1=\"361.0651812191324\" y1=\"58.05477236131591\" x2=\"356.1476193621845\" y2=\"39.702181661823616\" stroke-linecap=\"round\" style=\"stroke:white;stroke-width:2\"/><line x1=\"356.1476193621845\" y1=\"39.702181661823616\" x2=\"361.0651812191324\" y2=\"58.05477236131591\" stroke-linecap=\"round\" style=\"stroke:white;stroke-width:2\"/><line x1=\"361.0651812191324\" y1=\"58.05477236131591\" x2=\"372.5651812191324\" y2=\"77.97335664835799\" stroke-linecap=\"round\" style=\"stroke:white;stroke-width:2\"/><line x1=\"372.5651812191324\" y1=\"77.97335664835799\" x2=\"372.5651812191324\" y2=\"54.97335664835799\" stroke-linecap=\"round\" style=\"stroke:white;stroke-width:2\"/><line x1=\"372.5651812191324\" y1=\"54.97335664835799\" x2=\"367.6476193621845\" y2=\"36.620765948865696\" stroke-linecap=\"round\" style=\"stroke:white;stroke-width:2\"/><line x1=\"367.6476193621845\" y1=\"36.620765948865696\" x2=\"372.5651812191324\" y2=\"54.97335664835799\" stroke-linecap=\"round\" style=\"stroke:white;stroke-width:2\"/><line x1=\"372.5651812191324\" y1=\"54.97335664835799\" x2=\"377.4827430760803\" y2=\"36.620765948865696\" stroke-linecap=\"round\" style=\"stroke:white;stroke-width:2\"/><line x1=\"377.4827430760803\" y1=\"36.620765948865696\" x2=\"372.5651812191324\" y2=\"54.97335664835799\" stroke-linecap=\"round\" style=\"stroke:white;stroke-width:2\"/><line x1=\"372.5651812191324\" y1=\"54.97335664835799\" x2=\"372.5651812191324\" y2=\"77.97335664835799\" stroke-linecap=\"round\" style=\"stroke:white;stroke-width:2\"/><line x1=\"372.5651812191324\" y1=\"77.97335664835799\" x2=\"379.812114482003\" y2=\"105.0192797844519\" stroke-linecap=\"round\" style=\"stroke:white;stroke-width:2\"/><line x1=\"379.812114482003\" y1=\"105.0192797844519\" x2=\"387.05904774487357\" y2=\"77.97335664835798\" stroke-linecap=\"round\" style=\"stroke:white;stroke-width:2\"/><line x1=\"387.05904774487357\" y1=\"77.97335664835798\" x2=\"387.05904774487357\" y2=\"54.97335664835798\" stroke-linecap=\"round\" style=\"stroke:white;stroke-width:2\"/><line x1=\"387.05904774487357\" y1=\"54.97335664835798\" x2=\"382.1414858879257\" y2=\"36.62076594886568\" stroke-linecap=\"round\" style=\"stroke:white;stroke-width:2\"/><line x1=\"382.1414858879257\" y1=\"36.62076594886568\" x2=\"387.05904774487357\" y2=\"54.97335664835798\" stroke-linecap=\"round\" style=\"stroke:white;stroke-width:2\"/><line x1=\"387.05904774487357\" y1=\"54.97335664835798\" x2=\"391.97660960182145\" y2=\"36.62076594886568\" stroke-linecap=\"round\" style=\"stroke:white;stroke-width:2\"/><line x1=\"391.97660960182145\" y1=\"36.62076594886568\" x2=\"387.05904774487357\" y2=\"54.97335664835798\" stroke-linecap=\"round\" style=\"stroke:white;stroke-width:2\"/><line x1=\"387.05904774487357\" y1=\"54.97335664835798\" x2=\"387.05904774487357\" y2=\"77.97335664835798\" stroke-linecap=\"round\" style=\"stroke:white;stroke-width:2\"/><line x1=\"387.05904774487357\" y1=\"77.97335664835798\" x2=\"398.55904774487357\" y2=\"58.05477236131589\" stroke-linecap=\"round\" style=\"stroke:white;stroke-width:2\"/><line x1=\"398.55904774487357\" y1=\"58.05477236131589\" x2=\"403.47660960182145\" y2=\"39.70218166182359\" stroke-linecap=\"round\" style=\"stroke:white;stroke-width:2\"/><line x1=\"403.47660960182145\" y1=\"39.70218166182359\" x2=\"398.55904774487357\" y2=\"58.054772361315884\" stroke-linecap=\"round\" style=\"stroke:white;stroke-width:2\"/><line x1=\"398.55904774487357\" y1=\"58.054772361315884\" x2=\"411.99407658741796\" y2=\"44.61974351877148\" stroke-linecap=\"round\" style=\"stroke:white;stroke-width:2\"/><line x1=\"411.99407658741796\" y1=\"44.61974351877148\" x2=\"398.55904774487357\" y2=\"58.054772361315884\" stroke-linecap=\"round\" style=\"stroke:white;stroke-width:2\"/><line x1=\"398.55904774487357\" y1=\"58.054772361315884\" x2=\"387.05904774487357\" y2=\"77.97335664835796\" stroke-linecap=\"round\" style=\"stroke:white;stroke-width:2\"/><line x1=\"387.05904774487357\" y1=\"77.97335664835796\" x2=\"379.812114482003\" y2=\"105.01927978445188\" stroke-linecap=\"round\" style=\"stroke:white;stroke-width:2\"/><line x1=\"379.812114482003\" y1=\"105.01927978445188\" x2=\"379.812114482003\" y2=\"139.0192797844519\" stroke-linecap=\"round\" style=\"stroke:white;stroke-width:2\"/><line x1=\"379.812114482003\" y1=\"139.0192797844519\" x2=\"390.68251437630886\" y2=\"179.58816448859278\" stroke-linecap=\"round\" style=\"stroke:white;stroke-width:2\"/><line x1=\"390.68251437630886\" y1=\"179.58816448859278\" x2=\"401.55291427061474\" y2=\"139.0192797844519\" stroke-linecap=\"round\" style=\"stroke:white;stroke-width:2\"/><line x1=\"401.55291427061474\" y1=\"139.0192797844519\" x2=\"401.55291427061474\" y2=\"105.0192797844519\" stroke-linecap=\"round\" style=\"stroke:white;stroke-width:2\"/><line x1=\"401.55291427061474\" y1=\"105.0192797844519\" x2=\"394.30598100774415\" y2=\"77.97335664835799\" stroke-linecap=\"round\" style=\"stroke:white;stroke-width:2\"/><line x1=\"394.30598100774415\" y1=\"77.97335664835799\" x2=\"382.80598100774415\" y2=\"58.05477236131591\" stroke-linecap=\"round\" style=\"stroke:white;stroke-width:2\"/><line x1=\"382.80598100774415\" y1=\"58.05477236131591\" x2=\"369.37095216519975\" y2=\"44.619743518771514\" stroke-linecap=\"round\" style=\"stroke:white;stroke-width:2\"/><line x1=\"369.37095216519975\" y1=\"44.619743518771514\" x2=\"382.80598100774415\" y2=\"58.05477236131591\" stroke-linecap=\"round\" style=\"stroke:white;stroke-width:2\"/><line x1=\"382.80598100774415\" y1=\"58.05477236131591\" x2=\"377.88841915079627\" y2=\"39.702181661823616\" stroke-linecap=\"round\" style=\"stroke:white;stroke-width:2\"/><line x1=\"377.88841915079627\" y1=\"39.702181661823616\" x2=\"382.80598100774415\" y2=\"58.05477236131591\" stroke-linecap=\"round\" style=\"stroke:white;stroke-width:2\"/><line x1=\"382.80598100774415\" y1=\"58.05477236131591\" x2=\"394.30598100774415\" y2=\"77.97335664835799\" stroke-linecap=\"round\" style=\"stroke:white;stroke-width:2\"/><line x1=\"394.30598100774415\" y1=\"77.97335664835799\" x2=\"394.30598100774415\" y2=\"54.97335664835799\" stroke-linecap=\"round\" style=\"stroke:white;stroke-width:2\"/><line x1=\"394.30598100774415\" y1=\"54.97335664835799\" x2=\"389.38841915079627\" y2=\"36.620765948865696\" stroke-linecap=\"round\" style=\"stroke:white;stroke-width:2\"/><line x1=\"389.38841915079627\" y1=\"36.620765948865696\" x2=\"394.30598100774415\" y2=\"54.97335664835799\" stroke-linecap=\"round\" style=\"stroke:white;stroke-width:2\"/><line x1=\"394.30598100774415\" y1=\"54.97335664835799\" x2=\"399.22354286469204\" y2=\"36.620765948865696\" stroke-linecap=\"round\" style=\"stroke:white;stroke-width:2\"/><line x1=\"399.22354286469204\" y1=\"36.620765948865696\" x2=\"394.30598100774415\" y2=\"54.97335664835799\" stroke-linecap=\"round\" style=\"stroke:white;stroke-width:2\"/><line x1=\"394.30598100774415\" y1=\"54.97335664835799\" x2=\"394.30598100774415\" y2=\"77.97335664835799\" stroke-linecap=\"round\" style=\"stroke:white;stroke-width:2\"/><line x1=\"394.30598100774415\" y1=\"77.97335664835799\" x2=\"401.55291427061474\" y2=\"105.0192797844519\" stroke-linecap=\"round\" style=\"stroke:white;stroke-width:2\"/><line x1=\"401.55291427061474\" y1=\"105.0192797844519\" x2=\"408.7998475334853\" y2=\"77.97335664835798\" stroke-linecap=\"round\" style=\"stroke:white;stroke-width:2\"/><line x1=\"408.7998475334853\" y1=\"77.97335664835798\" x2=\"408.7998475334853\" y2=\"54.97335664835798\" stroke-linecap=\"round\" style=\"stroke:white;stroke-width:2\"/><line x1=\"408.7998475334853\" y1=\"54.97335664835798\" x2=\"403.88228567653744\" y2=\"36.62076594886568\" stroke-linecap=\"round\" style=\"stroke:white;stroke-width:2\"/><line x1=\"403.88228567653744\" y1=\"36.62076594886568\" x2=\"408.7998475334853\" y2=\"54.97335664835798\" stroke-linecap=\"round\" style=\"stroke:white;stroke-width:2\"/><line x1=\"408.7998475334853\" y1=\"54.97335664835798\" x2=\"413.7174093904332\" y2=\"36.62076594886568\" stroke-linecap=\"round\" style=\"stroke:white;stroke-width:2\"/><line x1=\"413.7174093904332\" y1=\"36.62076594886568\" x2=\"408.7998475334853\" y2=\"54.97335664835798\" stroke-linecap=\"round\" style=\"stroke:white;stroke-width:2\"/><line x1=\"408.7998475334853\" y1=\"54.97335664835798\" x2=\"408.7998475334853\" y2=\"77.97335664835798\" stroke-linecap=\"round\" style=\"stroke:white;stroke-width:2\"/><line x1=\"408.7998475334853\" y1=\"77.97335664835798\" x2=\"420.2998475334853\" y2=\"58.05477236131589\" stroke-linecap=\"round\" style=\"stroke:white;stroke-width:2\"/><line x1=\"420.2998475334853\" y1=\"58.05477236131589\" x2=\"425.2174093904332\" y2=\"39.70218166182359\" stroke-linecap=\"round\" style=\"stroke:white;stroke-width:2\"/><line x1=\"425.2174093904332\" y1=\"39.70218166182359\" x2=\"420.2998475334853\" y2=\"58.054772361315884\" stroke-linecap=\"round\" style=\"stroke:white;stroke-width:2\"/><line x1=\"420.2998475334853\" y1=\"58.054772361315884\" x2=\"433.7348763760297\" y2=\"44.61974351877148\" stroke-linecap=\"round\" style=\"stroke:white;stroke-width:2\"/><line x1=\"433.7348763760297\" y1=\"44.61974351877148\" x2=\"420.2998475334853\" y2=\"58.054772361315884\" stroke-linecap=\"round\" style=\"stroke:white;stroke-width:2\"/><line x1=\"420.2998475334853\" y1=\"58.054772361315884\" x2=\"408.7998475334853\" y2=\"77.97335664835796\" stroke-linecap=\"round\" style=\"stroke:white;stroke-width:2\"/><line x1=\"408.7998475334853\" y1=\"77.97335664835796\" x2=\"401.55291427061474\" y2=\"105.01927978445188\" stroke-linecap=\"round\" style=\"stroke:white;stroke-width:2\"/><line x1=\"401.55291427061474\" y1=\"105.01927978445188\" x2=\"401.55291427061474\" y2=\"139.0192797844519\" stroke-linecap=\"round\" style=\"stroke:white;stroke-width:2\"/><line x1=\"401.55291427061474\" y1=\"139.0192797844519\" x2=\"418.55291427061474\" y2=\"109.57441605578099\" stroke-linecap=\"round\" style=\"stroke:white;stroke-width:2\"/><line x1=\"418.55291427061474\" y1=\"109.57441605578099\" x2=\"425.7998475334853\" y2=\"82.52849291968707\" stroke-linecap=\"round\" style=\"stroke:white;stroke-width:2\"/><line x1=\"425.7998475334853\" y1=\"82.52849291968707\" x2=\"425.7998475334853\" y2=\"59.52849291968707\" stroke-linecap=\"round\" style=\"stroke:white;stroke-width:2\"/><line x1=\"425.7998475334853\" y1=\"59.52849291968707\" x2=\"420.88228567653744\" y2=\"41.17590222019477\" stroke-linecap=\"round\" style=\"stroke:white;stroke-width:2\"/><line x1=\"420.88228567653744\" y1=\"41.17590222019477\" x2=\"425.7998475334853\" y2=\"59.52849291968707\" stroke-linecap=\"round\" style=\"stroke:white;stroke-width:2\"/><line x1=\"425.7998475334853\" y1=\"59.52849291968707\" x2=\"430.7174093904332\" y2=\"41.17590222019477\" stroke-linecap=\"round\" style=\"stroke:white;stroke-width:2\"/><line x1=\"430.7174093904332\" y1=\"41.17590222019477\" x2=\"425.7998475334853\" y2=\"59.52849291968707\" stroke-linecap=\"round\" style=\"stroke:white;stroke-width:2\"/><line x1=\"425.7998475334853\" y1=\"59.52849291968707\" x2=\"425.7998475334853\" y2=\"82.52849291968707\" stroke-linecap=\"round\" style=\"stroke:white;stroke-width:2\"/><line x1=\"425.7998475334853\" y1=\"82.52849291968707\" x2=\"437.2998475334853\" y2=\"62.60990863264498\" stroke-linecap=\"round\" style=\"stroke:white;stroke-width:2\"/><line x1=\"437.2998475334853\" y1=\"62.60990863264498\" x2=\"442.2174093904332\" y2=\"44.25731793315268\" stroke-linecap=\"round\" style=\"stroke:white;stroke-width:2\"/><line x1=\"442.2174093904332\" y1=\"44.25731793315268\" x2=\"437.2998475334853\" y2=\"62.609908632644974\" stroke-linecap=\"round\" style=\"stroke:white;stroke-width:2\"/><line x1=\"437.2998475334853\" y1=\"62.609908632644974\" x2=\"450.7348763760297\" y2=\"49.17487979010057\" stroke-linecap=\"round\" style=\"stroke:white;stroke-width:2\"/><line x1=\"450.7348763760297\" y1=\"49.17487979010057\" x2=\"437.2998475334853\" y2=\"62.609908632644974\" stroke-linecap=\"round\" style=\"stroke:white;stroke-width:2\"/><line x1=\"437.2998475334853\" y1=\"62.609908632644974\" x2=\"425.7998475334853\" y2=\"82.52849291968707\" stroke-linecap=\"round\" style=\"stroke:white;stroke-width:2\"/><line x1=\"425.7998475334853\" y1=\"82.52849291968707\" x2=\"418.55291427061474\" y2=\"109.57441605578099\" stroke-linecap=\"round\" style=\"stroke:white;stroke-width:2\"/><line x1=\"418.55291427061474\" y1=\"109.57441605578099\" x2=\"438.35190414383806\" y2=\"89.77542618255765\" stroke-linecap=\"round\" style=\"stroke:white;stroke-width:2\"/><line x1=\"438.35190414383806\" y1=\"89.77542618255765\" x2=\"449.85190414383806\" y2=\"69.85684189551557\" stroke-linecap=\"round\" style=\"stroke:white;stroke-width:2\"/><line x1=\"449.85190414383806\" y1=\"69.85684189551557\" x2=\"454.76946600078594\" y2=\"51.504251196023276\" stroke-linecap=\"round\" style=\"stroke:white;stroke-width:2\"/><line x1=\"454.76946600078594\" y1=\"51.504251196023276\" x2=\"449.85190414383806\" y2=\"69.85684189551557\" stroke-linecap=\"round\" style=\"stroke:white;stroke-width:2\"/><line x1=\"449.85190414383806\" y1=\"69.85684189551557\" x2=\"463.28693298638245\" y2=\"56.42181305297117\" stroke-linecap=\"round\" style=\"stroke:white;stroke-width:2\"/><line x1=\"463.28693298638245\" y1=\"56.42181305297117\" x2=\"449.85190414383806\" y2=\"69.85684189551557\" stroke-linecap=\"round\" style=\"stroke:white;stroke-width:2\"/><line x1=\"449.85190414383806\" y1=\"69.85684189551557\" x2=\"438.35190414383806\" y2=\"89.77542618255765\" stroke-linecap=\"round\" style=\"stroke:white;stroke-width:2\"/><line x1=\"438.35190414383806\" y1=\"89.77542618255765\" x2=\"458.27048843088016\" y2=\"78.27542618255764\" stroke-linecap=\"round\" style=\"stroke:white;stroke-width:2\"/><line x1=\"458.27048843088016\" y1=\"78.27542618255764\" x2=\"471.70551727342456\" y2=\"64.84039734001323\" stroke-linecap=\"round\" style=\"stroke:white;stroke-width:2\"/><line x1=\"471.70551727342456\" y1=\"64.84039734001323\" x2=\"458.27048843088016\" y2=\"78.27542618255764\" stroke-linecap=\"round\" style=\"stroke:white;stroke-width:2\"/><line x1=\"458.27048843088016\" y1=\"78.27542618255764\" x2=\"476.62307913037245\" y2=\"73.35786432560974\" stroke-linecap=\"round\" style=\"stroke:white;stroke-width:2\"/><line x1=\"476.62307913037245\" y1=\"73.35786432560974\" x2=\"458.27048843088016\" y2=\"78.27542618255764\" stroke-linecap=\"round\" style=\"stroke:white;stroke-width:2\"/><line x1=\"458.27048843088016\" y1=\"78.27542618255764\" x2=\"438.35190414383806\" y2=\"89.77542618255765\" stroke-linecap=\"round\" style=\"stroke:white;stroke-width:2\"/><line x1=\"438.35190414383806\" y1=\"89.77542618255765\" x2=\"418.55291427061474\" y2=\"109.57441605578099\" stroke-linecap=\"round\" style=\"stroke:white;stroke-width:2\"/><line x1=\"418.55291427061474\" y1=\"109.57441605578099\" x2=\"401.55291427061474\" y2=\"139.0192797844519\" stroke-linecap=\"round\" style=\"stroke:white;stroke-width:2\"/><line x1=\"401.55291427061474\" y1=\"139.0192797844519\" x2=\"390.68251437630886\" y2=\"179.58816448859278\" stroke-linecap=\"round\" style=\"stroke:white;stroke-width:2\"/><line x1=\"390.68251437630886\" y1=\"179.58816448859278\" x2=\"390.68251437630886\" y2=\"231.58816448859278\" stroke-linecap=\"round\" style=\"stroke:white;stroke-width:2\"/><line x1=\"390.68251437630886\" y1=\"231.58816448859278\" x2=\"416.68251437630886\" y2=\"186.554843491802\" stroke-linecap=\"round\" style=\"stroke:white;stroke-width:3\"/><line x1=\"416.68251437630886\" y1=\"186.554843491802\" x2=\"427.55291427061474\" y2=\"145.9859587876611\" stroke-linecap=\"round\" style=\"stroke:white;stroke-width:2\"/><line x1=\"427.55291427061474\" y1=\"145.9859587876611\" x2=\"427.55291427061474\" y2=\"111.9859587876611\" stroke-linecap=\"round\" style=\"stroke:white;stroke-width:2\"/><line x1=\"427.55291427061474\" y1=\"111.9859587876611\" x2=\"420.30598100774415\" y2=\"84.9400356515672\" stroke-linecap=\"round\" style=\"stroke:white;stroke-width:2\"/><line x1=\"420.30598100774415\" y1=\"84.9400356515672\" x2=\"408.80598100774415\" y2=\"65.02145136452512\" stroke-linecap=\"round\" style=\"stroke:white;stroke-width:2\"/><line x1=\"408.80598100774415\" y1=\"65.02145136452512\" x2=\"395.37095216519975\" y2=\"51.58642252198072\" stroke-linecap=\"round\" style=\"stroke:white;stroke-width:2\"/><line x1=\"395.37095216519975\" y1=\"51.58642252198072\" x2=\"408.80598100774415\" y2=\"65.02145136452512\" stroke-linecap=\"round\" style=\"stroke:white;stroke-width:2\"/><line x1=\"408.80598100774415\" y1=\"65.02145136452512\" x2=\"403.88841915079627\" y2=\"46.668860665032824\" stroke-linecap=\"round\" style=\"stroke:white;stroke-width:2\"/><line x1=\"403.88841915079627\" y1=\"46.668860665032824\" x2=\"408.80598100774415\" y2=\"65.02145136452512\" stroke-linecap=\"round\" style=\"stroke:white;stroke-width:2\"/><line x1=\"408.80598100774415\" y1=\"65.02145136452512\" x2=\"420.30598100774415\" y2=\"84.9400356515672\" stroke-linecap=\"round\" style=\"stroke:white;stroke-width:2\"/><line x1=\"420.30598100774415\" y1=\"84.9400356515672\" x2=\"420.30598100774415\" y2=\"61.9400356515672\" stroke-linecap=\"round\" style=\"stroke:white;stroke-width:2\"/><line x1=\"420.30598100774415\" y1=\"61.9400356515672\" x2=\"415.38841915079627\" y2=\"43.587444952074904\" stroke-linecap=\"round\" style=\"stroke:white;stroke-width:2\"/><line x1=\"415.38841915079627\" y1=\"43.587444952074904\" x2=\"420.30598100774415\" y2=\"61.9400356515672\" stroke-linecap=\"round\" style=\"stroke:white;stroke-width:2\"/><line x1=\"420.30598100774415\" y1=\"61.9400356515672\" x2=\"425.22354286469204\" y2=\"43.587444952074904\" stroke-linecap=\"round\" style=\"stroke:white;stroke-width:2\"/><line x1=\"425.22354286469204\" y1=\"43.587444952074904\" x2=\"420.30598100774415\" y2=\"61.9400356515672\" stroke-linecap=\"round\" style=\"stroke:white;stroke-width:2\"/><line x1=\"420.30598100774415\" y1=\"61.9400356515672\" x2=\"420.30598100774415\" y2=\"84.9400356515672\" stroke-linecap=\"round\" style=\"stroke:white;stroke-width:2\"/><line x1=\"420.30598100774415\" y1=\"84.9400356515672\" x2=\"427.55291427061474\" y2=\"111.9859587876611\" stroke-linecap=\"round\" style=\"stroke:white;stroke-width:2\"/><line x1=\"427.55291427061474\" y1=\"111.9859587876611\" x2=\"434.7998475334853\" y2=\"84.94003565156719\" stroke-linecap=\"round\" style=\"stroke:white;stroke-width:2\"/><line x1=\"434.7998475334853\" y1=\"84.94003565156719\" x2=\"434.7998475334853\" y2=\"61.940035651567186\" stroke-linecap=\"round\" style=\"stroke:white;stroke-width:2\"/><line x1=\"434.7998475334853\" y1=\"61.940035651567186\" x2=\"429.88228567653744\" y2=\"43.58744495207489\" stroke-linecap=\"round\" style=\"stroke:white;stroke-width:2\"/><line x1=\"429.88228567653744\" y1=\"43.58744495207489\" x2=\"434.7998475334853\" y2=\"61.940035651567186\" stroke-linecap=\"round\" style=\"stroke:white;stroke-width:2\"/><line x1=\"434.7998475334853\" y1=\"61.940035651567186\" x2=\"439.7174093904332\" y2=\"43.58744495207489\" stroke-linecap=\"round\" style=\"stroke:white;stroke-width:2\"/><line x1=\"439.7174093904332\" y1=\"43.58744495207489\" x2=\"434.7998475334853\" y2=\"61.940035651567186\" stroke-linecap=\"round\" style=\"stroke:white;stroke-width:2\"/><line x1=\"434.7998475334853\" y1=\"61.940035651567186\" x2=\"434.7998475334853\" y2=\"84.94003565156719\" stroke-linecap=\"round\" style=\"stroke:white;stroke-width:2\"/><line x1=\"434.7998475334853\" y1=\"84.94003565156719\" x2=\"446.2998475334853\" y2=\"65.02145136452509\" stroke-linecap=\"round\" style=\"stroke:white;stroke-width:2\"/><line x1=\"446.2998475334853\" y1=\"65.02145136452509\" x2=\"451.2174093904332\" y2=\"46.668860665032796\" stroke-linecap=\"round\" style=\"stroke:white;stroke-width:2\"/><line x1=\"451.2174093904332\" y1=\"46.668860665032796\" x2=\"446.2998475334853\" y2=\"65.02145136452509\" stroke-linecap=\"round\" style=\"stroke:white;stroke-width:2\"/><line x1=\"446.2998475334853\" y1=\"65.02145136452509\" x2=\"459.7348763760297\" y2=\"51.58642252198069\" stroke-linecap=\"round\" style=\"stroke:white;stroke-width:2\"/><line x1=\"459.7348763760297\" y1=\"51.58642252198069\" x2=\"446.2998475334853\" y2=\"65.02145136452509\" stroke-linecap=\"round\" style=\"stroke:white;stroke-width:2\"/><line x1=\"446.2998475334853\" y1=\"65.02145136452509\" x2=\"434.7998475334853\" y2=\"84.94003565156717\" stroke-linecap=\"round\" style=\"stroke:white;stroke-width:2\"/><line x1=\"434.7998475334853\" y1=\"84.94003565156717\" x2=\"427.55291427061474\" y2=\"111.98595878766109\" stroke-linecap=\"round\" style=\"stroke:white;stroke-width:2\"/><line x1=\"427.55291427061474\" y1=\"111.98595878766109\" x2=\"427.55291427061474\" y2=\"145.9859587876611\" stroke-linecap=\"round\" style=\"stroke:white;stroke-width:2\"/><line x1=\"427.55291427061474\" y1=\"145.9859587876611\" x2=\"444.55291427061474\" y2=\"116.5410950589902\" stroke-linecap=\"round\" style=\"stroke:white;stroke-width:2\"/><line x1=\"444.55291427061474\" y1=\"116.5410950589902\" x2=\"451.7998475334853\" y2=\"89.49517192289628\" stroke-linecap=\"round\" style=\"stroke:white;stroke-width:2\"/><line x1=\"451.7998475334853\" y1=\"89.49517192289628\" x2=\"451.7998475334853\" y2=\"66.49517192289628\" stroke-linecap=\"round\" style=\"stroke:white;stroke-width:2\"/><line x1=\"451.7998475334853\" y1=\"66.49517192289628\" x2=\"446.88228567653744\" y2=\"48.14258122340398\" stroke-linecap=\"round\" style=\"stroke:white;stroke-width:2\"/><line x1=\"446.88228567653744\" y1=\"48.14258122340398\" x2=\"451.7998475334853\" y2=\"66.49517192289628\" stroke-linecap=\"round\" style=\"stroke:white;stroke-width:2\"/><line x1=\"451.7998475334853\" y1=\"66.49517192289628\" x2=\"456.7174093904332\" y2=\"48.14258122340398\" stroke-linecap=\"round\" style=\"stroke:white;stroke-width:2\"/><line x1=\"456.7174093904332\" y1=\"48.14258122340398\" x2=\"451.7998475334853\" y2=\"66.49517192289628\" stroke-linecap=\"round\" style=\"stroke:white;stroke-width:2\"/><line x1=\"451.7998475334853\" y1=\"66.49517192289628\" x2=\"451.7998475334853\" y2=\"89.49517192289628\" stroke-linecap=\"round\" style=\"stroke:white;stroke-width:2\"/><line x1=\"451.7998475334853\" y1=\"89.49517192289628\" x2=\"463.2998475334853\" y2=\"69.5765876358542\" stroke-linecap=\"round\" style=\"stroke:white;stroke-width:2\"/><line x1=\"463.2998475334853\" y1=\"69.5765876358542\" x2=\"468.2174093904332\" y2=\"51.2239969363619\" stroke-linecap=\"round\" style=\"stroke:white;stroke-width:2\"/><line x1=\"468.2174093904332\" y1=\"51.2239969363619\" x2=\"463.2998475334853\" y2=\"69.5765876358542\" stroke-linecap=\"round\" style=\"stroke:white;stroke-width:2\"/><line x1=\"463.2998475334853\" y1=\"69.5765876358542\" x2=\"476.7348763760297\" y2=\"56.14155879330979\" stroke-linecap=\"round\" style=\"stroke:white;stroke-width:2\"/><line x1=\"476.7348763760297\" y1=\"56.14155879330979\" x2=\"463.2998475334853\" y2=\"69.5765876358542\" stroke-linecap=\"round\" style=\"stroke:white;stroke-width:2\"/><line x1=\"463.2998475334853\" y1=\"69.5765876358542\" x2=\"451.7998475334853\" y2=\"89.49517192289628\" stroke-linecap=\"round\" style=\"stroke:white;stroke-width:2\"/><line x1=\"451.7998475334853\" y1=\"89.49517192289628\" x2=\"444.55291427061474\" y2=\"116.5410950589902\" stroke-linecap=\"round\" style=\"stroke:white;stroke-width:2\"/><line x1=\"444.55291427061474\" y1=\"116.5410950589902\" x2=\"464.35190414383806\" y2=\"96.74210518576686\" stroke-linecap=\"round\" style=\"stroke:white;stroke-width:2\"/><line x1=\"464.35190414383806\" y1=\"96.74210518576686\" x2=\"475.85190414383806\" y2=\"76.82352089872478\" stroke-linecap=\"round\" style=\"stroke:white;stroke-width:2\"/><line x1=\"475.85190414383806\" y1=\"76.82352089872478\" x2=\"480.76946600078594\" y2=\"58.470930199232484\" stroke-linecap=\"round\" style=\"stroke:white;stroke-width:2\"/><line x1=\"480.76946600078594\" y1=\"58.470930199232484\" x2=\"475.85190414383806\" y2=\"76.82352089872478\" stroke-linecap=\"round\" style=\"stroke:white;stroke-width:2\"/><line x1=\"475.85190414383806\" y1=\"76.82352089872478\" x2=\"489.28693298638245\" y2=\"63.388492056180375\" stroke-linecap=\"round\" style=\"stroke:white;stroke-width:2\"/><line x1=\"489.28693298638245\" y1=\"63.388492056180375\" x2=\"475.85190414383806\" y2=\"76.82352089872478\" stroke-linecap=\"round\" style=\"stroke:white;stroke-width:2\"/><line x1=\"475.85190414383806\" y1=\"76.82352089872478\" x2=\"464.35190414383806\" y2=\"96.74210518576686\" stroke-linecap=\"round\" style=\"stroke:white;stroke-width:2\"/><line x1=\"464.35190414383806\" y1=\"96.74210518576686\" x2=\"484.27048843088016\" y2=\"85.24210518576685\" stroke-linecap=\"round\" style=\"stroke:white;stroke-width:2\"/><line x1=\"484.27048843088016\" y1=\"85.24210518576685\" x2=\"497.70551727342456\" y2=\"71.80707634322243\" stroke-linecap=\"round\" style=\"stroke:white;stroke-width:2\"/><line x1=\"497.70551727342456\" y1=\"71.80707634322243\" x2=\"484.27048843088016\" y2=\"85.24210518576685\" stroke-linecap=\"round\" style=\"stroke:white;stroke-width:2\"/><line x1=\"484.27048843088016\" y1=\"85.24210518576685\" x2=\"502.62307913037245\" y2=\"80.32454332881895\" stroke-linecap=\"round\" style=\"stroke:white;stroke-width:2\"/><line x1=\"502.62307913037245\" y1=\"80.32454332881895\" x2=\"484.27048843088016\" y2=\"85.24210518576685\" stroke-linecap=\"round\" style=\"stroke:white;stroke-width:2\"/><line x1=\"484.27048843088016\" y1=\"85.24210518576685\" x2=\"464.35190414383806\" y2=\"96.74210518576686\" stroke-linecap=\"round\" style=\"stroke:white;stroke-width:2\"/><line x1=\"464.35190414383806\" y1=\"96.74210518576686\" x2=\"444.55291427061474\" y2=\"116.5410950589902\" stroke-linecap=\"round\" style=\"stroke:white;stroke-width:2\"/><line x1=\"444.55291427061474\" y1=\"116.5410950589902\" x2=\"427.55291427061474\" y2=\"145.9859587876611\" stroke-linecap=\"round\" style=\"stroke:white;stroke-width:2\"/><line x1=\"427.55291427061474\" y1=\"145.9859587876611\" x2=\"416.68251437630886\" y2=\"186.554843491802\" stroke-linecap=\"round\" style=\"stroke:white;stroke-width:2\"/><line x1=\"416.68251437630886\" y1=\"186.554843491802\" x2=\"446.38099918614387\" y2=\"156.85635868196698\" stroke-linecap=\"round\" style=\"stroke:white;stroke-width:2\"/><line x1=\"446.38099918614387\" y1=\"156.85635868196698\" x2=\"463.38099918614387\" y2=\"127.41149495329607\" stroke-linecap=\"round\" style=\"stroke:white;stroke-width:2\"/><line x1=\"463.38099918614387\" y1=\"127.41149495329607\" x2=\"470.62793244901445\" y2=\"100.36557181720215\" stroke-linecap=\"round\" style=\"stroke:white;stroke-width:2\"/><line x1=\"470.62793244901445\" y1=\"100.36557181720215\" x2=\"470.62793244901445\" y2=\"77.36557181720215\" stroke-linecap=\"round\" style=\"stroke:white;stroke-width:2\"/><line x1=\"470.62793244901445\" y1=\"77.36557181720215\" x2=\"465.71037059206657\" y2=\"59.012981117709856\" stroke-linecap=\"round\" style=\"stroke:white;stroke-width:2\"/><line x1=\"465.71037059206657\" y1=\"59.012981117709856\" x2=\"470.62793244901445\" y2=\"77.36557181720215\" stroke-linecap=\"round\" style=\"stroke:white;stroke-width:2\"/><line x1=\"470.62793244901445\" y1=\"77.36557181720215\" x2=\"475.54549430596234\" y2=\"59.012981117709856\" stroke-linecap=\"round\" style=\"stroke:white;stroke-width:2\"/><line x1=\"475.54549430596234\" y1=\"59.012981117709856\" x2=\"470.62793244901445\" y2=\"77.36557181720215\" stroke-linecap=\"round\" style=\"stroke:white;stroke-width:2\"/><line x1=\"470.62793244901445\" y1=\"77.36557181720215\" x2=\"470.62793244901445\" y2=\"100.36557181720215\" stroke-linecap=\"round\" style=\"stroke:white;stroke-width:2\"/><line x1=\"470.62793244901445\" y1=\"100.36557181720215\" x2=\"482.12793244901445\" y2=\"80.44698753016007\" stroke-linecap=\"round\" style=\"stroke:white;stroke-width:2\"/><line x1=\"482.12793244901445\" y1=\"80.44698753016007\" x2=\"487.04549430596234\" y2=\"62.094396830667776\" stroke-linecap=\"round\" style=\"stroke:white;stroke-width:2\"/><line x1=\"487.04549430596234\" y1=\"62.094396830667776\" x2=\"482.12793244901445\" y2=\"80.44698753016007\" stroke-linecap=\"round\" style=\"stroke:white;stroke-width:2\"/><line x1=\"482.12793244901445\" y1=\"80.44698753016007\" x2=\"495.56296129155885\" y2=\"67.01195868761566\" stroke-linecap=\"round\" style=\"stroke:white;stroke-width:2\"/><line x1=\"495.56296129155885\" y1=\"67.01195868761566\" x2=\"482.12793244901445\" y2=\"80.44698753016007\" stroke-linecap=\"round\" style=\"stroke:white;stroke-width:2\"/><line x1=\"482.12793244901445\" y1=\"80.44698753016007\" x2=\"470.62793244901445\" y2=\"100.36557181720215\" stroke-linecap=\"round\" style=\"stroke:white;stroke-width:2\"/><line x1=\"470.62793244901445\" y1=\"100.36557181720215\" x2=\"463.38099918614387\" y2=\"127.41149495329607\" stroke-linecap=\"round\" style=\"stroke:white;stroke-width:2\"/><line x1=\"463.38099918614387\" y1=\"127.41149495329607\" x2=\"483.1799890593672\" y2=\"107.61250508007274\" stroke-linecap=\"round\" style=\"stroke:white;stroke-width:2\"/><line x1=\"483.1799890593672\" y1=\"107.61250508007274\" x2=\"494.6799890593672\" y2=\"87.69392079303066\" stroke-linecap=\"round\" style=\"stroke:white;stroke-width:2\"/><line x1=\"494.6799890593672\" y1=\"87.69392079303066\" x2=\"499.5975509163151\" y2=\"69.34133009353836\" stroke-linecap=\"round\" style=\"stroke:white;stroke-width:2\"/><line x1=\"499.5975509163151\" y1=\"69.34133009353836\" x2=\"494.6799890593672\" y2=\"87.69392079303066\" stroke-linecap=\"round\" style=\"stroke:white;stroke-width:2\"/><line x1=\"494.6799890593672\" y1=\"87.69392079303066\" x2=\"508.1150179019116\" y2=\"74.25889195048624\" stroke-linecap=\"round\" style=\"stroke:white;stroke-width:2\"/><line x1=\"508.1150179019116\" y1=\"74.25889195048624\" x2=\"494.6799890593672\" y2=\"87.69392079303066\" stroke-linecap=\"round\" style=\"stroke:white;stroke-width:2\"/><line x1=\"494.6799890593672\" y1=\"87.69392079303066\" x2=\"483.1799890593672\" y2=\"107.61250508007274\" stroke-linecap=\"round\" style=\"stroke:white;stroke-width:2\"/><line x1=\"483.1799890593672\" y1=\"107.61250508007274\" x2=\"503.0985733464093\" y2=\"96.11250508007272\" stroke-linecap=\"round\" style=\"stroke:white;stroke-width:2\"/><line x1=\"503.0985733464093\" y1=\"96.11250508007272\" x2=\"516.5336021889538\" y2=\"82.67747623752831\" stroke-linecap=\"round\" style=\"stroke:white;stroke-width:2\"/><line x1=\"516.5336021889538\" y1=\"82.67747623752831\" x2=\"503.09857334640935\" y2=\"96.11250508007272\" stroke-linecap=\"round\" style=\"stroke:white;stroke-width:2\"/><line x1=\"503.09857334640935\" y1=\"96.11250508007272\" x2=\"521.4511640459017\" y2=\"91.19494322312482\" stroke-linecap=\"round\" style=\"stroke:white;stroke-width:2\"/><line x1=\"521.4511640459017\" y1=\"91.19494322312482\" x2=\"503.0985733464094\" y2=\"96.11250508007272\" stroke-linecap=\"round\" style=\"stroke:white;stroke-width:2\"/><line x1=\"503.0985733464094\" y1=\"96.11250508007272\" x2=\"483.1799890593673\" y2=\"107.61250508007274\" stroke-linecap=\"round\" style=\"stroke:white;stroke-width:2\"/><line x1=\"483.1799890593673\" y1=\"107.61250508007274\" x2=\"463.380999186144\" y2=\"127.41149495329607\" stroke-linecap=\"round\" style=\"stroke:white;stroke-width:2\"/><line x1=\"463.380999186144\" y1=\"127.41149495329607\" x2=\"446.380999186144\" y2=\"156.85635868196698\" stroke-linecap=\"round\" style=\"stroke:white;stroke-width:2\"/><line x1=\"446.380999186144\" y1=\"156.85635868196698\" x2=\"475.8258629148149\" y2=\"139.85635868196698\" stroke-linecap=\"round\" style=\"stroke:white;stroke-width:2\"/><line x1=\"475.8258629148149\" y1=\"139.85635868196698\" x2=\"495.6248527880382\" y2=\"120.05736880874365\" stroke-linecap=\"round\" style=\"stroke:white;stroke-width:2\"/><line x1=\"495.6248527880382\" y1=\"120.05736880874365\" x2=\"507.1248527880382\" y2=\"100.13878452170155\" stroke-linecap=\"round\" style=\"stroke:white;stroke-width:2\"/><line x1=\"507.1248527880382\" y1=\"100.13878452170155\" x2=\"512.0424146449861\" y2=\"81.78619382220926\" stroke-linecap=\"round\" style=\"stroke:white;stroke-width:2\"/><line x1=\"512.0424146449861\" y1=\"81.78619382220926\" x2=\"507.12485278803825\" y2=\"100.13878452170155\" stroke-linecap=\"round\" style=\"stroke:white;stroke-width:2\"/><line x1=\"507.12485278803825\" y1=\"100.13878452170155\" x2=\"520.5598816305827\" y2=\"86.70375567915714\" stroke-linecap=\"round\" style=\"stroke:white;stroke-width:2\"/><line x1=\"520.5598816305827\" y1=\"86.70375567915714\" x2=\"507.1248527880383\" y2=\"100.13878452170155\" stroke-linecap=\"round\" style=\"stroke:white;stroke-width:2\"/><line x1=\"507.1248527880383\" y1=\"100.13878452170155\" x2=\"495.6248527880383\" y2=\"120.05736880874363\" stroke-linecap=\"round\" style=\"stroke:white;stroke-width:2\"/><line x1=\"495.6248527880383\" y1=\"120.05736880874363\" x2=\"515.5434370750804\" y2=\"108.55736880874362\" stroke-linecap=\"round\" style=\"stroke:white;stroke-width:2\"/><line x1=\"515.5434370750804\" y1=\"108.55736880874362\" x2=\"528.9784659176248\" y2=\"95.1223399661992\" stroke-linecap=\"round\" style=\"stroke:white;stroke-width:2\"/><line x1=\"528.9784659176248\" y1=\"95.1223399661992\" x2=\"515.5434370750804\" y2=\"108.55736880874362\" stroke-linecap=\"round\" style=\"stroke:white;stroke-width:2\"/><line x1=\"515.5434370750804\" y1=\"108.55736880874362\" x2=\"533.8960277745728\" y2=\"103.63980695179572\" stroke-linecap=\"round\" style=\"stroke:white;stroke-width:2\"/><line x1=\"533.8960277745728\" y1=\"103.63980695179572\" x2=\"515.5434370750804\" y2=\"108.55736880874362\" stroke-linecap=\"round\" style=\"stroke:white;stroke-width:2\"/><line x1=\"515.5434370750804\" y1=\"108.55736880874362\" x2=\"495.6248527880383\" y2=\"120.05736880874363\" stroke-linecap=\"round\" style=\"stroke:white;stroke-width:2\"/><line x1=\"495.6248527880383\" y1=\"120.05736880874363\" x2=\"475.825862914815\" y2=\"139.85635868196698\" stroke-linecap=\"round\" style=\"stroke:white;stroke-width:2\"/><line x1=\"475.825862914815\" y1=\"139.85635868196698\" x2=\"502.8717860509089\" y2=\"132.6094254190964\" stroke-linecap=\"round\" style=\"stroke:white;stroke-width:2\"/><line x1=\"502.8717860509089\" y1=\"132.6094254190964\" x2=\"522.790370337951\" y2=\"121.10942541909638\" stroke-linecap=\"round\" style=\"stroke:white;stroke-width:2\"/><line x1=\"522.790370337951\" y1=\"121.10942541909638\" x2=\"536.2253991804954\" y2=\"107.67439657655197\" stroke-linecap=\"round\" style=\"stroke:white;stroke-width:2\"/><line x1=\"536.2253991804954\" y1=\"107.67439657655197\" x2=\"522.790370337951\" y2=\"121.10942541909638\" stroke-linecap=\"round\" style=\"stroke:white;stroke-width:2\"/><line x1=\"522.790370337951\" y1=\"121.10942541909638\" x2=\"541.1429610374433\" y2=\"116.19186356214848\" stroke-linecap=\"round\" style=\"stroke:white;stroke-width:2\"/><line x1=\"541.1429610374433\" y1=\"116.19186356214848\" x2=\"522.790370337951\" y2=\"121.10942541909638\" stroke-linecap=\"round\" style=\"stroke:white;stroke-width:2\"/><line x1=\"522.790370337951\" y1=\"121.10942541909638\" x2=\"502.8717860509089\" y2=\"132.6094254190964\" stroke-linecap=\"round\" style=\"stroke:white;stroke-width:2\"/><line x1=\"502.8717860509089\" y1=\"132.6094254190964\" x2=\"525.8717860509089\" y2=\"132.6094254190964\" stroke-linecap=\"round\" style=\"stroke:white;stroke-width:2\"/><line x1=\"525.8717860509089\" y1=\"132.6094254190964\" x2=\"544.2243767504012\" y2=\"127.6918635621485\" stroke-linecap=\"round\" style=\"stroke:white;stroke-width:2\"/><line x1=\"544.2243767504012\" y1=\"127.6918635621485\" x2=\"525.8717860509089\" y2=\"132.6094254190964\" stroke-linecap=\"round\" style=\"stroke:white;stroke-width:2\"/><line x1=\"525.8717860509089\" y1=\"132.6094254190964\" x2=\"544.2243767504012\" y2=\"137.52698727604428\" stroke-linecap=\"round\" style=\"stroke:white;stroke-width:2\"/><line x1=\"544.2243767504012\" y1=\"137.52698727604428\" x2=\"525.8717860509089\" y2=\"132.6094254190964\" stroke-linecap=\"round\" style=\"stroke:white;stroke-width:2\"/><line x1=\"525.8717860509089\" y1=\"132.6094254190964\" x2=\"502.8717860509089\" y2=\"132.6094254190964\" stroke-linecap=\"round\" style=\"stroke:white;stroke-width:2\"/><line x1=\"502.8717860509089\" y1=\"132.6094254190964\" x2=\"475.825862914815\" y2=\"139.85635868196698\" stroke-linecap=\"round\" style=\"stroke:white;stroke-width:2\"/><line x1=\"475.825862914815\" y1=\"139.85635868196698\" x2=\"446.3809991861441\" y2=\"156.85635868196698\" stroke-linecap=\"round\" style=\"stroke:white;stroke-width:2\"/><line x1=\"446.3809991861441\" y1=\"156.85635868196698\" x2=\"416.6825143763091\" y2=\"186.554843491802\" stroke-linecap=\"round\" style=\"stroke:white;stroke-width:2\"/><line x1=\"416.6825143763091\" y1=\"186.554843491802\" x2=\"390.6825143763091\" y2=\"231.58816448859278\" stroke-linecap=\"round\" style=\"stroke:white;stroke-width:2\"/><line x1=\"390.6825143763091\" y1=\"231.58816448859278\" x2=\"374.1180954897478\" y2=\"293.4074173710932\" stroke-linecap=\"round\" style=\"stroke:white;stroke-width:2\"/><line x1=\"374.1180954897478\" y1=\"293.4074173710932\" x2=\"374.1180954897478\" y2=\"373.4074173710932\" stroke-linecap=\"round\" style=\"stroke:white;stroke-width:2\"/><line x1=\"374.1180954897478\" y1=\"373.4074173710932\" x2=\"399.9999999999999\" y2=\"470.0\" stroke-linecap=\"round\" style=\"stroke:white;stroke-width:2\"/><line x1=\"399.9999999999999\" y1=\"470.0\" x2=\"425.8819045102519\" y2=\"373.4074173710932\" stroke-linecap=\"round\" style=\"stroke:white;stroke-width:10\"/><line x1=\"425.8819045102519\" y1=\"373.4074173710932\" x2=\"425.8819045102519\" y2=\"293.4074173710932\" stroke-linecap=\"round\" style=\"stroke:white;stroke-width:6\"/><line x1=\"425.8819045102519\" y1=\"293.4074173710932\" x2=\"409.3174856236906\" y2=\"231.5881644885928\" stroke-linecap=\"round\" style=\"stroke:white;stroke-width:4\"/><line x1=\"409.3174856236906\" y1=\"231.5881644885928\" x2=\"383.3174856236906\" y2=\"186.55484349180202\" stroke-linecap=\"round\" style=\"stroke:white;stroke-width:3\"/><line x1=\"383.3174856236906\" y1=\"186.55484349180202\" x2=\"353.61900081385556\" y2=\"156.85635868196704\" stroke-linecap=\"round\" style=\"stroke:white;stroke-width:2\"/><line x1=\"353.61900081385556\" y1=\"156.85635868196704\" x2=\"324.17413708518467\" y2=\"139.85635868196704\" stroke-linecap=\"round\" style=\"stroke:white;stroke-width:2\"/><line x1=\"324.17413708518467\" y1=\"139.85635868196704\" x2=\"297.12821394909076\" y2=\"132.60942541909645\" stroke-linecap=\"round\" style=\"stroke:white;stroke-width:2\"/><line x1=\"297.12821394909076\" y1=\"132.60942541909645\" x2=\"274.12821394909076\" y2=\"132.60942541909645\" stroke-linecap=\"round\" style=\"stroke:white;stroke-width:2\"/><line x1=\"274.12821394909076\" y1=\"132.60942541909645\" x2=\"255.77562324959848\" y2=\"137.52698727604437\" stroke-linecap=\"round\" style=\"stroke:white;stroke-width:2\"/><line x1=\"255.77562324959848\" y1=\"137.52698727604437\" x2=\"274.12821394909076\" y2=\"132.60942541909645\" stroke-linecap=\"round\" style=\"stroke:white;stroke-width:2\"/><line x1=\"274.12821394909076\" y1=\"132.60942541909645\" x2=\"255.77562324959848\" y2=\"127.69186356214855\" stroke-linecap=\"round\" style=\"stroke:white;stroke-width:2\"/><line x1=\"255.77562324959848\" y1=\"127.69186356214855\" x2=\"274.12821394909076\" y2=\"132.60942541909645\" stroke-linecap=\"round\" style=\"stroke:white;stroke-width:2\"/><line x1=\"274.12821394909076\" y1=\"132.60942541909645\" x2=\"297.12821394909076\" y2=\"132.60942541909645\" stroke-linecap=\"round\" style=\"stroke:white;stroke-width:2\"/><line x1=\"297.12821394909076\" y1=\"132.60942541909645\" x2=\"277.20962966204866\" y2=\"121.10942541909645\" stroke-linecap=\"round\" style=\"stroke:white;stroke-width:2\"/><line x1=\"277.20962966204866\" y1=\"121.10942541909645\" x2=\"258.8570389625564\" y2=\"116.19186356214855\" stroke-linecap=\"round\" style=\"stroke:white;stroke-width:2\"/><line x1=\"258.8570389625564\" y1=\"116.19186356214855\" x2=\"277.20962966204866\" y2=\"121.10942541909645\" stroke-linecap=\"round\" style=\"stroke:white;stroke-width:2\"/><line x1=\"277.20962966204866\" y1=\"121.10942541909645\" x2=\"263.77460081950426\" y2=\"107.67439657655206\" stroke-linecap=\"round\" style=\"stroke:white;stroke-width:2\"/><line x1=\"263.77460081950426\" y1=\"107.67439657655206\" x2=\"277.20962966204866\" y2=\"121.10942541909645\" stroke-linecap=\"round\" style=\"stroke:white;stroke-width:2\"/><line x1=\"277.20962966204866\" y1=\"121.10942541909645\" x2=\"297.12821394909076\" y2=\"132.60942541909645\" stroke-linecap=\"round\" style=\"stroke:white;stroke-width:2\"/><line x1=\"297.12821394909076\" y1=\"132.60942541909645\" x2=\"324.17413708518467\" y2=\"139.85635868196704\" stroke-linecap=\"round\" style=\"stroke:white;stroke-width:2\"/><line x1=\"324.17413708518467\" y1=\"139.85635868196704\" x2=\"304.37514721196135\" y2=\"120.05736880874372\" stroke-linecap=\"round\" style=\"stroke:white;stroke-width:2\"/><line x1=\"304.37514721196135\" y1=\"120.05736880874372\" x2=\"284.45656292491924\" y2=\"108.55736880874372\" stroke-linecap=\"round\" style=\"stroke:white;stroke-width:2\"/><line x1=\"284.45656292491924\" y1=\"108.55736880874372\" x2=\"266.10397222542696\" y2=\"103.63980695179582\" stroke-linecap=\"round\" style=\"stroke:white;stroke-width:2\"/><line x1=\"266.10397222542696\" y1=\"103.63980695179582\" x2=\"284.45656292491924\" y2=\"108.55736880874372\" stroke-linecap=\"round\" style=\"stroke:white;stroke-width:2\"/><line x1=\"284.45656292491924\" y1=\"108.55736880874372\" x2=\"271.02153408237484\" y2=\"95.12233996619932\" stroke-linecap=\"round\" style=\"stroke:white;stroke-width:2\"/><line x1=\"271.02153408237484\" y1=\"95.12233996619932\" x2=\"284.45656292491924\" y2=\"108.55736880874372\" stroke-linecap=\"round\" style=\"stroke:white;stroke-width:2\"/><line x1=\"284.45656292491924\" y1=\"108.55736880874372\" x2=\"304.37514721196135\" y2=\"120.05736880874372\" stroke-linecap=\"round\" style=\"stroke:white;stroke-width:2\"/><line x1=\"304.37514721196135\" y1=\"120.05736880874372\" x2=\"292.87514721196135\" y2=\"100.13878452170164\" stroke-linecap=\"round\" style=\"stroke:white;stroke-width:2\"/><line x1=\"292.87514721196135\" y1=\"100.13878452170164\" x2=\"279.44011836941695\" y2=\"86.70375567915724\" stroke-linecap=\"round\" style=\"stroke:white;stroke-width:2\"/><line x1=\"279.44011836941695\" y1=\"86.70375567915724\" x2=\"292.87514721196135\" y2=\"100.13878452170164\" stroke-linecap=\"round\" style=\"stroke:white;stroke-width:2\"/><line x1=\"292.87514721196135\" y1=\"100.13878452170164\" x2=\"287.95758535501346\" y2=\"81.78619382220934\" stroke-linecap=\"round\" style=\"stroke:white;stroke-width:2\"/><line x1=\"287.95758535501346\" y1=\"81.78619382220934\" x2=\"292.87514721196135\" y2=\"100.13878452170164\" stroke-linecap=\"round\" style=\"stroke:white;stroke-width:2\"/><line x1=\"292.87514721196135\" y1=\"100.13878452170164\" x2=\"304.37514721196135\" y2=\"120.05736880874372\" stroke-linecap=\"round\" style=\"stroke:white;stroke-width:2\"/><line x1=\"304.37514721196135\" y1=\"120.05736880874372\" x2=\"324.17413708518467\" y2=\"139.85635868196704\" stroke-linecap=\"round\" style=\"stroke:white;stroke-width:2\"/><line x1=\"324.17413708518467\" y1=\"139.85635868196704\" x2=\"353.61900081385556\" y2=\"156.85635868196704\" stroke-linecap=\"round\" style=\"stroke:white;stroke-width:2\"/><line x1=\"353.61900081385556\" y1=\"156.85635868196704\" x2=\"336.61900081385556\" y2=\"127.41149495329614\" stroke-linecap=\"round\" style=\"stroke:white;stroke-width:2\"/><line x1=\"336.61900081385556\" y1=\"127.41149495329614\" x2=\"316.82001094063224\" y2=\"107.61250508007282\" stroke-linecap=\"round\" style=\"stroke:white;stroke-width:2\"/><line x1=\"316.82001094063224\" y1=\"107.61250508007282\" x2=\"296.90142665359014\" y2=\"96.11250508007282\" stroke-linecap=\"round\" style=\"stroke:white;stroke-width:2\"/><line x1=\"296.90142665359014\" y1=\"96.11250508007282\" x2=\"278.54883595409785\" y2=\"91.19494322312492\" stroke-linecap=\"round\" style=\"stroke:white;stroke-width:2\"/><line x1=\"278.54883595409785\" y1=\"91.19494322312492\" x2=\"296.90142665359014\" y2=\"96.11250508007282\" stroke-linecap=\"round\" style=\"stroke:white;stroke-width:2\"/><line x1=\"296.90142665359014\" y1=\"96.11250508007282\" x2=\"283.46639781104574\" y2=\"82.67747623752842\" stroke-linecap=\"round\" style=\"stroke:white;stroke-width:2\"/><line x1=\"283.46639781104574\" y1=\"82.67747623752842\" x2=\"296.90142665359014\" y2=\"96.11250508007282\" stroke-linecap=\"round\" style=\"stroke:white;stroke-width:2\"/><line x1=\"296.90142665359014\" y1=\"96.11250508007282\" x2=\"316.82001094063224\" y2=\"107.61250508007282\" stroke-linecap=\"round\" style=\"stroke:white;stroke-width:2\"/><line x1=\"316.82001094063224\" y1=\"107.61250508007282\" x2=\"305.32001094063224\" y2=\"87.69392079303074\" stroke-linecap=\"round\" style=\"stroke:white;stroke-width:2\"/><line x1=\"305.32001094063224\" y1=\"87.69392079303074\" x2=\"291.88498209808785\" y2=\"74.25889195048634\" stroke-linecap=\"round\" style=\"stroke:white;stroke-width:2\"/><line x1=\"291.88498209808785\" y1=\"74.25889195048634\" x2=\"305.32001094063224\" y2=\"87.69392079303074\" stroke-linecap=\"round\" style=\"stroke:white;stroke-width:2\"/><line x1=\"305.32001094063224\" y1=\"87.69392079303074\" x2=\"300.40244908368436\" y2=\"69.34133009353845\" stroke-linecap=\"round\" style=\"stroke:white;stroke-width:2\"/><line x1=\"300.40244908368436\" y1=\"69.34133009353845\" x2=\"305.32001094063224\" y2=\"87.69392079303074\" stroke-linecap=\"round\" style=\"stroke:white;stroke-width:2\"/><line x1=\"305.32001094063224\" y1=\"87.69392079303074\" x2=\"316.82001094063224\" y2=\"107.61250508007282\" stroke-linecap=\"round\" style=\"stroke:white;stroke-width:2\"/><line x1=\"316.82001094063224\" y1=\"107.61250508007282\" x2=\"336.61900081385556\" y2=\"127.41149495329614\" stroke-linecap=\"round\" style=\"stroke:white;stroke-width:2\"/><line x1=\"336.61900081385556\" y1=\"127.41149495329614\" x2=\"329.372067550985\" y2=\"100.36557181720224\" stroke-linecap=\"round\" style=\"stroke:white;stroke-width:2\"/><line x1=\"329.372067550985\" y1=\"100.36557181720224\" x2=\"317.872067550985\" y2=\"80.44698753016016\" stroke-linecap=\"round\" style=\"stroke:white;stroke-width:2\"/><line x1=\"317.872067550985\" y1=\"80.44698753016016\" x2=\"304.4370387084406\" y2=\"67.01195868761576\" stroke-linecap=\"round\" style=\"stroke:white;stroke-width:2\"/><line x1=\"304.4370387084406\" y1=\"67.01195868761576\" x2=\"317.872067550985\" y2=\"80.44698753016016\" stroke-linecap=\"round\" style=\"stroke:white;stroke-width:2\"/><line x1=\"317.872067550985\" y1=\"80.44698753016016\" x2=\"312.9545056940371\" y2=\"62.09439683066786\" stroke-linecap=\"round\" style=\"stroke:white;stroke-width:2\"/><line x1=\"312.9545056940371\" y1=\"62.09439683066786\" x2=\"317.872067550985\" y2=\"80.44698753016016\" stroke-linecap=\"round\" style=\"stroke:white;stroke-width:2\"/><line x1=\"317.872067550985\" y1=\"80.44698753016016\" x2=\"329.372067550985\" y2=\"100.36557181720224\" stroke-linecap=\"round\" style=\"stroke:white;stroke-width:2\"/><line x1=\"329.372067550985\" y1=\"100.36557181720224\" x2=\"329.372067550985\" y2=\"77.36557181720224\" stroke-linecap=\"round\" style=\"stroke:white;stroke-width:2\"/><line x1=\"329.372067550985\" y1=\"77.36557181720224\" x2=\"324.4545056940371\" y2=\"59.01298111770994\" stroke-linecap=\"round\" style=\"stroke:white;stroke-width:2\"/><line x1=\"324.4545056940371\" y1=\"59.01298111770994\" x2=\"329.372067550985\" y2=\"77.36557181720224\" stroke-linecap=\"round\" style=\"stroke:white;stroke-width:2\"/><line x1=\"329.372067550985\" y1=\"77.36557181720224\" x2=\"334.28962940793286\" y2=\"59.01298111770994\" stroke-linecap=\"round\" style=\"stroke:white;stroke-width:2\"/><line x1=\"334.28962940793286\" y1=\"59.01298111770994\" x2=\"329.372067550985\" y2=\"77.36557181720224\" stroke-linecap=\"round\" style=\"stroke:white;stroke-width:2\"/><line x1=\"329.372067550985\" y1=\"77.36557181720224\" x2=\"329.372067550985\" y2=\"100.36557181720224\" stroke-linecap=\"round\" style=\"stroke:white;stroke-width:2\"/><line x1=\"329.372067550985\" y1=\"100.36557181720224\" x2=\"336.61900081385556\" y2=\"127.41149495329614\" stroke-linecap=\"round\" style=\"stroke:white;stroke-width:2\"/><line x1=\"336.61900081385556\" y1=\"127.41149495329614\" x2=\"353.61900081385556\" y2=\"156.85635868196704\" stroke-linecap=\"round\" style=\"stroke:white;stroke-width:2\"/><line x1=\"353.61900081385556\" y1=\"156.85635868196704\" x2=\"383.3174856236906\" y2=\"186.55484349180205\" stroke-linecap=\"round\" style=\"stroke:white;stroke-width:2\"/><line x1=\"383.3174856236906\" y1=\"186.55484349180205\" x2=\"372.4470857293847\" y2=\"145.98595878766116\" stroke-linecap=\"round\" style=\"stroke:white;stroke-width:2\"/><line x1=\"372.4470857293847\" y1=\"145.98595878766116\" x2=\"355.4470857293847\" y2=\"116.54109505899027\" stroke-linecap=\"round\" style=\"stroke:white;stroke-width:2\"/><line x1=\"355.4470857293847\" y1=\"116.54109505899027\" x2=\"335.6480958561614\" y2=\"96.74210518576695\" stroke-linecap=\"round\" style=\"stroke:white;stroke-width:2\"/><line x1=\"335.6480958561614\" y1=\"96.74210518576695\" x2=\"315.72951156911927\" y2=\"85.24210518576695\" stroke-linecap=\"round\" style=\"stroke:white;stroke-width:2\"/><line x1=\"315.72951156911927\" y1=\"85.24210518576695\" x2=\"297.376920869627\" y2=\"80.32454332881905\" stroke-linecap=\"round\" style=\"stroke:white;stroke-width:2\"/><line x1=\"297.376920869627\" y1=\"80.32454332881905\" x2=\"315.72951156911927\" y2=\"85.24210518576695\" stroke-linecap=\"round\" style=\"stroke:white;stroke-width:2\"/><line x1=\"315.72951156911927\" y1=\"85.24210518576695\" x2=\"302.29448272657487\" y2=\"71.80707634322255\" stroke-linecap=\"round\" style=\"stroke:white;stroke-width:2\"/><line x1=\"302.29448272657487\" y1=\"71.80707634322255\" x2=\"315.72951156911927\" y2=\"85.24210518576695\" stroke-linecap=\"round\" style=\"stroke:white;stroke-width:2\"/><line x1=\"315.72951156911927\" y1=\"85.24210518576695\" x2=\"335.6480958561614\" y2=\"96.74210518576695\" stroke-linecap=\"round\" style=\"stroke:white;stroke-width:2\"/><line x1=\"335.6480958561614\" y1=\"96.74210518576695\" x2=\"324.1480958561614\" y2=\"76.82352089872487\" stroke-linecap=\"round\" style=\"stroke:white;stroke-width:2\"/><line x1=\"324.1480958561614\" y1=\"76.82352089872487\" x2=\"310.713067013617\" y2=\"63.38849205618047\" stroke-linecap=\"round\" style=\"stroke:white;stroke-width:2\"/><line x1=\"310.713067013617\" y1=\"63.38849205618047\" x2=\"324.1480958561614\" y2=\"76.82352089872487\" stroke-linecap=\"round\" style=\"stroke:white;stroke-width:2\"/><line x1=\"324.1480958561614\" y1=\"76.82352089872487\" x2=\"319.2305339992135\" y2=\"58.47093019923257\" stroke-linecap=\"round\" style=\"stroke:white;stroke-width:2\"/><line x1=\"319.2305339992135\" y1=\"58.47093019923257\" x2=\"324.1480958561614\" y2=\"76.82352089872487\" stroke-linecap=\"round\" style=\"stroke:white;stroke-width:2\"/><line x1=\"324.1480958561614\" y1=\"76.82352089872487\" x2=\"335.6480958561614\" y2=\"96.74210518576695\" stroke-linecap=\"round\" style=\"stroke:white;stroke-width:2\"/><line x1=\"335.6480958561614\" y1=\"96.74210518576695\" x2=\"355.4470857293847\" y2=\"116.54109505899027\" stroke-linecap=\"round\" style=\"stroke:white;stroke-width:2\"/><line x1=\"355.4470857293847\" y1=\"116.54109505899027\" x2=\"348.2001524665141\" y2=\"89.49517192289636\" stroke-linecap=\"round\" style=\"stroke:white;stroke-width:2\"/><line x1=\"348.2001524665141\" y1=\"89.49517192289636\" x2=\"336.7001524665141\" y2=\"69.57658763585428\" stroke-linecap=\"round\" style=\"stroke:white;stroke-width:2\"/><line x1=\"336.7001524665141\" y1=\"69.57658763585428\" x2=\"323.2651236239697\" y2=\"56.14155879330988\" stroke-linecap=\"round\" style=\"stroke:white;stroke-width:2\"/><line x1=\"323.2651236239697\" y1=\"56.14155879330988\" x2=\"336.7001524665141\" y2=\"69.57658763585428\" stroke-linecap=\"round\" style=\"stroke:white;stroke-width:2\"/><line x1=\"336.7001524665141\" y1=\"69.57658763585428\" x2=\"331.7825906095662\" y2=\"51.223996936361985\" stroke-linecap=\"round\" style=\"stroke:white;stroke-width:2\"/><line x1=\"331.7825906095662\" y1=\"51.223996936361985\" x2=\"336.7001524665141\" y2=\"69.57658763585428\" stroke-linecap=\"round\" style=\"stroke:white;stroke-width:2\"/><line x1=\"336.7001524665141\" y1=\"69.57658763585428\" x2=\"348.2001524665141\" y2=\"89.49517192289636\" stroke-linecap=\"round\" style=\"stroke:white;stroke-width:2\"/><line x1=\"348.2001524665141\" y1=\"89.49517192289636\" x2=\"348.2001524665141\" y2=\"66.49517192289636\" stroke-linecap=\"round\" style=\"stroke:white;stroke-width:2\"/><line x1=\"348.2001524665141\" y1=\"66.49517192289636\" x2=\"343.2825906095662\" y2=\"48.142581223404065\" stroke-linecap=\"round\" style=\"stroke:white;stroke-width:2\"/><line x1=\"343.2825906095662\" y1=\"48.142581223404065\" x2=\"348.2001524665141\" y2=\"66.49517192289636\" stroke-linecap=\"round\" style=\"stroke:white;stroke-width:2\"/><line x1=\"348.2001524665141\" y1=\"66.49517192289636\" x2=\"353.117714323462\" y2=\"48.142581223404065\" stroke-linecap=\"round\" style=\"stroke:white;stroke-width:2\"/><line x1=\"353.117714323462\" y1=\"48.142581223404065\" x2=\"348.2001524665141\" y2=\"66.49517192289636\" stroke-linecap=\"round\" style=\"stroke:white;stroke-width:2\"/><line x1=\"348.2001524665141\" y1=\"66.49517192289636\" x2=\"348.2001524665141\" y2=\"89.49517192289636\" stroke-linecap=\"round\" style=\"stroke:white;stroke-width:2\"/><line x1=\"348.2001524665141\" y1=\"89.49517192289636\" x2=\"355.4470857293847\" y2=\"116.54109505899027\" stroke-linecap=\"round\" style=\"stroke:white;stroke-width:2\"/><line x1=\"355.4470857293847\" y1=\"116.54109505899027\" x2=\"372.4470857293847\" y2=\"145.98595878766116\" stroke-linecap=\"round\" style=\"stroke:white;stroke-width:2\"/><line x1=\"372.4470857293847\" y1=\"145.98595878766116\" x2=\"372.4470857293847\" y2=\"111.98595878766116\" stroke-linecap=\"round\" style=\"stroke:white;stroke-width:2\"/><line x1=\"372.4470857293847\" y1=\"111.98595878766116\" x2=\"365.2001524665141\" y2=\"84.94003565156726\" stroke-linecap=\"round\" style=\"stroke:white;stroke-width:2\"/><line x1=\"365.2001524665141\" y1=\"84.94003565156726\" x2=\"353.7001524665141\" y2=\"65.02145136452518\" stroke-linecap=\"round\" style=\"stroke:white;stroke-width:2\"/><line x1=\"353.7001524665141\" y1=\"65.02145136452518\" x2=\"340.2651236239697\" y2=\"51.58642252198078\" stroke-linecap=\"round\" style=\"stroke:white;stroke-width:2\"/><line x1=\"340.2651236239697\" y1=\"51.58642252198078\" x2=\"353.7001524665141\" y2=\"65.02145136452518\" stroke-linecap=\"round\" style=\"stroke:white;stroke-width:2\"/><line x1=\"353.7001524665141\" y1=\"65.02145136452518\" x2=\"348.7825906095662\" y2=\"46.66886066503288\" stroke-linecap=\"round\" style=\"stroke:white;stroke-width:2\"/><line x1=\"348.7825906095662\" y1=\"46.66886066503288\" x2=\"353.7001524665141\" y2=\"65.02145136452518\" stroke-linecap=\"round\" style=\"stroke:white;stroke-width:2\"/><line x1=\"353.7001524665141\" y1=\"65.02145136452518\" x2=\"365.2001524665141\" y2=\"84.94003565156726\" stroke-linecap=\"round\" style=\"stroke:white;stroke-width:2\"/><line x1=\"365.2001524665141\" y1=\"84.94003565156726\" x2=\"365.2001524665141\" y2=\"61.94003565156726\" stroke-linecap=\"round\" style=\"stroke:white;stroke-width:2\"/><line x1=\"365.2001524665141\" y1=\"61.94003565156726\" x2=\"360.2825906095662\" y2=\"43.58744495207496\" stroke-linecap=\"round\" style=\"stroke:white;stroke-width:2\"/><line x1=\"360.2825906095662\" y1=\"43.58744495207496\" x2=\"365.2001524665141\" y2=\"61.94003565156726\" stroke-linecap=\"round\" style=\"stroke:white;stroke-width:2\"/><line x1=\"365.2001524665141\" y1=\"61.94003565156726\" x2=\"370.117714323462\" y2=\"43.58744495207496\" stroke-linecap=\"round\" style=\"stroke:white;stroke-width:2\"/><line x1=\"370.117714323462\" y1=\"43.58744495207496\" x2=\"365.2001524665141\" y2=\"61.94003565156726\" stroke-linecap=\"round\" style=\"stroke:white;stroke-width:2\"/><line x1=\"365.2001524665141\" y1=\"61.94003565156726\" x2=\"365.2001524665141\" y2=\"84.94003565156726\" stroke-linecap=\"round\" style=\"stroke:white;stroke-width:2\"/><line x1=\"365.2001524665141\" y1=\"84.94003565156726\" x2=\"372.4470857293847\" y2=\"111.98595878766116\" stroke-linecap=\"round\" style=\"stroke:white;stroke-width:2\"/><line x1=\"372.4470857293847\" y1=\"111.98595878766116\" x2=\"379.6940189922553\" y2=\"84.94003565156724\" stroke-linecap=\"round\" style=\"stroke:white;stroke-width:2\"/><line x1=\"379.6940189922553\" y1=\"84.94003565156724\" x2=\"379.6940189922553\" y2=\"61.94003565156724\" stroke-linecap=\"round\" style=\"stroke:white;stroke-width:2\"/><line x1=\"379.6940189922553\" y1=\"61.94003565156724\" x2=\"374.7764571353074\" y2=\"43.58744495207495\" stroke-linecap=\"round\" style=\"stroke:white;stroke-width:2\"/><line x1=\"374.7764571353074\" y1=\"43.58744495207495\" x2=\"379.6940189922553\" y2=\"61.94003565156724\" stroke-linecap=\"round\" style=\"stroke:white;stroke-width:2\"/><line x1=\"379.6940189922553\" y1=\"61.94003565156724\" x2=\"384.61158084920316\" y2=\"43.58744495207495\" stroke-linecap=\"round\" style=\"stroke:white;stroke-width:2\"/><line x1=\"384.61158084920316\" y1=\"43.58744495207495\" x2=\"379.6940189922553\" y2=\"61.94003565156724\" stroke-linecap=\"round\" style=\"stroke:white;stroke-width:2\"/><line x1=\"379.6940189922553\" y1=\"61.94003565156724\" x2=\"379.6940189922553\" y2=\"84.94003565156724\" stroke-linecap=\"round\" style=\"stroke:white;stroke-width:2\"/><line x1=\"379.6940189922553\" y1=\"84.94003565156724\" x2=\"391.1940189922553\" y2=\"65.02145136452515\" stroke-linecap=\"round\" style=\"stroke:white;stroke-width:2\"/><line x1=\"391.1940189922553\" y1=\"65.02145136452515\" x2=\"396.11158084920316\" y2=\"46.66886066503285\" stroke-linecap=\"round\" style=\"stroke:white;stroke-width:2\"/><line x1=\"396.11158084920316\" y1=\"46.66886066503285\" x2=\"391.1940189922553\" y2=\"65.02145136452515\" stroke-linecap=\"round\" style=\"stroke:white;stroke-width:2\"/><line x1=\"391.1940189922553\" y1=\"65.02145136452515\" x2=\"404.6290478347997\" y2=\"51.586422521980744\" stroke-linecap=\"round\" style=\"stroke:white;stroke-width:2\"/><line x1=\"404.6290478347997\" y1=\"51.586422521980744\" x2=\"391.1940189922553\" y2=\"65.02145136452515\" stroke-linecap=\"round\" style=\"stroke:white;stroke-width:2\"/><line x1=\"391.1940189922553\" y1=\"65.02145136452515\" x2=\"379.6940189922553\" y2=\"84.94003565156723\" stroke-linecap=\"round\" style=\"stroke:white;stroke-width:2\"/><line x1=\"379.6940189922553\" y1=\"84.94003565156723\" x2=\"372.4470857293847\" y2=\"111.98595878766115\" stroke-linecap=\"round\" style=\"stroke:white;stroke-width:2\"/><line x1=\"372.4470857293847\" y1=\"111.98595878766115\" x2=\"372.4470857293847\" y2=\"145.98595878766116\" stroke-linecap=\"round\" style=\"stroke:white;stroke-width:2\"/><line x1=\"372.4470857293847\" y1=\"145.98595878766116\" x2=\"383.3174856236906\" y2=\"186.55484349180205\" stroke-linecap=\"round\" style=\"stroke:white;stroke-width:2\"/><line x1=\"383.3174856236906\" y1=\"186.55484349180205\" x2=\"409.3174856236906\" y2=\"231.58816448859284\" stroke-linecap=\"round\" style=\"stroke:white;stroke-width:2\"/><line x1=\"409.3174856236906\" y1=\"231.58816448859284\" x2=\"409.3174856236906\" y2=\"179.58816448859284\" stroke-linecap=\"round\" style=\"stroke:white;stroke-width:3\"/><line x1=\"409.3174856236906\" y1=\"179.58816448859284\" x2=\"398.4470857293847\" y2=\"139.01927978445195\" stroke-linecap=\"round\" style=\"stroke:white;stroke-width:2\"/><line x1=\"398.4470857293847\" y1=\"139.01927978445195\" x2=\"381.4470857293847\" y2=\"109.57441605578106\" stroke-linecap=\"round\" style=\"stroke:white;stroke-width:2\"/><line x1=\"381.4470857293847\" y1=\"109.57441605578106\" x2=\"361.6480958561614\" y2=\"89.77542618255774\" stroke-linecap=\"round\" style=\"stroke:white;stroke-width:2\"/><line x1=\"361.6480958561614\" y1=\"89.77542618255774\" x2=\"341.72951156911927\" y2=\"78.27542618255774\" stroke-linecap=\"round\" style=\"stroke:white;stroke-width:2\"/><line x1=\"341.72951156911927\" y1=\"78.27542618255774\" x2=\"323.376920869627\" y2=\"73.35786432560984\" stroke-linecap=\"round\" style=\"stroke:white;stroke-width:2\"/><line x1=\"323.376920869627\" y1=\"73.35786432560984\" x2=\"341.72951156911927\" y2=\"78.27542618255774\" stroke-linecap=\"round\" style=\"stroke:white;stroke-width:2\"/><line x1=\"341.72951156911927\" y1=\"78.27542618255774\" x2=\"328.29448272657487\" y2=\"64.84039734001334\" stroke-linecap=\"round\" style=\"stroke:white;stroke-width:2\"/><line x1=\"328.29448272657487\" y1=\"64.84039734001334\" x2=\"341.72951156911927\" y2=\"78.27542618255774\" stroke-linecap=\"round\" style=\"stroke:white;stroke-width:2\"/><line x1=\"341.72951156911927\" y1=\"78.27542618255774\" x2=\"361.6480958561614\" y2=\"89.77542618255774\" stroke-linecap=\"round\" style=\"stroke:white;stroke-width:2\"/><line x1=\"361.6480958561614\" y1=\"89.77542618255774\" x2=\"350.1480958561614\" y2=\"69.85684189551566\" stroke-linecap=\"round\" style=\"stroke:white;stroke-width:2\"/><line x1=\"350.1480958561614\" y1=\"69.85684189551566\" x2=\"336.713067013617\" y2=\"56.42181305297126\" stroke-linecap=\"round\" style=\"stroke:white;stroke-width:2\"/><line x1=\"336.713067013617\" y1=\"56.42181305297126\" x2=\"350.1480958561614\" y2=\"69.85684189551566\" stroke-linecap=\"round\" style=\"stroke:white;stroke-width:2\"/><line x1=\"350.1480958561614\" y1=\"69.85684189551566\" x2=\"345.2305339992135\" y2=\"51.50425119602336\" stroke-linecap=\"round\" style=\"stroke:white;stroke-width:2\"/><line x1=\"345.2305339992135\" y1=\"51.50425119602336\" x2=\"350.1480958561614\" y2=\"69.85684189551566\" stroke-linecap=\"round\" style=\"stroke:white;stroke-width:2\"/><line x1=\"350.1480958561614\" y1=\"69.85684189551566\" x2=\"361.6480958561614\" y2=\"89.77542618255774\" stroke-linecap=\"round\" style=\"stroke:white;stroke-width:2\"/><line x1=\"361.6480958561614\" y1=\"89.77542618255774\" x2=\"381.4470857293847\" y2=\"109.57441605578106\" stroke-linecap=\"round\" style=\"stroke:white;stroke-width:2\"/><line x1=\"381.4470857293847\" y1=\"109.57441605578106\" x2=\"374.2001524665141\" y2=\"82.52849291968715\" stroke-linecap=\"round\" style=\"stroke:white;stroke-width:2\"/><line x1=\"374.2001524665141\" y1=\"82.52849291968715\" x2=\"362.7001524665141\" y2=\"62.60990863264507\" stroke-linecap=\"round\" style=\"stroke:white;stroke-width:2\"/><line x1=\"362.7001524665141\" y1=\"62.60990863264507\" x2=\"349.2651236239697\" y2=\"49.174879790100675\" stroke-linecap=\"round\" style=\"stroke:white;stroke-width:2\"/><line x1=\"349.2651236239697\" y1=\"49.174879790100675\" x2=\"362.7001524665141\" y2=\"62.60990863264507\" stroke-linecap=\"round\" style=\"stroke:white;stroke-width:2\"/><line x1=\"362.7001524665141\" y1=\"62.60990863264507\" x2=\"357.7825906095662\" y2=\"44.25731793315278\" stroke-linecap=\"round\" style=\"stroke:white;stroke-width:2\"/><line x1=\"357.7825906095662\" y1=\"44.25731793315278\" x2=\"362.7001524665141\" y2=\"62.60990863264507\" stroke-linecap=\"round\" style=\"stroke:white;stroke-width:2\"/><line x1=\"362.7001524665141\" y1=\"62.60990863264507\" x2=\"374.2001524665141\" y2=\"82.52849291968715\" stroke-linecap=\"round\" style=\"stroke:white;stroke-width:2\"/><line x1=\"374.2001524665141\" y1=\"82.52849291968715\" x2=\"374.2001524665141\" y2=\"59.52849291968715\" stroke-linecap=\"round\" style=\"stroke:white;stroke-width:2\"/><line x1=\"374.2001524665141\" y1=\"59.52849291968715\" x2=\"369.2825906095662\" y2=\"41.17590222019486\" stroke-linecap=\"round\" style=\"stroke:white;stroke-width:2\"/><line x1=\"369.2825906095662\" y1=\"41.17590222019486\" x2=\"374.2001524665141\" y2=\"59.52849291968715\" stroke-linecap=\"round\" style=\"stroke:white;stroke-width:2\"/><line x1=\"374.2001524665141\" y1=\"59.52849291968715\" x2=\"379.117714323462\" y2=\"41.17590222019486\" stroke-linecap=\"round\" style=\"stroke:white;stroke-width:2\"/><line x1=\"379.117714323462\" y1=\"41.17590222019486\" x2=\"374.2001524665141\" y2=\"59.52849291968715\" stroke-linecap=\"round\" style=\"stroke:white;stroke-width:2\"/><line x1=\"374.2001524665141\" y1=\"59.52849291968715\" x2=\"374.2001524665141\" y2=\"82.52849291968715\" stroke-linecap=\"round\" style=\"stroke:white;stroke-width:2\"/><line x1=\"374.2001524665141\" y1=\"82.52849291968715\" x2=\"381.4470857293847\" y2=\"109.57441605578106\" stroke-linecap=\"round\" style=\"stroke:white;stroke-width:2\"/><line x1=\"381.4470857293847\" y1=\"109.57441605578106\" x2=\"398.4470857293847\" y2=\"139.01927978445195\" stroke-linecap=\"round\" style=\"stroke:white;stroke-width:2\"/><line x1=\"398.4470857293847\" y1=\"139.01927978445195\" x2=\"398.4470857293847\" y2=\"105.01927978445195\" stroke-linecap=\"round\" style=\"stroke:white;stroke-width:2\"/><line x1=\"398.4470857293847\" y1=\"105.01927978445195\" x2=\"391.2001524665141\" y2=\"77.97335664835805\" stroke-linecap=\"round\" style=\"stroke:white;stroke-width:2\"/><line x1=\"391.2001524665141\" y1=\"77.97335664835805\" x2=\"379.7001524665141\" y2=\"58.05477236131597\" stroke-linecap=\"round\" style=\"stroke:white;stroke-width:2\"/><line x1=\"379.7001524665141\" y1=\"58.05477236131597\" x2=\"366.2651236239697\" y2=\"44.61974351877157\" stroke-linecap=\"round\" style=\"stroke:white;stroke-width:2\"/><line x1=\"366.2651236239697\" y1=\"44.61974351877157\" x2=\"379.7001524665141\" y2=\"58.05477236131597\" stroke-linecap=\"round\" style=\"stroke:white;stroke-width:2\"/><line x1=\"379.7001524665141\" y1=\"58.05477236131597\" x2=\"374.7825906095662\" y2=\"39.70218166182367\" stroke-linecap=\"round\" style=\"stroke:white;stroke-width:2\"/><line x1=\"374.7825906095662\" y1=\"39.70218166182367\" x2=\"379.7001524665141\" y2=\"58.05477236131597\" stroke-linecap=\"round\" style=\"stroke:white;stroke-width:2\"/><line x1=\"379.7001524665141\" y1=\"58.05477236131597\" x2=\"391.2001524665141\" y2=\"77.97335664835805\" stroke-linecap=\"round\" style=\"stroke:white;stroke-width:2\"/><line x1=\"391.2001524665141\" y1=\"77.97335664835805\" x2=\"391.2001524665141\" y2=\"54.97335664835805\" stroke-linecap=\"round\" style=\"stroke:white;stroke-width:2\"/><line x1=\"391.2001524665141\" y1=\"54.97335664835805\" x2=\"386.2825906095662\" y2=\"36.62076594886575\" stroke-linecap=\"round\" style=\"stroke:white;stroke-width:2\"/><line x1=\"386.2825906095662\" y1=\"36.62076594886575\" x2=\"391.2001524665141\" y2=\"54.97335664835805\" stroke-linecap=\"round\" style=\"stroke:white;stroke-width:2\"/><line x1=\"391.2001524665141\" y1=\"54.97335664835805\" x2=\"396.117714323462\" y2=\"36.62076594886575\" stroke-linecap=\"round\" style=\"stroke:white;stroke-width:2\"/><line x1=\"396.117714323462\" y1=\"36.62076594886575\" x2=\"391.2001524665141\" y2=\"54.97335664835805\" stroke-linecap=\"round\" style=\"stroke:white;stroke-width:2\"/><line x1=\"391.2001524665141\" y1=\"54.97335664835805\" x2=\"391.2001524665141\" y2=\"77.97335664835805\" stroke-linecap=\"round\" style=\"stroke:white;stroke-width:2\"/><line x1=\"391.2001524665141\" y1=\"77.97335664835805\" x2=\"398.4470857293847\" y2=\"105.01927978445195\" stroke-linecap=\"round\" style=\"stroke:white;stroke-width:2\"/><line x1=\"398.4470857293847\" y1=\"105.01927978445195\" x2=\"405.6940189922553\" y2=\"77.97335664835803\" stroke-linecap=\"round\" style=\"stroke:white;stroke-width:2\"/><line x1=\"405.6940189922553\" y1=\"77.97335664835803\" x2=\"405.6940189922553\" y2=\"54.973356648358035\" stroke-linecap=\"round\" style=\"stroke:white;stroke-width:2\"/><line x1=\"405.6940189922553\" y1=\"54.973356648358035\" x2=\"400.7764571353074\" y2=\"36.62076594886574\" stroke-linecap=\"round\" style=\"stroke:white;stroke-width:2\"/><line x1=\"400.7764571353074\" y1=\"36.62076594886574\" x2=\"405.6940189922553\" y2=\"54.973356648358035\" stroke-linecap=\"round\" style=\"stroke:white;stroke-width:2\"/><line x1=\"405.6940189922553\" y1=\"54.973356648358035\" x2=\"410.61158084920316\" y2=\"36.62076594886574\" stroke-linecap=\"round\" style=\"stroke:white;stroke-width:2\"/><line x1=\"410.61158084920316\" y1=\"36.62076594886574\" x2=\"405.6940189922553\" y2=\"54.973356648358035\" stroke-linecap=\"round\" style=\"stroke:white;stroke-width:2\"/><line x1=\"405.6940189922553\" y1=\"54.973356648358035\" x2=\"405.6940189922553\" y2=\"77.97335664835803\" stroke-linecap=\"round\" style=\"stroke:white;stroke-width:2\"/><line x1=\"405.6940189922553\" y1=\"77.97335664835803\" x2=\"417.1940189922553\" y2=\"58.05477236131595\" stroke-linecap=\"round\" style=\"stroke:white;stroke-width:2\"/><line x1=\"417.1940189922553\" y1=\"58.05477236131595\" x2=\"422.11158084920316\" y2=\"39.702181661823644\" stroke-linecap=\"round\" style=\"stroke:white;stroke-width:2\"/><line x1=\"422.11158084920316\" y1=\"39.702181661823644\" x2=\"417.1940189922553\" y2=\"58.05477236131594\" stroke-linecap=\"round\" style=\"stroke:white;stroke-width:2\"/><line x1=\"417.1940189922553\" y1=\"58.05477236131594\" x2=\"430.6290478347997\" y2=\"44.619743518771536\" stroke-linecap=\"round\" style=\"stroke:white;stroke-width:2\"/><line x1=\"430.6290478347997\" y1=\"44.619743518771536\" x2=\"417.1940189922553\" y2=\"58.05477236131594\" stroke-linecap=\"round\" style=\"stroke:white;stroke-width:2\"/><line x1=\"417.1940189922553\" y1=\"58.05477236131594\" x2=\"405.6940189922553\" y2=\"77.97335664835802\" stroke-linecap=\"round\" style=\"stroke:white;stroke-width:2\"/><line x1=\"405.6940189922553\" y1=\"77.97335664835802\" x2=\"398.4470857293847\" y2=\"105.01927978445194\" stroke-linecap=\"round\" style=\"stroke:white;stroke-width:2\"/><line x1=\"398.4470857293847\" y1=\"105.01927978445194\" x2=\"398.4470857293847\" y2=\"139.01927978445195\" stroke-linecap=\"round\" style=\"stroke:white;stroke-width:2\"/><line x1=\"398.4470857293847\" y1=\"139.01927978445195\" x2=\"409.3174856236906\" y2=\"179.58816448859284\" stroke-linecap=\"round\" style=\"stroke:white;stroke-width:2\"/><line x1=\"409.3174856236906\" y1=\"179.58816448859284\" x2=\"420.18788551799645\" y2=\"139.01927978445195\" stroke-linecap=\"round\" style=\"stroke:white;stroke-width:2\"/><line x1=\"420.18788551799645\" y1=\"139.01927978445195\" x2=\"420.18788551799645\" y2=\"105.01927978445195\" stroke-linecap=\"round\" style=\"stroke:white;stroke-width:2\"/><line x1=\"420.18788551799645\" y1=\"105.01927978445195\" x2=\"412.94095225512586\" y2=\"77.97335664835805\" stroke-linecap=\"round\" style=\"stroke:white;stroke-width:2\"/><line x1=\"412.94095225512586\" y1=\"77.97335664835805\" x2=\"401.44095225512586\" y2=\"58.05477236131597\" stroke-linecap=\"round\" style=\"stroke:white;stroke-width:2\"/><line x1=\"401.44095225512586\" y1=\"58.05477236131597\" x2=\"388.00592341258147\" y2=\"44.61974351877157\" stroke-linecap=\"round\" style=\"stroke:white;stroke-width:2\"/><line x1=\"388.00592341258147\" y1=\"44.61974351877157\" x2=\"401.44095225512586\" y2=\"58.05477236131597\" stroke-linecap=\"round\" style=\"stroke:white;stroke-width:2\"/><line x1=\"401.44095225512586\" y1=\"58.05477236131597\" x2=\"396.523390398178\" y2=\"39.70218166182367\" stroke-linecap=\"round\" style=\"stroke:white;stroke-width:2\"/><line x1=\"396.523390398178\" y1=\"39.70218166182367\" x2=\"401.44095225512586\" y2=\"58.05477236131597\" stroke-linecap=\"round\" style=\"stroke:white;stroke-width:2\"/><line x1=\"401.44095225512586\" y1=\"58.05477236131597\" x2=\"412.94095225512586\" y2=\"77.97335664835805\" stroke-linecap=\"round\" style=\"stroke:white;stroke-width:2\"/><line x1=\"412.94095225512586\" y1=\"77.97335664835805\" x2=\"412.94095225512586\" y2=\"54.97335664835805\" stroke-linecap=\"round\" style=\"stroke:white;stroke-width:2\"/><line x1=\"412.94095225512586\" y1=\"54.97335664835805\" x2=\"408.023390398178\" y2=\"36.62076594886575\" stroke-linecap=\"round\" style=\"stroke:white;stroke-width:2\"/><line x1=\"408.023390398178\" y1=\"36.62076594886575\" x2=\"412.94095225512586\" y2=\"54.97335664835805\" stroke-linecap=\"round\" style=\"stroke:white;stroke-width:2\"/><line x1=\"412.94095225512586\" y1=\"54.97335664835805\" x2=\"417.85851411207375\" y2=\"36.62076594886575\" stroke-linecap=\"round\" style=\"stroke:white;stroke-width:2\"/><line x1=\"417.85851411207375\" y1=\"36.62076594886575\" x2=\"412.94095225512586\" y2=\"54.97335664835805\" stroke-linecap=\"round\" style=\"stroke:white;stroke-width:2\"/><line x1=\"412.94095225512586\" y1=\"54.97335664835805\" x2=\"412.94095225512586\" y2=\"77.97335664835805\" stroke-linecap=\"round\" style=\"stroke:white;stroke-width:2\"/><line x1=\"412.94095225512586\" y1=\"77.97335664835805\" x2=\"420.18788551799645\" y2=\"105.01927978445195\" stroke-linecap=\"round\" style=\"stroke:white;stroke-width:2\"/><line x1=\"420.18788551799645\" y1=\"105.01927978445195\" x2=\"427.43481878086703\" y2=\"77.97335664835803\" stroke-linecap=\"round\" style=\"stroke:white;stroke-width:2\"/><line x1=\"427.43481878086703\" y1=\"77.97335664835803\" x2=\"427.43481878086703\" y2=\"54.973356648358035\" stroke-linecap=\"round\" style=\"stroke:white;stroke-width:2\"/><line x1=\"427.43481878086703\" y1=\"54.973356648358035\" x2=\"422.51725692391915\" y2=\"36.62076594886574\" stroke-linecap=\"round\" style=\"stroke:white;stroke-width:2\"/><line x1=\"422.51725692391915\" y1=\"36.62076594886574\" x2=\"427.43481878086703\" y2=\"54.973356648358035\" stroke-linecap=\"round\" style=\"stroke:white;stroke-width:2\"/><line x1=\"427.43481878086703\" y1=\"54.973356648358035\" x2=\"432.3523806378149\" y2=\"36.62076594886574\" stroke-linecap=\"round\" style=\"stroke:white;stroke-width:2\"/><line x1=\"432.3523806378149\" y1=\"36.62076594886574\" x2=\"427.43481878086703\" y2=\"54.973356648358035\" stroke-linecap=\"round\" style=\"stroke:white;stroke-width:2\"/><line x1=\"427.43481878086703\" y1=\"54.973356648358035\" x2=\"427.43481878086703\" y2=\"77.97335664835803\" stroke-linecap=\"round\" style=\"stroke:white;stroke-width:2\"/><line x1=\"427.43481878086703\" y1=\"77.97335664835803\" x2=\"438.93481878086703\" y2=\"58.05477236131595\" stroke-linecap=\"round\" style=\"stroke:white;stroke-width:2\"/><line x1=\"438.93481878086703\" y1=\"58.05477236131595\" x2=\"443.8523806378149\" y2=\"39.702181661823644\" stroke-linecap=\"round\" style=\"stroke:white;stroke-width:2\"/><line x1=\"443.8523806378149\" y1=\"39.702181661823644\" x2=\"438.93481878086703\" y2=\"58.05477236131594\" stroke-linecap=\"round\" style=\"stroke:white;stroke-width:2\"/><line x1=\"438.93481878086703\" y1=\"58.05477236131594\" x2=\"452.36984762341143\" y2=\"44.619743518771536\" stroke-linecap=\"round\" style=\"stroke:white;stroke-width:2\"/><line x1=\"452.36984762341143\" y1=\"44.619743518771536\" x2=\"438.93481878086703\" y2=\"58.05477236131594\" stroke-linecap=\"round\" style=\"stroke:white;stroke-width:2\"/><line x1=\"438.93481878086703\" y1=\"58.05477236131594\" x2=\"427.43481878086703\" y2=\"77.97335664835802\" stroke-linecap=\"round\" style=\"stroke:white;stroke-width:2\"/><line x1=\"427.43481878086703\" y1=\"77.97335664835802\" x2=\"420.18788551799645\" y2=\"105.01927978445194\" stroke-linecap=\"round\" style=\"stroke:white;stroke-width:2\"/><line x1=\"420.18788551799645\" y1=\"105.01927978445194\" x2=\"420.18788551799645\" y2=\"139.01927978445195\" stroke-linecap=\"round\" style=\"stroke:white;stroke-width:2\"/><line x1=\"420.18788551799645\" y1=\"139.01927978445195\" x2=\"437.18788551799645\" y2=\"109.57441605578104\" stroke-linecap=\"round\" style=\"stroke:white;stroke-width:2\"/><line x1=\"437.18788551799645\" y1=\"109.57441605578104\" x2=\"444.43481878086703\" y2=\"82.52849291968712\" stroke-linecap=\"round\" style=\"stroke:white;stroke-width:2\"/><line x1=\"444.43481878086703\" y1=\"82.52849291968712\" x2=\"444.43481878086703\" y2=\"59.528492919687125\" stroke-linecap=\"round\" style=\"stroke:white;stroke-width:2\"/><line x1=\"444.43481878086703\" y1=\"59.528492919687125\" x2=\"439.51725692391915\" y2=\"41.17590222019483\" stroke-linecap=\"round\" style=\"stroke:white;stroke-width:2\"/><line x1=\"439.51725692391915\" y1=\"41.17590222019483\" x2=\"444.43481878086703\" y2=\"59.528492919687125\" stroke-linecap=\"round\" style=\"stroke:white;stroke-width:2\"/><line x1=\"444.43481878086703\" y1=\"59.528492919687125\" x2=\"449.3523806378149\" y2=\"41.17590222019483\" stroke-linecap=\"round\" style=\"stroke:white;stroke-width:2\"/><line x1=\"449.3523806378149\" y1=\"41.17590222019483\" x2=\"444.43481878086703\" y2=\"59.528492919687125\" stroke-linecap=\"round\" style=\"stroke:white;stroke-width:2\"/><line x1=\"444.43481878086703\" y1=\"59.528492919687125\" x2=\"444.43481878086703\" y2=\"82.52849291968712\" stroke-linecap=\"round\" style=\"stroke:white;stroke-width:2\"/><line x1=\"444.43481878086703\" y1=\"82.52849291968712\" x2=\"455.93481878086703\" y2=\"62.60990863264504\" stroke-linecap=\"round\" style=\"stroke:white;stroke-width:2\"/><line x1=\"455.93481878086703\" y1=\"62.60990863264504\" x2=\"460.8523806378149\" y2=\"44.257317933152734\" stroke-linecap=\"round\" style=\"stroke:white;stroke-width:2\"/><line x1=\"460.8523806378149\" y1=\"44.257317933152734\" x2=\"455.93481878086703\" y2=\"62.60990863264503\" stroke-linecap=\"round\" style=\"stroke:white;stroke-width:2\"/><line x1=\"455.93481878086703\" y1=\"62.60990863264503\" x2=\"469.36984762341143\" y2=\"49.174879790100626\" stroke-linecap=\"round\" style=\"stroke:white;stroke-width:2\"/><line x1=\"469.36984762341143\" y1=\"49.174879790100626\" x2=\"455.93481878086703\" y2=\"62.60990863264503\" stroke-linecap=\"round\" style=\"stroke:white;stroke-width:2\"/><line x1=\"455.93481878086703\" y1=\"62.60990863264503\" x2=\"444.43481878086703\" y2=\"82.52849291968712\" stroke-linecap=\"round\" style=\"stroke:white;stroke-width:2\"/><line x1=\"444.43481878086703\" y1=\"82.52849291968712\" x2=\"437.18788551799645\" y2=\"109.57441605578104\" stroke-linecap=\"round\" style=\"stroke:white;stroke-width:2\"/><line x1=\"437.18788551799645\" y1=\"109.57441605578104\" x2=\"456.98687539121977\" y2=\"89.77542618255771\" stroke-linecap=\"round\" style=\"stroke:white;stroke-width:2\"/><line x1=\"456.98687539121977\" y1=\"89.77542618255771\" x2=\"468.48687539121977\" y2=\"69.85684189551563\" stroke-linecap=\"round\" style=\"stroke:white;stroke-width:2\"/><line x1=\"468.48687539121977\" y1=\"69.85684189551563\" x2=\"473.40443724816765\" y2=\"51.50425119602333\" stroke-linecap=\"round\" style=\"stroke:white;stroke-width:2\"/><line x1=\"473.40443724816765\" y1=\"51.50425119602333\" x2=\"468.48687539121977\" y2=\"69.85684189551563\" stroke-linecap=\"round\" style=\"stroke:white;stroke-width:2\"/><line x1=\"468.48687539121977\" y1=\"69.85684189551563\" x2=\"481.92190423376417\" y2=\"56.421813052971224\" stroke-linecap=\"round\" style=\"stroke:white;stroke-width:2\"/><line x1=\"481.92190423376417\" y1=\"56.421813052971224\" x2=\"468.48687539121977\" y2=\"69.85684189551563\" stroke-linecap=\"round\" style=\"stroke:white;stroke-width:2\"/><line x1=\"468.48687539121977\" y1=\"69.85684189551563\" x2=\"456.98687539121977\" y2=\"89.77542618255771\" stroke-linecap=\"round\" style=\"stroke:white;stroke-width:2\"/><line x1=\"456.98687539121977\" y1=\"89.77542618255771\" x2=\"476.9054596782619\" y2=\"78.2754261825577\" stroke-linecap=\"round\" style=\"stroke:white;stroke-width:2\"/><line x1=\"476.9054596782619\" y1=\"78.2754261825577\" x2=\"490.3404885208063\" y2=\"64.84039734001328\" stroke-linecap=\"round\" style=\"stroke:white;stroke-width:2\"/><line x1=\"490.3404885208063\" y1=\"64.84039734001328\" x2=\"476.9054596782619\" y2=\"78.2754261825577\" stroke-linecap=\"round\" style=\"stroke:white;stroke-width:2\"/><line x1=\"476.9054596782619\" y1=\"78.2754261825577\" x2=\"495.25805037775416\" y2=\"73.3578643256098\" stroke-linecap=\"round\" style=\"stroke:white;stroke-width:2\"/><line x1=\"495.25805037775416\" y1=\"73.3578643256098\" x2=\"476.9054596782619\" y2=\"78.2754261825577\" stroke-linecap=\"round\" style=\"stroke:white;stroke-width:2\"/><line x1=\"476.9054596782619\" y1=\"78.2754261825577\" x2=\"456.98687539121977\" y2=\"89.77542618255771\" stroke-linecap=\"round\" style=\"stroke:white;stroke-width:2\"/><line x1=\"456.98687539121977\" y1=\"89.77542618255771\" x2=\"437.18788551799645\" y2=\"109.57441605578104\" stroke-linecap=\"round\" style=\"stroke:white;stroke-width:2\"/><line x1=\"437.18788551799645\" y1=\"109.57441605578104\" x2=\"420.18788551799645\" y2=\"139.01927978445195\" stroke-linecap=\"round\" style=\"stroke:white;stroke-width:2\"/><line x1=\"420.18788551799645\" y1=\"139.01927978445195\" x2=\"409.3174856236906\" y2=\"179.58816448859284\" stroke-linecap=\"round\" style=\"stroke:white;stroke-width:2\"/><line x1=\"409.3174856236906\" y1=\"179.58816448859284\" x2=\"409.3174856236906\" y2=\"231.58816448859284\" stroke-linecap=\"round\" style=\"stroke:white;stroke-width:2\"/><line x1=\"409.3174856236906\" y1=\"231.58816448859284\" x2=\"425.8819045102519\" y2=\"293.40741737109323\" stroke-linecap=\"round\" style=\"stroke:white;stroke-width:2\"/><line x1=\"425.8819045102519\" y1=\"293.40741737109323\" x2=\"442.4463233968132\" y2=\"231.58816448859284\" stroke-linecap=\"round\" style=\"stroke:white;stroke-width:4\"/><line x1=\"442.4463233968132\" y1=\"231.58816448859284\" x2=\"442.4463233968132\" y2=\"179.58816448859284\" stroke-linecap=\"round\" style=\"stroke:white;stroke-width:3\"/><line x1=\"442.4463233968132\" y1=\"179.58816448859284\" x2=\"431.57592350250735\" y2=\"139.01927978445195\" stroke-linecap=\"round\" style=\"stroke:white;stroke-width:2\"/><line x1=\"431.57592350250735\" y1=\"139.01927978445195\" x2=\"414.57592350250735\" y2=\"109.57441605578106\" stroke-linecap=\"round\" style=\"stroke:white;stroke-width:2\"/><line x1=\"414.57592350250735\" y1=\"109.57441605578106\" x2=\"394.77693362928403\" y2=\"89.77542618255774\" stroke-linecap=\"round\" style=\"stroke:white;stroke-width:2\"/><line x1=\"394.77693362928403\" y1=\"89.77542618255774\" x2=\"374.8583493422419\" y2=\"78.27542618255774\" stroke-linecap=\"round\" style=\"stroke:white;stroke-width:2\"/><line x1=\"374.8583493422419\" y1=\"78.27542618255774\" x2=\"356.50575864274964\" y2=\"73.35786432560984\" stroke-linecap=\"round\" style=\"stroke:white;stroke-width:2\"/><line x1=\"356.50575864274964\" y1=\"73.35786432560984\" x2=\"374.8583493422419\" y2=\"78.27542618255774\" stroke-linecap=\"round\" style=\"stroke:white;stroke-width:2\"/><line x1=\"374.8583493422419\" y1=\"78.27542618255774\" x2=\"361.4233204996975\" y2=\"64.84039734001334\" stroke-linecap=\"round\" style=\"stroke:white;stroke-width:2\"/><line x1=\"361.4233204996975\" y1=\"64.84039734001334\" x2=\"374.8583493422419\" y2=\"78.27542618255774\" stroke-linecap=\"round\" style=\"stroke:white;stroke-width:2\"/><line x1=\"374.8583493422419\" y1=\"78.27542618255774\" x2=\"394.77693362928403\" y2=\"89.77542618255774\" stroke-linecap=\"round\" style=\"stroke:white;stroke-width:2\"/><line x1=\"394.77693362928403\" y1=\"89.77542618255774\" x2=\"383.27693362928403\" y2=\"69.85684189551566\" stroke-linecap=\"round\" style=\"stroke:white;stroke-width:2\"/><line x1=\"383.27693362928403\" y1=\"69.85684189551566\" x2=\"369.84190478673963\" y2=\"56.42181305297126\" stroke-linecap=\"round\" style=\"stroke:white;stroke-width:2\"/><line x1=\"369.84190478673963\" y1=\"56.42181305297126\" x2=\"383.27693362928403\" y2=\"69.85684189551566\" stroke-linecap=\"round\" style=\"stroke:white;stroke-width:2\"/><line x1=\"383.27693362928403\" y1=\"69.85684189551566\" x2=\"378.35937177233615\" y2=\"51.50425119602336\" stroke-linecap=\"round\" style=\"stroke:white;stroke-width:2\"/><line x1=\"378.35937177233615\" y1=\"51.50425119602336\" x2=\"383.27693362928403\" y2=\"69.85684189551566\" stroke-linecap=\"round\" style=\"stroke:white;stroke-width:2\"/><line x1=\"383.27693362928403\" y1=\"69.85684189551566\" x2=\"394.77693362928403\" y2=\"89.77542618255774\" stroke-linecap=\"round\" style=\"stroke:white;stroke-width:2\"/><line x1=\"394.77693362928403\" y1=\"89.77542618255774\" x2=\"414.57592350250735\" y2=\"109.57441605578106\" stroke-linecap=\"round\" style=\"stroke:white;stroke-width:2\"/><line x1=\"414.57592350250735\" y1=\"109.57441605578106\" x2=\"407.32899023963677\" y2=\"82.52849291968715\" stroke-linecap=\"round\" style=\"stroke:white;stroke-width:2\"/><line x1=\"407.32899023963677\" y1=\"82.52849291968715\" x2=\"395.82899023963677\" y2=\"62.60990863264507\" stroke-linecap=\"round\" style=\"stroke:white;stroke-width:2\"/><line x1=\"395.82899023963677\" y1=\"62.60990863264507\" x2=\"382.39396139709237\" y2=\"49.174879790100675\" stroke-linecap=\"round\" style=\"stroke:white;stroke-width:2\"/><line x1=\"382.39396139709237\" y1=\"49.174879790100675\" x2=\"395.82899023963677\" y2=\"62.60990863264507\" stroke-linecap=\"round\" style=\"stroke:white;stroke-width:2\"/><line x1=\"395.82899023963677\" y1=\"62.60990863264507\" x2=\"390.9114283826889\" y2=\"44.25731793315278\" stroke-linecap=\"round\" style=\"stroke:white;stroke-width:2\"/><line x1=\"390.9114283826889\" y1=\"44.25731793315278\" x2=\"395.82899023963677\" y2=\"62.60990863264507\" stroke-linecap=\"round\" style=\"stroke:white;stroke-width:2\"/><line x1=\"395.82899023963677\" y1=\"62.60990863264507\" x2=\"407.32899023963677\" y2=\"82.52849291968715\" stroke-linecap=\"round\" style=\"stroke:white;stroke-width:2\"/><line x1=\"407.32899023963677\" y1=\"82.52849291968715\" x2=\"407.32899023963677\" y2=\"59.52849291968715\" stroke-linecap=\"round\" style=\"stroke:white;stroke-width:2\"/><line x1=\"407.32899023963677\" y1=\"59.52849291968715\" x2=\"402.4114283826889\" y2=\"41.17590222019486\" stroke-linecap=\"round\" style=\"stroke:white;stroke-width:2\"/><line x1=\"402.4114283826889\" y1=\"41.17590222019486\" x2=\"407.32899023963677\" y2=\"59.52849291968715\" stroke-linecap=\"round\" style=\"stroke:white;stroke-width:2\"/><line x1=\"407.32899023963677\" y1=\"59.52849291968715\" x2=\"412.24655209658465\" y2=\"41.17590222019486\" stroke-linecap=\"round\" style=\"stroke:white;stroke-width:2\"/><line x1=\"412.24655209658465\" y1=\"41.17590222019486\" x2=\"407.32899023963677\" y2=\"59.52849291968715\" stroke-linecap=\"round\" style=\"stroke:white;stroke-width:2\"/><line x1=\"407.32899023963677\" y1=\"59.52849291968715\" x2=\"407.32899023963677\" y2=\"82.52849291968715\" stroke-linecap=\"round\" style=\"stroke:white;stroke-width:2\"/><line x1=\"407.32899023963677\" y1=\"82.52849291968715\" x2=\"414.57592350250735\" y2=\"109.57441605578106\" stroke-linecap=\"round\" style=\"stroke:white;stroke-width:2\"/><line x1=\"414.57592350250735\" y1=\"109.57441605578106\" x2=\"431.57592350250735\" y2=\"139.01927978445195\" stroke-linecap=\"round\" style=\"stroke:white;stroke-width:2\"/><line x1=\"431.57592350250735\" y1=\"139.01927978445195\" x2=\"431.57592350250735\" y2=\"105.01927978445195\" stroke-linecap=\"round\" style=\"stroke:white;stroke-width:2\"/><line x1=\"431.57592350250735\" y1=\"105.01927978445195\" x2=\"424.32899023963677\" y2=\"77.97335664835805\" stroke-linecap=\"round\" style=\"stroke:white;stroke-width:2\"/><line x1=\"424.32899023963677\" y1=\"77.97335664835805\" x2=\"412.82899023963677\" y2=\"58.05477236131597\" stroke-linecap=\"round\" style=\"stroke:white;stroke-width:2\"/><line x1=\"412.82899023963677\" y1=\"58.05477236131597\" x2=\"399.39396139709237\" y2=\"44.61974351877157\" stroke-linecap=\"round\" style=\"stroke:white;stroke-width:2\"/><line x1=\"399.39396139709237\" y1=\"44.61974351877157\" x2=\"412.82899023963677\" y2=\"58.05477236131597\" stroke-linecap=\"round\" style=\"stroke:white;stroke-width:2\"/><line x1=\"412.82899023963677\" y1=\"58.05477236131597\" x2=\"407.9114283826889\" y2=\"39.70218166182367\" stroke-linecap=\"round\" style=\"stroke:white;stroke-width:2\"/><line x1=\"407.9114283826889\" y1=\"39.70218166182367\" x2=\"412.82899023963677\" y2=\"58.05477236131597\" stroke-linecap=\"round\" style=\"stroke:white;stroke-width:2\"/><line x1=\"412.82899023963677\" y1=\"58.05477236131597\" x2=\"424.32899023963677\" y2=\"77.97335664835805\" stroke-linecap=\"round\" style=\"stroke:white;stroke-width:2\"/><line x1=\"424.32899023963677\" y1=\"77.97335664835805\" x2=\"424.32899023963677\" y2=\"54.97335664835805\" stroke-linecap=\"round\" style=\"stroke:white;stroke-width:2\"/><line x1=\"424.32899023963677\" y1=\"54.97335664835805\" x2=\"419.4114283826889\" y2=\"36.62076594886575\" stroke-linecap=\"round\" style=\"stroke:white;stroke-width:2\"/><line x1=\"419.4114283826889\" y1=\"36.62076594886575\" x2=\"424.32899023963677\" y2=\"54.97335664835805\" stroke-linecap=\"round\" style=\"stroke:white;stroke-width:2\"/><line x1=\"424.32899023963677\" y1=\"54.97335664835805\" x2=\"429.24655209658465\" y2=\"36.62076594886575\" stroke-linecap=\"round\" style=\"stroke:white;stroke-width:2\"/><line x1=\"429.24655209658465\" y1=\"36.62076594886575\" x2=\"424.32899023963677\" y2=\"54.97335664835805\" stroke-linecap=\"round\" style=\"stroke:white;stroke-width:2\"/><line x1=\"424.32899023963677\" y1=\"54.97335664835805\" x2=\"424.32899023963677\" y2=\"77.97335664835805\" stroke-linecap=\"round\" style=\"stroke:white;stroke-width:2\"/><line x1=\"424.32899023963677\" y1=\"77.97335664835805\" x2=\"431.57592350250735\" y2=\"105.01927978445195\" stroke-linecap=\"round\" style=\"stroke:white;stroke-width:2\"/><line x1=\"431.57592350250735\" y1=\"105.01927978445195\" x2=\"438.82285676537794\" y2=\"77.97335664835803\" stroke-linecap=\"round\" style=\"stroke:white;stroke-width:2\"/><line x1=\"438.82285676537794\" y1=\"77.97335664835803\" x2=\"438.82285676537794\" y2=\"54.973356648358035\" stroke-linecap=\"round\" style=\"stroke:white;stroke-width:2\"/><line x1=\"438.82285676537794\" y1=\"54.973356648358035\" x2=\"433.90529490843005\" y2=\"36.62076594886574\" stroke-linecap=\"round\" style=\"stroke:white;stroke-width:2\"/><line x1=\"433.90529490843005\" y1=\"36.62076594886574\" x2=\"438.82285676537794\" y2=\"54.973356648358035\" stroke-linecap=\"round\" style=\"stroke:white;stroke-width:2\"/><line x1=\"438.82285676537794\" y1=\"54.973356648358035\" x2=\"443.7404186223258\" y2=\"36.62076594886574\" stroke-linecap=\"round\" style=\"stroke:white;stroke-width:2\"/><line x1=\"443.7404186223258\" y1=\"36.62076594886574\" x2=\"438.82285676537794\" y2=\"54.973356648358035\" stroke-linecap=\"round\" style=\"stroke:white;stroke-width:2\"/><line x1=\"438.82285676537794\" y1=\"54.973356648358035\" x2=\"438.82285676537794\" y2=\"77.97335664835803\" stroke-linecap=\"round\" style=\"stroke:white;stroke-width:2\"/><line x1=\"438.82285676537794\" y1=\"77.97335664835803\" x2=\"450.32285676537794\" y2=\"58.05477236131595\" stroke-linecap=\"round\" style=\"stroke:white;stroke-width:2\"/><line x1=\"450.32285676537794\" y1=\"58.05477236131595\" x2=\"455.2404186223258\" y2=\"39.702181661823644\" stroke-linecap=\"round\" style=\"stroke:white;stroke-width:2\"/><line x1=\"455.2404186223258\" y1=\"39.702181661823644\" x2=\"450.32285676537794\" y2=\"58.05477236131594\" stroke-linecap=\"round\" style=\"stroke:white;stroke-width:2\"/><line x1=\"450.32285676537794\" y1=\"58.05477236131594\" x2=\"463.75788560792233\" y2=\"44.619743518771536\" stroke-linecap=\"round\" style=\"stroke:white;stroke-width:2\"/><line x1=\"463.75788560792233\" y1=\"44.619743518771536\" x2=\"450.32285676537794\" y2=\"58.05477236131594\" stroke-linecap=\"round\" style=\"stroke:white;stroke-width:2\"/><line x1=\"450.32285676537794\" y1=\"58.05477236131594\" x2=\"438.82285676537794\" y2=\"77.97335664835802\" stroke-linecap=\"round\" style=\"stroke:white;stroke-width:2\"/><line x1=\"438.82285676537794\" y1=\"77.97335664835802\" x2=\"431.57592350250735\" y2=\"105.01927978445194\" stroke-linecap=\"round\" style=\"stroke:white;stroke-width:2\"/><line x1=\"431.57592350250735\" y1=\"105.01927978445194\" x2=\"431.57592350250735\" y2=\"139.01927978445195\" stroke-linecap=\"round\" style=\"stroke:white;stroke-width:2\"/><line x1=\"431.57592350250735\" y1=\"139.01927978445195\" x2=\"442.4463233968132\" y2=\"179.58816448859284\" stroke-linecap=\"round\" style=\"stroke:white;stroke-width:2\"/><line x1=\"442.4463233968132\" y1=\"179.58816448859284\" x2=\"453.3167232911191\" y2=\"139.01927978445195\" stroke-linecap=\"round\" style=\"stroke:white;stroke-width:2\"/><line x1=\"453.3167232911191\" y1=\"139.01927978445195\" x2=\"453.3167232911191\" y2=\"105.01927978445195\" stroke-linecap=\"round\" style=\"stroke:white;stroke-width:2\"/><line x1=\"453.3167232911191\" y1=\"105.01927978445195\" x2=\"446.0697900282485\" y2=\"77.97335664835805\" stroke-linecap=\"round\" style=\"stroke:white;stroke-width:2\"/><line x1=\"446.0697900282485\" y1=\"77.97335664835805\" x2=\"434.5697900282485\" y2=\"58.05477236131597\" stroke-linecap=\"round\" style=\"stroke:white;stroke-width:2\"/><line x1=\"434.5697900282485\" y1=\"58.05477236131597\" x2=\"421.1347611857041\" y2=\"44.61974351877157\" stroke-linecap=\"round\" style=\"stroke:white;stroke-width:2\"/><line x1=\"421.1347611857041\" y1=\"44.61974351877157\" x2=\"434.5697900282485\" y2=\"58.05477236131597\" stroke-linecap=\"round\" style=\"stroke:white;stroke-width:2\"/><line x1=\"434.5697900282485\" y1=\"58.05477236131597\" x2=\"429.65222817130064\" y2=\"39.70218166182367\" stroke-linecap=\"round\" style=\"stroke:white;stroke-width:2\"/><line x1=\"429.65222817130064\" y1=\"39.70218166182367\" x2=\"434.5697900282485\" y2=\"58.05477236131597\" stroke-linecap=\"round\" style=\"stroke:white;stroke-width:2\"/><line x1=\"434.5697900282485\" y1=\"58.05477236131597\" x2=\"446.0697900282485\" y2=\"77.97335664835805\" stroke-linecap=\"round\" style=\"stroke:white;stroke-width:2\"/><line x1=\"446.0697900282485\" y1=\"77.97335664835805\" x2=\"446.0697900282485\" y2=\"54.97335664835805\" stroke-linecap=\"round\" style=\"stroke:white;stroke-width:2\"/><line x1=\"446.0697900282485\" y1=\"54.97335664835805\" x2=\"441.15222817130064\" y2=\"36.62076594886575\" stroke-linecap=\"round\" style=\"stroke:white;stroke-width:2\"/><line x1=\"441.15222817130064\" y1=\"36.62076594886575\" x2=\"446.0697900282485\" y2=\"54.97335664835805\" stroke-linecap=\"round\" style=\"stroke:white;stroke-width:2\"/><line x1=\"446.0697900282485\" y1=\"54.97335664835805\" x2=\"450.9873518851964\" y2=\"36.62076594886575\" stroke-linecap=\"round\" style=\"stroke:white;stroke-width:2\"/><line x1=\"450.9873518851964\" y1=\"36.62076594886575\" x2=\"446.0697900282485\" y2=\"54.97335664835805\" stroke-linecap=\"round\" style=\"stroke:white;stroke-width:2\"/><line x1=\"446.0697900282485\" y1=\"54.97335664835805\" x2=\"446.0697900282485\" y2=\"77.97335664835805\" stroke-linecap=\"round\" style=\"stroke:white;stroke-width:2\"/><line x1=\"446.0697900282485\" y1=\"77.97335664835805\" x2=\"453.3167232911191\" y2=\"105.01927978445195\" stroke-linecap=\"round\" style=\"stroke:white;stroke-width:2\"/><line x1=\"453.3167232911191\" y1=\"105.01927978445195\" x2=\"460.5636565539897\" y2=\"77.97335664835803\" stroke-linecap=\"round\" style=\"stroke:white;stroke-width:2\"/><line x1=\"460.5636565539897\" y1=\"77.97335664835803\" x2=\"460.5636565539897\" y2=\"54.973356648358035\" stroke-linecap=\"round\" style=\"stroke:white;stroke-width:2\"/><line x1=\"460.5636565539897\" y1=\"54.973356648358035\" x2=\"455.6460946970418\" y2=\"36.62076594886574\" stroke-linecap=\"round\" style=\"stroke:white;stroke-width:2\"/><line x1=\"455.6460946970418\" y1=\"36.62076594886574\" x2=\"460.5636565539897\" y2=\"54.973356648358035\" stroke-linecap=\"round\" style=\"stroke:white;stroke-width:2\"/><line x1=\"460.5636565539897\" y1=\"54.973356648358035\" x2=\"465.4812184109376\" y2=\"36.62076594886574\" stroke-linecap=\"round\" style=\"stroke:white;stroke-width:2\"/><line x1=\"465.4812184109376\" y1=\"36.62076594886574\" x2=\"460.5636565539897\" y2=\"54.973356648358035\" stroke-linecap=\"round\" style=\"stroke:white;stroke-width:2\"/><line x1=\"460.5636565539897\" y1=\"54.973356648358035\" x2=\"460.5636565539897\" y2=\"77.97335664835803\" stroke-linecap=\"round\" style=\"stroke:white;stroke-width:2\"/><line x1=\"460.5636565539897\" y1=\"77.97335664835803\" x2=\"472.0636565539897\" y2=\"58.05477236131595\" stroke-linecap=\"round\" style=\"stroke:white;stroke-width:2\"/><line x1=\"472.0636565539897\" y1=\"58.05477236131595\" x2=\"476.9812184109376\" y2=\"39.702181661823644\" stroke-linecap=\"round\" style=\"stroke:white;stroke-width:2\"/><line x1=\"476.9812184109376\" y1=\"39.702181661823644\" x2=\"472.0636565539897\" y2=\"58.05477236131594\" stroke-linecap=\"round\" style=\"stroke:white;stroke-width:2\"/><line x1=\"472.0636565539897\" y1=\"58.05477236131594\" x2=\"485.4986853965341\" y2=\"44.619743518771536\" stroke-linecap=\"round\" style=\"stroke:white;stroke-width:2\"/><line x1=\"485.4986853965341\" y1=\"44.619743518771536\" x2=\"472.0636565539897\" y2=\"58.05477236131594\" stroke-linecap=\"round\" style=\"stroke:white;stroke-width:2\"/><line x1=\"472.0636565539897\" y1=\"58.05477236131594\" x2=\"460.5636565539897\" y2=\"77.97335664835802\" stroke-linecap=\"round\" style=\"stroke:white;stroke-width:2\"/><line x1=\"460.5636565539897\" y1=\"77.97335664835802\" x2=\"453.3167232911191\" y2=\"105.01927978445194\" stroke-linecap=\"round\" style=\"stroke:white;stroke-width:2\"/><line x1=\"453.3167232911191\" y1=\"105.01927978445194\" x2=\"453.3167232911191\" y2=\"139.01927978445195\" stroke-linecap=\"round\" style=\"stroke:white;stroke-width:2\"/><line x1=\"453.3167232911191\" y1=\"139.01927978445195\" x2=\"470.3167232911191\" y2=\"109.57441605578104\" stroke-linecap=\"round\" style=\"stroke:white;stroke-width:2\"/><line x1=\"470.3167232911191\" y1=\"109.57441605578104\" x2=\"477.5636565539897\" y2=\"82.52849291968712\" stroke-linecap=\"round\" style=\"stroke:white;stroke-width:2\"/><line x1=\"477.5636565539897\" y1=\"82.52849291968712\" x2=\"477.5636565539897\" y2=\"59.528492919687125\" stroke-linecap=\"round\" style=\"stroke:white;stroke-width:2\"/><line x1=\"477.5636565539897\" y1=\"59.528492919687125\" x2=\"472.6460946970418\" y2=\"41.17590222019483\" stroke-linecap=\"round\" style=\"stroke:white;stroke-width:2\"/><line x1=\"472.6460946970418\" y1=\"41.17590222019483\" x2=\"477.5636565539897\" y2=\"59.528492919687125\" stroke-linecap=\"round\" style=\"stroke:white;stroke-width:2\"/><line x1=\"477.5636565539897\" y1=\"59.528492919687125\" x2=\"482.4812184109376\" y2=\"41.17590222019483\" stroke-linecap=\"round\" style=\"stroke:white;stroke-width:2\"/><line x1=\"482.4812184109376\" y1=\"41.17590222019483\" x2=\"477.5636565539897\" y2=\"59.528492919687125\" stroke-linecap=\"round\" style=\"stroke:white;stroke-width:2\"/><line x1=\"477.5636565539897\" y1=\"59.528492919687125\" x2=\"477.5636565539897\" y2=\"82.52849291968712\" stroke-linecap=\"round\" style=\"stroke:white;stroke-width:2\"/><line x1=\"477.5636565539897\" y1=\"82.52849291968712\" x2=\"489.0636565539897\" y2=\"62.60990863264504\" stroke-linecap=\"round\" style=\"stroke:white;stroke-width:2\"/><line x1=\"489.0636565539897\" y1=\"62.60990863264504\" x2=\"493.9812184109376\" y2=\"44.257317933152734\" stroke-linecap=\"round\" style=\"stroke:white;stroke-width:2\"/><line x1=\"493.9812184109376\" y1=\"44.257317933152734\" x2=\"489.0636565539897\" y2=\"62.60990863264503\" stroke-linecap=\"round\" style=\"stroke:white;stroke-width:2\"/><line x1=\"489.0636565539897\" y1=\"62.60990863264503\" x2=\"502.4986853965341\" y2=\"49.174879790100626\" stroke-linecap=\"round\" style=\"stroke:white;stroke-width:2\"/><line x1=\"502.4986853965341\" y1=\"49.174879790100626\" x2=\"489.0636565539897\" y2=\"62.60990863264503\" stroke-linecap=\"round\" style=\"stroke:white;stroke-width:2\"/><line x1=\"489.0636565539897\" y1=\"62.60990863264503\" x2=\"477.5636565539897\" y2=\"82.52849291968712\" stroke-linecap=\"round\" style=\"stroke:white;stroke-width:2\"/><line x1=\"477.5636565539897\" y1=\"82.52849291968712\" x2=\"470.3167232911191\" y2=\"109.57441605578104\" stroke-linecap=\"round\" style=\"stroke:white;stroke-width:2\"/><line x1=\"470.3167232911191\" y1=\"109.57441605578104\" x2=\"490.1157131643424\" y2=\"89.77542618255771\" stroke-linecap=\"round\" style=\"stroke:white;stroke-width:2\"/><line x1=\"490.1157131643424\" y1=\"89.77542618255771\" x2=\"501.6157131643424\" y2=\"69.85684189551563\" stroke-linecap=\"round\" style=\"stroke:white;stroke-width:2\"/><line x1=\"501.6157131643424\" y1=\"69.85684189551563\" x2=\"506.5332750212903\" y2=\"51.50425119602333\" stroke-linecap=\"round\" style=\"stroke:white;stroke-width:2\"/><line x1=\"506.5332750212903\" y1=\"51.50425119602333\" x2=\"501.6157131643424\" y2=\"69.85684189551563\" stroke-linecap=\"round\" style=\"stroke:white;stroke-width:2\"/><line x1=\"501.6157131643424\" y1=\"69.85684189551563\" x2=\"515.0507420068868\" y2=\"56.421813052971224\" stroke-linecap=\"round\" style=\"stroke:white;stroke-width:2\"/><line x1=\"515.0507420068868\" y1=\"56.421813052971224\" x2=\"501.6157131643424\" y2=\"69.85684189551563\" stroke-linecap=\"round\" style=\"stroke:white;stroke-width:2\"/><line x1=\"501.6157131643424\" y1=\"69.85684189551563\" x2=\"490.1157131643424\" y2=\"89.77542618255771\" stroke-linecap=\"round\" style=\"stroke:white;stroke-width:2\"/><line x1=\"490.1157131643424\" y1=\"89.77542618255771\" x2=\"510.03429745138453\" y2=\"78.2754261825577\" stroke-linecap=\"round\" style=\"stroke:white;stroke-width:2\"/><line x1=\"510.03429745138453\" y1=\"78.2754261825577\" x2=\"523.4693262939289\" y2=\"64.84039734001328\" stroke-linecap=\"round\" style=\"stroke:white;stroke-width:2\"/><line x1=\"523.4693262939289\" y1=\"64.84039734001328\" x2=\"510.03429745138453\" y2=\"78.2754261825577\" stroke-linecap=\"round\" style=\"stroke:white;stroke-width:2\"/><line x1=\"510.03429745138453\" y1=\"78.2754261825577\" x2=\"528.3868881508769\" y2=\"73.3578643256098\" stroke-linecap=\"round\" style=\"stroke:white;stroke-width:2\"/><line x1=\"528.3868881508769\" y1=\"73.3578643256098\" x2=\"510.0342974513846\" y2=\"78.2754261825577\" stroke-linecap=\"round\" style=\"stroke:white;stroke-width:2\"/><line x1=\"510.0342974513846\" y1=\"78.2754261825577\" x2=\"490.1157131643425\" y2=\"89.77542618255771\" stroke-linecap=\"round\" style=\"stroke:white;stroke-width:2\"/><line x1=\"490.1157131643425\" y1=\"89.77542618255771\" x2=\"470.31672329111916\" y2=\"109.57441605578104\" stroke-linecap=\"round\" style=\"stroke:white;stroke-width:2\"/><line x1=\"470.31672329111916\" y1=\"109.57441605578104\" x2=\"453.31672329111916\" y2=\"139.01927978445195\" stroke-linecap=\"round\" style=\"stroke:white;stroke-width:2\"/><line x1=\"453.31672329111916\" y1=\"139.01927978445195\" x2=\"442.4463233968133\" y2=\"179.58816448859284\" stroke-linecap=\"round\" style=\"stroke:white;stroke-width:2\"/><line x1=\"442.4463233968133\" y1=\"179.58816448859284\" x2=\"442.4463233968133\" y2=\"231.58816448859284\" stroke-linecap=\"round\" style=\"stroke:white;stroke-width:2\"/><line x1=\"442.4463233968133\" y1=\"231.58816448859284\" x2=\"468.4463233968133\" y2=\"186.55484349180205\" stroke-linecap=\"round\" style=\"stroke:white;stroke-width:3\"/><line x1=\"468.4463233968133\" y1=\"186.55484349180205\" x2=\"479.31672329111916\" y2=\"145.98595878766116\" stroke-linecap=\"round\" style=\"stroke:white;stroke-width:2\"/><line x1=\"479.31672329111916\" y1=\"145.98595878766116\" x2=\"479.31672329111916\" y2=\"111.98595878766116\" stroke-linecap=\"round\" style=\"stroke:white;stroke-width:2\"/>\n",
              "        \n",
              "      <g visibility=visible transform=\"rotate(180,479.31672329111916,111.98595878766116) translate(479.31672329111916, 111.98595878766116)\">\n",
              "        <circle stroke=\"white\" stroke-width=\"3\" fill=\"transparent\" r=\"12\" cx=\"0\" cy=\"0\"/>\n",
              "        <polygon points=\"0,19 3,16 -3,16\" style=\"fill:white;stroke:white;stroke-width:2\"/>\n",
              "      </g>\n",
              "    \n",
              "      </svg>\n",
              "    "
            ],
            "text/plain": [
              "<IPython.core.display.HTML object>"
            ]
          },
          "metadata": {
            "tags": []
          }
        },
        {
          "output_type": "error",
          "ename": "KeyboardInterrupt",
          "evalue": "ignored",
          "traceback": [
            "\u001b[0;31m---------------------------------------------------------------------------\u001b[0m",
            "\u001b[0;31mKeyboardInterrupt\u001b[0m                         Traceback (most recent call last)",
            "\u001b[0;32m<ipython-input-10-228d9110c281>\u001b[0m in \u001b[0;36m<module>\u001b[0;34m()\u001b[0m\n\u001b[1;32m     23\u001b[0m \u001b[0msety\u001b[0m\u001b[0;34m(\u001b[0m\u001b[0;36m470\u001b[0m\u001b[0;34m)\u001b[0m\u001b[0;34m\u001b[0m\u001b[0;34m\u001b[0m\u001b[0m\n\u001b[1;32m     24\u001b[0m \u001b[0mpendown\u001b[0m\u001b[0;34m(\u001b[0m\u001b[0;34m)\u001b[0m\u001b[0;34m\u001b[0m\u001b[0;34m\u001b[0m\u001b[0m\n\u001b[0;32m---> 25\u001b[0;31m \u001b[0mdraw_branch\u001b[0m\u001b[0;34m(\u001b[0m\u001b[0;36m100\u001b[0m\u001b[0;34m,\u001b[0m \u001b[0;36m10\u001b[0m\u001b[0;34m)\u001b[0m\u001b[0;34m\u001b[0m\u001b[0;34m\u001b[0m\u001b[0m\n\u001b[0m",
            "\u001b[0;32m<ipython-input-10-228d9110c281>\u001b[0m in \u001b[0;36mdraw_branch\u001b[0;34m(l, w)\u001b[0m\n\u001b[1;32m     10\u001b[0m   \u001b[0mdraw_stick\u001b[0m\u001b[0;34m(\u001b[0m\u001b[0ml\u001b[0m\u001b[0;34m,\u001b[0m \u001b[0mw\u001b[0m\u001b[0;34m)\u001b[0m\u001b[0;34m\u001b[0m\u001b[0;34m\u001b[0m\u001b[0m\n\u001b[1;32m     11\u001b[0m   \u001b[0mright\u001b[0m\u001b[0;34m(\u001b[0m\u001b[0;36m30\u001b[0m\u001b[0;34m)\u001b[0m\u001b[0;34m\u001b[0m\u001b[0;34m\u001b[0m\u001b[0m\n\u001b[0;32m---> 12\u001b[0;31m   \u001b[0mdraw_stick\u001b[0m\u001b[0;34m(\u001b[0m\u001b[0ml\u001b[0m\u001b[0;34m,\u001b[0m \u001b[0mw\u001b[0m\u001b[0;34m)\u001b[0m\u001b[0;34m\u001b[0m\u001b[0;34m\u001b[0m\u001b[0m\n\u001b[0m\u001b[1;32m     13\u001b[0m   \u001b[0mleft\u001b[0m\u001b[0;34m(\u001b[0m\u001b[0;36m15\u001b[0m\u001b[0;34m)\u001b[0m\u001b[0;34m\u001b[0m\u001b[0;34m\u001b[0m\u001b[0m\n\u001b[1;32m     14\u001b[0m \u001b[0;34m\u001b[0m\u001b[0m\n",
            "\u001b[0;32m<ipython-input-10-228d9110c281>\u001b[0m in \u001b[0;36mdraw_stick\u001b[0;34m(l, w)\u001b[0m\n\u001b[1;32m     17\u001b[0m   \u001b[0mforward\u001b[0m\u001b[0;34m(\u001b[0m\u001b[0ml\u001b[0m\u001b[0;34m)\u001b[0m\u001b[0;34m\u001b[0m\u001b[0;34m\u001b[0m\u001b[0m\n\u001b[1;32m     18\u001b[0m   \u001b[0;32mif\u001b[0m \u001b[0mmin_length\u001b[0m \u001b[0;34m<\u001b[0m \u001b[0ml\u001b[0m\u001b[0;34m:\u001b[0m\u001b[0;34m\u001b[0m\u001b[0;34m\u001b[0m\u001b[0m\n\u001b[0;32m---> 19\u001b[0;31m     \u001b[0mdraw_branch\u001b[0m\u001b[0;34m(\u001b[0m\u001b[0mmath\u001b[0m\u001b[0;34m.\u001b[0m\u001b[0mceil\u001b[0m\u001b[0;34m(\u001b[0m\u001b[0ml\u001b[0m\u001b[0;34m*\u001b[0m\u001b[0;36m0.8\u001b[0m\u001b[0;34m)\u001b[0m\u001b[0;34m,\u001b[0m \u001b[0mmath\u001b[0m\u001b[0;34m.\u001b[0m\u001b[0mceil\u001b[0m\u001b[0;34m(\u001b[0m\u001b[0mw\u001b[0m\u001b[0;34m*\u001b[0m\u001b[0;36m0.6\u001b[0m\u001b[0;34m)\u001b[0m\u001b[0;34m)\u001b[0m\u001b[0;34m\u001b[0m\u001b[0;34m\u001b[0m\u001b[0m\n\u001b[0m\u001b[1;32m     20\u001b[0m   \u001b[0mbackward\u001b[0m\u001b[0;34m(\u001b[0m\u001b[0ml\u001b[0m\u001b[0;34m)\u001b[0m\u001b[0;34m\u001b[0m\u001b[0;34m\u001b[0m\u001b[0m\n\u001b[1;32m     21\u001b[0m \u001b[0;34m\u001b[0m\u001b[0m\n",
            "\u001b[0;32m<ipython-input-10-228d9110c281>\u001b[0m in \u001b[0;36mdraw_branch\u001b[0;34m(l, w)\u001b[0m\n\u001b[1;32m      8\u001b[0m \u001b[0;32mdef\u001b[0m \u001b[0mdraw_branch\u001b[0m\u001b[0;34m(\u001b[0m\u001b[0ml\u001b[0m\u001b[0;34m,\u001b[0m \u001b[0mw\u001b[0m\u001b[0;34m)\u001b[0m\u001b[0;34m:\u001b[0m\u001b[0;34m\u001b[0m\u001b[0;34m\u001b[0m\u001b[0m\n\u001b[1;32m      9\u001b[0m   \u001b[0mleft\u001b[0m\u001b[0;34m(\u001b[0m\u001b[0;36m15\u001b[0m\u001b[0;34m)\u001b[0m\u001b[0;34m\u001b[0m\u001b[0;34m\u001b[0m\u001b[0m\n\u001b[0;32m---> 10\u001b[0;31m   \u001b[0mdraw_stick\u001b[0m\u001b[0;34m(\u001b[0m\u001b[0ml\u001b[0m\u001b[0;34m,\u001b[0m \u001b[0mw\u001b[0m\u001b[0;34m)\u001b[0m\u001b[0;34m\u001b[0m\u001b[0;34m\u001b[0m\u001b[0m\n\u001b[0m\u001b[1;32m     11\u001b[0m   \u001b[0mright\u001b[0m\u001b[0;34m(\u001b[0m\u001b[0;36m30\u001b[0m\u001b[0;34m)\u001b[0m\u001b[0;34m\u001b[0m\u001b[0;34m\u001b[0m\u001b[0m\n\u001b[1;32m     12\u001b[0m   \u001b[0mdraw_stick\u001b[0m\u001b[0;34m(\u001b[0m\u001b[0ml\u001b[0m\u001b[0;34m,\u001b[0m \u001b[0mw\u001b[0m\u001b[0;34m)\u001b[0m\u001b[0;34m\u001b[0m\u001b[0;34m\u001b[0m\u001b[0m\n",
            "\u001b[0;32m<ipython-input-10-228d9110c281>\u001b[0m in \u001b[0;36mdraw_stick\u001b[0;34m(l, w)\u001b[0m\n\u001b[1;32m     17\u001b[0m   \u001b[0mforward\u001b[0m\u001b[0;34m(\u001b[0m\u001b[0ml\u001b[0m\u001b[0;34m)\u001b[0m\u001b[0;34m\u001b[0m\u001b[0;34m\u001b[0m\u001b[0m\n\u001b[1;32m     18\u001b[0m   \u001b[0;32mif\u001b[0m \u001b[0mmin_length\u001b[0m \u001b[0;34m<\u001b[0m \u001b[0ml\u001b[0m\u001b[0;34m:\u001b[0m\u001b[0;34m\u001b[0m\u001b[0;34m\u001b[0m\u001b[0m\n\u001b[0;32m---> 19\u001b[0;31m     \u001b[0mdraw_branch\u001b[0m\u001b[0;34m(\u001b[0m\u001b[0mmath\u001b[0m\u001b[0;34m.\u001b[0m\u001b[0mceil\u001b[0m\u001b[0;34m(\u001b[0m\u001b[0ml\u001b[0m\u001b[0;34m*\u001b[0m\u001b[0;36m0.8\u001b[0m\u001b[0;34m)\u001b[0m\u001b[0;34m,\u001b[0m \u001b[0mmath\u001b[0m\u001b[0;34m.\u001b[0m\u001b[0mceil\u001b[0m\u001b[0;34m(\u001b[0m\u001b[0mw\u001b[0m\u001b[0;34m*\u001b[0m\u001b[0;36m0.6\u001b[0m\u001b[0;34m)\u001b[0m\u001b[0;34m)\u001b[0m\u001b[0;34m\u001b[0m\u001b[0;34m\u001b[0m\u001b[0m\n\u001b[0m\u001b[1;32m     20\u001b[0m   \u001b[0mbackward\u001b[0m\u001b[0;34m(\u001b[0m\u001b[0ml\u001b[0m\u001b[0;34m)\u001b[0m\u001b[0;34m\u001b[0m\u001b[0;34m\u001b[0m\u001b[0m\n\u001b[1;32m     21\u001b[0m \u001b[0;34m\u001b[0m\u001b[0m\n",
            "\u001b[0;32m<ipython-input-10-228d9110c281>\u001b[0m in \u001b[0;36mdraw_branch\u001b[0;34m(l, w)\u001b[0m\n\u001b[1;32m     10\u001b[0m   \u001b[0mdraw_stick\u001b[0m\u001b[0;34m(\u001b[0m\u001b[0ml\u001b[0m\u001b[0;34m,\u001b[0m \u001b[0mw\u001b[0m\u001b[0;34m)\u001b[0m\u001b[0;34m\u001b[0m\u001b[0;34m\u001b[0m\u001b[0m\n\u001b[1;32m     11\u001b[0m   \u001b[0mright\u001b[0m\u001b[0;34m(\u001b[0m\u001b[0;36m30\u001b[0m\u001b[0;34m)\u001b[0m\u001b[0;34m\u001b[0m\u001b[0;34m\u001b[0m\u001b[0m\n\u001b[0;32m---> 12\u001b[0;31m   \u001b[0mdraw_stick\u001b[0m\u001b[0;34m(\u001b[0m\u001b[0ml\u001b[0m\u001b[0;34m,\u001b[0m \u001b[0mw\u001b[0m\u001b[0;34m)\u001b[0m\u001b[0;34m\u001b[0m\u001b[0;34m\u001b[0m\u001b[0m\n\u001b[0m\u001b[1;32m     13\u001b[0m   \u001b[0mleft\u001b[0m\u001b[0;34m(\u001b[0m\u001b[0;36m15\u001b[0m\u001b[0;34m)\u001b[0m\u001b[0;34m\u001b[0m\u001b[0;34m\u001b[0m\u001b[0m\n\u001b[1;32m     14\u001b[0m \u001b[0;34m\u001b[0m\u001b[0m\n",
            "\u001b[0;32m<ipython-input-10-228d9110c281>\u001b[0m in \u001b[0;36mdraw_stick\u001b[0;34m(l, w)\u001b[0m\n\u001b[1;32m     17\u001b[0m   \u001b[0mforward\u001b[0m\u001b[0;34m(\u001b[0m\u001b[0ml\u001b[0m\u001b[0;34m)\u001b[0m\u001b[0;34m\u001b[0m\u001b[0;34m\u001b[0m\u001b[0m\n\u001b[1;32m     18\u001b[0m   \u001b[0;32mif\u001b[0m \u001b[0mmin_length\u001b[0m \u001b[0;34m<\u001b[0m \u001b[0ml\u001b[0m\u001b[0;34m:\u001b[0m\u001b[0;34m\u001b[0m\u001b[0;34m\u001b[0m\u001b[0m\n\u001b[0;32m---> 19\u001b[0;31m     \u001b[0mdraw_branch\u001b[0m\u001b[0;34m(\u001b[0m\u001b[0mmath\u001b[0m\u001b[0;34m.\u001b[0m\u001b[0mceil\u001b[0m\u001b[0;34m(\u001b[0m\u001b[0ml\u001b[0m\u001b[0;34m*\u001b[0m\u001b[0;36m0.8\u001b[0m\u001b[0;34m)\u001b[0m\u001b[0;34m,\u001b[0m \u001b[0mmath\u001b[0m\u001b[0;34m.\u001b[0m\u001b[0mceil\u001b[0m\u001b[0;34m(\u001b[0m\u001b[0mw\u001b[0m\u001b[0;34m*\u001b[0m\u001b[0;36m0.6\u001b[0m\u001b[0;34m)\u001b[0m\u001b[0;34m)\u001b[0m\u001b[0;34m\u001b[0m\u001b[0;34m\u001b[0m\u001b[0m\n\u001b[0m\u001b[1;32m     20\u001b[0m   \u001b[0mbackward\u001b[0m\u001b[0;34m(\u001b[0m\u001b[0ml\u001b[0m\u001b[0;34m)\u001b[0m\u001b[0;34m\u001b[0m\u001b[0;34m\u001b[0m\u001b[0m\n\u001b[1;32m     21\u001b[0m \u001b[0;34m\u001b[0m\u001b[0m\n",
            "\u001b[0;32m<ipython-input-10-228d9110c281>\u001b[0m in \u001b[0;36mdraw_branch\u001b[0;34m(l, w)\u001b[0m\n\u001b[1;32m     10\u001b[0m   \u001b[0mdraw_stick\u001b[0m\u001b[0;34m(\u001b[0m\u001b[0ml\u001b[0m\u001b[0;34m,\u001b[0m \u001b[0mw\u001b[0m\u001b[0;34m)\u001b[0m\u001b[0;34m\u001b[0m\u001b[0;34m\u001b[0m\u001b[0m\n\u001b[1;32m     11\u001b[0m   \u001b[0mright\u001b[0m\u001b[0;34m(\u001b[0m\u001b[0;36m30\u001b[0m\u001b[0;34m)\u001b[0m\u001b[0;34m\u001b[0m\u001b[0;34m\u001b[0m\u001b[0m\n\u001b[0;32m---> 12\u001b[0;31m   \u001b[0mdraw_stick\u001b[0m\u001b[0;34m(\u001b[0m\u001b[0ml\u001b[0m\u001b[0;34m,\u001b[0m \u001b[0mw\u001b[0m\u001b[0;34m)\u001b[0m\u001b[0;34m\u001b[0m\u001b[0;34m\u001b[0m\u001b[0m\n\u001b[0m\u001b[1;32m     13\u001b[0m   \u001b[0mleft\u001b[0m\u001b[0;34m(\u001b[0m\u001b[0;36m15\u001b[0m\u001b[0;34m)\u001b[0m\u001b[0;34m\u001b[0m\u001b[0;34m\u001b[0m\u001b[0m\n\u001b[1;32m     14\u001b[0m \u001b[0;34m\u001b[0m\u001b[0m\n",
            "\u001b[0;32m<ipython-input-10-228d9110c281>\u001b[0m in \u001b[0;36mdraw_stick\u001b[0;34m(l, w)\u001b[0m\n\u001b[1;32m     17\u001b[0m   \u001b[0mforward\u001b[0m\u001b[0;34m(\u001b[0m\u001b[0ml\u001b[0m\u001b[0;34m)\u001b[0m\u001b[0;34m\u001b[0m\u001b[0;34m\u001b[0m\u001b[0m\n\u001b[1;32m     18\u001b[0m   \u001b[0;32mif\u001b[0m \u001b[0mmin_length\u001b[0m \u001b[0;34m<\u001b[0m \u001b[0ml\u001b[0m\u001b[0;34m:\u001b[0m\u001b[0;34m\u001b[0m\u001b[0;34m\u001b[0m\u001b[0m\n\u001b[0;32m---> 19\u001b[0;31m     \u001b[0mdraw_branch\u001b[0m\u001b[0;34m(\u001b[0m\u001b[0mmath\u001b[0m\u001b[0;34m.\u001b[0m\u001b[0mceil\u001b[0m\u001b[0;34m(\u001b[0m\u001b[0ml\u001b[0m\u001b[0;34m*\u001b[0m\u001b[0;36m0.8\u001b[0m\u001b[0;34m)\u001b[0m\u001b[0;34m,\u001b[0m \u001b[0mmath\u001b[0m\u001b[0;34m.\u001b[0m\u001b[0mceil\u001b[0m\u001b[0;34m(\u001b[0m\u001b[0mw\u001b[0m\u001b[0;34m*\u001b[0m\u001b[0;36m0.6\u001b[0m\u001b[0;34m)\u001b[0m\u001b[0;34m)\u001b[0m\u001b[0;34m\u001b[0m\u001b[0;34m\u001b[0m\u001b[0m\n\u001b[0m\u001b[1;32m     20\u001b[0m   \u001b[0mbackward\u001b[0m\u001b[0;34m(\u001b[0m\u001b[0ml\u001b[0m\u001b[0;34m)\u001b[0m\u001b[0;34m\u001b[0m\u001b[0;34m\u001b[0m\u001b[0m\n\u001b[1;32m     21\u001b[0m \u001b[0;34m\u001b[0m\u001b[0m\n",
            "\u001b[0;32m<ipython-input-10-228d9110c281>\u001b[0m in \u001b[0;36mdraw_branch\u001b[0;34m(l, w)\u001b[0m\n\u001b[1;32m      8\u001b[0m \u001b[0;32mdef\u001b[0m \u001b[0mdraw_branch\u001b[0m\u001b[0;34m(\u001b[0m\u001b[0ml\u001b[0m\u001b[0;34m,\u001b[0m \u001b[0mw\u001b[0m\u001b[0;34m)\u001b[0m\u001b[0;34m:\u001b[0m\u001b[0;34m\u001b[0m\u001b[0;34m\u001b[0m\u001b[0m\n\u001b[1;32m      9\u001b[0m   \u001b[0mleft\u001b[0m\u001b[0;34m(\u001b[0m\u001b[0;36m15\u001b[0m\u001b[0;34m)\u001b[0m\u001b[0;34m\u001b[0m\u001b[0;34m\u001b[0m\u001b[0m\n\u001b[0;32m---> 10\u001b[0;31m   \u001b[0mdraw_stick\u001b[0m\u001b[0;34m(\u001b[0m\u001b[0ml\u001b[0m\u001b[0;34m,\u001b[0m \u001b[0mw\u001b[0m\u001b[0;34m)\u001b[0m\u001b[0;34m\u001b[0m\u001b[0;34m\u001b[0m\u001b[0m\n\u001b[0m\u001b[1;32m     11\u001b[0m   \u001b[0mright\u001b[0m\u001b[0;34m(\u001b[0m\u001b[0;36m30\u001b[0m\u001b[0;34m)\u001b[0m\u001b[0;34m\u001b[0m\u001b[0;34m\u001b[0m\u001b[0m\n\u001b[1;32m     12\u001b[0m   \u001b[0mdraw_stick\u001b[0m\u001b[0;34m(\u001b[0m\u001b[0ml\u001b[0m\u001b[0;34m,\u001b[0m \u001b[0mw\u001b[0m\u001b[0;34m)\u001b[0m\u001b[0;34m\u001b[0m\u001b[0;34m\u001b[0m\u001b[0m\n",
            "\u001b[0;32m<ipython-input-10-228d9110c281>\u001b[0m in \u001b[0;36mdraw_stick\u001b[0;34m(l, w)\u001b[0m\n\u001b[1;32m     17\u001b[0m   \u001b[0mforward\u001b[0m\u001b[0;34m(\u001b[0m\u001b[0ml\u001b[0m\u001b[0;34m)\u001b[0m\u001b[0;34m\u001b[0m\u001b[0;34m\u001b[0m\u001b[0m\n\u001b[1;32m     18\u001b[0m   \u001b[0;32mif\u001b[0m \u001b[0mmin_length\u001b[0m \u001b[0;34m<\u001b[0m \u001b[0ml\u001b[0m\u001b[0;34m:\u001b[0m\u001b[0;34m\u001b[0m\u001b[0;34m\u001b[0m\u001b[0m\n\u001b[0;32m---> 19\u001b[0;31m     \u001b[0mdraw_branch\u001b[0m\u001b[0;34m(\u001b[0m\u001b[0mmath\u001b[0m\u001b[0;34m.\u001b[0m\u001b[0mceil\u001b[0m\u001b[0;34m(\u001b[0m\u001b[0ml\u001b[0m\u001b[0;34m*\u001b[0m\u001b[0;36m0.8\u001b[0m\u001b[0;34m)\u001b[0m\u001b[0;34m,\u001b[0m \u001b[0mmath\u001b[0m\u001b[0;34m.\u001b[0m\u001b[0mceil\u001b[0m\u001b[0;34m(\u001b[0m\u001b[0mw\u001b[0m\u001b[0;34m*\u001b[0m\u001b[0;36m0.6\u001b[0m\u001b[0;34m)\u001b[0m\u001b[0;34m)\u001b[0m\u001b[0;34m\u001b[0m\u001b[0;34m\u001b[0m\u001b[0m\n\u001b[0m\u001b[1;32m     20\u001b[0m   \u001b[0mbackward\u001b[0m\u001b[0;34m(\u001b[0m\u001b[0ml\u001b[0m\u001b[0;34m)\u001b[0m\u001b[0;34m\u001b[0m\u001b[0;34m\u001b[0m\u001b[0m\n\u001b[1;32m     21\u001b[0m \u001b[0;34m\u001b[0m\u001b[0m\n",
            "\u001b[0;32m<ipython-input-10-228d9110c281>\u001b[0m in \u001b[0;36mdraw_branch\u001b[0;34m(l, w)\u001b[0m\n\u001b[1;32m      8\u001b[0m \u001b[0;32mdef\u001b[0m \u001b[0mdraw_branch\u001b[0m\u001b[0;34m(\u001b[0m\u001b[0ml\u001b[0m\u001b[0;34m,\u001b[0m \u001b[0mw\u001b[0m\u001b[0;34m)\u001b[0m\u001b[0;34m:\u001b[0m\u001b[0;34m\u001b[0m\u001b[0;34m\u001b[0m\u001b[0m\n\u001b[1;32m      9\u001b[0m   \u001b[0mleft\u001b[0m\u001b[0;34m(\u001b[0m\u001b[0;36m15\u001b[0m\u001b[0;34m)\u001b[0m\u001b[0;34m\u001b[0m\u001b[0;34m\u001b[0m\u001b[0m\n\u001b[0;32m---> 10\u001b[0;31m   \u001b[0mdraw_stick\u001b[0m\u001b[0;34m(\u001b[0m\u001b[0ml\u001b[0m\u001b[0;34m,\u001b[0m \u001b[0mw\u001b[0m\u001b[0;34m)\u001b[0m\u001b[0;34m\u001b[0m\u001b[0;34m\u001b[0m\u001b[0m\n\u001b[0m\u001b[1;32m     11\u001b[0m   \u001b[0mright\u001b[0m\u001b[0;34m(\u001b[0m\u001b[0;36m30\u001b[0m\u001b[0;34m)\u001b[0m\u001b[0;34m\u001b[0m\u001b[0;34m\u001b[0m\u001b[0m\n\u001b[1;32m     12\u001b[0m   \u001b[0mdraw_stick\u001b[0m\u001b[0;34m(\u001b[0m\u001b[0ml\u001b[0m\u001b[0;34m,\u001b[0m \u001b[0mw\u001b[0m\u001b[0;34m)\u001b[0m\u001b[0;34m\u001b[0m\u001b[0;34m\u001b[0m\u001b[0m\n",
            "\u001b[0;32m<ipython-input-10-228d9110c281>\u001b[0m in \u001b[0;36mdraw_stick\u001b[0;34m(l, w)\u001b[0m\n\u001b[1;32m     17\u001b[0m   \u001b[0mforward\u001b[0m\u001b[0;34m(\u001b[0m\u001b[0ml\u001b[0m\u001b[0;34m)\u001b[0m\u001b[0;34m\u001b[0m\u001b[0;34m\u001b[0m\u001b[0m\n\u001b[1;32m     18\u001b[0m   \u001b[0;32mif\u001b[0m \u001b[0mmin_length\u001b[0m \u001b[0;34m<\u001b[0m \u001b[0ml\u001b[0m\u001b[0;34m:\u001b[0m\u001b[0;34m\u001b[0m\u001b[0;34m\u001b[0m\u001b[0m\n\u001b[0;32m---> 19\u001b[0;31m     \u001b[0mdraw_branch\u001b[0m\u001b[0;34m(\u001b[0m\u001b[0mmath\u001b[0m\u001b[0;34m.\u001b[0m\u001b[0mceil\u001b[0m\u001b[0;34m(\u001b[0m\u001b[0ml\u001b[0m\u001b[0;34m*\u001b[0m\u001b[0;36m0.8\u001b[0m\u001b[0;34m)\u001b[0m\u001b[0;34m,\u001b[0m \u001b[0mmath\u001b[0m\u001b[0;34m.\u001b[0m\u001b[0mceil\u001b[0m\u001b[0;34m(\u001b[0m\u001b[0mw\u001b[0m\u001b[0;34m*\u001b[0m\u001b[0;36m0.6\u001b[0m\u001b[0;34m)\u001b[0m\u001b[0;34m)\u001b[0m\u001b[0;34m\u001b[0m\u001b[0;34m\u001b[0m\u001b[0m\n\u001b[0m\u001b[1;32m     20\u001b[0m   \u001b[0mbackward\u001b[0m\u001b[0;34m(\u001b[0m\u001b[0ml\u001b[0m\u001b[0;34m)\u001b[0m\u001b[0;34m\u001b[0m\u001b[0;34m\u001b[0m\u001b[0m\n\u001b[1;32m     21\u001b[0m \u001b[0;34m\u001b[0m\u001b[0m\n",
            "\u001b[0;32m<ipython-input-10-228d9110c281>\u001b[0m in \u001b[0;36mdraw_branch\u001b[0;34m(l, w)\u001b[0m\n\u001b[1;32m      7\u001b[0m \u001b[0;34m\u001b[0m\u001b[0m\n\u001b[1;32m      8\u001b[0m \u001b[0;32mdef\u001b[0m \u001b[0mdraw_branch\u001b[0m\u001b[0;34m(\u001b[0m\u001b[0ml\u001b[0m\u001b[0;34m,\u001b[0m \u001b[0mw\u001b[0m\u001b[0;34m)\u001b[0m\u001b[0;34m:\u001b[0m\u001b[0;34m\u001b[0m\u001b[0;34m\u001b[0m\u001b[0m\n\u001b[0;32m----> 9\u001b[0;31m   \u001b[0mleft\u001b[0m\u001b[0;34m(\u001b[0m\u001b[0;36m15\u001b[0m\u001b[0;34m)\u001b[0m\u001b[0;34m\u001b[0m\u001b[0;34m\u001b[0m\u001b[0m\n\u001b[0m\u001b[1;32m     10\u001b[0m   \u001b[0mdraw_stick\u001b[0m\u001b[0;34m(\u001b[0m\u001b[0ml\u001b[0m\u001b[0;34m,\u001b[0m \u001b[0mw\u001b[0m\u001b[0;34m)\u001b[0m\u001b[0;34m\u001b[0m\u001b[0;34m\u001b[0m\u001b[0m\n\u001b[1;32m     11\u001b[0m   \u001b[0mright\u001b[0m\u001b[0;34m(\u001b[0m\u001b[0;36m30\u001b[0m\u001b[0;34m)\u001b[0m\u001b[0;34m\u001b[0m\u001b[0;34m\u001b[0m\u001b[0m\n",
            "\u001b[0;32m/usr/local/lib/python3.6/dist-packages/ColabTurtle/Turtle.py\u001b[0m in \u001b[0;36mleft\u001b[0;34m(degrees)\u001b[0m\n\u001b[1;32m    166\u001b[0m     \u001b[0;32mif\u001b[0m \u001b[0;32mnot\u001b[0m \u001b[0;34m(\u001b[0m\u001b[0misinstance\u001b[0m\u001b[0;34m(\u001b[0m\u001b[0mdegrees\u001b[0m\u001b[0;34m,\u001b[0m \u001b[0mint\u001b[0m\u001b[0;34m)\u001b[0m \u001b[0;32mor\u001b[0m \u001b[0misinstance\u001b[0m\u001b[0;34m(\u001b[0m\u001b[0mdegrees\u001b[0m\u001b[0;34m,\u001b[0m \u001b[0mfloat\u001b[0m\u001b[0;34m)\u001b[0m\u001b[0;34m)\u001b[0m\u001b[0;34m:\u001b[0m\u001b[0;34m\u001b[0m\u001b[0;34m\u001b[0m\u001b[0m\n\u001b[1;32m    167\u001b[0m         \u001b[0;32mraise\u001b[0m \u001b[0mValueError\u001b[0m\u001b[0;34m(\u001b[0m\u001b[0;34m'degrees should be a number'\u001b[0m\u001b[0;34m)\u001b[0m\u001b[0;34m\u001b[0m\u001b[0;34m\u001b[0m\u001b[0m\n\u001b[0;32m--> 168\u001b[0;31m     \u001b[0mright\u001b[0m\u001b[0;34m(\u001b[0m\u001b[0;34m-\u001b[0m\u001b[0;36m1\u001b[0m \u001b[0;34m*\u001b[0m \u001b[0mdegrees\u001b[0m\u001b[0;34m)\u001b[0m\u001b[0;34m\u001b[0m\u001b[0;34m\u001b[0m\u001b[0m\n\u001b[0m\u001b[1;32m    169\u001b[0m \u001b[0;34m\u001b[0m\u001b[0m\n\u001b[1;32m    170\u001b[0m \u001b[0;34m\u001b[0m\u001b[0m\n",
            "\u001b[0;32m/usr/local/lib/python3.6/dist-packages/ColabTurtle/Turtle.py\u001b[0m in \u001b[0;36mright\u001b[0;34m(degrees)\u001b[0m\n\u001b[1;32m    159\u001b[0m \u001b[0;34m\u001b[0m\u001b[0m\n\u001b[1;32m    160\u001b[0m     \u001b[0mturtle_degree\u001b[0m \u001b[0;34m=\u001b[0m \u001b[0;34m(\u001b[0m\u001b[0mturtle_degree\u001b[0m \u001b[0;34m+\u001b[0m \u001b[0mdegrees\u001b[0m\u001b[0;34m)\u001b[0m \u001b[0;34m%\u001b[0m \u001b[0;36m360\u001b[0m\u001b[0;34m\u001b[0m\u001b[0;34m\u001b[0m\u001b[0m\n\u001b[0;32m--> 161\u001b[0;31m     \u001b[0m_updateDrawing\u001b[0m\u001b[0;34m(\u001b[0m\u001b[0;34m)\u001b[0m\u001b[0;34m\u001b[0m\u001b[0;34m\u001b[0m\u001b[0m\n\u001b[0m\u001b[1;32m    162\u001b[0m \u001b[0;34m\u001b[0m\u001b[0m\n\u001b[1;32m    163\u001b[0m \u001b[0;34m\u001b[0m\u001b[0m\n",
            "\u001b[0;32m/usr/local/lib/python3.6/dist-packages/ColabTurtle/Turtle.py\u001b[0m in \u001b[0;36m_updateDrawing\u001b[0;34m()\u001b[0m\n\u001b[1;32m    115\u001b[0m     \u001b[0;32mif\u001b[0m \u001b[0mdrawing_window\u001b[0m \u001b[0;34m==\u001b[0m \u001b[0;32mNone\u001b[0m\u001b[0;34m:\u001b[0m\u001b[0;34m\u001b[0m\u001b[0;34m\u001b[0m\u001b[0m\n\u001b[1;32m    116\u001b[0m         \u001b[0;32mraise\u001b[0m \u001b[0mAttributeError\u001b[0m\u001b[0;34m(\u001b[0m\u001b[0;34m\"Display has not been initialized yet. Call initializeTurtle() before using.\"\u001b[0m\u001b[0;34m)\u001b[0m\u001b[0;34m\u001b[0m\u001b[0;34m\u001b[0m\u001b[0m\n\u001b[0;32m--> 117\u001b[0;31m     \u001b[0mtime\u001b[0m\u001b[0;34m.\u001b[0m\u001b[0msleep\u001b[0m\u001b[0;34m(\u001b[0m\u001b[0mtimeout\u001b[0m\u001b[0;34m)\u001b[0m\u001b[0;34m\u001b[0m\u001b[0;34m\u001b[0m\u001b[0m\n\u001b[0m\u001b[1;32m    118\u001b[0m     \u001b[0mdrawing_window\u001b[0m\u001b[0;34m.\u001b[0m\u001b[0mupdate\u001b[0m\u001b[0;34m(\u001b[0m\u001b[0mHTML\u001b[0m\u001b[0;34m(\u001b[0m\u001b[0m_genereateSvgDrawing\u001b[0m\u001b[0;34m(\u001b[0m\u001b[0;34m)\u001b[0m\u001b[0;34m)\u001b[0m\u001b[0;34m)\u001b[0m\u001b[0;34m\u001b[0m\u001b[0;34m\u001b[0m\u001b[0m\n\u001b[1;32m    119\u001b[0m \u001b[0;34m\u001b[0m\u001b[0m\n",
            "\u001b[0;31mKeyboardInterrupt\u001b[0m: "
          ]
        }
      ]
    },
    {
      "cell_type": "markdown",
      "metadata": {
        "id": "Koop35hFNEMB",
        "colab_type": "text"
      },
      "source": [
        "### Turtle: Triangle/Square"
      ]
    },
    {
      "cell_type": "code",
      "metadata": {
        "id": "a-6rUSu8NHYY",
        "colab_type": "code",
        "colab": {}
      },
      "source": [
        "## Turtle for Google Colab notebooks Installation for Google Colab\n",
        "!pip3 install ColabTurtle\n",
        "from ColabTurtle.Turtle import *\n",
        "\n",
        "# User selects which shape to Draw [Triangle/Square]\n",
        "initializeTurtle(initial_speed=10)\n",
        "def draw(running, entered):\n",
        "  initializeTurtle(initial_speed=10)\n",
        "  while running:\n",
        "    if entered == 'triangle':\n",
        "      for i in range(3):\n",
        "        forward(100)\n",
        "        right(120)  \n",
        "      running = False\n",
        "    elif entered == 'square':\n",
        "      for i in range(4):\n",
        "        forward(100)\n",
        "        right(90)\n",
        "      running = False\n",
        "    elif entered == 'exit':\n",
        "      running = False\n",
        "      print('exiting...')\n",
        "\n",
        "    else:\n",
        "      print('not a command')\n",
        "  \n",
        "  \n",
        "  print('bye!')\n",
        "  \n",
        "print('enter triangle, square, or exit:') #supported inputs = {triangle, square, exit}\n",
        "draw(True, input()) "
      ],
      "execution_count": 0,
      "outputs": []
    },
    {
      "cell_type": "markdown",
      "metadata": {
        "id": "Ku5vkOglNnAu",
        "colab_type": "text"
      },
      "source": [
        "### Turle: Draw Line"
      ]
    },
    {
      "cell_type": "code",
      "metadata": {
        "id": "vbMmp5QdNmO_",
        "colab_type": "code",
        "outputId": "a1e262a6-2d10-483f-fadb-b4077bc11000",
        "colab": {
          "base_uri": "https://localhost:8080/",
          "height": 521
        }
      },
      "source": [
        "initializeTurtle(initial_speed=10)\n",
        "x1, y1, x2, y2 = 10, 20, 30, 40\n",
        "color('white')\n",
        "bgcolor('black')\n",
        "\n",
        "#Vertical Line\n",
        "forward(x2-x1)\n",
        "\n",
        "right(90)\n",
        "#Horizontal Line\n",
        "forward(y2-y1)"
      ],
      "execution_count": 0,
      "outputs": [
        {
          "output_type": "display_data",
          "data": {
            "text/html": [
              "\n",
              "      <svg width=\"800\" height=\"500\">\n",
              "        <rect width=\"100%\" height=\"100%\" fill=\"black\"/>\n",
              "        <line x1=\"400\" y1=\"250\" x2=\"400.0\" y2=\"230.0\" stroke-linecap=\"round\" style=\"stroke:white;stroke-width:4\"/><line x1=\"400.0\" y1=\"230.0\" x2=\"420.0\" y2=\"230.0\" stroke-linecap=\"round\" style=\"stroke:white;stroke-width:4\"/>\n",
              "        \n",
              "      <g visibility=visible transform=\"rotate(-90,420.0,230.0) translate(420.0, 230.0)\">\n",
              "        <circle stroke=\"white\" stroke-width=\"3\" fill=\"transparent\" r=\"12\" cx=\"0\" cy=\"0\"/>\n",
              "        <polygon points=\"0,19 3,16 -3,16\" style=\"fill:white;stroke:white;stroke-width:2\"/>\n",
              "      </g>\n",
              "    \n",
              "      </svg>\n",
              "    "
            ],
            "text/plain": [
              "<IPython.core.display.HTML object>"
            ]
          },
          "metadata": {
            "tags": []
          }
        }
      ]
    },
    {
      "cell_type": "markdown",
      "metadata": {
        "id": "JJwxIRhQ6hbU",
        "colab_type": "text"
      },
      "source": [
        "#Phase 1: Quick Prototype"
      ]
    },
    {
      "cell_type": "markdown",
      "metadata": {
        "id": "YuOnRIwFnbpM",
        "colab_type": "text"
      },
      "source": [
        "###Step1: Command Line Regex"
      ]
    },
    {
      "cell_type": "code",
      "metadata": {
        "id": "2oDH3DyiTXR6",
        "colab_type": "code",
        "outputId": "fe451c52-a495-41c1-b398-2a7e8b91aeb4",
        "colab": {
          "base_uri": "https://localhost:8080/",
          "height": 119
        }
      },
      "source": [
        "#import regex library in python\n",
        "import re\n",
        "\n",
        "#---------STEPA---------\n",
        "# ALTERNATE0: Manually hard code assume this is the command input taken the user\n",
        "command = \"C 4 8\"\n",
        "\n",
        " # ALTERNATE1: Get some input from the user.\n",
        "command = input('enter command: ')\n",
        "\n",
        "\n",
        "#---------STEPB---------    \n",
        "# Separate string by spaces i.e '\\s' expression\n",
        "commandList = re.split(r'\\s',command)\n",
        "print(commandList) \n",
        "print(len(commandList))\n",
        "\n",
        "print('cmd type : ' + commandList[0])\n",
        "print('canvas_w : ' + commandList[1])\n",
        "print('canvas_h : ' + commandList[2])\n"
      ],
      "execution_count": 0,
      "outputs": [
        {
          "output_type": "stream",
          "text": [
            "enter command: C 7 8\n",
            "['C', '7', '8']\n",
            "3\n",
            "cmd type : C\n",
            "canvas_w : 7\n",
            "canvas_h : 8\n"
          ],
          "name": "stdout"
        }
      ]
    },
    {
      "cell_type": "markdown",
      "metadata": {
        "id": "rjzTwA3jnFwQ",
        "colab_type": "text"
      },
      "source": [
        "###Step2: Canvas as a 2D array\n"
      ]
    },
    {
      "cell_type": "code",
      "metadata": {
        "id": "fr53Y-MvasVV",
        "colab_type": "code",
        "outputId": "e1a65bd2-1145-41c1-e916-5542fa74e49a",
        "colab": {
          "base_uri": "https://localhost:8080/",
          "height": 255
        }
      },
      "source": [
        "# 3 Simple ways of creating 2D array to represent a Canvas mathematically\n",
        "import numpy as np\n",
        "\n",
        "# C 4 8\n",
        "canvas_w = 4\n",
        "canvas_h = 8\n",
        "\n",
        "#ALTERNATE0: Manually hard coding the 2D array will get us going quickly\n",
        "canvasManual = np.array([[0,0,0,0,0,0,0],[0,0,0,0,0,0,0],[0,0,0,0,0,0,0],[0,0,0,0,0,0,0]])\n",
        "print(canvasManual)\n",
        "\n",
        "print('----BREAK----')\n",
        "\n",
        "#ALTERNATE1: Generating an array of random integers, declaring & populating 2D array\n",
        "maskDigit=0\n",
        "canvasManual1 = np.random.randint(0,2, size=(canvas_w,canvas_h))*maskDigit\n",
        "print(canvasManual1)\n",
        "\n",
        "print('----BREAK----')\n",
        "\n",
        "#ALTERNATE2: Using numpy library with method zeros\n",
        "canvasManual2 = np.zeros((canvas_w,canvas_h), dtype=int).reshape(canvas_w,canvas_h)\n",
        "print(canvasManual2)"
      ],
      "execution_count": 0,
      "outputs": [
        {
          "output_type": "stream",
          "text": [
            "[[0 0 0 0 0 0 0]\n",
            " [0 0 0 0 0 0 0]\n",
            " [0 0 0 0 0 0 0]\n",
            " [0 0 0 0 0 0 0]]\n",
            "----BREAK----\n",
            "[[0 0 0 0 0 0 0 0]\n",
            " [0 0 0 0 0 0 0 0]\n",
            " [0 0 0 0 0 0 0 0]\n",
            " [0 0 0 0 0 0 0 0]]\n",
            "----BREAK----\n",
            "[[0 0 0 0 0 0 0 0]\n",
            " [0 0 0 0 0 0 0 0]\n",
            " [0 0 0 0 0 0 0 0]\n",
            " [0 0 0 0 0 0 0 0]]\n"
          ],
          "name": "stdout"
        }
      ]
    },
    {
      "cell_type": "markdown",
      "metadata": {
        "id": "Oi9Q5pupm77q",
        "colab_type": "text"
      },
      "source": [
        "###Step3: Drawing a Horizontal Line"
      ]
    },
    {
      "cell_type": "code",
      "metadata": {
        "id": "ET-9uK-KR-T8",
        "colab_type": "code",
        "outputId": "a9574f0d-823e-4e98-c599-c5bb11265db2",
        "colab": {
          "base_uri": "https://localhost:8080/",
          "height": 527
        }
      },
      "source": [
        "#e.g Draw Horizontal Line of length 4\n",
        "# draw from (x1,y1 to x2,y2) WHERE y1 = 2 (i.e x1=1 y1=1 x2=4 y2=1)\n",
        "\n",
        "##-------ALTERNATE0----------\n",
        "#Manually hard coding the 2D array will get us going quickly\n",
        "canvasManual = np.array([[0,0,0,0,0,0,0],[0,0,0,0,0,0,0],[0,0,0,0,0,0,0],[0,0,0,0,0,0,0]])\n",
        "print(canvasManual)\n",
        "print('----Before/After----')\n",
        "canvasManual = np.array([[0,0,0,0,0,0,0],[0,1,1,1,1,0,0],[0,0,0,0,0,0,0],[0,0,0,0,0,0,0]])\n",
        "print(canvasManual)\n",
        "\n",
        "print('----ALTERNATE0: BREAK----')\n",
        "\n",
        "##-------ALTERNATE1----------\n",
        "#Return a new 1D array of given shape and type, filled with ones.\n",
        "canvasManual1 = np.random.randint(0,2, size=(canvas_w,canvas_h))*0 #maskDigit=0\n",
        "print(canvasManual1)\n",
        "print('----Before/After----')\n",
        "#Using slicing updating the Canvas\n",
        "canvasManual1[1,1:5] = [1,1,1,1]\n",
        "print(canvasManual1)\n",
        "\n",
        "print('----ALTERNATE1: BREAK----')\n",
        "\n",
        "##-------ALTERNATE2----------\n",
        "#Using numpy library with method zeros\n",
        "canvasManual2 = np.zeros((4,8), dtype=int).reshape(4,8)\n",
        "print(canvasManual2)\n",
        "print('----Before/After----')\n",
        "\n",
        "x1,y1,x2,y2 = 1,1,4,1\n",
        "# Using command  np.ones((x2-x1+1,), dtype=int) to create a 1D array from numpy\n",
        "#Using '1' to draw line i.e x2-x1+1 and hence updating entries for columns on a given row\n",
        "canvasManual2[y1, x1:x2+1] = np.ones((x2-x1+1,), dtype=int) ## e.g. Represents [1,1,1,1] if x2-x1+1 = 4\n",
        "print(canvasManual2)\n",
        "print('----ALTERNATE2: BREAK----')"
      ],
      "execution_count": 0,
      "outputs": [
        {
          "output_type": "stream",
          "text": [
            "[[0 0 0 0 0 0 0]\n",
            " [0 0 0 0 0 0 0]\n",
            " [0 0 0 0 0 0 0]\n",
            " [0 0 0 0 0 0 0]]\n",
            "----Before/After----\n",
            "[[0 0 0 0 0 0 0]\n",
            " [0 1 1 1 1 0 0]\n",
            " [0 0 0 0 0 0 0]\n",
            " [0 0 0 0 0 0 0]]\n",
            "----ALTERNATE0: BREAK----\n",
            "[[0 0 0 0 0 0 0 0]\n",
            " [0 0 0 0 0 0 0 0]\n",
            " [0 0 0 0 0 0 0 0]\n",
            " [0 0 0 0 0 0 0 0]]\n",
            "----Before/After----\n",
            "[[0 0 0 0 0 0 0 0]\n",
            " [0 1 1 1 1 0 0 0]\n",
            " [0 0 0 0 0 0 0 0]\n",
            " [0 0 0 0 0 0 0 0]]\n",
            "----ALTERNATE1: BREAK----\n",
            "[[0 0 0 0 0 0 0 0]\n",
            " [0 0 0 0 0 0 0 0]\n",
            " [0 0 0 0 0 0 0 0]\n",
            " [0 0 0 0 0 0 0 0]]\n",
            "----Before/After----\n",
            "[[0 0 0 0 0 0 0 0]\n",
            " [0 1 1 1 1 0 0 0]\n",
            " [0 0 0 0 0 0 0 0]\n",
            " [0 0 0 0 0 0 0 0]]\n",
            "----ALTERNATE2: BREAK----\n"
          ],
          "name": "stdout"
        }
      ]
    },
    {
      "cell_type": "markdown",
      "metadata": {
        "id": "YY1-gdXcm4gC",
        "colab_type": "text"
      },
      "source": [
        "###Step4: Translation & Publish"
      ]
    },
    {
      "cell_type": "code",
      "metadata": {
        "id": "K2o55pftUN3G",
        "colab_type": "code",
        "outputId": "186608ae-1ccf-49e8-836a-f8c29b055957",
        "colab": {
          "base_uri": "https://localhost:8080/",
          "height": 255
        }
      },
      "source": [
        "# For now let's manually assume the drawing already happened\n",
        "canvasManualDraw1 = np.array([[0,0,0,0,0,0,0],[0,1,1,1,1,0,0],[0,0,0,0,0,0,0],[0,0,0,0,0,0,0]])\n",
        "print(canvasManualDraw1)\n",
        "\n",
        "#Convert the '0' and '1' by creating a new array of data type U1 from int32\n",
        "chars_ascii = np.array(['.','x'], dtype=\"U1\")[canvasManualDraw1]\n",
        "print(chars_ascii)\n",
        "\n",
        "print('----BREAK----')\n",
        "\n",
        "#Use flatten, shape and view methods from numpy to create a string output\n",
        "strings_f = chars_ascii.view('U' + str(chars_ascii.shape[1])).flatten()\n",
        "print( \"\\n\".join(strings_f))\n",
        "\n",
        "print('----ALTERNATE0: BREAK----')\n",
        "\n",
        "\n"
      ],
      "execution_count": 0,
      "outputs": [
        {
          "output_type": "stream",
          "text": [
            "[[0 0 0 0 0 0 0]\n",
            " [0 1 1 1 1 0 0]\n",
            " [0 0 0 0 0 0 0]\n",
            " [0 0 0 0 0 0 0]]\n",
            "----BREAK----\n",
            "[['.' '.' '.' '.' '.' '.' '.']\n",
            " ['.' 'x' 'x' 'x' 'x' '.' '.']\n",
            " ['.' '.' '.' '.' '.' '.' '.']\n",
            " ['.' '.' '.' '.' '.' '.' '.']]\n",
            "----BREAK----\n",
            ".......\n",
            ".xxxx..\n",
            ".......\n",
            ".......\n"
          ],
          "name": "stdout"
        }
      ]
    },
    {
      "cell_type": "markdown",
      "metadata": {
        "id": "ge33MQSmvlTi",
        "colab_type": "text"
      },
      "source": [
        "### Step5: Draw a Vertical Line"
      ]
    },
    {
      "cell_type": "code",
      "metadata": {
        "id": "-vqRescBVjyS",
        "colab_type": "code",
        "outputId": "82bb552c-a8b6-44bd-b9eb-3a1dee0c107c",
        "colab": {
          "base_uri": "https://localhost:8080/",
          "height": 357
        }
      },
      "source": [
        "#Only slicing style will change and we will overwrite the previous Canvas\n",
        "\n",
        "#ALTERNATE0: Manually hard coding helps in understanding the logic\n",
        "canvasManualDraw1 = np.array([[0,0,0,0,0,0,0],[0,1,1,1,1,0,0],[0,0,0,0,0,0,0],[0,0,0,0,0,0,0]])\n",
        "print(canvasManualDraw1)\n",
        "\n",
        "print('----Before/After----')\n",
        "\n",
        "#Using slicing updating the Canvas\n",
        "canvasManualDraw2[0:4,1] = [1,1,1,1]\n",
        "print(canvasManualDraw2)\n",
        "\n",
        "print('----#ALTERNATE0: Completed ----')\n",
        "\n",
        "#ALTERNATE1: Manually hard coding helps in understanding the logic\n",
        "\n",
        "print(canvasManualDraw1)\n",
        "\n",
        "print('----Before/After----')\n",
        "\n",
        "x1,y1,x2,y2 = 1,0,1,3\n",
        "##Return a new 1D array of given shape and type, filled with ones.\n",
        "## Using command  np.ones((y2-y1+1,), dtype=int) \n",
        "##Using '1' to draw line i.e y2-y1+1 and hence updating entries for rows on a given column\n",
        "canvasManualDraw2[y1:y2+1, x1] = np.ones((y2-y1+1,), dtype=int)  ## e.g. Represents [1,1,1,1] if y2-y1+1 = 4\n",
        "print(canvasManualDraw2)\n",
        "\n",
        "print('----#ALTERNATE1: Completed ----')"
      ],
      "execution_count": 0,
      "outputs": [
        {
          "output_type": "stream",
          "text": [
            "[[0 0 0 0 0 0 0]\n",
            " [0 1 1 1 1 0 0]\n",
            " [0 0 0 0 0 0 0]\n",
            " [0 0 0 0 0 0 0]]\n",
            "----Before/After----\n",
            "[[0 1 0 0 0 0 0]\n",
            " [0 1 1 1 1 0 0]\n",
            " [0 1 0 0 0 0 0]\n",
            " [0 1 0 0 0 0 0]]\n",
            "----#ALTERNATE0: Completed ----\n",
            "[[0 0 0 0 0 0 0]\n",
            " [0 1 1 1 1 0 0]\n",
            " [0 0 0 0 0 0 0]\n",
            " [0 0 0 0 0 0 0]]\n",
            "----Before/After----\n",
            "[[0 1 0 0 0 0 0]\n",
            " [0 1 1 1 1 0 0]\n",
            " [0 1 0 0 0 0 0]\n",
            " [0 1 0 0 0 0 0]]\n",
            "----#ALTERNATE1: Completed ----\n"
          ],
          "name": "stdout"
        }
      ]
    },
    {
      "cell_type": "markdown",
      "metadata": {
        "id": "K0XgpMci24FC",
        "colab_type": "text"
      },
      "source": [
        "### Step6: Stitch is all together"
      ]
    },
    {
      "cell_type": "code",
      "metadata": {
        "id": "J7xjBlYB28EQ",
        "colab_type": "code",
        "outputId": "828e6862-0bbe-4ef0-b1ab-cc6080aff7f7",
        "colab": {
          "base_uri": "https://localhost:8080/",
          "height": 1000
        }
      },
      "source": [
        "import numpy as np\n",
        "\n",
        "## Command A: Draw a Canvas Taking user input from Command Line\n",
        "commandA = input('enter commandA: ')\n",
        "commandListA = re.split(r'\\s',commandA)\n",
        "print(commandListA)\n",
        "cmdType, canvasW,canvasH = commandListA[0],int(commandListA[1]),int(commandListA[2])\n",
        "myCanvas = np.zeros((canvasW,canvasH), dtype=int).reshape(canvasW,canvasH)\n",
        "print(myCanvas)\n",
        "\n",
        "## Command B: Draw a Horizontal Line\n",
        "commandB = input('enter commandB: ')\n",
        "commandListB = re.split(r'\\s',commandB)\n",
        "print(commandListB)\n",
        "x1,y1,x2,y2 = int(commandListB[1]),int(commandListB[2]),int(commandListB[3]),int(commandListB[4])\n",
        "myCanvas[y1, x1:x2+1] = np.ones((x2-x1+1,), dtype=int)\n",
        "\n",
        "chars_ascii1 = np.array(['.','x'], dtype=\"U1\")[myCanvas]\n",
        "print(chars_ascii1)\n",
        "print('----BREAK: before/after----')\n",
        "strings_f = chars_ascii1.view('U' + str(chars_ascii1.shape[1])).flatten()\n",
        "print( \"\\n\".join(strings_f))\n",
        "\n",
        "## Command C: Draw a Vertical Line\n",
        "commandC = input('enter commandC: ')\n",
        "commandListC = re.split(r'\\s',commandC)\n",
        "x1,y1,x2,y2 = int(commandListC[1]),int(commandListC[2]),int(commandListC[3]),int(commandListC[4])\n",
        "myCanvas[y1:y2+1, x1] = np.ones((y2-y1+1,), dtype=int)\n",
        "\n",
        "chars_ascii2 = np.array(['.','x'], dtype=\"U1\")[myCanvas]\n",
        "print(chars_ascii2)\n",
        "print('----BREAK: before/after----')\n",
        "strings_f = chars_ascii2.view('U' + str(chars_ascii2.shape[1])).flatten()\n",
        "print( \"\\n\".join(strings_f))\n",
        "\n",
        "#Try the 3 Command Sets for Testing\n",
        "\n",
        "#CommandA     C 4 8\n",
        "#CommandB     L 1 1 4 1\n",
        "#CommandC     L 1 0 1 3\n",
        "\n",
        "#CommandA     C 20 20\n",
        "#CommandB     L 1 7 4 7\n",
        "#CommandC     L 10 0 10 3\n",
        "\n",
        "#CommandA     C 12 15\n",
        "#CommandB     L 1 10 4 10\n",
        "#CommandC     L 5 0 5 6\n",
        "\n"
      ],
      "execution_count": 0,
      "outputs": [
        {
          "output_type": "stream",
          "text": [
            "enter commandA: C 12 15\n",
            "['C', '12', '15']\n",
            "[[0 0 0 0 0 0 0 0 0 0 0 0 0 0 0]\n",
            " [0 0 0 0 0 0 0 0 0 0 0 0 0 0 0]\n",
            " [0 0 0 0 0 0 0 0 0 0 0 0 0 0 0]\n",
            " [0 0 0 0 0 0 0 0 0 0 0 0 0 0 0]\n",
            " [0 0 0 0 0 0 0 0 0 0 0 0 0 0 0]\n",
            " [0 0 0 0 0 0 0 0 0 0 0 0 0 0 0]\n",
            " [0 0 0 0 0 0 0 0 0 0 0 0 0 0 0]\n",
            " [0 0 0 0 0 0 0 0 0 0 0 0 0 0 0]\n",
            " [0 0 0 0 0 0 0 0 0 0 0 0 0 0 0]\n",
            " [0 0 0 0 0 0 0 0 0 0 0 0 0 0 0]\n",
            " [0 0 0 0 0 0 0 0 0 0 0 0 0 0 0]\n",
            " [0 0 0 0 0 0 0 0 0 0 0 0 0 0 0]]\n",
            "enter commandB: L 1 10 4 10\n",
            "['L', '1', '10', '4', '10']\n",
            "[['.' '.' '.' '.' '.' '.' '.' '.' '.' '.' '.' '.' '.' '.' '.']\n",
            " ['.' '.' '.' '.' '.' '.' '.' '.' '.' '.' '.' '.' '.' '.' '.']\n",
            " ['.' '.' '.' '.' '.' '.' '.' '.' '.' '.' '.' '.' '.' '.' '.']\n",
            " ['.' '.' '.' '.' '.' '.' '.' '.' '.' '.' '.' '.' '.' '.' '.']\n",
            " ['.' '.' '.' '.' '.' '.' '.' '.' '.' '.' '.' '.' '.' '.' '.']\n",
            " ['.' '.' '.' '.' '.' '.' '.' '.' '.' '.' '.' '.' '.' '.' '.']\n",
            " ['.' '.' '.' '.' '.' '.' '.' '.' '.' '.' '.' '.' '.' '.' '.']\n",
            " ['.' '.' '.' '.' '.' '.' '.' '.' '.' '.' '.' '.' '.' '.' '.']\n",
            " ['.' '.' '.' '.' '.' '.' '.' '.' '.' '.' '.' '.' '.' '.' '.']\n",
            " ['.' '.' '.' '.' '.' '.' '.' '.' '.' '.' '.' '.' '.' '.' '.']\n",
            " ['.' 'x' 'x' 'x' 'x' '.' '.' '.' '.' '.' '.' '.' '.' '.' '.']\n",
            " ['.' '.' '.' '.' '.' '.' '.' '.' '.' '.' '.' '.' '.' '.' '.']]\n",
            "----BREAK: before/after----\n",
            "...............\n",
            "...............\n",
            "...............\n",
            "...............\n",
            "...............\n",
            "...............\n",
            "...............\n",
            "...............\n",
            "...............\n",
            "...............\n",
            ".xxxx..........\n",
            "...............\n",
            "enter commandC: L 5 0 5 6\n",
            "[['.' '.' '.' '.' '.' 'x' '.' '.' '.' '.' '.' '.' '.' '.' '.']\n",
            " ['.' '.' '.' '.' '.' 'x' '.' '.' '.' '.' '.' '.' '.' '.' '.']\n",
            " ['.' '.' '.' '.' '.' 'x' '.' '.' '.' '.' '.' '.' '.' '.' '.']\n",
            " ['.' '.' '.' '.' '.' 'x' '.' '.' '.' '.' '.' '.' '.' '.' '.']\n",
            " ['.' '.' '.' '.' '.' 'x' '.' '.' '.' '.' '.' '.' '.' '.' '.']\n",
            " ['.' '.' '.' '.' '.' 'x' '.' '.' '.' '.' '.' '.' '.' '.' '.']\n",
            " ['.' '.' '.' '.' '.' 'x' '.' '.' '.' '.' '.' '.' '.' '.' '.']\n",
            " ['.' '.' '.' '.' '.' '.' '.' '.' '.' '.' '.' '.' '.' '.' '.']\n",
            " ['.' '.' '.' '.' '.' '.' '.' '.' '.' '.' '.' '.' '.' '.' '.']\n",
            " ['.' '.' '.' '.' '.' '.' '.' '.' '.' '.' '.' '.' '.' '.' '.']\n",
            " ['.' 'x' 'x' 'x' 'x' '.' '.' '.' '.' '.' '.' '.' '.' '.' '.']\n",
            " ['.' '.' '.' '.' '.' '.' '.' '.' '.' '.' '.' '.' '.' '.' '.']]\n",
            "----BREAK: before/after----\n",
            ".....x.........\n",
            ".....x.........\n",
            ".....x.........\n",
            ".....x.........\n",
            ".....x.........\n",
            ".....x.........\n",
            ".....x.........\n",
            "...............\n",
            "...............\n",
            "...............\n",
            ".xxxx..........\n",
            "...............\n"
          ],
          "name": "stdout"
        }
      ]
    },
    {
      "cell_type": "markdown",
      "metadata": {
        "id": "2NMCCT477A-y",
        "colab_type": "text"
      },
      "source": [
        "#Phase 2: Command Validation\n",
        "  \n"
      ]
    },
    {
      "cell_type": "markdown",
      "metadata": {
        "id": "1tzKekr77vW9",
        "colab_type": "text"
      },
      "source": [
        "## Step1: Switcher for cmdTypes"
      ]
    },
    {
      "cell_type": "code",
      "metadata": {
        "id": "cTPk8A327uPB",
        "colab_type": "code",
        "outputId": "54624fbb-61aa-40f9-df9c-1c6c77fbf604",
        "colab": {
          "base_uri": "https://localhost:8080/",
          "height": 85
        }
      },
      "source": [
        "\n",
        "\n",
        "#Alternate0\n",
        "def commandValidation(i,cmdType):\n",
        "        switcher={\n",
        "                0:noInput,\n",
        "                1:noCommandOrQuitting,\n",
        "                2:inComplete,\n",
        "                3:drawCanvas,\n",
        "                4:inComplete,\n",
        "                5:drawLineOrRectangleOrfillBucket,\n",
        "                6:lambda:'anything'\n",
        "                }\n",
        "        func=switcher.get(i,lambda :'Invalid')\n",
        "        return func(cmdType)\n",
        "\n",
        "commandValidation(len(commandList),commandList[0])\n",
        "\n",
        "print('-------BREAK-------')\n",
        "\n",
        "#Alternate1\n",
        "method =['Nothing,Canvas,Line,Rectangle,FillBucket,Quit','Inavlid']\n",
        "\n",
        "class Switcher(object):\n",
        "          def commandLength(self,i):\n",
        "                   method_name='draw'+str(i)\n",
        "                   method=getattr(self,method_name,lambda :'Invalid')\n",
        "                   return method()\n",
        "          def draw0(self):\n",
        "                   return 'noInput'\n",
        "          def draw1(self):\n",
        "                   return 'noCommandOrQuitting'\n",
        "          def draw2(self):\n",
        "                   return 'inComplete'\n",
        "          def draw3(self):\n",
        "                   return 'drawCanvas'\n",
        "          def draw4(self):\n",
        "                   return 'inComplete'\n",
        "          def draw5(self): \n",
        "                   return 'drawLineOrRectangleOrfillBucket'\n",
        "          def draw6(self): \n",
        "                   return 'Undefined command of greater than size 6'\n",
        "\n",
        "s= Switcher()\n",
        "s.commandLength(len(commandList))"
      ],
      "execution_count": 0,
      "outputs": [
        {
          "output_type": "stream",
          "text": [
            "Inside drawLineOrRectangleOrfillBucketL\n",
            "L\n",
            "-------BREAK-------\n"
          ],
          "name": "stdout"
        },
        {
          "output_type": "execute_result",
          "data": {
            "text/plain": [
              "'drawLineOrRectangleOrfillBucket'"
            ]
          },
          "metadata": {
            "tags": []
          },
          "execution_count": 6
        }
      ]
    },
    {
      "cell_type": "markdown",
      "metadata": {
        "id": "pyvUdq4P7GPN",
        "colab_type": "text"
      },
      "source": [
        "## Step2: Handling Different cmdTypes"
      ]
    },
    {
      "cell_type": "code",
      "metadata": {
        "id": "A0WhClRQ7SGl",
        "colab_type": "code",
        "outputId": "7b9d8408-9d7c-4145-9e98-577ea948cab0",
        "colab": {
          "base_uri": "https://localhost:8080/",
          "height": 119
        }
      },
      "source": [
        "import re\n",
        "xx = \"L 4 5 6 8\"\n",
        "yy = input()\n",
        "\n",
        "\n",
        "commandList = (re.split(r'\\s',xx)) # Separate string by spaces i.e '\\s' expression\n",
        "print(commandList) \n",
        "length = len(commandList)\n",
        "print(length)\n",
        "#Empty string Validation needs to be handled as xx=\"\" edge case is giving length = 1\n",
        "\n",
        "def drawCanvas(cmdType):\n",
        "        print('Inside drawCanvas' +cmdType)\n",
        "        if cmdType =='C':\n",
        "          return 'drawCanvas'\n",
        "        else:\n",
        "          return 'Invalid'  \n",
        "\n",
        "def drawLineOrRectangleOrfillBucket(cmdType):\n",
        "        print('Inside drawLineOrRectangleOrfillBucket' + cmdType)\n",
        "        print(cmdType)\n",
        "        if cmdType =='L':\n",
        "          return 'drawLine'\n",
        "        elif cmdType =='R':\n",
        "          return 'drawRectangle'\n",
        "        elif cmdType =='B':\n",
        "          return 'fillBucket'  \n",
        "        else:\n",
        "          return 'Invalid Command' \n",
        "\n",
        "def noCommandOrQuitting(cmdType):\n",
        "        print('Inside noCommandOrQuitting' +cmdType)\n",
        "        if cmdType =='Q':\n",
        "          return 'quitting'\n",
        "        elif cmdType == ' ':\n",
        "          return 'No Command'\n",
        "        else:\n",
        "          return 'Invalid Command' \n",
        "\n",
        "def noInput(cmdType):\n",
        "        print('Inside noInput' +cmdType)\n",
        "        if cmdType == '':\n",
        "          return 'Nothing entered'\n",
        "        else:\n",
        "          return 'Invalid Command'\n",
        "\n",
        "def inComplete(cmdType):\n",
        "        print('Inside inComplete' +cmdType)\n",
        "        return 'No Such Command'\n",
        "\n",
        "\n",
        "def commandValidation(i,cmdType):\n",
        "        switcher={\n",
        "                0:noInput,\n",
        "                1:noCommandOrQuitting,\n",
        "                2:inComplete,\n",
        "                3:drawCanvas,\n",
        "                4:inComplete,\n",
        "                5:drawLineOrRectangleOrfillBucket,\n",
        "                6:lambda:'anything'\n",
        "                }\n",
        "        func=switcher.get(i,lambda :'Invalid')\n",
        "        return func(cmdType)\n",
        "\n",
        "commandValidation(len(commandList),commandList[0])"
      ],
      "execution_count": 0,
      "outputs": [
        {
          "output_type": "stream",
          "text": [
            "C 4 5\n",
            "['L', '4', '5', '6', '8']\n",
            "5\n",
            "Inside drawLineOrRectangleOrfillBucketL\n",
            "L\n"
          ],
          "name": "stdout"
        },
        {
          "output_type": "execute_result",
          "data": {
            "text/plain": [
              "'drawLine'"
            ]
          },
          "metadata": {
            "tags": []
          },
          "execution_count": 4
        }
      ]
    },
    {
      "cell_type": "markdown",
      "metadata": {
        "id": "n6d2-QIruZxV",
        "colab_type": "text"
      },
      "source": [
        "#Phase3: Upgrade Drawing Definitions"
      ]
    },
    {
      "cell_type": "markdown",
      "metadata": {
        "id": "fecw4S_g1JnV",
        "colab_type": "text"
      },
      "source": [
        "##Step1: 2D Array to Desired O/p"
      ]
    },
    {
      "cell_type": "code",
      "metadata": {
        "id": "OJXUq9YMV6bw",
        "colab_type": "code",
        "outputId": "815a4823-17b0-45c7-dbb4-5687328354e4",
        "colab": {
          "base_uri": "https://localhost:8080/",
          "height": 85
        }
      },
      "source": [
        "chars_ascii = np.array(['.','x'], dtype=\"U1\")[canvasManualDraw2]\n",
        "strings_f = chars_ascii.view('U' + str(chars_ascii.shape[1])).flatten()\n",
        "print( \"\\n\".join(strings_f))"
      ],
      "execution_count": 0,
      "outputs": [
        {
          "output_type": "stream",
          "text": [
            "..x....\n",
            ".xxxx..\n",
            "..x....\n",
            "..x....\n"
          ],
          "name": "stdout"
        }
      ]
    },
    {
      "cell_type": "code",
      "metadata": {
        "id": "KYHo7Uwod7vO",
        "colab_type": "code",
        "outputId": "80874d80-8856-47b5-a51c-05f63d355e28",
        "colab": {
          "base_uri": "https://localhost:8080/",
          "height": 357
        }
      },
      "source": [
        "import numpy as np\n",
        "pixels_01 = np.array([[0,1,0,1,1,1,0],[0,0,0,1,1,0,1],[0,0,0,1,1,0,1],[0,0,0,1,1,0,1]])\n",
        "\n",
        "\n",
        "canvas_w=3\n",
        "canvas_h=4\n",
        "\n",
        "\n",
        "## Generating an array of random integers, declaring & populating 2D array\n",
        "pixels_01 = np.random.randint(0,2, size=(canvas_w+2,canvas_h+2))\n",
        "## After adding canvas_w+2,canvas_h+2 we are able to accomdate a border of canvas\n",
        "\n",
        "## Filling border pads with horizontal '-' and vertical ='|' as directed\n",
        "\n",
        "print(pixels_01)\n",
        "print('-------Break-----')\n",
        "chars_ascii = np.array([' ','#'], dtype=\"U1\")[pixels_01]\n",
        "print(chars_ascii)\n",
        "strings_f = chars_ascii.view('U' + str(chars_ascii.shape[1])).flatten()\n",
        "print('-------Break-----')\n",
        "print( \"\\n\".join(strings_f))\n",
        "\n",
        "print('-------Break-----')\n",
        "print('-------Manually Refilling the Bucket-----')\n",
        "## Rerun After Manually Refilling the Full Bucket\n",
        "\n",
        "##pixels_01 = np.array([[1,1,1,1,1,1,1],[1,1,1,1,1,1,1],[1,1,1,1,1,1,1],[1,1,1,1,1,1,1]])\n",
        "pixels_01 = np.random.randint(1,2, size=(4,8))\n",
        "chars_ascii = np.array([' ','#'], dtype=\"U1\")[pixels_01]\n",
        "strings_f = chars_ascii.view('U' + str(chars_ascii.shape[1])).flatten()\n",
        "print( \"\\n\".join(strings_f))\n",
        "\n"
      ],
      "execution_count": 0,
      "outputs": [
        {
          "output_type": "stream",
          "text": [
            "[[1 0 1 1 1 1 0 1]\n",
            " [0 0 0 0 1 1 0 1]\n",
            " [1 1 1 1 1 1 1 0]\n",
            " [1 1 0 0 1 0 1 1]]\n",
            "-------Break-----\n",
            "[['#' ' ' '#' '#' '#' '#' ' ' '#']\n",
            " [' ' ' ' ' ' ' ' '#' '#' ' ' '#']\n",
            " ['#' '#' '#' '#' '#' '#' '#' ' ']\n",
            " ['#' '#' ' ' ' ' '#' ' ' '#' '#']]\n",
            "-------Break-----\n",
            "# #### #\n",
            "    ## #\n",
            "####### \n",
            "##  # ##\n",
            "-------Break-----\n",
            "-------Manually Refilling the Bucket-----\n",
            "########\n",
            "########\n",
            "########\n",
            "########\n"
          ],
          "name": "stdout"
        }
      ]
    },
    {
      "cell_type": "code",
      "metadata": {
        "id": "yztQbuqkRWEP",
        "colab_type": "code",
        "colab": {}
      },
      "source": [
        ""
      ],
      "execution_count": 0,
      "outputs": []
    },
    {
      "cell_type": "markdown",
      "metadata": {
        "id": "OyNCFCyj1dCT",
        "colab_type": "text"
      },
      "source": [
        "##Step2: Reshape 1D to 2D array "
      ]
    },
    {
      "cell_type": "code",
      "metadata": {
        "id": "T49mmwNT0MzM",
        "colab_type": "code",
        "outputId": "38853b9e-31ea-4ebc-f0ac-de2e61bc7e04",
        "colab": {
          "base_uri": "https://localhost:8080/",
          "height": 204
        }
      },
      "source": [
        "import numpy as np\n",
        "\n",
        "\n",
        "##Canvas requested 3x4--->after Padding--->becomes 5x6 i.e [3+2, 4+2] or [row+2, col+2]\n",
        "print(np.arange(5*6))\n",
        "\n",
        "print('-----before/after-----')\n",
        "\n",
        "#Reshape a shape-(24,) array into a shape-(2,3,4) array\n",
        "a = np.arange(2*3*4)\n",
        "print(a)\n",
        "\n",
        "print('-----before/after-----')\n",
        "a= np.arange(2*3*4).reshape(6,4)\n",
        "print(a)\n"
      ],
      "execution_count": 17,
      "outputs": [
        {
          "output_type": "stream",
          "text": [
            "[ 0  1  2  3  4  5  6  7  8  9 10 11 12 13 14 15 16 17 18 19 20 21 22 23\n",
            " 24 25 26 27 28 29]\n",
            "-----before/after-----\n",
            "[ 0  1  2  3  4  5  6  7  8  9 10 11 12 13 14 15 16 17 18 19 20 21 22 23]\n",
            "-----before/after-----\n",
            "[[ 0  1  2  3]\n",
            " [ 4  5  6  7]\n",
            " [ 8  9 10 11]\n",
            " [12 13 14 15]\n",
            " [16 17 18 19]\n",
            " [20 21 22 23]]\n"
          ],
          "name": "stdout"
        }
      ]
    },
    {
      "cell_type": "markdown",
      "metadata": {
        "id": "xTLy5-NavxBK",
        "colab_type": "text"
      },
      "source": [
        "##Step3: DrawLine Horizontally"
      ]
    },
    {
      "cell_type": "code",
      "metadata": {
        "id": "sSdWsxlmEjNM",
        "colab_type": "code",
        "outputId": "0ae53e27-e82c-42e9-bdcb-c2c24c82cb91",
        "colab": {
          "base_uri": "https://localhost:8080/",
          "height": 170
        }
      },
      "source": [
        "#L 1 3 4 3 [Line Movement on a given Row]\n",
        "a = np.arange(8*9).reshape(8,9)\n",
        "\n",
        "COLi = 1\n",
        "COLj = 4\n",
        "ROW = 3\n",
        "#MoveForward: Replace '0s' with '1'\n",
        "\n",
        "\n",
        "##Return a new array of given shape and type, filled with ones.\n",
        "array_ones = np.ones((COLj-COLi+1,), dtype=int) ## e.g. Represents [1,1,1,1] if COLj-COLi+1 = 4\n",
        "##Using '1' to represent forward traversal and hence updating entries\n",
        "a[ROW, COLi:COLj+1] = array_ones  \n",
        "print(a)\n",
        "\n",
        "print('---BREAK---')"
      ],
      "execution_count": 16,
      "outputs": [
        {
          "output_type": "stream",
          "text": [
            "[[ 0  1  2  3  4  5  6  7  8]\n",
            " [ 9 10 11 12 13 14 15 16 17]\n",
            " [18 19 20 21 22 23 24 25 26]\n",
            " [27  1  1  1  1 32 33 34 35]\n",
            " [36 37 38 39 40 41 42 43 44]\n",
            " [45 46 47 48 49 50 51 52 53]\n",
            " [54 55 56 57 58 59 60 61 62]\n",
            " [63 64 65 66 67 68 69 70 71]]\n",
            "---BREAK---\n"
          ],
          "name": "stdout"
        }
      ]
    },
    {
      "cell_type": "markdown",
      "metadata": {
        "id": "-lCIM47TwC9l",
        "colab_type": "text"
      },
      "source": [
        "##Step4: DrawLine Vertical(Transpose)"
      ]
    },
    {
      "cell_type": "code",
      "metadata": {
        "id": "aWYeYpHAwCMG",
        "colab_type": "code",
        "colab": {
          "base_uri": "https://localhost:8080/",
          "height": 272
        },
        "outputId": "c057c4e8-ff03-4020-ec06-def286ebf1a2"
      },
      "source": [
        "b = np.arange(8*9).reshape(8,9) ## Canvas 6x7\n",
        "#L 2 1 2 4 [Line Movement on a given Column]\n",
        "ROWi = 1\n",
        "ROWj = 4\n",
        "COL = 2\n",
        "#MoveForward: Replace '0s' with '1'\n",
        "b[ROWi:ROWj+1, COL ] =  np.ones((ROWj,), dtype=int) ## [1,1,1]\n",
        "b\n",
        "print(b)\n",
        "\n",
        "\n",
        "print('---CHECKING Transpose of a 2D matrix to leverage same code---')\n",
        "c = np.transpose(a)\n",
        "\n",
        "##Return a new array of given shape and type, filled with ones.\n",
        "array_ones_c = np.ones((COLj-COLi+1,), dtype=int) ## e.g. Represents [1,1,1,1] if COLj-COLi+1 = 4\n",
        "##Using '1' to represent forward traversal and hence updating entries\n",
        "c[ROW, COLi:COLj+1] = array_ones_c  \n",
        "print(np.transpose(c))\n",
        "\n",
        "#We have proven transposing works for Horizontal/Vertical Function. Hence we leverage a standard function\n",
        "\n",
        "\n",
        "def drawLine(Canvas,x1,y1,x2,y2,maskDigit):\n",
        "    ## Write Validation of Canvas.shape and x1,x2,x3,x4 being within bounds\n",
        "    if (y1 == y2): \n",
        "        ##Return a new 1D array of given shape and type, filled with ones.\n",
        "        ## Using command  np.ones((x2-x1+1,), dtype=int) \n",
        "        ##Using '1' to draw line i.e x2-x1+1 and hence updating entries for columns on a given row\n",
        "        Canvas[y1, x1:x2+1] = np.ones((x2-x1+1,), dtype=int)*maskDigit ## e.g. Represents [1,1,1,1] if x2-x1+1 = 4\n",
        "    elif(x1 == x2): \n",
        "        ##Return a new 1D array of given shape and type, filled with ones.\n",
        "        ## Using command  np.ones((y2-y1+1,), dtype=int) \n",
        "        ##Using '1' to draw line i.e y2-y1+1 and hence updating entries for rows on a given column\n",
        "        Canvas[y1:y2+1, x1] = np.ones((y2-y1+1,), dtype=int)*maskDigit  ## e.g. Represents [1,1,1,1] if y2-y1+1 = 4\n",
        "    else:\n",
        "        print('Cant draw a diagonal(out of scope)')\n",
        "    return Canvas"
      ],
      "execution_count": 14,
      "outputs": [
        {
          "output_type": "stream",
          "text": [
            "[[ 0  1  2  3  4  5  6  7  8]\n",
            " [ 9 10  1 12 13 14 15 16 17]\n",
            " [18 19  1 21 22 23 24 25 26]\n",
            " [27 28  1 30 31 32 33 34 35]\n",
            " [36 37  1 39 40 41 42 43 44]\n",
            " [45 46 47 48 49 50 51 52 53]\n",
            " [54 55 56 57 58 59 60 61 62]\n",
            " [63 64 65 66 67 68 69 70 71]]\n",
            "---CHECKING Transpose of a 2D matrix to leverage same code---\n",
            "[[ 0  1  2  3]\n",
            " [ 4  5  6  1]\n",
            " [ 8  9 10  1]\n",
            " [12 13 14  1]\n",
            " [16 17 18  1]\n",
            " [20 21 22 23]]\n"
          ],
          "name": "stdout"
        }
      ]
    },
    {
      "cell_type": "markdown",
      "metadata": {
        "id": "AeBSA2BKvGQg",
        "colab_type": "text"
      },
      "source": [
        "##Step5: DrawLine & Boundary"
      ]
    },
    {
      "cell_type": "code",
      "metadata": {
        "id": "6lzGDRxk9Eq2",
        "colab_type": "code",
        "outputId": "94c03f19-4a89-42dc-f66c-34f8ed6d1fbf",
        "colab": {
          "base_uri": "https://localhost:8080/",
          "height": 918
        }
      },
      "source": [
        "print('---BREAK0---')\n",
        "\n",
        "def drawLine(Canvas,x1,y1,x2,y2,maskDigit):\n",
        "    ## Write Validation of Canvas.shape and x1,x2,x3,x4 being within bounds\n",
        "    if (y1 == y2): \n",
        "        ##Return a new 1D array of given shape and type, filled with ones.\n",
        "        ## Using command  np.ones((x2-x1+1,), dtype=int) \n",
        "        ##Using '1' to draw line i.e x2-x1+1 and hence updating entries for columns on a given row\n",
        "        Canvas[y1, x1:x2+1] = np.ones((x2-x1+1,), dtype=int)*maskDigit ## e.g. Represents [1,1,1,1] if x2-x1+1 = 4\n",
        "    elif(x1 == x2): \n",
        "        ##Return a new 1D array of given shape and type, filled with ones.\n",
        "        ## Using command  np.ones((y2-y1+1,), dtype=int) \n",
        "        ##Using '1' to draw line i.e y2-y1+1 and hence updating entries for rows on a given column\n",
        "        Canvas[y1:y2+1, x1] = np.ones((y2-y1+1,), dtype=int)*maskDigit  ## e.g. Represents [1,1,1,1] if y2-y1+1 = 4\n",
        "    else:\n",
        "        print('Cant draw a diagonal(out of scope)')\n",
        "    return Canvas\n",
        "\n",
        "def drawHorizontalPadding(Canvas,x1,y1,x2,y2,maskDigit):\n",
        "    #Horizontal Padding with '-'\n",
        "    drawLine(Canvas,0,0,y2-1,0,maskDigit)\n",
        "    drawLine(Canvas,0,x2-1,y2-1,x2-1,maskDigit)\n",
        "    return Canvas\n",
        "    \n",
        "def drawVerticalPadding(Canvas,x1,y1,x2,y2,maskDigit):\n",
        "    #Vertical Padding with '|'\n",
        "    drawLine(Canvas,0,1,0,x2-2,maskDigit) \n",
        "    drawLine(Canvas,y2-1,1,y2-1,x2-2,maskDigit)\n",
        "    return Canvas    \n",
        "\n",
        "\n",
        "# Create an Empty 2D Array\n",
        "Canvas1 = np.zeros((12,18), dtype=int).reshape(12,18)\n",
        "\n",
        "print(Canvas1)\n",
        "print('---BREAK0---')\n",
        "##drawPadding: i.e '----' and '|' on borders. This is a special case of drawRect with edge cases\n",
        "##If user demands 10x16 canvas then 12x18 has be designed to accomodate borders padding\n",
        "Canvas1 = drawHorizontalPadding(Canvas1,0,0,12,18,maskDigit=8)\n",
        "print(Canvas1)\n",
        "print('---BREAK1---')\n",
        "\n",
        "Canvas1 = drawVerticalPadding(Canvas1,0,0,12,18,maskDigit=9)\n",
        "print(Canvas1)\n",
        "print('---BREAK2---')\n",
        "#L 1 3 4 3 [Line Movement on a given Row]\n",
        "#(x1,x2) = (1,4) & (y1,y2)= (3,3) [On Row 3 draw a line covering 4-1+1 = 4places] = WalkType = AlongRow\n",
        "Canvas1 = drawLine(Canvas1,1,3,4,3,maskDigit=1)\n",
        "#L 2 1 2 4 [Line Movement on a given Column]\n",
        "#(y1,y2) = (1,4) & (x1,x2)= (2,2)[On COL 2 draw a line covering 4-1+1 = 4places] = WalkType = AlongCol\n",
        "print(Canvas1)\n",
        "print('---BREAK3---')\n",
        "Canvas1 = drawLine(Canvas1,2,1,2,4,maskDigit=1)\n",
        "#END RESULT WILL HAVE DIGITS '8' and '9' in the FINAL OUTPUT\n"
      ],
      "execution_count": 38,
      "outputs": [
        {
          "output_type": "stream",
          "text": [
            "---BREAK0---\n",
            "[[0 0 0 0 0 0 0 0 0 0 0 0 0 0 0 0 0 0]\n",
            " [0 0 0 0 0 0 0 0 0 0 0 0 0 0 0 0 0 0]\n",
            " [0 0 0 0 0 0 0 0 0 0 0 0 0 0 0 0 0 0]\n",
            " [0 0 0 0 0 0 0 0 0 0 0 0 0 0 0 0 0 0]\n",
            " [0 0 0 0 0 0 0 0 0 0 0 0 0 0 0 0 0 0]\n",
            " [0 0 0 0 0 0 0 0 0 0 0 0 0 0 0 0 0 0]\n",
            " [0 0 0 0 0 0 0 0 0 0 0 0 0 0 0 0 0 0]\n",
            " [0 0 0 0 0 0 0 0 0 0 0 0 0 0 0 0 0 0]\n",
            " [0 0 0 0 0 0 0 0 0 0 0 0 0 0 0 0 0 0]\n",
            " [0 0 0 0 0 0 0 0 0 0 0 0 0 0 0 0 0 0]\n",
            " [0 0 0 0 0 0 0 0 0 0 0 0 0 0 0 0 0 0]\n",
            " [0 0 0 0 0 0 0 0 0 0 0 0 0 0 0 0 0 0]]\n",
            "---BREAK0---\n",
            "[[8 8 8 8 8 8 8 8 8 8 8 8 8 8 8 8 8 8]\n",
            " [0 0 0 0 0 0 0 0 0 0 0 0 0 0 0 0 0 0]\n",
            " [0 0 0 0 0 0 0 0 0 0 0 0 0 0 0 0 0 0]\n",
            " [0 0 0 0 0 0 0 0 0 0 0 0 0 0 0 0 0 0]\n",
            " [0 0 0 0 0 0 0 0 0 0 0 0 0 0 0 0 0 0]\n",
            " [0 0 0 0 0 0 0 0 0 0 0 0 0 0 0 0 0 0]\n",
            " [0 0 0 0 0 0 0 0 0 0 0 0 0 0 0 0 0 0]\n",
            " [0 0 0 0 0 0 0 0 0 0 0 0 0 0 0 0 0 0]\n",
            " [0 0 0 0 0 0 0 0 0 0 0 0 0 0 0 0 0 0]\n",
            " [0 0 0 0 0 0 0 0 0 0 0 0 0 0 0 0 0 0]\n",
            " [0 0 0 0 0 0 0 0 0 0 0 0 0 0 0 0 0 0]\n",
            " [8 8 8 8 8 8 8 8 8 8 8 8 8 8 8 8 8 8]]\n",
            "---BREAK1---\n",
            "[[8 8 8 8 8 8 8 8 8 8 8 8 8 8 8 8 8 8]\n",
            " [9 0 0 0 0 0 0 0 0 0 0 0 0 0 0 0 0 9]\n",
            " [9 0 0 0 0 0 0 0 0 0 0 0 0 0 0 0 0 9]\n",
            " [9 0 0 0 0 0 0 0 0 0 0 0 0 0 0 0 0 9]\n",
            " [9 0 0 0 0 0 0 0 0 0 0 0 0 0 0 0 0 9]\n",
            " [9 0 0 0 0 0 0 0 0 0 0 0 0 0 0 0 0 9]\n",
            " [9 0 0 0 0 0 0 0 0 0 0 0 0 0 0 0 0 9]\n",
            " [9 0 0 0 0 0 0 0 0 0 0 0 0 0 0 0 0 9]\n",
            " [9 0 0 0 0 0 0 0 0 0 0 0 0 0 0 0 0 9]\n",
            " [9 0 0 0 0 0 0 0 0 0 0 0 0 0 0 0 0 9]\n",
            " [9 0 0 0 0 0 0 0 0 0 0 0 0 0 0 0 0 9]\n",
            " [8 8 8 8 8 8 8 8 8 8 8 8 8 8 8 8 8 8]]\n",
            "---BREAK2---\n",
            "[[8 8 8 8 8 8 8 8 8 8 8 8 8 8 8 8 8 8]\n",
            " [9 0 0 0 0 0 0 0 0 0 0 0 0 0 0 0 0 9]\n",
            " [9 0 0 0 0 0 0 0 0 0 0 0 0 0 0 0 0 9]\n",
            " [9 1 1 1 1 0 0 0 0 0 0 0 0 0 0 0 0 9]\n",
            " [9 0 0 0 0 0 0 0 0 0 0 0 0 0 0 0 0 9]\n",
            " [9 0 0 0 0 0 0 0 0 0 0 0 0 0 0 0 0 9]\n",
            " [9 0 0 0 0 0 0 0 0 0 0 0 0 0 0 0 0 9]\n",
            " [9 0 0 0 0 0 0 0 0 0 0 0 0 0 0 0 0 9]\n",
            " [9 0 0 0 0 0 0 0 0 0 0 0 0 0 0 0 0 9]\n",
            " [9 0 0 0 0 0 0 0 0 0 0 0 0 0 0 0 0 9]\n",
            " [9 0 0 0 0 0 0 0 0 0 0 0 0 0 0 0 0 9]\n",
            " [8 8 8 8 8 8 8 8 8 8 8 8 8 8 8 8 8 8]]\n",
            "---BREAK3---\n"
          ],
          "name": "stdout"
        }
      ]
    },
    {
      "cell_type": "markdown",
      "metadata": {
        "id": "Lu78rFnL2M5C",
        "colab_type": "text"
      },
      "source": [
        "##Step6: Draw Rectangle"
      ]
    },
    {
      "cell_type": "code",
      "metadata": {
        "id": "Z5HcxKuaNmIN",
        "colab_type": "code",
        "outputId": "fa410452-ca29-4749-cc3a-8d6b2b3978ce",
        "colab": {
          "base_uri": "https://localhost:8080/",
          "height": 918
        }
      },
      "source": [
        "import numpy as np\n",
        "\n",
        "def drawRect(Canvas,x1,y1,x2,y2,maskDigit):\n",
        "    drawLine(Canvas,x1,y1,x1,y2,maskDigit) \n",
        "    drawLine(Canvas,x2,y1,x2,y2,maskDigit)\n",
        "    drawLine(Canvas,x1,y1,x2,y1,maskDigit)\n",
        "    drawLine(Canvas,x1,y2,x2,y2,maskDigit)\n",
        "    return Canvas\n",
        "\n",
        "## START OF MAIN PROGRAM\n",
        "\n",
        "# Create an Empty 2D Array\n",
        "Canvas1 = np.zeros((12,18), dtype=int).reshape(12,18)\n",
        "print(Canvas1)\n",
        "print('---BREAK0---')\n",
        "\n",
        "#R 1 5 6 7[Draw a Rectangle between (1,5) and (6,7)]\n",
        "##Essentially it means draw 4 lines i.e [L 1 5 1 7] [L 6 5 6 7] [L 1 5 6 5] [L 1 7 6 7]\n",
        "print(Canvas1)\n",
        "print('---BREAK4---')\n",
        "Canvas1 = drawRect(Canvas1,1,5,6,7,maskDigit=1)\n",
        "print(Canvas1)\n",
        "print('---BREAK5---')\n",
        "\n",
        "print('---1st PUBLISH---')\n",
        "\n",
        "Canvas1 = drawRect(Canvas1,6,6,8,8,maskDigit=1)\n",
        "print(Canvas1)\n",
        "print('---2nd PUBLISH---')\n",
        "\n",
        "\n",
        "\n"
      ],
      "execution_count": 152,
      "outputs": [
        {
          "output_type": "stream",
          "text": [
            "[[0 0 0 0 0 0 0 0 0 0 0 0 0 0 0 0 0 0]\n",
            " [0 0 0 0 0 0 0 0 0 0 0 0 0 0 0 0 0 0]\n",
            " [0 0 0 0 0 0 0 0 0 0 0 0 0 0 0 0 0 0]\n",
            " [0 0 0 0 0 0 0 0 0 0 0 0 0 0 0 0 0 0]\n",
            " [0 0 0 0 0 0 0 0 0 0 0 0 0 0 0 0 0 0]\n",
            " [0 0 0 0 0 0 0 0 0 0 0 0 0 0 0 0 0 0]\n",
            " [0 0 0 0 0 0 0 0 0 0 0 0 0 0 0 0 0 0]\n",
            " [0 0 0 0 0 0 0 0 0 0 0 0 0 0 0 0 0 0]\n",
            " [0 0 0 0 0 0 0 0 0 0 0 0 0 0 0 0 0 0]\n",
            " [0 0 0 0 0 0 0 0 0 0 0 0 0 0 0 0 0 0]\n",
            " [0 0 0 0 0 0 0 0 0 0 0 0 0 0 0 0 0 0]\n",
            " [0 0 0 0 0 0 0 0 0 0 0 0 0 0 0 0 0 0]]\n",
            "---BREAK0---\n",
            "[[0 0 0 0 0 0 0 0 0 0 0 0 0 0 0 0 0 0]\n",
            " [0 0 0 0 0 0 0 0 0 0 0 0 0 0 0 0 0 0]\n",
            " [0 0 0 0 0 0 0 0 0 0 0 0 0 0 0 0 0 0]\n",
            " [0 0 0 0 0 0 0 0 0 0 0 0 0 0 0 0 0 0]\n",
            " [0 0 0 0 0 0 0 0 0 0 0 0 0 0 0 0 0 0]\n",
            " [0 0 0 0 0 0 0 0 0 0 0 0 0 0 0 0 0 0]\n",
            " [0 0 0 0 0 0 0 0 0 0 0 0 0 0 0 0 0 0]\n",
            " [0 0 0 0 0 0 0 0 0 0 0 0 0 0 0 0 0 0]\n",
            " [0 0 0 0 0 0 0 0 0 0 0 0 0 0 0 0 0 0]\n",
            " [0 0 0 0 0 0 0 0 0 0 0 0 0 0 0 0 0 0]\n",
            " [0 0 0 0 0 0 0 0 0 0 0 0 0 0 0 0 0 0]\n",
            " [0 0 0 0 0 0 0 0 0 0 0 0 0 0 0 0 0 0]]\n",
            "---BREAK4---\n",
            "[[0 0 0 0 0 0 0 0 0 0 0 0 0 0 0 0 0 0]\n",
            " [0 0 0 0 0 0 0 0 0 0 0 0 0 0 0 0 0 0]\n",
            " [0 0 0 0 0 0 0 0 0 0 0 0 0 0 0 0 0 0]\n",
            " [0 0 0 0 0 0 0 0 0 0 0 0 0 0 0 0 0 0]\n",
            " [0 0 0 0 0 0 0 0 0 0 0 0 0 0 0 0 0 0]\n",
            " [0 1 1 1 1 1 1 0 0 0 0 0 0 0 0 0 0 0]\n",
            " [0 1 0 0 0 0 1 0 0 0 0 0 0 0 0 0 0 0]\n",
            " [0 1 1 1 1 1 1 0 0 0 0 0 0 0 0 0 0 0]\n",
            " [0 0 0 0 0 0 0 0 0 0 0 0 0 0 0 0 0 0]\n",
            " [0 0 0 0 0 0 0 0 0 0 0 0 0 0 0 0 0 0]\n",
            " [0 0 0 0 0 0 0 0 0 0 0 0 0 0 0 0 0 0]\n",
            " [0 0 0 0 0 0 0 0 0 0 0 0 0 0 0 0 0 0]]\n",
            "---BREAK5---\n",
            "---1st PUBLISH---\n",
            "[[0 0 0 0 0 0 0 0 0 0 0 0 0 0 0 0 0 0]\n",
            " [0 0 0 0 0 0 0 0 0 0 0 0 0 0 0 0 0 0]\n",
            " [0 0 0 0 0 0 0 0 0 0 0 0 0 0 0 0 0 0]\n",
            " [0 0 0 0 0 0 0 0 0 0 0 0 0 0 0 0 0 0]\n",
            " [0 0 0 0 0 0 0 0 0 0 0 0 0 0 0 0 0 0]\n",
            " [0 1 1 1 1 1 1 0 0 0 0 0 0 0 0 0 0 0]\n",
            " [0 1 0 0 0 0 1 1 1 0 0 0 0 0 0 0 0 0]\n",
            " [0 1 1 1 1 1 1 0 1 0 0 0 0 0 0 0 0 0]\n",
            " [0 0 0 0 0 0 1 1 1 0 0 0 0 0 0 0 0 0]\n",
            " [0 0 0 0 0 0 0 0 0 0 0 0 0 0 0 0 0 0]\n",
            " [0 0 0 0 0 0 0 0 0 0 0 0 0 0 0 0 0 0]\n",
            " [0 0 0 0 0 0 0 0 0 0 0 0 0 0 0 0 0 0]]\n",
            "---2nd PUBLISH---\n"
          ],
          "name": "stdout"
        }
      ]
    },
    {
      "cell_type": "markdown",
      "metadata": {
        "id": "icRY4tscxWKS",
        "colab_type": "text"
      },
      "source": [
        "##Step7: Fill Bucket"
      ]
    },
    {
      "cell_type": "code",
      "metadata": {
        "id": "KMfORwzKxbI-",
        "colab_type": "code",
        "colab": {
          "base_uri": "https://localhost:8080/",
          "height": 459
        },
        "outputId": "3faa3180-3fb3-434b-fa26-2ad9a25a7894"
      },
      "source": [
        "def fillBucket(Canvas, x, y, targetDigit, newDigit):\n",
        "    # Use the Canvas 2D array and check if the oldDigit at x, y needs to be replacesd\n",
        "    # The recursive algorithm. Starting at x and y, changes any adjacent\n",
        "    # digits that match targetDigit to newDigit.\n",
        "    canvasWidth = len(Canvas)\n",
        "    canvasHeight = len(Canvas[0])\n",
        "    \n",
        "    if targetDigit == None:\n",
        "        targetDigit = Canvas[x][y]\n",
        "\n",
        "    # Base case. If the current x, y digit is not the targetDigit,\n",
        "    # then do nothing.\n",
        "    if Canvas[x][y] != targetDigit:\n",
        "        return \n",
        "    \n",
        "    # Change the digit at Canvas[x][y] to newDigit \n",
        "    Canvas[x][y] = newDigit\n",
        "\n",
        "    # Recursive calls. Make a recursive call as long as we are not on the\n",
        "    # boundary (which would cause an Index Error.)\n",
        "    if x > 0: # left\n",
        "        fillBucket(Canvas, x - 1, y, targetDigit, newDigit)\n",
        "    if y > 0: # up\n",
        "        fillBucket(Canvas, x, y - 1, targetDigit, newDigit) \n",
        "    if x < canvasWidth-1: # right\n",
        "        fillBucket(Canvas, x + 1, y, targetDigit, newDigit)\n",
        "    if y < canvasHeight-1: # down\n",
        "        fillBucket(Canvas, x, y + 1, targetDigit, newDigit)\n",
        "    return Canvas\n",
        "\n",
        "## START OF MAIN PROGRAM\n",
        "\n",
        "# Create an Empty 2D Array\n",
        "Canvas1 = np.zeros((12,18), dtype=int).reshape(12,18)\n",
        "print(Canvas1)\n",
        "print('---BREAK0---')\n",
        "\n",
        "\n",
        "#User Gives Input\n",
        "x,y = 2,5 ## [Point of Click, taken from user as input]\n",
        "#Set the Point of Click for 'o' masked by Digit '5' \n",
        "\n",
        "## Now fill the Bucket from here with Digit 5\n",
        "print('---PUBLISH AFTER Fill Bucket--')\n",
        "print(fillBucket(Canvas1, x, y, 0, 5))"
      ],
      "execution_count": 24,
      "outputs": [
        {
          "output_type": "stream",
          "text": [
            "[[0 0 0 0 0 0 0 0 0 0 0 0 0 0 0 0 0 0]\n",
            " [0 0 0 0 0 0 0 0 0 0 0 0 0 0 0 0 0 0]\n",
            " [0 0 0 0 0 0 0 0 0 0 0 0 0 0 0 0 0 0]\n",
            " [0 0 0 0 0 0 0 0 0 0 0 0 0 0 0 0 0 0]\n",
            " [0 0 0 0 0 0 0 0 0 0 0 0 0 0 0 0 0 0]\n",
            " [0 0 0 0 0 0 0 0 0 0 0 0 0 0 0 0 0 0]\n",
            " [0 0 0 0 0 0 0 0 0 0 0 0 0 0 0 0 0 0]\n",
            " [0 0 0 0 0 0 0 0 0 0 0 0 0 0 0 0 0 0]\n",
            " [0 0 0 0 0 0 0 0 0 0 0 0 0 0 0 0 0 0]\n",
            " [0 0 0 0 0 0 0 0 0 0 0 0 0 0 0 0 0 0]\n",
            " [0 0 0 0 0 0 0 0 0 0 0 0 0 0 0 0 0 0]\n",
            " [0 0 0 0 0 0 0 0 0 0 0 0 0 0 0 0 0 0]]\n",
            "---BREAK0---\n",
            "---PUBLISH AFTER Fill Bucket--\n",
            "[[5 5 5 5 5 5 5 5 5 5 5 5 5 5 5 5 5 5]\n",
            " [5 5 5 5 5 5 5 5 5 5 5 5 5 5 5 5 5 5]\n",
            " [5 5 5 5 5 5 5 5 5 5 5 5 5 5 5 5 5 5]\n",
            " [5 5 5 5 5 5 5 5 5 5 5 5 5 5 5 5 5 5]\n",
            " [5 5 5 5 5 5 5 5 5 5 5 5 5 5 5 5 5 5]\n",
            " [5 5 5 5 5 5 5 5 5 5 5 5 5 5 5 5 5 5]\n",
            " [5 5 5 5 5 5 5 5 5 5 5 5 5 5 5 5 5 5]\n",
            " [5 5 5 5 5 5 5 5 5 5 5 5 5 5 5 5 5 5]\n",
            " [5 5 5 5 5 5 5 5 5 5 5 5 5 5 5 5 5 5]\n",
            " [5 5 5 5 5 5 5 5 5 5 5 5 5 5 5 5 5 5]\n",
            " [5 5 5 5 5 5 5 5 5 5 5 5 5 5 5 5 5 5]\n",
            " [5 5 5 5 5 5 5 5 5 5 5 5 5 5 5 5 5 5]]\n"
          ],
          "name": "stdout"
        }
      ]
    },
    {
      "cell_type": "markdown",
      "metadata": {
        "id": "LxvMDPtN1KrJ",
        "colab_type": "text"
      },
      "source": [
        "##Step8: Publish Output "
      ]
    },
    {
      "cell_type": "code",
      "metadata": {
        "id": "zBv1Rq3y1Op9",
        "colab_type": "code",
        "colab": {
          "base_uri": "https://localhost:8080/",
          "height": 459
        },
        "outputId": "8a88e8c6-4c15-403a-dc52-34ac763d81e8"
      },
      "source": [
        "def publish(Canvas):\n",
        "    transdict = {'8': '-', '9': '|', '1': 'x','0':'.','5':'o'} #Translation Dictionary\n",
        "    chars_ascii = replace_with_dict(Canvas.astype(str),transdict)\n",
        "    strings_f = chars_ascii.view('U' + str(chars_ascii.shape[1])).flatten()  \n",
        "    return print( \"\\n\".join(strings_f))\n",
        "\n",
        "def replace_with_dict(ar, dic):\n",
        "    # Extract out keys and values\n",
        "    k = np.array(list(dic.keys()))\n",
        "    v = np.array(list(dic.values()))\n",
        "\n",
        "    # Get argsort indices\n",
        "    sidx = k.argsort()\n",
        "\n",
        "    # Drop the magic bomb with searchsorted to get the corresponding\n",
        "    # places for a in keys (using sorter since a is not necessarily sorted).\n",
        "    # Then trace it back to original order with indexing into sidx\n",
        "    # Finally index into values for desired output.\n",
        "    return v[sidx[np.searchsorted(k,ar,sorter=sidx)]]\n",
        "\n",
        "## START OF MAIN PROGRAM\n",
        "\n",
        "# Create an Empty 2D Array\n",
        "Canvas1 = np.zeros((12,18), dtype=int).reshape(12,18)\n",
        "print(Canvas1)\n",
        "print('---BREAK0---')\n",
        "\n",
        "#User Gives Input\n",
        "x,y = 2,5 ## [Point of Click, taken from user as input]\n",
        "#Set the Point of Click for 'o' masked by Digit '5' \n",
        "\n",
        "## Now fill the Bucket from here with Digit 5\n",
        "print('---PUBLISH AFTER Fill Bucket--')\n",
        "publish(fillBucket(Canvas1, x, y, 0, 5))"
      ],
      "execution_count": 26,
      "outputs": [
        {
          "output_type": "stream",
          "text": [
            "[[0 0 0 0 0 0 0 0 0 0 0 0 0 0 0 0 0 0]\n",
            " [0 0 0 0 0 0 0 0 0 0 0 0 0 0 0 0 0 0]\n",
            " [0 0 0 0 0 0 0 0 0 0 0 0 0 0 0 0 0 0]\n",
            " [0 0 0 0 0 0 0 0 0 0 0 0 0 0 0 0 0 0]\n",
            " [0 0 0 0 0 0 0 0 0 0 0 0 0 0 0 0 0 0]\n",
            " [0 0 0 0 0 0 0 0 0 0 0 0 0 0 0 0 0 0]\n",
            " [0 0 0 0 0 0 0 0 0 0 0 0 0 0 0 0 0 0]\n",
            " [0 0 0 0 0 0 0 0 0 0 0 0 0 0 0 0 0 0]\n",
            " [0 0 0 0 0 0 0 0 0 0 0 0 0 0 0 0 0 0]\n",
            " [0 0 0 0 0 0 0 0 0 0 0 0 0 0 0 0 0 0]\n",
            " [0 0 0 0 0 0 0 0 0 0 0 0 0 0 0 0 0 0]\n",
            " [0 0 0 0 0 0 0 0 0 0 0 0 0 0 0 0 0 0]]\n",
            "---BREAK0---\n",
            "---PUBLISH AFTER Fill Bucket--\n",
            "oooooooooooooooooo\n",
            "oooooooooooooooooo\n",
            "oooooooooooooooooo\n",
            "oooooooooooooooooo\n",
            "oooooooooooooooooo\n",
            "oooooooooooooooooo\n",
            "oooooooooooooooooo\n",
            "oooooooooooooooooo\n",
            "oooooooooooooooooo\n",
            "oooooooooooooooooo\n",
            "oooooooooooooooooo\n",
            "oooooooooooooooooo\n"
          ],
          "name": "stdout"
        }
      ]
    },
    {
      "cell_type": "markdown",
      "metadata": {
        "id": "7Sz7_6hfwvBY",
        "colab_type": "text"
      },
      "source": [
        "##Step8: Draw Diagonal"
      ]
    },
    {
      "cell_type": "code",
      "metadata": {
        "id": "9njbbT5Hw3mv",
        "colab_type": "code",
        "colab": {
          "base_uri": "https://localhost:8080/",
          "height": 1000
        },
        "outputId": "8601eb85-9e81-45d8-b99b-d8ea11478e0f"
      },
      "source": [
        "##Drawing Diagonal Line \n",
        "\n",
        "def drawDiagonal(Canvas,x1,y1,x2,y2,maskDigit):\n",
        "    print('---Inside drawDiagonal--')\n",
        "    \n",
        "    #Boundaries of walking to avoid out of bound errors\n",
        "    canvasWidth = len(Canvas)\n",
        "    canvasHeight = len(Canvas[0])\n",
        "    \n",
        "    #determine the slope of the diagonal\n",
        "    mn = y2-y1  \n",
        "    md = x2-x1\n",
        "    print('mn,md' + str(mn) +','+ str(md))\n",
        "\n",
        "    ##if mn == md: #implies diagonal completed\n",
        "    ##return\n",
        "    if y2-y1 == 0 or x2-x1 == 0 or x1*x2 == 0 or y1*y2 == 0:   #implies either denominator or numerator is 0\n",
        "      print('---Inside mn == 0 or md == 0---')\n",
        "      return \n",
        "\n",
        "     # Change the digit at Canvas[x][y] to newDigit \n",
        "    Canvas[x1][y1] = maskDigit\n",
        "    print(Canvas)\n",
        "    \n",
        "    if x2-x1 < 0 and (y2-y1)>0:   #leftup or rightdown i.e Quadrant(-,+)\n",
        "        print('hi1')\n",
        "        drawDiagonal(Canvas,x1-1,y1+1,x2,y2, maskDigit) \n",
        "    if x2-x1 < 0 and (y2-y1)<0:   #rightup or leftdown i.e Quadrant(-,-)\n",
        "        print('hi2')\n",
        "        drawDiagonal(Canvas,x1+1,y1-1,x2,y2, maskDigit)\n",
        "    \n",
        "    if x2-x1 > 0 and (y2-y1)>0:   #rightup or leftdown i.e Quadrant(+,+)\n",
        "        print('hi3')\n",
        "        drawDiagonal(Canvas,x1+1,y1+1,x2,y2, maskDigit) \n",
        "    if x2-x1 > 0 and (y2-y1)<0:   #leftup or rightdown i.e Quadrant(+,-)\n",
        "        print('hi4')\n",
        "        drawDiagonal(Canvas,x1-1,y1-1,x2,y2, maskDigit)         \n",
        "    return Canvas\n",
        "\n",
        "\n",
        "# Create an Empty 2D Array\n",
        "Canvas1 = np.zeros((12,18), dtype=int).reshape(12,18)\n",
        "print(Canvas1)\n",
        "print('---BREAK0---')\n",
        "drawDiagonal(Canvas1,3,2,11,10,7)\n",
        "print('---After completing drawDiagonal--')"
      ],
      "execution_count": 8,
      "outputs": [
        {
          "output_type": "stream",
          "text": [
            "[[0 0 0 0 0 0 0 0 0 0 0 0 0 0 0 0 0 0]\n",
            " [0 0 0 0 0 0 0 0 0 0 0 0 0 0 0 0 0 0]\n",
            " [0 0 0 0 0 0 0 0 0 0 0 0 0 0 0 0 0 0]\n",
            " [0 0 0 0 0 0 0 0 0 0 0 0 0 0 0 0 0 0]\n",
            " [0 0 0 0 0 0 0 0 0 0 0 0 0 0 0 0 0 0]\n",
            " [0 0 0 0 0 0 0 0 0 0 0 0 0 0 0 0 0 0]\n",
            " [0 0 0 0 0 0 0 0 0 0 0 0 0 0 0 0 0 0]\n",
            " [0 0 0 0 0 0 0 0 0 0 0 0 0 0 0 0 0 0]\n",
            " [0 0 0 0 0 0 0 0 0 0 0 0 0 0 0 0 0 0]\n",
            " [0 0 0 0 0 0 0 0 0 0 0 0 0 0 0 0 0 0]\n",
            " [0 0 0 0 0 0 0 0 0 0 0 0 0 0 0 0 0 0]\n",
            " [0 0 0 0 0 0 0 0 0 0 0 0 0 0 0 0 0 0]]\n",
            "---BREAK0---\n",
            "---Inside drawDiagonal--\n",
            "mn,md8,8\n",
            "[[0 0 0 0 0 0 0 0 0 0 0 0 0 0 0 0 0 0]\n",
            " [0 0 0 0 0 0 0 0 0 0 0 0 0 0 0 0 0 0]\n",
            " [0 0 0 0 0 0 0 0 0 0 0 0 0 0 0 0 0 0]\n",
            " [0 0 7 0 0 0 0 0 0 0 0 0 0 0 0 0 0 0]\n",
            " [0 0 0 0 0 0 0 0 0 0 0 0 0 0 0 0 0 0]\n",
            " [0 0 0 0 0 0 0 0 0 0 0 0 0 0 0 0 0 0]\n",
            " [0 0 0 0 0 0 0 0 0 0 0 0 0 0 0 0 0 0]\n",
            " [0 0 0 0 0 0 0 0 0 0 0 0 0 0 0 0 0 0]\n",
            " [0 0 0 0 0 0 0 0 0 0 0 0 0 0 0 0 0 0]\n",
            " [0 0 0 0 0 0 0 0 0 0 0 0 0 0 0 0 0 0]\n",
            " [0 0 0 0 0 0 0 0 0 0 0 0 0 0 0 0 0 0]\n",
            " [0 0 0 0 0 0 0 0 0 0 0 0 0 0 0 0 0 0]]\n",
            "hi3\n",
            "---Inside drawDiagonal--\n",
            "mn,md7,7\n",
            "[[0 0 0 0 0 0 0 0 0 0 0 0 0 0 0 0 0 0]\n",
            " [0 0 0 0 0 0 0 0 0 0 0 0 0 0 0 0 0 0]\n",
            " [0 0 0 0 0 0 0 0 0 0 0 0 0 0 0 0 0 0]\n",
            " [0 0 7 0 0 0 0 0 0 0 0 0 0 0 0 0 0 0]\n",
            " [0 0 0 7 0 0 0 0 0 0 0 0 0 0 0 0 0 0]\n",
            " [0 0 0 0 0 0 0 0 0 0 0 0 0 0 0 0 0 0]\n",
            " [0 0 0 0 0 0 0 0 0 0 0 0 0 0 0 0 0 0]\n",
            " [0 0 0 0 0 0 0 0 0 0 0 0 0 0 0 0 0 0]\n",
            " [0 0 0 0 0 0 0 0 0 0 0 0 0 0 0 0 0 0]\n",
            " [0 0 0 0 0 0 0 0 0 0 0 0 0 0 0 0 0 0]\n",
            " [0 0 0 0 0 0 0 0 0 0 0 0 0 0 0 0 0 0]\n",
            " [0 0 0 0 0 0 0 0 0 0 0 0 0 0 0 0 0 0]]\n",
            "hi3\n",
            "---Inside drawDiagonal--\n",
            "mn,md6,6\n",
            "[[0 0 0 0 0 0 0 0 0 0 0 0 0 0 0 0 0 0]\n",
            " [0 0 0 0 0 0 0 0 0 0 0 0 0 0 0 0 0 0]\n",
            " [0 0 0 0 0 0 0 0 0 0 0 0 0 0 0 0 0 0]\n",
            " [0 0 7 0 0 0 0 0 0 0 0 0 0 0 0 0 0 0]\n",
            " [0 0 0 7 0 0 0 0 0 0 0 0 0 0 0 0 0 0]\n",
            " [0 0 0 0 7 0 0 0 0 0 0 0 0 0 0 0 0 0]\n",
            " [0 0 0 0 0 0 0 0 0 0 0 0 0 0 0 0 0 0]\n",
            " [0 0 0 0 0 0 0 0 0 0 0 0 0 0 0 0 0 0]\n",
            " [0 0 0 0 0 0 0 0 0 0 0 0 0 0 0 0 0 0]\n",
            " [0 0 0 0 0 0 0 0 0 0 0 0 0 0 0 0 0 0]\n",
            " [0 0 0 0 0 0 0 0 0 0 0 0 0 0 0 0 0 0]\n",
            " [0 0 0 0 0 0 0 0 0 0 0 0 0 0 0 0 0 0]]\n",
            "hi3\n",
            "---Inside drawDiagonal--\n",
            "mn,md5,5\n",
            "[[0 0 0 0 0 0 0 0 0 0 0 0 0 0 0 0 0 0]\n",
            " [0 0 0 0 0 0 0 0 0 0 0 0 0 0 0 0 0 0]\n",
            " [0 0 0 0 0 0 0 0 0 0 0 0 0 0 0 0 0 0]\n",
            " [0 0 7 0 0 0 0 0 0 0 0 0 0 0 0 0 0 0]\n",
            " [0 0 0 7 0 0 0 0 0 0 0 0 0 0 0 0 0 0]\n",
            " [0 0 0 0 7 0 0 0 0 0 0 0 0 0 0 0 0 0]\n",
            " [0 0 0 0 0 7 0 0 0 0 0 0 0 0 0 0 0 0]\n",
            " [0 0 0 0 0 0 0 0 0 0 0 0 0 0 0 0 0 0]\n",
            " [0 0 0 0 0 0 0 0 0 0 0 0 0 0 0 0 0 0]\n",
            " [0 0 0 0 0 0 0 0 0 0 0 0 0 0 0 0 0 0]\n",
            " [0 0 0 0 0 0 0 0 0 0 0 0 0 0 0 0 0 0]\n",
            " [0 0 0 0 0 0 0 0 0 0 0 0 0 0 0 0 0 0]]\n",
            "hi3\n",
            "---Inside drawDiagonal--\n",
            "mn,md4,4\n",
            "[[0 0 0 0 0 0 0 0 0 0 0 0 0 0 0 0 0 0]\n",
            " [0 0 0 0 0 0 0 0 0 0 0 0 0 0 0 0 0 0]\n",
            " [0 0 0 0 0 0 0 0 0 0 0 0 0 0 0 0 0 0]\n",
            " [0 0 7 0 0 0 0 0 0 0 0 0 0 0 0 0 0 0]\n",
            " [0 0 0 7 0 0 0 0 0 0 0 0 0 0 0 0 0 0]\n",
            " [0 0 0 0 7 0 0 0 0 0 0 0 0 0 0 0 0 0]\n",
            " [0 0 0 0 0 7 0 0 0 0 0 0 0 0 0 0 0 0]\n",
            " [0 0 0 0 0 0 7 0 0 0 0 0 0 0 0 0 0 0]\n",
            " [0 0 0 0 0 0 0 0 0 0 0 0 0 0 0 0 0 0]\n",
            " [0 0 0 0 0 0 0 0 0 0 0 0 0 0 0 0 0 0]\n",
            " [0 0 0 0 0 0 0 0 0 0 0 0 0 0 0 0 0 0]\n",
            " [0 0 0 0 0 0 0 0 0 0 0 0 0 0 0 0 0 0]]\n",
            "hi3\n",
            "---Inside drawDiagonal--\n",
            "mn,md3,3\n",
            "[[0 0 0 0 0 0 0 0 0 0 0 0 0 0 0 0 0 0]\n",
            " [0 0 0 0 0 0 0 0 0 0 0 0 0 0 0 0 0 0]\n",
            " [0 0 0 0 0 0 0 0 0 0 0 0 0 0 0 0 0 0]\n",
            " [0 0 7 0 0 0 0 0 0 0 0 0 0 0 0 0 0 0]\n",
            " [0 0 0 7 0 0 0 0 0 0 0 0 0 0 0 0 0 0]\n",
            " [0 0 0 0 7 0 0 0 0 0 0 0 0 0 0 0 0 0]\n",
            " [0 0 0 0 0 7 0 0 0 0 0 0 0 0 0 0 0 0]\n",
            " [0 0 0 0 0 0 7 0 0 0 0 0 0 0 0 0 0 0]\n",
            " [0 0 0 0 0 0 0 7 0 0 0 0 0 0 0 0 0 0]\n",
            " [0 0 0 0 0 0 0 0 0 0 0 0 0 0 0 0 0 0]\n",
            " [0 0 0 0 0 0 0 0 0 0 0 0 0 0 0 0 0 0]\n",
            " [0 0 0 0 0 0 0 0 0 0 0 0 0 0 0 0 0 0]]\n",
            "hi3\n",
            "---Inside drawDiagonal--\n",
            "mn,md2,2\n",
            "[[0 0 0 0 0 0 0 0 0 0 0 0 0 0 0 0 0 0]\n",
            " [0 0 0 0 0 0 0 0 0 0 0 0 0 0 0 0 0 0]\n",
            " [0 0 0 0 0 0 0 0 0 0 0 0 0 0 0 0 0 0]\n",
            " [0 0 7 0 0 0 0 0 0 0 0 0 0 0 0 0 0 0]\n",
            " [0 0 0 7 0 0 0 0 0 0 0 0 0 0 0 0 0 0]\n",
            " [0 0 0 0 7 0 0 0 0 0 0 0 0 0 0 0 0 0]\n",
            " [0 0 0 0 0 7 0 0 0 0 0 0 0 0 0 0 0 0]\n",
            " [0 0 0 0 0 0 7 0 0 0 0 0 0 0 0 0 0 0]\n",
            " [0 0 0 0 0 0 0 7 0 0 0 0 0 0 0 0 0 0]\n",
            " [0 0 0 0 0 0 0 0 7 0 0 0 0 0 0 0 0 0]\n",
            " [0 0 0 0 0 0 0 0 0 0 0 0 0 0 0 0 0 0]\n",
            " [0 0 0 0 0 0 0 0 0 0 0 0 0 0 0 0 0 0]]\n",
            "hi3\n",
            "---Inside drawDiagonal--\n",
            "mn,md1,1\n",
            "[[0 0 0 0 0 0 0 0 0 0 0 0 0 0 0 0 0 0]\n",
            " [0 0 0 0 0 0 0 0 0 0 0 0 0 0 0 0 0 0]\n",
            " [0 0 0 0 0 0 0 0 0 0 0 0 0 0 0 0 0 0]\n",
            " [0 0 7 0 0 0 0 0 0 0 0 0 0 0 0 0 0 0]\n",
            " [0 0 0 7 0 0 0 0 0 0 0 0 0 0 0 0 0 0]\n",
            " [0 0 0 0 7 0 0 0 0 0 0 0 0 0 0 0 0 0]\n",
            " [0 0 0 0 0 7 0 0 0 0 0 0 0 0 0 0 0 0]\n",
            " [0 0 0 0 0 0 7 0 0 0 0 0 0 0 0 0 0 0]\n",
            " [0 0 0 0 0 0 0 7 0 0 0 0 0 0 0 0 0 0]\n",
            " [0 0 0 0 0 0 0 0 7 0 0 0 0 0 0 0 0 0]\n",
            " [0 0 0 0 0 0 0 0 0 7 0 0 0 0 0 0 0 0]\n",
            " [0 0 0 0 0 0 0 0 0 0 0 0 0 0 0 0 0 0]]\n",
            "hi3\n",
            "---Inside drawDiagonal--\n",
            "mn,md0,0\n",
            "---Inside mn == 0 or md == 0---\n",
            "---After completing drawDiagonal--\n"
          ],
          "name": "stdout"
        }
      ]
    },
    {
      "cell_type": "markdown",
      "metadata": {
        "id": "Cf4r3Y9NcNrq",
        "colab_type": "text"
      },
      "source": [
        "##Step9:  Fill Holes"
      ]
    },
    {
      "cell_type": "code",
      "metadata": {
        "id": "0i85ftbEcSay",
        "colab_type": "code",
        "colab": {
          "base_uri": "https://localhost:8080/",
          "height": 323
        },
        "outputId": "3ab62dd4-fa6e-485d-f92f-58915b3b6163"
      },
      "source": [
        "import numpy as np\n",
        "from scipy import ndimage\n",
        "\n",
        "a = np.zeros((5, 5), dtype=int)\n",
        "a[1:4, 1:4] = 1\n",
        "a[2,2] = 0\n",
        "print('---BREAK0---')\n",
        "print(a)\n",
        "\n",
        "\"\"\"array([[0, 0, 0, 0, 0],\n",
        "       [0, 1, 1, 1, 0],\n",
        "       [0, 1, 0, 1, 0],\n",
        "       [0, 1, 1, 1, 0],\n",
        "       [0, 0, 0, 0, 0]])\"\"\"\n",
        "\n",
        "ndimage.binary_fill_holes(a).astype(int)\n",
        "print('---BREAK1---')\n",
        "print(a)\n",
        "\"\"\"array([[0, 0, 0, 0, 0],\n",
        "       [0, 1, 1, 1, 0],\n",
        "       [0, 1, 1, 1, 0],\n",
        "       [0, 1, 1, 1, 0],\n",
        "       [0, 0, 0, 0, 0]])\"\"\"\n",
        "# Too big structuring element\n",
        "ndimage.binary_fill_holes(a, structure=np.ones((5,5))).astype(int)\n",
        "\"\"\"array([[0, 0, 0, 0, 0],\n",
        "       [0, 1, 1, 1, 0],\n",
        "       [0, 1, 0, 1, 0],\n",
        "       [0, 1, 1, 1, 0],\n",
        "       [0, 0, 0, 0, 0]])\"\"\"\n",
        "print('---BREAK2---')\n",
        "print(a)\n"
      ],
      "execution_count": 33,
      "outputs": [
        {
          "output_type": "stream",
          "text": [
            "---BREAK0---\n",
            "[[0 0 0 0 0]\n",
            " [0 1 1 1 0]\n",
            " [0 1 0 1 0]\n",
            " [0 1 1 1 0]\n",
            " [0 0 0 0 0]]\n",
            "---BREAK1---\n",
            "[[0 0 0 0 0]\n",
            " [0 1 1 1 0]\n",
            " [0 1 0 1 0]\n",
            " [0 1 1 1 0]\n",
            " [0 0 0 0 0]]\n",
            "---BREAK2---\n",
            "[[0 0 0 0 0]\n",
            " [0 1 1 1 0]\n",
            " [0 1 0 1 0]\n",
            " [0 1 1 1 0]\n",
            " [0 0 0 0 0]]\n"
          ],
          "name": "stdout"
        }
      ]
    },
    {
      "cell_type": "code",
      "metadata": {
        "id": "x7zfN_dGfXZa",
        "colab_type": "code",
        "colab": {
          "base_uri": "https://localhost:8080/",
          "height": 102
        },
        "outputId": "38ca8553-a3ad-4c54-8425-40b4ac645278"
      },
      "source": [
        "import numpy as np\n",
        "\n",
        "a = np.zeros((5, 5), dtype=int)\n",
        "a[1:4, 1:4] = 1\n",
        "a[2,2] = 0\n",
        "a"
      ],
      "execution_count": 8,
      "outputs": [
        {
          "output_type": "execute_result",
          "data": {
            "text/plain": [
              "array([[0, 0, 0, 0, 0],\n",
              "       [0, 1, 1, 1, 0],\n",
              "       [0, 1, 0, 1, 0],\n",
              "       [0, 1, 1, 1, 0],\n",
              "       [0, 0, 0, 0, 0]])"
            ]
          },
          "metadata": {
            "tags": []
          },
          "execution_count": 8
        }
      ]
    },
    {
      "cell_type": "code",
      "metadata": {
        "id": "FV8P0b9tdqse",
        "colab_type": "code",
        "colab": {
          "base_uri": "https://localhost:8080/",
          "height": 572
        },
        "outputId": "d9f8f1b8-cb5d-4982-b631-c0a701b41544"
      },
      "source": [
        "import numpy as np\n",
        "\n",
        "\n",
        "\n",
        "## from helper import publish, replace_with_dict, update_color\n",
        "def publish(Canvas):\n",
        "    transdict = {'8': '-', '9': '|', '1': 'x','0':'.','5':'o'} #Translation Dictionary\n",
        "    chars_ascii = replace_with_dict(Canvas.astype(str),transdict)\n",
        "    strings_f = chars_ascii.view('U' + str(chars_ascii.shape[1])).flatten()  \n",
        "    opt = \"\\n\".join(strings_f)\n",
        "    return opt\n",
        "\n",
        "def replace_with_dict(ar, dic):\n",
        "    # Extract out keys and values\n",
        "    k = np.array(list(dic.keys()))\n",
        "    v = np.array(list(dic.values()))\n",
        "\n",
        "    # Get argsort indices\n",
        "    sidx = k.argsort()\n",
        "\n",
        "    # Drop the magic bomb with searchsorted to get the corresponding\n",
        "    # places for a in keys (using sorter since a is not necessarily sorted).\n",
        "    # Then trace it back to original order with indexing into sidx\n",
        "    # Finally index into values for desired output.\n",
        "    return v[sidx[np.searchsorted(k,ar,sorter=sidx)]]\n",
        "\n",
        "CanvasTest = np.zeros((6,6), dtype=int).reshape(6,6)\n",
        "CanvasTest[1,1:5] = [1,1,1,1]\n",
        "print(CanvasTest)\n",
        "print(publish(CanvasTest))\n",
        "\n",
        "op = \"\\n......\\n.xxxx.\\n......\\n......\\n.....\\n......\"\n",
        "\n",
        "print(\"\\r\\nbreak \\r\\n\"+op +\"\\r\\n\")\n",
        "\n",
        "assert(publish(CanvasTest) == op)\n"
      ],
      "execution_count": 36,
      "outputs": [
        {
          "output_type": "stream",
          "text": [
            "[[0 0 0 0 0 0]\n",
            " [0 1 1 1 1 0]\n",
            " [0 0 0 0 0 0]\n",
            " [0 0 0 0 0 0]\n",
            " [0 0 0 0 0 0]\n",
            " [0 0 0 0 0 0]]\n",
            "......\n",
            ".xxxx.\n",
            "......\n",
            "......\n",
            "......\n",
            "......\n",
            "\r\n",
            "break \r\n",
            "\n",
            "......\n",
            ".xxxx.\n",
            "......\n",
            "......\n",
            ".....\n",
            "......\r\n",
            "\n"
          ],
          "name": "stdout"
        },
        {
          "output_type": "error",
          "ename": "AssertionError",
          "evalue": "ignored",
          "traceback": [
            "\u001b[0;31m---------------------------------------------------------------------------\u001b[0m",
            "\u001b[0;31mAssertionError\u001b[0m                            Traceback (most recent call last)",
            "\u001b[0;32m<ipython-input-36-71884e4f4cb0>\u001b[0m in \u001b[0;36m<module>\u001b[0;34m()\u001b[0m\n\u001b[1;32m     34\u001b[0m \u001b[0mprint\u001b[0m\u001b[0;34m(\u001b[0m\u001b[0;34m\"\\r\\nbreak \\r\\n\"\u001b[0m\u001b[0;34m+\u001b[0m\u001b[0mop\u001b[0m \u001b[0;34m+\u001b[0m\u001b[0;34m\"\\r\\n\"\u001b[0m\u001b[0;34m)\u001b[0m\u001b[0;34m\u001b[0m\u001b[0;34m\u001b[0m\u001b[0m\n\u001b[1;32m     35\u001b[0m \u001b[0;34m\u001b[0m\u001b[0m\n\u001b[0;32m---> 36\u001b[0;31m \u001b[0;32massert\u001b[0m\u001b[0;34m(\u001b[0m\u001b[0mpublish\u001b[0m\u001b[0;34m(\u001b[0m\u001b[0mCanvasTest\u001b[0m\u001b[0;34m)\u001b[0m \u001b[0;34m==\u001b[0m \u001b[0mop\u001b[0m\u001b[0;34m)\u001b[0m\u001b[0;34m\u001b[0m\u001b[0;34m\u001b[0m\u001b[0m\n\u001b[0m",
            "\u001b[0;31mAssertionError\u001b[0m: "
          ]
        }
      ]
    },
    {
      "cell_type": "code",
      "metadata": {
        "id": "UhxRYvqgdrOn",
        "colab_type": "code",
        "colab": {
          "base_uri": "https://localhost:8080/",
          "height": 306
        },
        "outputId": "f7739467-4a88-4077-dfe4-94140f0d94c4"
      },
      "source": [
        "import unittest\t\n",
        "\n",
        "def drawLine(Canvas,x1,y1,x2,y2,maskDigit):\n",
        "    ## Write Validation of Canvas.shape and x1,x2,x3,x4 being within bounds\n",
        "    if (y1 == y2): \n",
        "        ##Return a new 1D array of given shape and type, filled with ones.\n",
        "        ## Using command  np.ones((x2-x1+1,), dtype=int) \n",
        "        ##Using '1' to draw line i.e x2-x1+1 and hence updating entries for columns on a given row\n",
        "        Canvas[y1, x1:x2+1] = np.ones((x2-x1+1,), dtype=int)*maskDigit ## e.g. Represents [1,1,1,1] if x2-x1+1 = 4\n",
        "    elif(x1 == x2): \n",
        "        ##Return a new 1D array of given shape and type, filled with ones.\n",
        "        ## Using command  np.ones((y2-y1+1,), dtype=int) \n",
        "        ##Using '1' to draw line i.e y2-y1+1 and hence updating entries for rows on a given column\n",
        "        Canvas[y1:y2+1, x1] = np.ones((y2-y1+1,), dtype=int)*maskDigit  ## e.g. Represents [1,1,1,1] if y2-y1+1 = 4\n",
        "    else:\n",
        "        print('Cant draw a diagonal(out of scope)')\n",
        "    return Canvas\n",
        "\n",
        "\n",
        "\n",
        "# Empty Array\n",
        "arr0 = np.zeros((6,6), dtype=int).reshape(6,6)\n",
        "\n",
        "#Hypothetical Output Array\n",
        "arr2 = np.zeros((6,6), dtype=int).reshape(6,6)\n",
        "arr2[1,1:5] = [1,1,1,1]\n",
        "print(arr2)\n",
        "print('\\n')\n",
        "\n",
        "#Testing drawLine \n",
        "arr1 = drawLine(arr0,1,1,4,1,maskDigit=1)\n",
        "print(arr1)\n",
        "print('\\n')\n",
        "\n",
        "try:\n",
        "    np.testing.assert_array_equal(arr1, arr2)\n",
        "    res = True\n",
        "except AssertionError as err:\n",
        "    res = False\n",
        "    print(err)\n",
        "\n",
        "unittest.TestCase.assertTrue(res, True)\n",
        "print('DrawLine:TEST1: Successfully Passed')"
      ],
      "execution_count": 153,
      "outputs": [
        {
          "output_type": "stream",
          "text": [
            "[[0 0 0 0 0 0]\n",
            " [0 1 1 1 1 0]\n",
            " [0 0 0 0 0 0]\n",
            " [0 0 0 0 0 0]\n",
            " [0 0 0 0 0 0]\n",
            " [0 0 0 0 0 0]]\n",
            "\n",
            "\n",
            "[[0 0 0 0 0 0]\n",
            " [0 1 1 1 1 0]\n",
            " [0 0 0 0 0 0]\n",
            " [0 0 0 0 0 0]\n",
            " [0 0 0 0 0 0]\n",
            " [0 0 0 0 0 0]]\n",
            "\n",
            "\n",
            "DrawLine:TEST1: Successfully Passed\n"
          ],
          "name": "stdout"
        }
      ]
    },
    {
      "cell_type": "code",
      "metadata": {
        "id": "yh4xrEaWs6-B",
        "colab_type": "code",
        "colab": {
          "base_uri": "https://localhost:8080/",
          "height": 221
        },
        "outputId": "d2e0774c-ef86-427b-ad95-fb4350f03e57"
      },
      "source": [
        ""
      ],
      "execution_count": 163,
      "outputs": [
        {
          "output_type": "stream",
          "text": [
            "Testing DrawLine-Horizontal\n",
            "DrawLine-Horizontal Any Assertions ? = None\n",
            "-----test1 Passed----\n",
            "Testing DrawLine-Vertical\n",
            "DrawLine-Vertical Any Assertions ? = None\n",
            "-----test2 Passed----\n",
            "Not Diagonal Inputs\n",
            "DrawLine-Diagonal Any Assertions ? = None\n",
            "-----test3 Passed----\n",
            "Testing DrawRectangle\n",
            "DrawRectangle Any Assertions ? = None\n",
            "-----test4 Passed----\n"
          ],
          "name": "stdout"
        }
      ]
    }
  ]
}